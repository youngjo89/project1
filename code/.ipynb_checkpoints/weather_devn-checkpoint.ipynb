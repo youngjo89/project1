{
 "cells": [
  {
   "cell_type": "code",
   "execution_count": null,
   "metadata": {
    "scrolled": false
   },
   "outputs": [],
   "source": [
    "%whos"
   ]
  },
  {
   "cell_type": "code",
   "execution_count": 1,
   "metadata": {
    "collapsed": true
   },
   "outputs": [],
   "source": [
    "key = pd.read_csv('../data/key.csv')\n",
    "train = pd.read_csv('../data/train.csv')\n",
    "weather = pd.read_csv('../data/weather.csv')\n",
    "test = pd.read_csv('../data/test.csv')"
   ]
  },
  {
   "cell_type": "code",
   "execution_count": 7,
   "metadata": {},
   "outputs": [
    {
     "data": {
      "text/html": [
       "<div>\n",
       "<style>\n",
       "    .dataframe thead tr:only-child th {\n",
       "        text-align: right;\n",
       "    }\n",
       "\n",
       "    .dataframe thead th {\n",
       "        text-align: left;\n",
       "    }\n",
       "\n",
       "    .dataframe tbody tr th {\n",
       "        vertical-align: top;\n",
       "    }\n",
       "</style>\n",
       "<table border=\"1\" class=\"dataframe\">\n",
       "  <thead>\n",
       "    <tr style=\"text-align: right;\">\n",
       "      <th></th>\n",
       "      <th>date</th>\n",
       "      <th>store_nbr</th>\n",
       "      <th>item_nbr</th>\n",
       "      <th>units</th>\n",
       "      <th>log_units</th>\n",
       "    </tr>\n",
       "  </thead>\n",
       "  <tbody>\n",
       "    <tr>\n",
       "      <th>4617595</th>\n",
       "      <td>2014-10-31</td>\n",
       "      <td>45</td>\n",
       "      <td>107</td>\n",
       "      <td>0</td>\n",
       "      <td>0.0</td>\n",
       "    </tr>\n",
       "    <tr>\n",
       "      <th>4617596</th>\n",
       "      <td>2014-10-31</td>\n",
       "      <td>45</td>\n",
       "      <td>108</td>\n",
       "      <td>0</td>\n",
       "      <td>0.0</td>\n",
       "    </tr>\n",
       "    <tr>\n",
       "      <th>4617597</th>\n",
       "      <td>2014-10-31</td>\n",
       "      <td>45</td>\n",
       "      <td>109</td>\n",
       "      <td>0</td>\n",
       "      <td>0.0</td>\n",
       "    </tr>\n",
       "    <tr>\n",
       "      <th>4617598</th>\n",
       "      <td>2014-10-31</td>\n",
       "      <td>45</td>\n",
       "      <td>110</td>\n",
       "      <td>0</td>\n",
       "      <td>0.0</td>\n",
       "    </tr>\n",
       "    <tr>\n",
       "      <th>4617599</th>\n",
       "      <td>2014-10-31</td>\n",
       "      <td>45</td>\n",
       "      <td>111</td>\n",
       "      <td>0</td>\n",
       "      <td>0.0</td>\n",
       "    </tr>\n",
       "  </tbody>\n",
       "</table>\n",
       "</div>"
      ],
      "text/plain": [
       "               date  store_nbr  item_nbr  units  log_units\n",
       "4617595  2014-10-31         45       107      0        0.0\n",
       "4617596  2014-10-31         45       108      0        0.0\n",
       "4617597  2014-10-31         45       109      0        0.0\n",
       "4617598  2014-10-31         45       110      0        0.0\n",
       "4617599  2014-10-31         45       111      0        0.0"
      ]
     },
     "execution_count": 7,
     "metadata": {},
     "output_type": "execute_result"
    }
   ],
   "source": [
    "train['log_units'] = np.log(train['units'] + 1)\n",
    "train.tail()"
   ]
  },
  {
   "cell_type": "code",
   "execution_count": 8,
   "metadata": {},
   "outputs": [],
   "source": [
    "train_new = train[:2255853] # 2013년 3월 31일까지의 train data"
   ]
  },
  {
   "cell_type": "code",
   "execution_count": 9,
   "metadata": {
    "collapsed": true
   },
   "outputs": [],
   "source": [
    "weather_train = weather[:8968] # 2013년 3월 31일까지의 weather data"
   ]
  },
  {
   "cell_type": "markdown",
   "metadata": {},
   "source": [
    "### weather 관련 functions"
   ]
  },
  {
   "cell_type": "code",
   "execution_count": 10,
   "metadata": {
    "collapsed": true
   },
   "outputs": [],
   "source": [
    "def get_weather_train(df, station_nbr) : # staion_nbr에 따라서 weather train dataframe을 만드는 함수\n",
    "    new_df = df[df['station_nbr'] == station_nbr]\n",
    "    new_df.reset_index(drop = True, inplace = True)\n",
    "    return new_df    "
   ]
  },
  {
   "cell_type": "code",
   "execution_count": 11,
   "metadata": {
    "collapsed": true
   },
   "outputs": [],
   "source": [
    "def set_tmax(df) : # tmax의 missing value를 처리하는 함수\n",
    "    for num in range(len(df)) :  # tmax의 missing value 처리,,, 이틀 전날의 0.2배 + 하루 전날의 0.8배\n",
    "        if df.at[num, 'tmax'] == 'M' :\n",
    "            df.set_value(num, 'tmax', int(0.2 * int(df.at[num - 2, 'tmax']) + 0.8 * int(df.at[num - 1, 'tmax'])))\n",
    "        \n",
    "        else :\n",
    "            df.at[num, 'tmax'] = int(df.at[num, 'tmax'])"
   ]
  },
  {
   "cell_type": "code",
   "execution_count": 12,
   "metadata": {
    "collapsed": true
   },
   "outputs": [],
   "source": [
    "def set_tmin(df) : # tmin의 missing value를 처리하는 함수\n",
    "    for num in range(len(df)) :  # tmax의 missing value 처리,,, 이틀 전날의 0.2배 + 하루 전날의 0.8배\n",
    "        if df.at[num, 'tmin'] == 'M' :\n",
    "            df.set_value(num, 'tmin', int(0.2 * int(df.at[num - 2, 'tmin']) + 0.8 * int(df.at[num - 1, 'tmin'])))\n",
    "            \n",
    "        else :\n",
    "            df.at[num,'tmin'] = int(df.at[num, 'tmin'])"
   ]
  },
  {
   "cell_type": "code",
   "execution_count": 13,
   "metadata": {
    "collapsed": true
   },
   "outputs": [],
   "source": [
    "def set_tavg(df) : # tavg의 값을 처리하는 함수\n",
    "    for num in range(len(df)) :\n",
    "        if df.at[num, 'tavg'] == 'M' :\n",
    "            df.set_value(num, 'tavg', int((df.at[num, 'tmax'] + df.at[num, 'tmin']) / 2))\n",
    "            \n",
    "        else :\n",
    "            df.at[num, 'tavg'] = int(df.at[num, 'tavg'])\n",
    "    "
   ]
  },
  {
   "cell_type": "code",
   "execution_count": null,
   "metadata": {},
   "outputs": [],
   "source": [
    "def set_depart(df) : # how can I get depart value..wtf"
   ]
  },
  {
   "cell_type": "code",
   "execution_count": null,
   "metadata": {
    "collapsed": true
   },
   "outputs": [],
   "source": [
    "def set_dewpoint(df) :"
   ]
  },
  {
   "cell_type": "code",
   "execution_count": null,
   "metadata": {
    "collapsed": true
   },
   "outputs": [],
   "source": [
    "def set_wetbulb(df) :"
   ]
  },
  {
   "cell_type": "code",
   "execution_count": 14,
   "metadata": {
    "collapsed": true
   },
   "outputs": [],
   "source": [
    "def set_heat_cool(df) : # heat, cool의 missing value 처리\n",
    "    for num in range(len(df)) :\n",
    "        if df.at[num, 'heat'] == 'M' or df.at[num, 'cool'] == 'M' :\n",
    "            \n",
    "            if df.at[num, 'tavg'] == 65 : # tavg == 65 이면 heat, cool 모두 0\n",
    "                df.set_value(num, 'heat', 0)\n",
    "                df.set_value(num, 'cool', 0)\n",
    "            \n",
    "            elif df.at[num, 'tavg'] > 65 : #tavg > 65 이면 heat = 0, cool = tavg - 65\n",
    "                df.set_value(num, 'heat', 0)\n",
    "                df.set_value(num, 'cool', df.at[num, 'tavg'] - 65)\n",
    "            \n",
    "            else : #tavg < 65 이면 heat = 65 - tavg, cool = 0\n",
    "                df.set_value(num, 'heat', 65 - df.at[num, 'tavg'])\n",
    "                df.set_value(num, 'cool', 0)"
   ]
  },
  {
   "cell_type": "code",
   "execution_count": null,
   "metadata": {
    "collapsed": true
   },
   "outputs": [],
   "source": [
    "def set_snowfall_preciptotal(df) :"
   ]
  },
  {
   "cell_type": "code",
   "execution_count": null,
   "metadata": {
    "collapsed": true
   },
   "outputs": [],
   "source": [
    "def set_stnpressure(df) :"
   ]
  },
  {
   "cell_type": "code",
   "execution_count": null,
   "metadata": {
    "collapsed": true
   },
   "outputs": [],
   "source": [
    "def set_sealevel(df) :"
   ]
  },
  {
   "cell_type": "code",
   "execution_count": null,
   "metadata": {
    "collapsed": true
   },
   "outputs": [],
   "source": [
    "def set_resultspeed(df) : # 바람관련 column 3개는 어떤 연관관계가 있지않을까.."
   ]
  },
  {
   "cell_type": "code",
   "execution_count": null,
   "metadata": {
    "collapsed": true
   },
   "outputs": [],
   "source": [
    "def set_resultdir(df) :"
   ]
  },
  {
   "cell_type": "code",
   "execution_count": null,
   "metadata": {
    "collapsed": true
   },
   "outputs": [],
   "source": [
    "def set_avgspeed(df) :"
   ]
  },
  {
   "cell_type": "markdown",
   "metadata": {},
   "source": [
    "### train 관련 functions"
   ]
  },
  {
   "cell_type": "code",
   "execution_count": 15,
   "metadata": {
    "collapsed": true
   },
   "outputs": [],
   "source": [
    "def get_train_train(df, store_nbr) : # store_nbr에 따라 train data를 나눠주는 함수\n",
    "    new_df = df[df['store_nbr'] == store_nbr]\n",
    "    new_df.reset_index(drop = True, inplace = True)\n",
    "    return new_df"
   ]
  },
  {
   "cell_type": "code",
   "execution_count": null,
   "metadata": {
    "collapsed": true
   },
   "outputs": [],
   "source": []
  },
  {
   "cell_type": "code",
   "execution_count": null,
   "metadata": {
    "collapsed": true
   },
   "outputs": [],
   "source": []
  },
  {
   "cell_type": "code",
   "execution_count": null,
   "metadata": {
    "collapsed": true
   },
   "outputs": [],
   "source": []
  },
  {
   "cell_type": "code",
   "execution_count": null,
   "metadata": {
    "collapsed": true
   },
   "outputs": [],
   "source": []
  },
  {
   "cell_type": "code",
   "execution_count": null,
   "metadata": {
    "collapsed": true
   },
   "outputs": [],
   "source": []
  },
  {
   "cell_type": "code",
   "execution_count": null,
   "metadata": {
    "collapsed": true
   },
   "outputs": [],
   "source": []
  },
  {
   "cell_type": "code",
   "execution_count": null,
   "metadata": {
    "collapsed": true
   },
   "outputs": [],
   "source": []
  },
  {
   "cell_type": "code",
   "execution_count": 16,
   "metadata": {
    "collapsed": true
   },
   "outputs": [],
   "source": [
    "#station_nbr로 weather_train을 나눠줌\n",
    "# 박두진 강사님이 이 부분을 줄일 수 있는 방법을 찾아봐주신다 하였음..일단은 그냥 쓰자!\n",
    "\n",
    "weather_train_1 = get_weather_train(weather_train, 1)\n",
    "weather_train_2 = get_weather_train(weather_train, 2)\n",
    "weather_train_3 = get_weather_train(weather_train, 3)\n",
    "weather_train_4 = get_weather_train(weather_train, 4)\n",
    "weather_train_5 = get_weather_train(weather_train, 5) # missing value가 많아서 일단은..\n",
    "weather_train_6 = get_weather_train(weather_train, 6)\n",
    "weather_train_7 = get_weather_train(weather_train, 7)\n",
    "weather_train_8 = get_weather_train(weather_train, 8)\n",
    "weather_train_9 = get_weather_train(weather_train, 9)\n",
    "weather_train_10 = get_weather_train(weather_train, 10)\n",
    "weather_train_11 = get_weather_train(weather_train, 11)\n",
    "weather_train_12 = get_weather_train(weather_train, 12)\n",
    "weather_train_13 = get_weather_train(weather_train, 13)\n",
    "weather_train_14 = get_weather_train(weather_train, 14)\n",
    "weather_train_15 = get_weather_train(weather_train, 15)\n",
    "weather_train_16 = get_weather_train(weather_train, 16)\n",
    "weather_train_17 = get_weather_train(weather_train, 17)\n",
    "weather_train_18 = get_weather_train(weather_train, 18)\n",
    "weather_train_19 = get_weather_train(weather_train, 19)\n",
    "weather_train_20 = get_weather_train(weather_train, 20)"
   ]
  },
  {
   "cell_type": "code",
   "execution_count": 25,
   "metadata": {},
   "outputs": [],
   "source": [
    "train_new_1 = get_train_train(train_new, 1)\n",
    "train_new_2 = get_train_train(train_new, 2)\n",
    "train_new_3 = get_train_train(train_new, 3)\n",
    "train_new_4 = get_train_train(train_new, 4)\n",
    "train_new_5 = get_train_train(train_new, 5)\n",
    "train_new_6 = get_train_train(train_new, 6)\n",
    "train_new_7 = get_train_train(train_new, 7)\n",
    "train_new_8 = get_train_train(train_new, 8)\n",
    "train_new_9 = get_train_train(train_new, 9)\n",
    "train_new_10 = get_train_train(train_new, 10)\n",
    "train_new_11 = get_train_train(train_new, 11)\n",
    "train_new_12 = get_train_train(train_new, 12)\n",
    "train_new_13 = get_train_train(train_new, 13)\n",
    "train_new_14 = get_train_train(train_new, 14)\n",
    "train_new_15 = get_train_train(train_new, 15)\n",
    "train_new_16 = get_train_train(train_new, 16)\n",
    "train_new_17 = get_train_train(train_new, 17)\n",
    "train_new_18 = get_train_train(train_new, 18)\n",
    "train_new_19 = get_train_train(train_new, 19)\n",
    "train_new_20 = get_train_train(train_new, 20)\n",
    "train_new_21 = get_train_train(train_new, 21)\n",
    "train_new_22 = get_train_train(train_new, 22)\n",
    "train_new_23 = get_train_train(train_new, 23)\n",
    "train_new_24 = get_train_train(train_new, 24)\n",
    "train_new_25 = get_train_train(train_new, 25)\n",
    "train_new_26 = get_train_train(train_new, 26)\n",
    "train_new_27 = get_train_train(train_new, 27)\n",
    "train_new_28 = get_train_train(train_new, 28)\n",
    "train_new_29 = get_train_train(train_new, 29)\n",
    "train_new_30 = get_train_train(train_new, 30)\n",
    "train_new_31 = get_train_train(train_new, 31)\n",
    "train_new_32 = get_train_train(train_new, 32)\n",
    "train_new_33 = get_train_train(train_new, 33)\n",
    "train_new_34 = get_train_train(train_new, 34)\n",
    "train_new_35 = get_train_train(train_new, 35)\n",
    "train_new_36 = get_train_train(train_new, 36)\n",
    "train_new_37 = get_train_train(train_new, 37)\n",
    "train_new_38 = get_train_train(train_new, 38)\n",
    "train_new_39 = get_train_train(train_new, 39)\n",
    "train_new_40 = get_train_train(train_new, 40)\n",
    "train_new_41 = get_train_train(train_new, 41)\n",
    "train_new_42 = get_train_train(train_new, 42)\n",
    "train_new_43 = get_train_train(train_new, 43)\n",
    "train_new_44 = get_train_train(train_new, 44)\n",
    "train_new_45 = get_train_train(train_new, 45)"
   ]
  },
  {
   "cell_type": "code",
   "execution_count": null,
   "metadata": {
    "collapsed": true
   },
   "outputs": [],
   "source": [
    "def get_nonzero_items(df) : #units이 0이 아닌 item들만 골라내는 함수\n",
    "    new_df = df[df['units'] != 0]\n",
    "    new_df.reset_index(drop = True, inplace = True)\n",
    "    \n",
    "    \n",
    "\n",
    "tmp = train_new_1[train_new_1['units'] != 0] #1344 * 4\n",
    "tmp.reset_index(drop = True, inplace = True)\n",
    "\n",
    "ls = tmp['item_nbr'].unique() # 9, 28, 40, 51, 93, 89, 99\n",
    "ls.sort()\n",
    "\n",
    "for num in ls :\n",
    "    tmp.loc[len(tmp)] = {'date' : '2012-12-25', 'store_nbr' : 1, 'item_nbr' : num, 'units' : 0}\n",
    "# rng = range(len(tmp_pivot))\n",
    "\n",
    "tmp.sort_values(by = ['date', 'item_nbr'], inplace = True)\n",
    "tmp.tail()"
   ]
  },
  {
   "cell_type": "code",
   "execution_count": null,
   "metadata": {
    "collapsed": true
   },
   "outputs": [],
   "source": []
  },
  {
   "cell_type": "markdown",
   "metadata": {},
   "source": [
    "### station_nbr == 1\n",
    "- store_nbr == 1"
   ]
  },
  {
   "cell_type": "code",
   "execution_count": 18,
   "metadata": {
    "collapsed": true
   },
   "outputs": [],
   "source": [
    "set_tmax(weather_train_1)\n",
    "set_tmin(weather_train_1)\n",
    "set_tavg(weather_train_1)\n",
    "set_heat_cool(weather_train_1)"
   ]
  },
  {
   "cell_type": "code",
   "execution_count": null,
   "metadata": {
    "collapsed": true
   },
   "outputs": [],
   "source": []
  },
  {
   "cell_type": "markdown",
   "metadata": {},
   "source": [
    "###  station_nbr == 2\n",
    "- store_nbr == 16"
   ]
  },
  {
   "cell_type": "code",
   "execution_count": null,
   "metadata": {
    "collapsed": true
   },
   "outputs": [],
   "source": []
  },
  {
   "cell_type": "code",
   "execution_count": null,
   "metadata": {
    "collapsed": true
   },
   "outputs": [],
   "source": []
  },
  {
   "cell_type": "markdown",
   "metadata": {},
   "source": [
    "### station_nbr == 3\n",
    "- store_nbr == 21, 29, 33"
   ]
  },
  {
   "cell_type": "code",
   "execution_count": null,
   "metadata": {
    "collapsed": true
   },
   "outputs": [],
   "source": []
  },
  {
   "cell_type": "code",
   "execution_count": null,
   "metadata": {
    "collapsed": true
   },
   "outputs": [],
   "source": []
  },
  {
   "cell_type": "markdown",
   "metadata": {},
   "source": [
    "### station_nbr == 4\n",
    "- store_nbr == 8"
   ]
  },
  {
   "cell_type": "code",
   "execution_count": null,
   "metadata": {
    "collapsed": true
   },
   "outputs": [],
   "source": []
  },
  {
   "cell_type": "code",
   "execution_count": null,
   "metadata": {
    "collapsed": true
   },
   "outputs": [],
   "source": []
  },
  {
   "cell_type": "markdown",
   "metadata": {},
   "source": [
    "### station_nbr == 5\n",
    "- store_nbr == 35"
   ]
  },
  {
   "cell_type": "code",
   "execution_count": null,
   "metadata": {
    "collapsed": true
   },
   "outputs": [],
   "source": [
    "# 여긴 좀 고민할 필요가 있음.."
   ]
  },
  {
   "cell_type": "code",
   "execution_count": null,
   "metadata": {
    "collapsed": true
   },
   "outputs": [],
   "source": []
  },
  {
   "cell_type": "markdown",
   "metadata": {},
   "source": [
    "### station_nbr == 6\n",
    "- store_nbr == 7, 13"
   ]
  },
  {
   "cell_type": "code",
   "execution_count": null,
   "metadata": {
    "collapsed": true
   },
   "outputs": [],
   "source": []
  },
  {
   "cell_type": "code",
   "execution_count": null,
   "metadata": {
    "collapsed": true
   },
   "outputs": [],
   "source": []
  },
  {
   "cell_type": "markdown",
   "metadata": {},
   "source": [
    "### station_nbr == 7\n",
    "- store_nbr == 3, 20, 28"
   ]
  },
  {
   "cell_type": "code",
   "execution_count": null,
   "metadata": {
    "collapsed": true
   },
   "outputs": [],
   "source": []
  },
  {
   "cell_type": "code",
   "execution_count": null,
   "metadata": {
    "collapsed": true
   },
   "outputs": [],
   "source": []
  },
  {
   "cell_type": "markdown",
   "metadata": {},
   "source": [
    "### station_nbr == 8\n",
    "- store_nbr == 39"
   ]
  },
  {
   "cell_type": "code",
   "execution_count": null,
   "metadata": {
    "collapsed": true
   },
   "outputs": [],
   "source": [
    "set_tmax(weather_train_8)\n",
    "set_tmin(weather_train_8)\n",
    "set_tavg(weather_train_8)\n",
    "set_heat_cool(weather_train_8)"
   ]
  },
  {
   "cell_type": "code",
   "execution_count": null,
   "metadata": {
    "collapsed": true
   },
   "outputs": [],
   "source": []
  },
  {
   "cell_type": "markdown",
   "metadata": {},
   "source": [
    "### station_nbr == 9\n",
    "- store_nbr == 4, 24"
   ]
  },
  {
   "cell_type": "code",
   "execution_count": null,
   "metadata": {
    "collapsed": true
   },
   "outputs": [],
   "source": []
  },
  {
   "cell_type": "code",
   "execution_count": null,
   "metadata": {
    "collapsed": true
   },
   "outputs": [],
   "source": []
  },
  {
   "cell_type": "markdown",
   "metadata": {},
   "source": [
    "### station_nbr == 10\n",
    "- store_nbr == 11, 22, 27"
   ]
  },
  {
   "cell_type": "code",
   "execution_count": null,
   "metadata": {
    "collapsed": true
   },
   "outputs": [],
   "source": []
  },
  {
   "cell_type": "code",
   "execution_count": null,
   "metadata": {
    "collapsed": true
   },
   "outputs": [],
   "source": []
  },
  {
   "cell_type": "markdown",
   "metadata": {},
   "source": [
    "### station_nbr == 11\n",
    "- store_nbr == 12, 43"
   ]
  },
  {
   "cell_type": "code",
   "execution_count": null,
   "metadata": {
    "collapsed": true
   },
   "outputs": [],
   "source": []
  },
  {
   "cell_type": "code",
   "execution_count": null,
   "metadata": {
    "collapsed": true
   },
   "outputs": [],
   "source": []
  },
  {
   "cell_type": "markdown",
   "metadata": {},
   "source": [
    "### station_nbr == 12\n",
    "- store_nbr == 5, 10, 41, 44"
   ]
  },
  {
   "cell_type": "code",
   "execution_count": null,
   "metadata": {
    "collapsed": true
   },
   "outputs": [],
   "source": []
  },
  {
   "cell_type": "code",
   "execution_count": null,
   "metadata": {
    "collapsed": true
   },
   "outputs": [],
   "source": []
  },
  {
   "cell_type": "markdown",
   "metadata": {},
   "source": [
    "### station_nbr == 13\n",
    "- store_nbr == 15, 25, 32, 37, 40"
   ]
  },
  {
   "cell_type": "code",
   "execution_count": null,
   "metadata": {
    "collapsed": true
   },
   "outputs": [],
   "source": []
  },
  {
   "cell_type": "code",
   "execution_count": null,
   "metadata": {
    "collapsed": true
   },
   "outputs": [],
   "source": []
  },
  {
   "cell_type": "markdown",
   "metadata": {},
   "source": [
    "### station_nbr == 14\n",
    "- store_nbr == 2, 6, 38, 42"
   ]
  },
  {
   "cell_type": "code",
   "execution_count": null,
   "metadata": {
    "collapsed": true
   },
   "outputs": [],
   "source": []
  },
  {
   "cell_type": "code",
   "execution_count": null,
   "metadata": {
    "collapsed": true
   },
   "outputs": [],
   "source": []
  },
  {
   "cell_type": "markdown",
   "metadata": {},
   "source": [
    "### station_nbr == 15\n",
    "- store_nbr == 19"
   ]
  },
  {
   "cell_type": "code",
   "execution_count": null,
   "metadata": {
    "collapsed": true
   },
   "outputs": [],
   "source": []
  },
  {
   "cell_type": "code",
   "execution_count": null,
   "metadata": {
    "collapsed": true
   },
   "outputs": [],
   "source": []
  },
  {
   "cell_type": "markdown",
   "metadata": {},
   "source": [
    "### station_nbr == 16\n",
    "- store_nbr == 14, 45"
   ]
  },
  {
   "cell_type": "code",
   "execution_count": null,
   "metadata": {
    "collapsed": true
   },
   "outputs": [],
   "source": []
  },
  {
   "cell_type": "code",
   "execution_count": null,
   "metadata": {
    "collapsed": true
   },
   "outputs": [],
   "source": []
  },
  {
   "cell_type": "markdown",
   "metadata": {},
   "source": [
    "### station_nbr == 17\n",
    "- store_nbr == 9, 18, 23, 26, 31, 34"
   ]
  },
  {
   "cell_type": "code",
   "execution_count": null,
   "metadata": {
    "collapsed": true
   },
   "outputs": [],
   "source": []
  },
  {
   "cell_type": "code",
   "execution_count": null,
   "metadata": {
    "collapsed": true
   },
   "outputs": [],
   "source": []
  },
  {
   "cell_type": "markdown",
   "metadata": {},
   "source": [
    "### station_nbr == 18\n",
    "- store_nbr == 36"
   ]
  },
  {
   "cell_type": "code",
   "execution_count": null,
   "metadata": {
    "collapsed": true
   },
   "outputs": [],
   "source": []
  },
  {
   "cell_type": "code",
   "execution_count": null,
   "metadata": {
    "collapsed": true
   },
   "outputs": [],
   "source": []
  },
  {
   "cell_type": "markdown",
   "metadata": {},
   "source": [
    "### station_nbr == 19\n",
    "- store_nbr == 30"
   ]
  },
  {
   "cell_type": "code",
   "execution_count": null,
   "metadata": {
    "collapsed": true
   },
   "outputs": [],
   "source": []
  },
  {
   "cell_type": "code",
   "execution_count": null,
   "metadata": {
    "collapsed": true
   },
   "outputs": [],
   "source": []
  },
  {
   "cell_type": "markdown",
   "metadata": {},
   "source": [
    "### station_nbr == 20\n",
    "- store_nbr == 17"
   ]
  },
  {
   "cell_type": "code",
   "execution_count": null,
   "metadata": {
    "collapsed": true
   },
   "outputs": [],
   "source": []
  },
  {
   "cell_type": "code",
   "execution_count": null,
   "metadata": {
    "collapsed": true
   },
   "outputs": [],
   "source": []
  },
  {
   "cell_type": "code",
   "execution_count": null,
   "metadata": {
    "collapsed": true
   },
   "outputs": [],
   "source": []
  },
  {
   "cell_type": "code",
   "execution_count": null,
   "metadata": {
    "collapsed": true
   },
   "outputs": [],
   "source": []
  },
  {
   "cell_type": "code",
   "execution_count": null,
   "metadata": {
    "collapsed": true
   },
   "outputs": [],
   "source": []
  },
  {
   "cell_type": "code",
   "execution_count": null,
   "metadata": {
    "collapsed": true
   },
   "outputs": [],
   "source": []
  },
  {
   "cell_type": "code",
   "execution_count": null,
   "metadata": {
    "collapsed": true
   },
   "outputs": [],
   "source": []
  },
  {
   "cell_type": "code",
   "execution_count": null,
   "metadata": {
    "collapsed": true
   },
   "outputs": [],
   "source": []
  },
  {
   "cell_type": "code",
   "execution_count": null,
   "metadata": {
    "collapsed": true
   },
   "outputs": [],
   "source": []
  },
  {
   "cell_type": "code",
   "execution_count": null,
   "metadata": {},
   "outputs": [],
   "source": [
    "ls"
   ]
  },
  {
   "cell_type": "code",
   "execution_count": null,
   "metadata": {},
   "outputs": [],
   "source": [
    "weather_train_1.head()"
   ]
  },
  {
   "cell_type": "code",
   "execution_count": null,
   "metadata": {},
   "outputs": [],
   "source": [
    "tmp_pivot.tail()"
   ]
  },
  {
   "cell_type": "code",
   "execution_count": null,
   "metadata": {},
   "outputs": [],
   "source": [
    "test_11 = test_1.set_index('date')"
   ]
  },
  {
   "cell_type": "code",
   "execution_count": null,
   "metadata": {},
   "outputs": [],
   "source": [
    "for num in ls :\n",
    "    test_11[num] = tmp_pivot[num]"
   ]
  },
  {
   "cell_type": "code",
   "execution_count": null,
   "metadata": {
    "scrolled": true
   },
   "outputs": [],
   "source": [
    "test_11.tail()"
   ]
  },
  {
   "cell_type": "code",
   "execution_count": null,
   "metadata": {
    "scrolled": false
   },
   "outputs": [],
   "source": [
    "plt.figure(figsize = (20, 20))\n",
    "plotcount = 1\n",
    "for num in ls :\n",
    "    plt.subplot(len(ls), 1, plotcount)\n",
    "    plt.scatter(x = test_11['tavg'], y = test_11[num]) # x에 들어가는 column을 바꿔가며 관계시각화 가능..pairplot은 왜 안되지 ㅅㅂ\n",
    "    \n",
    "    plt.ylabel('units of item_nbr == {}'.format(num))\n",
    "    \n",
    "    plotcount +=1"
   ]
  },
  {
   "cell_type": "code",
   "execution_count": null,
   "metadata": {},
   "outputs": [],
   "source": [
    "test_1 = weather_train_1.drop(['depart', 'dewpoint', 'wetbulb', 'sunrise', 'sunset', 'codesum', 'snowfall', 'preciptotal', 'stnpressure', 'sealevel', 'resultspeed', 'resultdir', 'avgspeed'], axis = 1)\n",
    "# pd.concat([test_1, tmp_pivot], axis = 0, ignore_index = True, keys = 'date')\n"
   ]
  },
  {
   "cell_type": "code",
   "execution_count": 34,
   "metadata": {},
   "outputs": [
    {
     "ename": "AttributeError",
     "evalue": "'DataFrame' object has no attribute 'column'",
     "output_type": "error",
     "traceback": [
      "\u001b[1;31m---------------------------------------------------------------------------\u001b[0m",
      "\u001b[1;31mAttributeError\u001b[0m                            Traceback (most recent call last)",
      "\u001b[1;32m<ipython-input-34-6f830c645a93>\u001b[0m in \u001b[0;36m<module>\u001b[1;34m()\u001b[0m\n\u001b[0;32m      2\u001b[0m \u001b[0mtmp_pivot\u001b[0m \u001b[1;33m=\u001b[0m \u001b[0mtmp_pivot\u001b[0m\u001b[1;33m.\u001b[0m\u001b[0mloc\u001b[0m\u001b[1;33m[\u001b[0m\u001b[1;33m:\u001b[0m\u001b[1;33m,\u001b[0m \u001b[1;33m(\u001b[0m\u001b[0mtmp_pivot\u001b[0m \u001b[1;33m!=\u001b[0m \u001b[1;36m0\u001b[0m\u001b[1;33m)\u001b[0m\u001b[1;33m.\u001b[0m\u001b[0many\u001b[0m\u001b[1;33m(\u001b[0m\u001b[0maxis\u001b[0m \u001b[1;33m=\u001b[0m \u001b[1;36m0\u001b[0m\u001b[1;33m)\u001b[0m\u001b[1;33m]\u001b[0m\u001b[1;33m\u001b[0m\u001b[0m\n\u001b[0;32m      3\u001b[0m \u001b[1;31m# tmp_pivot.loc['2012-12-25'] =\u001b[0m\u001b[1;33m\u001b[0m\u001b[1;33m\u001b[0m\u001b[0m\n\u001b[1;32m----> 4\u001b[1;33m \u001b[0mtmp_pivot\u001b[0m\u001b[1;33m.\u001b[0m\u001b[0mcolumn\u001b[0m\u001b[1;33m\u001b[0m\u001b[0m\n\u001b[0m",
      "\u001b[1;32mC:\\Anaconda3\\lib\\site-packages\\pandas\\core\\generic.py\u001b[0m in \u001b[0;36m__getattr__\u001b[1;34m(self, name)\u001b[0m\n\u001b[0;32m   3079\u001b[0m             \u001b[1;32mif\u001b[0m \u001b[0mname\u001b[0m \u001b[1;32min\u001b[0m \u001b[0mself\u001b[0m\u001b[1;33m.\u001b[0m\u001b[0m_info_axis\u001b[0m\u001b[1;33m:\u001b[0m\u001b[1;33m\u001b[0m\u001b[0m\n\u001b[0;32m   3080\u001b[0m                 \u001b[1;32mreturn\u001b[0m \u001b[0mself\u001b[0m\u001b[1;33m[\u001b[0m\u001b[0mname\u001b[0m\u001b[1;33m]\u001b[0m\u001b[1;33m\u001b[0m\u001b[0m\n\u001b[1;32m-> 3081\u001b[1;33m             \u001b[1;32mreturn\u001b[0m \u001b[0mobject\u001b[0m\u001b[1;33m.\u001b[0m\u001b[0m__getattribute__\u001b[0m\u001b[1;33m(\u001b[0m\u001b[0mself\u001b[0m\u001b[1;33m,\u001b[0m \u001b[0mname\u001b[0m\u001b[1;33m)\u001b[0m\u001b[1;33m\u001b[0m\u001b[0m\n\u001b[0m\u001b[0;32m   3082\u001b[0m \u001b[1;33m\u001b[0m\u001b[0m\n\u001b[0;32m   3083\u001b[0m     \u001b[1;32mdef\u001b[0m \u001b[0m__setattr__\u001b[0m\u001b[1;33m(\u001b[0m\u001b[0mself\u001b[0m\u001b[1;33m,\u001b[0m \u001b[0mname\u001b[0m\u001b[1;33m,\u001b[0m \u001b[0mvalue\u001b[0m\u001b[1;33m)\u001b[0m\u001b[1;33m:\u001b[0m\u001b[1;33m\u001b[0m\u001b[0m\n",
      "\u001b[1;31mAttributeError\u001b[0m: 'DataFrame' object has no attribute 'column'"
     ]
    }
   ],
   "source": [
    "tmp_pivot = train_new_16.pivot_table(values = 'log_units', index = ['date'], columns = ['item_nbr'])\n",
    "tmp_pivot = tmp_pivot.loc[:, (tmp_pivot != 0).any(axis = 0)]\n",
    "# tmp_pivot.loc['2012-12-25'] =\n",
    "tmp_pivot.column"
   ]
  },
  {
   "cell_type": "code",
   "execution_count": 28,
   "metadata": {},
   "outputs": [
    {
     "name": "stderr",
     "output_type": "stream",
     "text": [
      "C:\\Anaconda3\\lib\\site-packages\\ipykernel_launcher.py:8: SettingWithCopyWarning: \n",
      "A value is trying to be set on a copy of a slice from a DataFrame\n",
      "\n",
      "See the caveats in the documentation: http://pandas.pydata.org/pandas-docs/stable/indexing.html#indexing-view-versus-copy\n",
      "  \n",
      "C:\\Anaconda3\\lib\\site-packages\\ipykernel_launcher.py:11: SettingWithCopyWarning: \n",
      "A value is trying to be set on a copy of a slice from a DataFrame\n",
      "\n",
      "See the caveats in the documentation: http://pandas.pydata.org/pandas-docs/stable/indexing.html#indexing-view-versus-copy\n",
      "  # This is added back by InteractiveShellApp.init_path()\n"
     ]
    },
    {
     "data": {
      "text/plain": [
       "455"
      ]
     },
     "execution_count": 28,
     "metadata": {},
     "output_type": "execute_result"
    }
   ],
   "source": [
    "tmp = train_new_16[train_new_16['units'] != 0] #1344 * 4\n",
    "tmp.reset_index(drop = True, inplace = True)\n",
    "\n",
    "ls = tmp['item_nbr'].unique() # 9, 28, 40, 51, 93, 89, 99\n",
    "ls.sort()\n",
    "\n",
    "for num in ls :\n",
    "    tmp.loc[len(tmp)] = {'date' : '2012-12-25', 'store_nbr' : 16, 'item_nbr' : num, 'units' : 0, 'log_units' : 0}\n",
    "# rng = range(len(tmp_pivot))\n",
    "\n",
    "tmp.sort_values(by = ['date', 'item_nbr'], inplace = True)\n",
    "# tmp.tail()\n",
    "\n",
    "tmp_pivot = tmp.pivot_table(values = 'log_units', index = ['date'], columns = ['item_nbr'])\n",
    "len(tmp_pivot)"
   ]
  },
  {
   "cell_type": "code",
   "execution_count": 24,
   "metadata": {
    "scrolled": true
   },
   "outputs": [
    {
     "name": "stderr",
     "output_type": "stream",
     "text": [
      "C:\\Anaconda3\\lib\\site-packages\\ipykernel_launcher.py:12: SettingWithCopyWarning: \n",
      "A value is trying to be set on a copy of a slice from a DataFrame\n",
      "\n",
      "See the caveats in the documentation: http://pandas.pydata.org/pandas-docs/stable/indexing.html#indexing-view-versus-copy\n",
      "  if sys.path[0] == '':\n",
      "C:\\Anaconda3\\lib\\site-packages\\ipykernel_launcher.py:15: SettingWithCopyWarning: \n",
      "A value is trying to be set on a copy of a slice from a DataFrame\n",
      "\n",
      "See the caveats in the documentation: http://pandas.pydata.org/pandas-docs/stable/indexing.html#indexing-view-versus-copy\n",
      "  from ipykernel import kernelapp as app\n"
     ]
    },
    {
     "data": {
      "text/plain": [
       "456"
      ]
     },
     "execution_count": 24,
     "metadata": {},
     "output_type": "execute_result"
    }
   ],
   "source": [
    "train_new_14 = train_new[train_new['store_nbr'] == 14]\n",
    "train_new_14.reset_index(drop = True, inplace = True)\n",
    "# train_new_1\n",
    "\n",
    "tmp = train_new_1[train_new_1['units'] != 0] #1344 * 4\n",
    "tmp.reset_index(drop = True, inplace = True)\n",
    "\n",
    "ls = tmp['item_nbr'].unique() # 9, 28, 40, 51, 93, 89, 99\n",
    "ls.sort()\n",
    "\n",
    "for num in ls :\n",
    "    tmp.loc[len(tmp)] = {'date' : '2012-12-25', 'store_nbr' : 14, 'item_nbr' : num, 'units' : 0, 'log_units' : 0}\n",
    "# rng = range(len(tmp_pivot))\n",
    "\n",
    "tmp.sort_values(by = ['date', 'item_nbr'], inplace = True)\n",
    "# tmp.tail()\n",
    "\n",
    "tmp_pivot = tmp.pivot_table(values = 'log_units', index = ['date'], columns = ['item_nbr'])\n",
    "len(tmp_pivot)\n"
   ]
  },
  {
   "cell_type": "code",
   "execution_count": null,
   "metadata": {
    "collapsed": true
   },
   "outputs": [],
   "source": [
    "ls"
   ]
  },
  {
   "cell_type": "code",
   "execution_count": null,
   "metadata": {},
   "outputs": [],
   "source": [
    "test_pivot = train_new_14.pivot_table(values = 'units', index = ['date'], columns = ['item_nbr'])\n",
    "test_pivot.loc[len(test_pivot)] = np.nan"
   ]
  },
  {
   "cell_type": "code",
   "execution_count": null,
   "metadata": {},
   "outputs": [],
   "source": [
    "#455, 2012-12-25 -> 456\n",
    "tmp = train_new_14[train_new_14['units'] != 0]\n",
    "tmp.reset_index(drop = True, inplace = True)\n",
    "tmp\n",
    "ls = tmp['item_nbr'].unique()\n",
    "ls.sort\n",
    "for num in ls :\n",
    "    tmp.loc[len(tmp)] = {'date' : '2012-12-25', 'store_nbr' : 14, 'item_nbr' : num, 'units' : 0}\n",
    "\n",
    "tmp.sort_values(by = ['date', 'item_nbr'], inplace = True)\n",
    "tmp.pivot_table(values = 'units', index = ['date'], columns = ['item_nbr'])"
   ]
  },
  {
   "cell_type": "code",
   "execution_count": null,
   "metadata": {},
   "outputs": [],
   "source": [
    "tmp_pivot = tmp.pivot_table(values = 'units', index = ['date'], columns = ['item_nbr']).fillna(0)\n",
    "tmp_pivot"
   ]
  },
  {
   "cell_type": "code",
   "execution_count": null,
   "metadata": {
    "scrolled": true
   },
   "outputs": [],
   "source": [
    "type(weather_train_1.at[0, 'tmax'])"
   ]
  },
  {
   "cell_type": "code",
   "execution_count": null,
   "metadata": {
    "collapsed": true
   },
   "outputs": [],
   "source": [
    "weather_train_1_pivot = weather_train_1.pivot_table(values = ['tmax', 'tmin', 'tavg'], index = ['date'], aggfunc = np.sum)"
   ]
  },
  {
   "cell_type": "code",
   "execution_count": null,
   "metadata": {},
   "outputs": [],
   "source": [
    "weather_train_1_pivot"
   ]
  },
  {
   "cell_type": "code",
   "execution_count": null,
   "metadata": {},
   "outputs": [],
   "source": [
    "train_new_1 = train_new[train_new['store_nbr'] == 1]\n",
    "train_new_1.reset_index(drop = True, inplace = True)\n",
    "# tmp = train_new_1.pivot_table(values = 'units', index = ['date'], columns = ['item_nbr'])\n",
    "tmp = train_new_1[train_new_1['units'] != 0]\n",
    "tmp_pivot = tmp.pivot_table(values = 'units', index = ['date'], columns =['item_nbr']).fillna(0)\n",
    "tmp_pivot.head()\n",
    "# result = tmp['item_nbr'].unique() # store_nbr1에서 units이 0이 아닌 item_nbr = 9, 28, 40, 51, 89, 93, 99\n",
    "# result.sort()\n",
    "# for item in result :\n",
    "#     print(item)"
   ]
  },
  {
   "cell_type": "code",
   "execution_count": null,
   "metadata": {},
   "outputs": [],
   "source": [
    "tmp_pivot['tmax'] = weather_train_1_pivot['tmax']\n",
    "result_pivot = tmp_pivot.sort_values(by = 'tmax', ascending = True)\n",
    "tmp_pivot.head()\n",
    "\n",
    "# tmp_pivot.plot(kind = 'bar', x = 'tmax', figsize = (40, 10))\n",
    "# tmp_pivot.plot(figsize = (20, 10))\n",
    "result_pivot.plot(kind = 'bar', x = 'tmax', y = 99, figsize = (20, 10))\n",
    "\n",
    "# tmp_pivot['tmax'].unique()\n",
    "# plt.show()"
   ]
  },
  {
   "cell_type": "code",
   "execution_count": null,
   "metadata": {},
   "outputs": [],
   "source": [
    "weather_train_1[weather_train_1['date'] == '2012-12-25']"
   ]
  },
  {
   "cell_type": "code",
   "execution_count": null,
   "metadata": {
    "collapsed": true
   },
   "outputs": [],
   "source": [
    "train_new_1_9 = train_new_1[train_new_1['item_nbr'] == 9]\n",
    "# len(weather_train_1), len(train_new_1_9) #456, 455 왜 하나 차이가 나지? train 2012-12-25가 없음\n",
    "train_new_1_9.reset_index(drop = True, inplace = True)\n",
    "# train_new_1_9\n",
    "# weather_train_1"
   ]
  }
 ],
 "metadata": {
  "kernelspec": {
   "display_name": "Python 3",
   "language": "python",
   "name": "python3"
  },
  "language_info": {
   "codemirror_mode": {
    "name": "ipython",
    "version": 3
   },
   "file_extension": ".py",
   "mimetype": "text/x-python",
   "name": "python",
   "nbconvert_exporter": "python",
   "pygments_lexer": "ipython3",
   "version": "3.6.3"
  }
 },
 "nbformat": 4,
 "nbformat_minor": 2
}
