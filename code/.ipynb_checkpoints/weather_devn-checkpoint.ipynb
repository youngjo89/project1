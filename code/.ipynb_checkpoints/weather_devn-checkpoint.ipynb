{
 "cells": [
  {
   "cell_type": "markdown",
   "metadata": {},
   "source": [
    "C(, contrast)로 category에서 유의하지 않은 class를 사용하지 않을 수 있다.\n",
    "- http://patsy.readthedocs.io/en/latest/API-reference.html#handling-categorical-data\n",
    "- http://www.statsmodels.org/dev/contrasts.html?highlight=patsy"
   ]
  },
  {
   "cell_type": "code",
   "execution_count": 1,
   "metadata": {
    "collapsed": true
   },
   "outputs": [],
   "source": [
    "key = pd.read_csv('../data/key.csv')\n",
    "train = pd.read_csv('../data/train.csv')\n",
    "weather = pd.read_csv('../data/weather.csv')\n",
    "test = pd.read_csv('../data/test.csv')"
   ]
  },
  {
   "cell_type": "code",
   "execution_count": 2,
   "metadata": {},
   "outputs": [
    {
     "data": {
      "text/html": [
       "<div>\n",
       "<style>\n",
       "    .dataframe thead tr:only-child th {\n",
       "        text-align: right;\n",
       "    }\n",
       "\n",
       "    .dataframe thead th {\n",
       "        text-align: left;\n",
       "    }\n",
       "\n",
       "    .dataframe tbody tr th {\n",
       "        vertical-align: top;\n",
       "    }\n",
       "</style>\n",
       "<table border=\"1\" class=\"dataframe\">\n",
       "  <thead>\n",
       "    <tr style=\"text-align: right;\">\n",
       "      <th></th>\n",
       "      <th>date</th>\n",
       "      <th>store_nbr</th>\n",
       "      <th>item_nbr</th>\n",
       "      <th>units</th>\n",
       "      <th>log_units</th>\n",
       "    </tr>\n",
       "  </thead>\n",
       "  <tbody>\n",
       "    <tr>\n",
       "      <th>4617595</th>\n",
       "      <td>2014-10-31</td>\n",
       "      <td>45</td>\n",
       "      <td>107</td>\n",
       "      <td>0</td>\n",
       "      <td>0.0</td>\n",
       "    </tr>\n",
       "    <tr>\n",
       "      <th>4617596</th>\n",
       "      <td>2014-10-31</td>\n",
       "      <td>45</td>\n",
       "      <td>108</td>\n",
       "      <td>0</td>\n",
       "      <td>0.0</td>\n",
       "    </tr>\n",
       "    <tr>\n",
       "      <th>4617597</th>\n",
       "      <td>2014-10-31</td>\n",
       "      <td>45</td>\n",
       "      <td>109</td>\n",
       "      <td>0</td>\n",
       "      <td>0.0</td>\n",
       "    </tr>\n",
       "    <tr>\n",
       "      <th>4617598</th>\n",
       "      <td>2014-10-31</td>\n",
       "      <td>45</td>\n",
       "      <td>110</td>\n",
       "      <td>0</td>\n",
       "      <td>0.0</td>\n",
       "    </tr>\n",
       "    <tr>\n",
       "      <th>4617599</th>\n",
       "      <td>2014-10-31</td>\n",
       "      <td>45</td>\n",
       "      <td>111</td>\n",
       "      <td>0</td>\n",
       "      <td>0.0</td>\n",
       "    </tr>\n",
       "  </tbody>\n",
       "</table>\n",
       "</div>"
      ],
      "text/plain": [
       "               date  store_nbr  item_nbr  units  log_units\n",
       "4617595  2014-10-31         45       107      0        0.0\n",
       "4617596  2014-10-31         45       108      0        0.0\n",
       "4617597  2014-10-31         45       109      0        0.0\n",
       "4617598  2014-10-31         45       110      0        0.0\n",
       "4617599  2014-10-31         45       111      0        0.0"
      ]
     },
     "execution_count": 2,
     "metadata": {},
     "output_type": "execute_result"
    }
   ],
   "source": [
    "train['log_units'] = np.log(train['units'] + 1)\n",
    "train.tail()"
   ]
  },
  {
   "cell_type": "code",
   "execution_count": 3,
   "metadata": {
    "collapsed": true
   },
   "outputs": [],
   "source": [
    "train_new = train[train['date'] <= '2013-03-31'].reset_index(drop = True) # 2013년 3월 31일까지의 train data"
   ]
  },
  {
   "cell_type": "code",
   "execution_count": 4,
   "metadata": {
    "collapsed": true
   },
   "outputs": [],
   "source": [
    "weather['date'] = pd.to_datetime(weather['date'])"
   ]
  },
  {
   "cell_type": "code",
   "execution_count": 5,
   "metadata": {
    "collapsed": true
   },
   "outputs": [],
   "source": [
    "weather_train = weather[weather['date'] <= '2013-03-31'].reset_index(drop = True) # 2013년 3월 31일까지의 weather data"
   ]
  },
  {
   "cell_type": "code",
   "execution_count": 6,
   "metadata": {
    "collapsed": true
   },
   "outputs": [],
   "source": [
    "weather_test = weather[weather['date'] >= '2013-04-01'].reset_index(drop = True)"
   ]
  },
  {
   "cell_type": "code",
   "execution_count": 54,
   "metadata": {},
   "outputs": [
    {
     "data": {
      "text/html": [
       "<div>\n",
       "<style>\n",
       "    .dataframe thead tr:only-child th {\n",
       "        text-align: right;\n",
       "    }\n",
       "\n",
       "    .dataframe thead th {\n",
       "        text-align: left;\n",
       "    }\n",
       "\n",
       "    .dataframe tbody tr th {\n",
       "        vertical-align: top;\n",
       "    }\n",
       "</style>\n",
       "<table border=\"1\" class=\"dataframe\">\n",
       "  <thead>\n",
       "    <tr style=\"text-align: right;\">\n",
       "      <th></th>\n",
       "      <th>station_nbr</th>\n",
       "      <th>date</th>\n",
       "      <th>tmax</th>\n",
       "      <th>tmin</th>\n",
       "      <th>tavg</th>\n",
       "      <th>depart</th>\n",
       "      <th>dewpoint</th>\n",
       "      <th>wetbulb</th>\n",
       "      <th>heat</th>\n",
       "      <th>cool</th>\n",
       "      <th>sunrise</th>\n",
       "      <th>sunset</th>\n",
       "      <th>codesum</th>\n",
       "      <th>snowfall</th>\n",
       "      <th>preciptotal</th>\n",
       "      <th>stnpressure</th>\n",
       "      <th>sealevel</th>\n",
       "      <th>resultspeed</th>\n",
       "      <th>resultdir</th>\n",
       "      <th>avgspeed</th>\n",
       "    </tr>\n",
       "  </thead>\n",
       "  <tbody>\n",
       "    <tr>\n",
       "      <th>0</th>\n",
       "      <td>1</td>\n",
       "      <td>2012-01-01</td>\n",
       "      <td>52</td>\n",
       "      <td>31</td>\n",
       "      <td>42</td>\n",
       "      <td>M</td>\n",
       "      <td>36</td>\n",
       "      <td>40</td>\n",
       "      <td>23</td>\n",
       "      <td>0</td>\n",
       "      <td>-</td>\n",
       "      <td>-</td>\n",
       "      <td>RA FZFG BR</td>\n",
       "      <td>M</td>\n",
       "      <td>0.05</td>\n",
       "      <td>29.78</td>\n",
       "      <td>29.92</td>\n",
       "      <td>3.6</td>\n",
       "      <td>20</td>\n",
       "      <td>4.6</td>\n",
       "    </tr>\n",
       "    <tr>\n",
       "      <th>1</th>\n",
       "      <td>2</td>\n",
       "      <td>2012-01-01</td>\n",
       "      <td>48</td>\n",
       "      <td>33</td>\n",
       "      <td>41</td>\n",
       "      <td>16</td>\n",
       "      <td>37</td>\n",
       "      <td>39</td>\n",
       "      <td>24</td>\n",
       "      <td>0</td>\n",
       "      <td>0716</td>\n",
       "      <td>1626</td>\n",
       "      <td>RA</td>\n",
       "      <td>0.0</td>\n",
       "      <td>0.07</td>\n",
       "      <td>28.82</td>\n",
       "      <td>29.91</td>\n",
       "      <td>9.1</td>\n",
       "      <td>23</td>\n",
       "      <td>11.3</td>\n",
       "    </tr>\n",
       "    <tr>\n",
       "      <th>2</th>\n",
       "      <td>3</td>\n",
       "      <td>2012-01-01</td>\n",
       "      <td>55</td>\n",
       "      <td>34</td>\n",
       "      <td>45</td>\n",
       "      <td>9</td>\n",
       "      <td>24</td>\n",
       "      <td>36</td>\n",
       "      <td>20</td>\n",
       "      <td>0</td>\n",
       "      <td>0735</td>\n",
       "      <td>1720</td>\n",
       "      <td></td>\n",
       "      <td>0.0</td>\n",
       "      <td>0.00</td>\n",
       "      <td>29.77</td>\n",
       "      <td>30.47</td>\n",
       "      <td>9.9</td>\n",
       "      <td>31</td>\n",
       "      <td>10.0</td>\n",
       "    </tr>\n",
       "    <tr>\n",
       "      <th>3</th>\n",
       "      <td>4</td>\n",
       "      <td>2012-01-01</td>\n",
       "      <td>63</td>\n",
       "      <td>47</td>\n",
       "      <td>55</td>\n",
       "      <td>4</td>\n",
       "      <td>28</td>\n",
       "      <td>43</td>\n",
       "      <td>10</td>\n",
       "      <td>0</td>\n",
       "      <td>0728</td>\n",
       "      <td>1742</td>\n",
       "      <td></td>\n",
       "      <td>0.0</td>\n",
       "      <td>0.00</td>\n",
       "      <td>29.79</td>\n",
       "      <td>30.48</td>\n",
       "      <td>8.0</td>\n",
       "      <td>35</td>\n",
       "      <td>8.2</td>\n",
       "    </tr>\n",
       "    <tr>\n",
       "      <th>4</th>\n",
       "      <td>6</td>\n",
       "      <td>2012-01-01</td>\n",
       "      <td>63</td>\n",
       "      <td>34</td>\n",
       "      <td>49</td>\n",
       "      <td>0</td>\n",
       "      <td>31</td>\n",
       "      <td>43</td>\n",
       "      <td>16</td>\n",
       "      <td>0</td>\n",
       "      <td>0727</td>\n",
       "      <td>1742</td>\n",
       "      <td></td>\n",
       "      <td>0.0</td>\n",
       "      <td>0.00</td>\n",
       "      <td>29.95</td>\n",
       "      <td>30.47</td>\n",
       "      <td>14.0</td>\n",
       "      <td>36</td>\n",
       "      <td>13.8</td>\n",
       "    </tr>\n",
       "    <tr>\n",
       "      <th>5</th>\n",
       "      <td>7</td>\n",
       "      <td>2012-01-01</td>\n",
       "      <td>50</td>\n",
       "      <td>33</td>\n",
       "      <td>42</td>\n",
       "      <td>M</td>\n",
       "      <td>26</td>\n",
       "      <td>35</td>\n",
       "      <td>23</td>\n",
       "      <td>0</td>\n",
       "      <td>-</td>\n",
       "      <td>-</td>\n",
       "      <td></td>\n",
       "      <td>0.0</td>\n",
       "      <td>0.00</td>\n",
       "      <td>29.15</td>\n",
       "      <td>30.54</td>\n",
       "      <td>10.3</td>\n",
       "      <td>32</td>\n",
       "      <td>10.2</td>\n",
       "    </tr>\n",
       "    <tr>\n",
       "      <th>6</th>\n",
       "      <td>8</td>\n",
       "      <td>2012-01-01</td>\n",
       "      <td>66</td>\n",
       "      <td>45</td>\n",
       "      <td>M</td>\n",
       "      <td>M</td>\n",
       "      <td>34</td>\n",
       "      <td>46</td>\n",
       "      <td>M</td>\n",
       "      <td>M</td>\n",
       "      <td>-</td>\n",
       "      <td>-</td>\n",
       "      <td>RA BR</td>\n",
       "      <td>M</td>\n",
       "      <td>0.00</td>\n",
       "      <td>30.05</td>\n",
       "      <td>M</td>\n",
       "      <td>11.0</td>\n",
       "      <td>36</td>\n",
       "      <td>10.9</td>\n",
       "    </tr>\n",
       "    <tr>\n",
       "      <th>7</th>\n",
       "      <td>9</td>\n",
       "      <td>2012-01-01</td>\n",
       "      <td>34</td>\n",
       "      <td>19</td>\n",
       "      <td>27</td>\n",
       "      <td>M</td>\n",
       "      <td>17</td>\n",
       "      <td>23</td>\n",
       "      <td>38</td>\n",
       "      <td>0</td>\n",
       "      <td>-</td>\n",
       "      <td>-</td>\n",
       "      <td>UP</td>\n",
       "      <td>M</td>\n",
       "      <td>T</td>\n",
       "      <td>29.34</td>\n",
       "      <td>30.09</td>\n",
       "      <td>22.8</td>\n",
       "      <td>30</td>\n",
       "      <td>22.5</td>\n",
       "    </tr>\n",
       "    <tr>\n",
       "      <th>8</th>\n",
       "      <td>10</td>\n",
       "      <td>2012-01-01</td>\n",
       "      <td>73</td>\n",
       "      <td>53</td>\n",
       "      <td>63</td>\n",
       "      <td>M</td>\n",
       "      <td>55</td>\n",
       "      <td>58</td>\n",
       "      <td>2</td>\n",
       "      <td>0</td>\n",
       "      <td>0723</td>\n",
       "      <td>1738</td>\n",
       "      <td>FG+ FG BR</td>\n",
       "      <td>M</td>\n",
       "      <td>0.00</td>\n",
       "      <td>30.16</td>\n",
       "      <td>30.19</td>\n",
       "      <td>5.1</td>\n",
       "      <td>24</td>\n",
       "      <td>5.5</td>\n",
       "    </tr>\n",
       "    <tr>\n",
       "      <th>9</th>\n",
       "      <td>11</td>\n",
       "      <td>2012-01-01</td>\n",
       "      <td>72</td>\n",
       "      <td>48</td>\n",
       "      <td>60</td>\n",
       "      <td>7</td>\n",
       "      <td>54</td>\n",
       "      <td>56</td>\n",
       "      <td>5</td>\n",
       "      <td>0</td>\n",
       "      <td>0724</td>\n",
       "      <td>1737</td>\n",
       "      <td>FG+ FG BR</td>\n",
       "      <td>0.0</td>\n",
       "      <td>0.00</td>\n",
       "      <td>30.15</td>\n",
       "      <td>30.18</td>\n",
       "      <td>4.6</td>\n",
       "      <td>23</td>\n",
       "      <td>4.8</td>\n",
       "    </tr>\n",
       "    <tr>\n",
       "      <th>10</th>\n",
       "      <td>12</td>\n",
       "      <td>2012-01-01</td>\n",
       "      <td>72</td>\n",
       "      <td>48</td>\n",
       "      <td>60</td>\n",
       "      <td>M</td>\n",
       "      <td>54</td>\n",
       "      <td>57</td>\n",
       "      <td>5</td>\n",
       "      <td>0</td>\n",
       "      <td>-</td>\n",
       "      <td>-</td>\n",
       "      <td>FG+ FG BR</td>\n",
       "      <td>0.0</td>\n",
       "      <td>0.00</td>\n",
       "      <td>30.15</td>\n",
       "      <td>30.19</td>\n",
       "      <td>4.4</td>\n",
       "      <td>25</td>\n",
       "      <td>4.8</td>\n",
       "    </tr>\n",
       "    <tr>\n",
       "      <th>11</th>\n",
       "      <td>13</td>\n",
       "      <td>2012-01-01</td>\n",
       "      <td>38</td>\n",
       "      <td>18</td>\n",
       "      <td>28</td>\n",
       "      <td>M</td>\n",
       "      <td>12</td>\n",
       "      <td>21</td>\n",
       "      <td>37</td>\n",
       "      <td>0</td>\n",
       "      <td>-</td>\n",
       "      <td>-</td>\n",
       "      <td></td>\n",
       "      <td>M</td>\n",
       "      <td>0.00</td>\n",
       "      <td>24.60</td>\n",
       "      <td>30.59</td>\n",
       "      <td>2.5</td>\n",
       "      <td>16</td>\n",
       "      <td>6.1</td>\n",
       "    </tr>\n",
       "    <tr>\n",
       "      <th>12</th>\n",
       "      <td>14</td>\n",
       "      <td>2012-01-01</td>\n",
       "      <td>50</td>\n",
       "      <td>34</td>\n",
       "      <td>42</td>\n",
       "      <td>5</td>\n",
       "      <td>25</td>\n",
       "      <td>35</td>\n",
       "      <td>23</td>\n",
       "      <td>0</td>\n",
       "      <td>0739</td>\n",
       "      <td>1729</td>\n",
       "      <td></td>\n",
       "      <td>0.0</td>\n",
       "      <td>0.00</td>\n",
       "      <td>29.13</td>\n",
       "      <td>30.52</td>\n",
       "      <td>11.4</td>\n",
       "      <td>32</td>\n",
       "      <td>11.3</td>\n",
       "    </tr>\n",
       "    <tr>\n",
       "      <th>13</th>\n",
       "      <td>15</td>\n",
       "      <td>2012-01-01</td>\n",
       "      <td>48</td>\n",
       "      <td>26</td>\n",
       "      <td>37</td>\n",
       "      <td>16</td>\n",
       "      <td>35</td>\n",
       "      <td>38</td>\n",
       "      <td>28</td>\n",
       "      <td>0</td>\n",
       "      <td>0718</td>\n",
       "      <td>1621</td>\n",
       "      <td>RA FG+ FZFG BR</td>\n",
       "      <td>0.0</td>\n",
       "      <td>0.09</td>\n",
       "      <td>29.53</td>\n",
       "      <td>29.89</td>\n",
       "      <td>2.5</td>\n",
       "      <td>17</td>\n",
       "      <td>3.8</td>\n",
       "    </tr>\n",
       "    <tr>\n",
       "      <th>14</th>\n",
       "      <td>16</td>\n",
       "      <td>2012-01-01</td>\n",
       "      <td>50</td>\n",
       "      <td>30</td>\n",
       "      <td>40</td>\n",
       "      <td>M</td>\n",
       "      <td>37</td>\n",
       "      <td>40</td>\n",
       "      <td>25</td>\n",
       "      <td>0</td>\n",
       "      <td>-</td>\n",
       "      <td>-</td>\n",
       "      <td>RA MIFG BR</td>\n",
       "      <td>M</td>\n",
       "      <td>T</td>\n",
       "      <td>29.80</td>\n",
       "      <td>29.89</td>\n",
       "      <td>4.2</td>\n",
       "      <td>21</td>\n",
       "      <td>6.8</td>\n",
       "    </tr>\n",
       "    <tr>\n",
       "      <th>15</th>\n",
       "      <td>17</td>\n",
       "      <td>2012-01-01</td>\n",
       "      <td>56</td>\n",
       "      <td>38</td>\n",
       "      <td>47</td>\n",
       "      <td>M</td>\n",
       "      <td>23</td>\n",
       "      <td>37</td>\n",
       "      <td>18</td>\n",
       "      <td>0</td>\n",
       "      <td>-</td>\n",
       "      <td>-</td>\n",
       "      <td></td>\n",
       "      <td>0.0</td>\n",
       "      <td>0.00</td>\n",
       "      <td>29.83</td>\n",
       "      <td>30.50</td>\n",
       "      <td>5.4</td>\n",
       "      <td>32</td>\n",
       "      <td>5.8</td>\n",
       "    </tr>\n",
       "    <tr>\n",
       "      <th>16</th>\n",
       "      <td>18</td>\n",
       "      <td>2012-01-01</td>\n",
       "      <td>59</td>\n",
       "      <td>40</td>\n",
       "      <td>50</td>\n",
       "      <td>4</td>\n",
       "      <td>28</td>\n",
       "      <td>40</td>\n",
       "      <td>15</td>\n",
       "      <td>0</td>\n",
       "      <td>0730</td>\n",
       "      <td>1732</td>\n",
       "      <td></td>\n",
       "      <td>0.0</td>\n",
       "      <td>0.00</td>\n",
       "      <td>29.98</td>\n",
       "      <td>30.49</td>\n",
       "      <td>9.0</td>\n",
       "      <td>33</td>\n",
       "      <td>8.9</td>\n",
       "    </tr>\n",
       "    <tr>\n",
       "      <th>17</th>\n",
       "      <td>19</td>\n",
       "      <td>2012-01-01</td>\n",
       "      <td>38</td>\n",
       "      <td>25</td>\n",
       "      <td>32</td>\n",
       "      <td>10</td>\n",
       "      <td>26</td>\n",
       "      <td>30</td>\n",
       "      <td>33</td>\n",
       "      <td>0</td>\n",
       "      <td>0723</td>\n",
       "      <td>1628</td>\n",
       "      <td>RA SN BR</td>\n",
       "      <td>0.5</td>\n",
       "      <td>0.12</td>\n",
       "      <td>29.06</td>\n",
       "      <td>29.79</td>\n",
       "      <td>14.6</td>\n",
       "      <td>29</td>\n",
       "      <td>15.6</td>\n",
       "    </tr>\n",
       "    <tr>\n",
       "      <th>18</th>\n",
       "      <td>20</td>\n",
       "      <td>2012-01-01</td>\n",
       "      <td>59</td>\n",
       "      <td>41</td>\n",
       "      <td>50</td>\n",
       "      <td>M</td>\n",
       "      <td>28</td>\n",
       "      <td>40</td>\n",
       "      <td>15</td>\n",
       "      <td>0</td>\n",
       "      <td>-</td>\n",
       "      <td>-</td>\n",
       "      <td></td>\n",
       "      <td>0.0</td>\n",
       "      <td>0.00</td>\n",
       "      <td>29.78</td>\n",
       "      <td>30.48</td>\n",
       "      <td>10.9</td>\n",
       "      <td>33</td>\n",
       "      <td>10.8</td>\n",
       "    </tr>\n",
       "    <tr>\n",
       "      <th>19</th>\n",
       "      <td>1</td>\n",
       "      <td>2012-01-02</td>\n",
       "      <td>50</td>\n",
       "      <td>31</td>\n",
       "      <td>41</td>\n",
       "      <td>M</td>\n",
       "      <td>26</td>\n",
       "      <td>35</td>\n",
       "      <td>24</td>\n",
       "      <td>0</td>\n",
       "      <td>-</td>\n",
       "      <td>-</td>\n",
       "      <td></td>\n",
       "      <td>M</td>\n",
       "      <td>0.01</td>\n",
       "      <td>29.44</td>\n",
       "      <td>29.62</td>\n",
       "      <td>9.8</td>\n",
       "      <td>24</td>\n",
       "      <td>10.3</td>\n",
       "    </tr>\n",
       "    <tr>\n",
       "      <th>20</th>\n",
       "      <td>2</td>\n",
       "      <td>2012-01-02</td>\n",
       "      <td>46</td>\n",
       "      <td>28</td>\n",
       "      <td>37</td>\n",
       "      <td>12</td>\n",
       "      <td>24</td>\n",
       "      <td>32</td>\n",
       "      <td>28</td>\n",
       "      <td>0</td>\n",
       "      <td>0716</td>\n",
       "      <td>1627</td>\n",
       "      <td></td>\n",
       "      <td>T</td>\n",
       "      <td>0.01</td>\n",
       "      <td>28.51</td>\n",
       "      <td>29.62</td>\n",
       "      <td>12.7</td>\n",
       "      <td>26</td>\n",
       "      <td>13.3</td>\n",
       "    </tr>\n",
       "    <tr>\n",
       "      <th>21</th>\n",
       "      <td>3</td>\n",
       "      <td>2012-01-02</td>\n",
       "      <td>45</td>\n",
       "      <td>24</td>\n",
       "      <td>35</td>\n",
       "      <td>-1</td>\n",
       "      <td>11</td>\n",
       "      <td>28</td>\n",
       "      <td>30</td>\n",
       "      <td>0</td>\n",
       "      <td>0735</td>\n",
       "      <td>1721</td>\n",
       "      <td></td>\n",
       "      <td>0.0</td>\n",
       "      <td>0.00</td>\n",
       "      <td>29.89</td>\n",
       "      <td>30.63</td>\n",
       "      <td>7.7</td>\n",
       "      <td>32</td>\n",
       "      <td>8.2</td>\n",
       "    </tr>\n",
       "    <tr>\n",
       "      <th>22</th>\n",
       "      <td>4</td>\n",
       "      <td>2012-01-02</td>\n",
       "      <td>60</td>\n",
       "      <td>37</td>\n",
       "      <td>49</td>\n",
       "      <td>-2</td>\n",
       "      <td>26</td>\n",
       "      <td>39</td>\n",
       "      <td>16</td>\n",
       "      <td>0</td>\n",
       "      <td>0728</td>\n",
       "      <td>1742</td>\n",
       "      <td></td>\n",
       "      <td>0.0</td>\n",
       "      <td>0.00</td>\n",
       "      <td>29.93</td>\n",
       "      <td>30.64</td>\n",
       "      <td>3.7</td>\n",
       "      <td>36</td>\n",
       "      <td>4.8</td>\n",
       "    </tr>\n",
       "    <tr>\n",
       "      <th>23</th>\n",
       "      <td>6</td>\n",
       "      <td>2012-01-02</td>\n",
       "      <td>60</td>\n",
       "      <td>30</td>\n",
       "      <td>45</td>\n",
       "      <td>-4</td>\n",
       "      <td>27</td>\n",
       "      <td>38</td>\n",
       "      <td>20</td>\n",
       "      <td>0</td>\n",
       "      <td>0727</td>\n",
       "      <td>1742</td>\n",
       "      <td></td>\n",
       "      <td>0.0</td>\n",
       "      <td>0.00</td>\n",
       "      <td>30.09</td>\n",
       "      <td>30.63</td>\n",
       "      <td>9.0</td>\n",
       "      <td>01</td>\n",
       "      <td>9.3</td>\n",
       "    </tr>\n",
       "    <tr>\n",
       "      <th>24</th>\n",
       "      <td>7</td>\n",
       "      <td>2012-01-02</td>\n",
       "      <td>44</td>\n",
       "      <td>26</td>\n",
       "      <td>35</td>\n",
       "      <td>M</td>\n",
       "      <td>17</td>\n",
       "      <td>29</td>\n",
       "      <td>30</td>\n",
       "      <td>0</td>\n",
       "      <td>-</td>\n",
       "      <td>-</td>\n",
       "      <td></td>\n",
       "      <td>0.0</td>\n",
       "      <td>0.00</td>\n",
       "      <td>29.23</td>\n",
       "      <td>30.66</td>\n",
       "      <td>5.7</td>\n",
       "      <td>34</td>\n",
       "      <td>6.9</td>\n",
       "    </tr>\n",
       "    <tr>\n",
       "      <th>25</th>\n",
       "      <td>8</td>\n",
       "      <td>2012-01-02</td>\n",
       "      <td>59</td>\n",
       "      <td>36</td>\n",
       "      <td>M</td>\n",
       "      <td>M</td>\n",
       "      <td>29</td>\n",
       "      <td>40</td>\n",
       "      <td>M</td>\n",
       "      <td>M</td>\n",
       "      <td>-</td>\n",
       "      <td>-</td>\n",
       "      <td></td>\n",
       "      <td>M</td>\n",
       "      <td>0.00</td>\n",
       "      <td>30.25</td>\n",
       "      <td>M</td>\n",
       "      <td>6.2</td>\n",
       "      <td>36</td>\n",
       "      <td>6.7</td>\n",
       "    </tr>\n",
       "    <tr>\n",
       "      <th>26</th>\n",
       "      <td>9</td>\n",
       "      <td>2012-01-02</td>\n",
       "      <td>21</td>\n",
       "      <td>11</td>\n",
       "      <td>16</td>\n",
       "      <td>M</td>\n",
       "      <td>8</td>\n",
       "      <td>15</td>\n",
       "      <td>49</td>\n",
       "      <td>0</td>\n",
       "      <td>-</td>\n",
       "      <td>-</td>\n",
       "      <td>SN UP</td>\n",
       "      <td>M</td>\n",
       "      <td>T</td>\n",
       "      <td>29.67</td>\n",
       "      <td>30.44</td>\n",
       "      <td>14.4</td>\n",
       "      <td>32</td>\n",
       "      <td>14.7</td>\n",
       "    </tr>\n",
       "    <tr>\n",
       "      <th>27</th>\n",
       "      <td>10</td>\n",
       "      <td>2012-01-02</td>\n",
       "      <td>65</td>\n",
       "      <td>45</td>\n",
       "      <td>55</td>\n",
       "      <td>M</td>\n",
       "      <td>33</td>\n",
       "      <td>46</td>\n",
       "      <td>10</td>\n",
       "      <td>0</td>\n",
       "      <td>0723</td>\n",
       "      <td>1738</td>\n",
       "      <td></td>\n",
       "      <td>M</td>\n",
       "      <td>0.00</td>\n",
       "      <td>30.11</td>\n",
       "      <td>30.14</td>\n",
       "      <td>10.2</td>\n",
       "      <td>30</td>\n",
       "      <td>11.2</td>\n",
       "    </tr>\n",
       "    <tr>\n",
       "      <th>28</th>\n",
       "      <td>11</td>\n",
       "      <td>2012-01-02</td>\n",
       "      <td>63</td>\n",
       "      <td>40</td>\n",
       "      <td>52</td>\n",
       "      <td>-1</td>\n",
       "      <td>31</td>\n",
       "      <td>44</td>\n",
       "      <td>13</td>\n",
       "      <td>0</td>\n",
       "      <td>0724</td>\n",
       "      <td>1738</td>\n",
       "      <td></td>\n",
       "      <td>0.0</td>\n",
       "      <td>0.00</td>\n",
       "      <td>30.10</td>\n",
       "      <td>30.14</td>\n",
       "      <td>10.2</td>\n",
       "      <td>29</td>\n",
       "      <td>11.1</td>\n",
       "    </tr>\n",
       "    <tr>\n",
       "      <th>29</th>\n",
       "      <td>12</td>\n",
       "      <td>2012-01-02</td>\n",
       "      <td>65</td>\n",
       "      <td>47</td>\n",
       "      <td>56</td>\n",
       "      <td>M</td>\n",
       "      <td>33</td>\n",
       "      <td>46</td>\n",
       "      <td>9</td>\n",
       "      <td>0</td>\n",
       "      <td>-</td>\n",
       "      <td>-</td>\n",
       "      <td></td>\n",
       "      <td>0.0</td>\n",
       "      <td>0.00</td>\n",
       "      <td>30.09</td>\n",
       "      <td>30.14</td>\n",
       "      <td>11.7</td>\n",
       "      <td>30</td>\n",
       "      <td>12.7</td>\n",
       "    </tr>\n",
       "    <tr>\n",
       "      <th>...</th>\n",
       "      <td>...</td>\n",
       "      <td>...</td>\n",
       "      <td>...</td>\n",
       "      <td>...</td>\n",
       "      <td>...</td>\n",
       "      <td>...</td>\n",
       "      <td>...</td>\n",
       "      <td>...</td>\n",
       "      <td>...</td>\n",
       "      <td>...</td>\n",
       "      <td>...</td>\n",
       "      <td>...</td>\n",
       "      <td>...</td>\n",
       "      <td>...</td>\n",
       "      <td>...</td>\n",
       "      <td>...</td>\n",
       "      <td>...</td>\n",
       "      <td>...</td>\n",
       "      <td>...</td>\n",
       "      <td>...</td>\n",
       "    </tr>\n",
       "    <tr>\n",
       "      <th>20487</th>\n",
       "      <td>11</td>\n",
       "      <td>2014-10-30</td>\n",
       "      <td>81</td>\n",
       "      <td>59</td>\n",
       "      <td>70</td>\n",
       "      <td>4</td>\n",
       "      <td>63</td>\n",
       "      <td>65</td>\n",
       "      <td>0</td>\n",
       "      <td>5</td>\n",
       "      <td>0640</td>\n",
       "      <td>1741</td>\n",
       "      <td>TS BR</td>\n",
       "      <td>0.0</td>\n",
       "      <td>0.00</td>\n",
       "      <td>29.91</td>\n",
       "      <td>29.94</td>\n",
       "      <td>1.6</td>\n",
       "      <td>36</td>\n",
       "      <td>3.4</td>\n",
       "    </tr>\n",
       "    <tr>\n",
       "      <th>20488</th>\n",
       "      <td>12</td>\n",
       "      <td>2014-10-30</td>\n",
       "      <td>81</td>\n",
       "      <td>61</td>\n",
       "      <td>71</td>\n",
       "      <td>M</td>\n",
       "      <td>63</td>\n",
       "      <td>66</td>\n",
       "      <td>0</td>\n",
       "      <td>6</td>\n",
       "      <td>-</td>\n",
       "      <td>-</td>\n",
       "      <td>TSRA BR</td>\n",
       "      <td>0.0</td>\n",
       "      <td>0.09</td>\n",
       "      <td>29.90</td>\n",
       "      <td>29.94</td>\n",
       "      <td>1.5</td>\n",
       "      <td>01</td>\n",
       "      <td>3.3</td>\n",
       "    </tr>\n",
       "    <tr>\n",
       "      <th>20489</th>\n",
       "      <td>13</td>\n",
       "      <td>2014-10-30</td>\n",
       "      <td>61</td>\n",
       "      <td>32</td>\n",
       "      <td>47</td>\n",
       "      <td>M</td>\n",
       "      <td>26</td>\n",
       "      <td>38</td>\n",
       "      <td>18</td>\n",
       "      <td>0</td>\n",
       "      <td>-</td>\n",
       "      <td>-</td>\n",
       "      <td></td>\n",
       "      <td>M</td>\n",
       "      <td>0.00</td>\n",
       "      <td>24.51</td>\n",
       "      <td>30.31</td>\n",
       "      <td>4.8</td>\n",
       "      <td>13</td>\n",
       "      <td>6.7</td>\n",
       "    </tr>\n",
       "    <tr>\n",
       "      <th>20490</th>\n",
       "      <td>14</td>\n",
       "      <td>2014-10-30</td>\n",
       "      <td>77</td>\n",
       "      <td>45</td>\n",
       "      <td>61</td>\n",
       "      <td>5</td>\n",
       "      <td>39</td>\n",
       "      <td>50</td>\n",
       "      <td>4</td>\n",
       "      <td>0</td>\n",
       "      <td>0650</td>\n",
       "      <td>1738</td>\n",
       "      <td></td>\n",
       "      <td>0.0</td>\n",
       "      <td>0.00</td>\n",
       "      <td>28.76</td>\n",
       "      <td>30.13</td>\n",
       "      <td>4.4</td>\n",
       "      <td>34</td>\n",
       "      <td>10.4</td>\n",
       "    </tr>\n",
       "    <tr>\n",
       "      <th>20491</th>\n",
       "      <td>15</td>\n",
       "      <td>2014-10-30</td>\n",
       "      <td>56</td>\n",
       "      <td>30</td>\n",
       "      <td>43</td>\n",
       "      <td>0</td>\n",
       "      <td>36</td>\n",
       "      <td>39</td>\n",
       "      <td>22</td>\n",
       "      <td>0</td>\n",
       "      <td>0618</td>\n",
       "      <td>1641</td>\n",
       "      <td>FG BR</td>\n",
       "      <td>0.0</td>\n",
       "      <td>T</td>\n",
       "      <td>29.54</td>\n",
       "      <td>29.94</td>\n",
       "      <td>1.7</td>\n",
       "      <td>31</td>\n",
       "      <td>2.7</td>\n",
       "    </tr>\n",
       "    <tr>\n",
       "      <th>20492</th>\n",
       "      <td>16</td>\n",
       "      <td>2014-10-30</td>\n",
       "      <td>57</td>\n",
       "      <td>34</td>\n",
       "      <td>46</td>\n",
       "      <td>M</td>\n",
       "      <td>39</td>\n",
       "      <td>43</td>\n",
       "      <td>19</td>\n",
       "      <td>0</td>\n",
       "      <td>-</td>\n",
       "      <td>-</td>\n",
       "      <td></td>\n",
       "      <td>M</td>\n",
       "      <td>0.00</td>\n",
       "      <td>29.79</td>\n",
       "      <td>29.91</td>\n",
       "      <td>4.0</td>\n",
       "      <td>30</td>\n",
       "      <td>4.6</td>\n",
       "    </tr>\n",
       "    <tr>\n",
       "      <th>20493</th>\n",
       "      <td>17</td>\n",
       "      <td>2014-10-30</td>\n",
       "      <td>77</td>\n",
       "      <td>43</td>\n",
       "      <td>60</td>\n",
       "      <td>M</td>\n",
       "      <td>41</td>\n",
       "      <td>50</td>\n",
       "      <td>5</td>\n",
       "      <td>0</td>\n",
       "      <td>-</td>\n",
       "      <td>-</td>\n",
       "      <td></td>\n",
       "      <td>0.0</td>\n",
       "      <td>0.00</td>\n",
       "      <td>29.45</td>\n",
       "      <td>30.14</td>\n",
       "      <td>2.6</td>\n",
       "      <td>32</td>\n",
       "      <td>5.1</td>\n",
       "    </tr>\n",
       "    <tr>\n",
       "      <th>20494</th>\n",
       "      <td>18</td>\n",
       "      <td>2014-10-30</td>\n",
       "      <td>79</td>\n",
       "      <td>56</td>\n",
       "      <td>68</td>\n",
       "      <td>5</td>\n",
       "      <td>51</td>\n",
       "      <td>58</td>\n",
       "      <td>0</td>\n",
       "      <td>3</td>\n",
       "      <td>0643</td>\n",
       "      <td>1739</td>\n",
       "      <td>RA</td>\n",
       "      <td>0.0</td>\n",
       "      <td>T</td>\n",
       "      <td>29.60</td>\n",
       "      <td>30.11</td>\n",
       "      <td>2.9</td>\n",
       "      <td>14</td>\n",
       "      <td>5.6</td>\n",
       "    </tr>\n",
       "    <tr>\n",
       "      <th>20495</th>\n",
       "      <td>19</td>\n",
       "      <td>2014-10-30</td>\n",
       "      <td>51</td>\n",
       "      <td>32</td>\n",
       "      <td>42</td>\n",
       "      <td>-4</td>\n",
       "      <td>33</td>\n",
       "      <td>40</td>\n",
       "      <td>23</td>\n",
       "      <td>0</td>\n",
       "      <td>0623</td>\n",
       "      <td>1647</td>\n",
       "      <td>RA</td>\n",
       "      <td>0.0</td>\n",
       "      <td>T</td>\n",
       "      <td>29.31</td>\n",
       "      <td>30.08</td>\n",
       "      <td>5.5</td>\n",
       "      <td>27</td>\n",
       "      <td>6.0</td>\n",
       "    </tr>\n",
       "    <tr>\n",
       "      <th>20496</th>\n",
       "      <td>20</td>\n",
       "      <td>2014-10-30</td>\n",
       "      <td>80</td>\n",
       "      <td>52</td>\n",
       "      <td>66</td>\n",
       "      <td>M</td>\n",
       "      <td>50</td>\n",
       "      <td>57</td>\n",
       "      <td>0</td>\n",
       "      <td>1</td>\n",
       "      <td>-</td>\n",
       "      <td>-</td>\n",
       "      <td></td>\n",
       "      <td>0.0</td>\n",
       "      <td>0.00</td>\n",
       "      <td>29.40</td>\n",
       "      <td>30.11</td>\n",
       "      <td>1.6</td>\n",
       "      <td>14</td>\n",
       "      <td>4.9</td>\n",
       "    </tr>\n",
       "    <tr>\n",
       "      <th>20497</th>\n",
       "      <td>1</td>\n",
       "      <td>2014-10-31</td>\n",
       "      <td>53</td>\n",
       "      <td>40</td>\n",
       "      <td>47</td>\n",
       "      <td>M</td>\n",
       "      <td>36</td>\n",
       "      <td>41</td>\n",
       "      <td>18</td>\n",
       "      <td>0</td>\n",
       "      <td>-</td>\n",
       "      <td>-</td>\n",
       "      <td></td>\n",
       "      <td>M</td>\n",
       "      <td>0.00</td>\n",
       "      <td>29.87</td>\n",
       "      <td>30.03</td>\n",
       "      <td>5.4</td>\n",
       "      <td>04</td>\n",
       "      <td>5.8</td>\n",
       "    </tr>\n",
       "    <tr>\n",
       "      <th>20498</th>\n",
       "      <td>2</td>\n",
       "      <td>2014-10-31</td>\n",
       "      <td>49</td>\n",
       "      <td>40</td>\n",
       "      <td>45</td>\n",
       "      <td>0</td>\n",
       "      <td>35</td>\n",
       "      <td>40</td>\n",
       "      <td>20</td>\n",
       "      <td>0</td>\n",
       "      <td>0619</td>\n",
       "      <td>1643</td>\n",
       "      <td></td>\n",
       "      <td>0.0</td>\n",
       "      <td>0.00</td>\n",
       "      <td>28.90</td>\n",
       "      <td>30.00</td>\n",
       "      <td>6.2</td>\n",
       "      <td>05</td>\n",
       "      <td>7.0</td>\n",
       "    </tr>\n",
       "    <tr>\n",
       "      <th>20499</th>\n",
       "      <td>3</td>\n",
       "      <td>2014-10-31</td>\n",
       "      <td>55</td>\n",
       "      <td>33</td>\n",
       "      <td>44</td>\n",
       "      <td>-12</td>\n",
       "      <td>32</td>\n",
       "      <td>41</td>\n",
       "      <td>21</td>\n",
       "      <td>0</td>\n",
       "      <td>0645</td>\n",
       "      <td>1729</td>\n",
       "      <td></td>\n",
       "      <td>0.0</td>\n",
       "      <td>0.00</td>\n",
       "      <td>29.65</td>\n",
       "      <td>30.36</td>\n",
       "      <td>11.1</td>\n",
       "      <td>35</td>\n",
       "      <td>11.5</td>\n",
       "    </tr>\n",
       "    <tr>\n",
       "      <th>20500</th>\n",
       "      <td>4</td>\n",
       "      <td>2014-10-31</td>\n",
       "      <td>76</td>\n",
       "      <td>56</td>\n",
       "      <td>66</td>\n",
       "      <td>-1</td>\n",
       "      <td>47</td>\n",
       "      <td>56</td>\n",
       "      <td>0</td>\n",
       "      <td>1</td>\n",
       "      <td>0644</td>\n",
       "      <td>1745</td>\n",
       "      <td>RA BR</td>\n",
       "      <td>0.0</td>\n",
       "      <td>0.30</td>\n",
       "      <td>29.55</td>\n",
       "      <td>30.23</td>\n",
       "      <td>6.0</td>\n",
       "      <td>01</td>\n",
       "      <td>6.5</td>\n",
       "    </tr>\n",
       "    <tr>\n",
       "      <th>20501</th>\n",
       "      <td>5</td>\n",
       "      <td>2014-10-31</td>\n",
       "      <td>M</td>\n",
       "      <td>M</td>\n",
       "      <td>M</td>\n",
       "      <td>M</td>\n",
       "      <td>37</td>\n",
       "      <td>M</td>\n",
       "      <td>M</td>\n",
       "      <td>M</td>\n",
       "      <td>0616</td>\n",
       "      <td>1640</td>\n",
       "      <td></td>\n",
       "      <td>M</td>\n",
       "      <td>M</td>\n",
       "      <td>M</td>\n",
       "      <td>30.01</td>\n",
       "      <td>10.8</td>\n",
       "      <td>05</td>\n",
       "      <td>M</td>\n",
       "    </tr>\n",
       "    <tr>\n",
       "      <th>20502</th>\n",
       "      <td>6</td>\n",
       "      <td>2014-10-31</td>\n",
       "      <td>76</td>\n",
       "      <td>51</td>\n",
       "      <td>64</td>\n",
       "      <td>0</td>\n",
       "      <td>47</td>\n",
       "      <td>55</td>\n",
       "      <td>1</td>\n",
       "      <td>0</td>\n",
       "      <td>0644</td>\n",
       "      <td>1745</td>\n",
       "      <td>RA BR</td>\n",
       "      <td>0.0</td>\n",
       "      <td>0.17</td>\n",
       "      <td>29.72</td>\n",
       "      <td>30.22</td>\n",
       "      <td>11.3</td>\n",
       "      <td>36</td>\n",
       "      <td>11.7</td>\n",
       "    </tr>\n",
       "    <tr>\n",
       "      <th>20503</th>\n",
       "      <td>7</td>\n",
       "      <td>2014-10-31</td>\n",
       "      <td>58</td>\n",
       "      <td>38</td>\n",
       "      <td>48</td>\n",
       "      <td>M</td>\n",
       "      <td>32</td>\n",
       "      <td>41</td>\n",
       "      <td>17</td>\n",
       "      <td>0</td>\n",
       "      <td>-</td>\n",
       "      <td>-</td>\n",
       "      <td></td>\n",
       "      <td>0.0</td>\n",
       "      <td>0.00</td>\n",
       "      <td>29.00</td>\n",
       "      <td>30.37</td>\n",
       "      <td>11.0</td>\n",
       "      <td>01</td>\n",
       "      <td>11.6</td>\n",
       "    </tr>\n",
       "    <tr>\n",
       "      <th>20504</th>\n",
       "      <td>8</td>\n",
       "      <td>2014-10-31</td>\n",
       "      <td>78</td>\n",
       "      <td>55</td>\n",
       "      <td>67</td>\n",
       "      <td>M</td>\n",
       "      <td>M</td>\n",
       "      <td>M</td>\n",
       "      <td>0</td>\n",
       "      <td>2</td>\n",
       "      <td>-</td>\n",
       "      <td>-</td>\n",
       "      <td>RA</td>\n",
       "      <td>M</td>\n",
       "      <td>T</td>\n",
       "      <td>29.82</td>\n",
       "      <td>M</td>\n",
       "      <td>M</td>\n",
       "      <td>M</td>\n",
       "      <td>5.1</td>\n",
       "    </tr>\n",
       "    <tr>\n",
       "      <th>20505</th>\n",
       "      <td>9</td>\n",
       "      <td>2014-10-31</td>\n",
       "      <td>39</td>\n",
       "      <td>25</td>\n",
       "      <td>32</td>\n",
       "      <td>M</td>\n",
       "      <td>18</td>\n",
       "      <td>27</td>\n",
       "      <td>33</td>\n",
       "      <td>0</td>\n",
       "      <td>-</td>\n",
       "      <td>-</td>\n",
       "      <td></td>\n",
       "      <td>M</td>\n",
       "      <td>0.00</td>\n",
       "      <td>29.74</td>\n",
       "      <td>30.52</td>\n",
       "      <td>8.3</td>\n",
       "      <td>36</td>\n",
       "      <td>8.7</td>\n",
       "    </tr>\n",
       "    <tr>\n",
       "      <th>20506</th>\n",
       "      <td>10</td>\n",
       "      <td>2014-10-31</td>\n",
       "      <td>77</td>\n",
       "      <td>63</td>\n",
       "      <td>70</td>\n",
       "      <td>M</td>\n",
       "      <td>51</td>\n",
       "      <td>59</td>\n",
       "      <td>0</td>\n",
       "      <td>5</td>\n",
       "      <td>0640</td>\n",
       "      <td>1741</td>\n",
       "      <td></td>\n",
       "      <td>M</td>\n",
       "      <td>0.00</td>\n",
       "      <td>29.82</td>\n",
       "      <td>29.84</td>\n",
       "      <td>6.9</td>\n",
       "      <td>31</td>\n",
       "      <td>7.8</td>\n",
       "    </tr>\n",
       "    <tr>\n",
       "      <th>20507</th>\n",
       "      <td>11</td>\n",
       "      <td>2014-10-31</td>\n",
       "      <td>75</td>\n",
       "      <td>50</td>\n",
       "      <td>63</td>\n",
       "      <td>-2</td>\n",
       "      <td>53</td>\n",
       "      <td>57</td>\n",
       "      <td>2</td>\n",
       "      <td>0</td>\n",
       "      <td>0640</td>\n",
       "      <td>1740</td>\n",
       "      <td></td>\n",
       "      <td>0.0</td>\n",
       "      <td>0.00</td>\n",
       "      <td>29.82</td>\n",
       "      <td>29.85</td>\n",
       "      <td>5.3</td>\n",
       "      <td>30</td>\n",
       "      <td>6.1</td>\n",
       "    </tr>\n",
       "    <tr>\n",
       "      <th>20508</th>\n",
       "      <td>12</td>\n",
       "      <td>2014-10-31</td>\n",
       "      <td>75</td>\n",
       "      <td>60</td>\n",
       "      <td>68</td>\n",
       "      <td>M</td>\n",
       "      <td>53</td>\n",
       "      <td>59</td>\n",
       "      <td>0</td>\n",
       "      <td>3</td>\n",
       "      <td>-</td>\n",
       "      <td>-</td>\n",
       "      <td>BR</td>\n",
       "      <td>0.0</td>\n",
       "      <td>0.00</td>\n",
       "      <td>29.80</td>\n",
       "      <td>29.85</td>\n",
       "      <td>7.0</td>\n",
       "      <td>32</td>\n",
       "      <td>7.5</td>\n",
       "    </tr>\n",
       "    <tr>\n",
       "      <th>20509</th>\n",
       "      <td>13</td>\n",
       "      <td>2014-10-31</td>\n",
       "      <td>58</td>\n",
       "      <td>35</td>\n",
       "      <td>47</td>\n",
       "      <td>M</td>\n",
       "      <td>28</td>\n",
       "      <td>37</td>\n",
       "      <td>18</td>\n",
       "      <td>0</td>\n",
       "      <td>-</td>\n",
       "      <td>-</td>\n",
       "      <td></td>\n",
       "      <td>M</td>\n",
       "      <td>0.00</td>\n",
       "      <td>24.36</td>\n",
       "      <td>30.18</td>\n",
       "      <td>6.1</td>\n",
       "      <td>17</td>\n",
       "      <td>7.2</td>\n",
       "    </tr>\n",
       "    <tr>\n",
       "      <th>20510</th>\n",
       "      <td>14</td>\n",
       "      <td>2014-10-31</td>\n",
       "      <td>60</td>\n",
       "      <td>38</td>\n",
       "      <td>49</td>\n",
       "      <td>-7</td>\n",
       "      <td>31</td>\n",
       "      <td>42</td>\n",
       "      <td>16</td>\n",
       "      <td>0</td>\n",
       "      <td>0651</td>\n",
       "      <td>1737</td>\n",
       "      <td></td>\n",
       "      <td>0.0</td>\n",
       "      <td>0.00</td>\n",
       "      <td>28.98</td>\n",
       "      <td>30.36</td>\n",
       "      <td>11.9</td>\n",
       "      <td>01</td>\n",
       "      <td>12.5</td>\n",
       "    </tr>\n",
       "    <tr>\n",
       "      <th>20511</th>\n",
       "      <td>15</td>\n",
       "      <td>2014-10-31</td>\n",
       "      <td>50</td>\n",
       "      <td>32</td>\n",
       "      <td>41</td>\n",
       "      <td>-2</td>\n",
       "      <td>34</td>\n",
       "      <td>38</td>\n",
       "      <td>24</td>\n",
       "      <td>0</td>\n",
       "      <td>0619</td>\n",
       "      <td>1640</td>\n",
       "      <td></td>\n",
       "      <td>0.0</td>\n",
       "      <td>0.00</td>\n",
       "      <td>29.65</td>\n",
       "      <td>30.03</td>\n",
       "      <td>0.3</td>\n",
       "      <td>03</td>\n",
       "      <td>0.6</td>\n",
       "    </tr>\n",
       "    <tr>\n",
       "      <th>20512</th>\n",
       "      <td>16</td>\n",
       "      <td>2014-10-31</td>\n",
       "      <td>53</td>\n",
       "      <td>34</td>\n",
       "      <td>44</td>\n",
       "      <td>M</td>\n",
       "      <td>35</td>\n",
       "      <td>41</td>\n",
       "      <td>21</td>\n",
       "      <td>0</td>\n",
       "      <td>-</td>\n",
       "      <td>-</td>\n",
       "      <td></td>\n",
       "      <td>M</td>\n",
       "      <td>0.00</td>\n",
       "      <td>29.90</td>\n",
       "      <td>29.99</td>\n",
       "      <td>4.5</td>\n",
       "      <td>03</td>\n",
       "      <td>5.3</td>\n",
       "    </tr>\n",
       "    <tr>\n",
       "      <th>20513</th>\n",
       "      <td>17</td>\n",
       "      <td>2014-10-31</td>\n",
       "      <td>59</td>\n",
       "      <td>34</td>\n",
       "      <td>47</td>\n",
       "      <td>M</td>\n",
       "      <td>32</td>\n",
       "      <td>41</td>\n",
       "      <td>18</td>\n",
       "      <td>0</td>\n",
       "      <td>-</td>\n",
       "      <td>-</td>\n",
       "      <td>RA</td>\n",
       "      <td>0.0</td>\n",
       "      <td>0.00</td>\n",
       "      <td>29.72</td>\n",
       "      <td>30.39</td>\n",
       "      <td>9.2</td>\n",
       "      <td>01</td>\n",
       "      <td>9.3</td>\n",
       "    </tr>\n",
       "    <tr>\n",
       "      <th>20514</th>\n",
       "      <td>18</td>\n",
       "      <td>2014-10-31</td>\n",
       "      <td>67</td>\n",
       "      <td>49</td>\n",
       "      <td>58</td>\n",
       "      <td>-4</td>\n",
       "      <td>40</td>\n",
       "      <td>50</td>\n",
       "      <td>7</td>\n",
       "      <td>0</td>\n",
       "      <td>0644</td>\n",
       "      <td>1738</td>\n",
       "      <td></td>\n",
       "      <td>0.0</td>\n",
       "      <td>0.00</td>\n",
       "      <td>29.78</td>\n",
       "      <td>30.28</td>\n",
       "      <td>10.6</td>\n",
       "      <td>36</td>\n",
       "      <td>11.2</td>\n",
       "    </tr>\n",
       "    <tr>\n",
       "      <th>20515</th>\n",
       "      <td>19</td>\n",
       "      <td>2014-10-31</td>\n",
       "      <td>45</td>\n",
       "      <td>33</td>\n",
       "      <td>39</td>\n",
       "      <td>-6</td>\n",
       "      <td>24</td>\n",
       "      <td>32</td>\n",
       "      <td>26</td>\n",
       "      <td>0</td>\n",
       "      <td>0624</td>\n",
       "      <td>1646</td>\n",
       "      <td>RA SN</td>\n",
       "      <td>0.1</td>\n",
       "      <td>0.02</td>\n",
       "      <td>29.51</td>\n",
       "      <td>30.24</td>\n",
       "      <td>20.4</td>\n",
       "      <td>34</td>\n",
       "      <td>20.9</td>\n",
       "    </tr>\n",
       "    <tr>\n",
       "      <th>20516</th>\n",
       "      <td>20</td>\n",
       "      <td>2014-10-31</td>\n",
       "      <td>68</td>\n",
       "      <td>50</td>\n",
       "      <td>59</td>\n",
       "      <td>M</td>\n",
       "      <td>39</td>\n",
       "      <td>50</td>\n",
       "      <td>6</td>\n",
       "      <td>0</td>\n",
       "      <td>-</td>\n",
       "      <td>-</td>\n",
       "      <td></td>\n",
       "      <td>0.0</td>\n",
       "      <td>0.00</td>\n",
       "      <td>29.57</td>\n",
       "      <td>30.27</td>\n",
       "      <td>10.5</td>\n",
       "      <td>36</td>\n",
       "      <td>11.2</td>\n",
       "    </tr>\n",
       "  </tbody>\n",
       "</table>\n",
       "<p>20517 rows × 20 columns</p>\n",
       "</div>"
      ],
      "text/plain": [
       "       station_nbr       date tmax tmin tavg depart dewpoint wetbulb heat  \\\n",
       "0                1 2012-01-01   52   31   42      M       36      40   23   \n",
       "1                2 2012-01-01   48   33   41     16       37      39   24   \n",
       "2                3 2012-01-01   55   34   45      9       24      36   20   \n",
       "3                4 2012-01-01   63   47   55      4       28      43   10   \n",
       "4                6 2012-01-01   63   34   49      0       31      43   16   \n",
       "5                7 2012-01-01   50   33   42      M       26      35   23   \n",
       "6                8 2012-01-01   66   45    M      M       34      46    M   \n",
       "7                9 2012-01-01   34   19   27      M       17      23   38   \n",
       "8               10 2012-01-01   73   53   63      M       55      58    2   \n",
       "9               11 2012-01-01   72   48   60      7       54      56    5   \n",
       "10              12 2012-01-01   72   48   60      M       54      57    5   \n",
       "11              13 2012-01-01   38   18   28      M       12      21   37   \n",
       "12              14 2012-01-01   50   34   42      5       25      35   23   \n",
       "13              15 2012-01-01   48   26   37     16       35      38   28   \n",
       "14              16 2012-01-01   50   30   40      M       37      40   25   \n",
       "15              17 2012-01-01   56   38   47      M       23      37   18   \n",
       "16              18 2012-01-01   59   40   50      4       28      40   15   \n",
       "17              19 2012-01-01   38   25   32     10       26      30   33   \n",
       "18              20 2012-01-01   59   41   50      M       28      40   15   \n",
       "19               1 2012-01-02   50   31   41      M       26      35   24   \n",
       "20               2 2012-01-02   46   28   37     12       24      32   28   \n",
       "21               3 2012-01-02   45   24   35     -1       11      28   30   \n",
       "22               4 2012-01-02   60   37   49     -2       26      39   16   \n",
       "23               6 2012-01-02   60   30   45     -4       27      38   20   \n",
       "24               7 2012-01-02   44   26   35      M       17      29   30   \n",
       "25               8 2012-01-02   59   36    M      M       29      40    M   \n",
       "26               9 2012-01-02   21   11   16      M        8      15   49   \n",
       "27              10 2012-01-02   65   45   55      M       33      46   10   \n",
       "28              11 2012-01-02   63   40   52     -1       31      44   13   \n",
       "29              12 2012-01-02   65   47   56      M       33      46    9   \n",
       "...            ...        ...  ...  ...  ...    ...      ...     ...  ...   \n",
       "20487           11 2014-10-30   81   59   70      4       63      65    0   \n",
       "20488           12 2014-10-30   81   61   71      M       63      66    0   \n",
       "20489           13 2014-10-30   61   32   47      M       26      38   18   \n",
       "20490           14 2014-10-30   77   45   61      5       39      50    4   \n",
       "20491           15 2014-10-30   56   30   43      0       36      39   22   \n",
       "20492           16 2014-10-30   57   34   46      M       39      43   19   \n",
       "20493           17 2014-10-30   77   43   60      M       41      50    5   \n",
       "20494           18 2014-10-30   79   56   68      5       51      58    0   \n",
       "20495           19 2014-10-30   51   32   42     -4       33      40   23   \n",
       "20496           20 2014-10-30   80   52   66      M       50      57    0   \n",
       "20497            1 2014-10-31   53   40   47      M       36      41   18   \n",
       "20498            2 2014-10-31   49   40   45      0       35      40   20   \n",
       "20499            3 2014-10-31   55   33   44    -12       32      41   21   \n",
       "20500            4 2014-10-31   76   56   66     -1       47      56    0   \n",
       "20501            5 2014-10-31    M    M    M      M       37       M    M   \n",
       "20502            6 2014-10-31   76   51   64      0       47      55    1   \n",
       "20503            7 2014-10-31   58   38   48      M       32      41   17   \n",
       "20504            8 2014-10-31   78   55   67      M        M       M    0   \n",
       "20505            9 2014-10-31   39   25   32      M       18      27   33   \n",
       "20506           10 2014-10-31   77   63   70      M       51      59    0   \n",
       "20507           11 2014-10-31   75   50   63     -2       53      57    2   \n",
       "20508           12 2014-10-31   75   60   68      M       53      59    0   \n",
       "20509           13 2014-10-31   58   35   47      M       28      37   18   \n",
       "20510           14 2014-10-31   60   38   49     -7       31      42   16   \n",
       "20511           15 2014-10-31   50   32   41     -2       34      38   24   \n",
       "20512           16 2014-10-31   53   34   44      M       35      41   21   \n",
       "20513           17 2014-10-31   59   34   47      M       32      41   18   \n",
       "20514           18 2014-10-31   67   49   58     -4       40      50    7   \n",
       "20515           19 2014-10-31   45   33   39     -6       24      32   26   \n",
       "20516           20 2014-10-31   68   50   59      M       39      50    6   \n",
       "\n",
       "      cool sunrise sunset         codesum snowfall preciptotal stnpressure  \\\n",
       "0        0       -      -      RA FZFG BR        M        0.05       29.78   \n",
       "1        0    0716   1626              RA      0.0        0.07       28.82   \n",
       "2        0    0735   1720                      0.0        0.00       29.77   \n",
       "3        0    0728   1742                      0.0        0.00       29.79   \n",
       "4        0    0727   1742                      0.0        0.00       29.95   \n",
       "5        0       -      -                      0.0        0.00       29.15   \n",
       "6        M       -      -           RA BR        M        0.00       30.05   \n",
       "7        0       -      -              UP        M           T       29.34   \n",
       "8        0    0723   1738       FG+ FG BR        M        0.00       30.16   \n",
       "9        0    0724   1737       FG+ FG BR      0.0        0.00       30.15   \n",
       "10       0       -      -       FG+ FG BR      0.0        0.00       30.15   \n",
       "11       0       -      -                        M        0.00       24.60   \n",
       "12       0    0739   1729                      0.0        0.00       29.13   \n",
       "13       0    0718   1621  RA FG+ FZFG BR      0.0        0.09       29.53   \n",
       "14       0       -      -      RA MIFG BR        M           T       29.80   \n",
       "15       0       -      -                      0.0        0.00       29.83   \n",
       "16       0    0730   1732                      0.0        0.00       29.98   \n",
       "17       0    0723   1628        RA SN BR      0.5        0.12       29.06   \n",
       "18       0       -      -                      0.0        0.00       29.78   \n",
       "19       0       -      -                        M        0.01       29.44   \n",
       "20       0    0716   1627                        T        0.01       28.51   \n",
       "21       0    0735   1721                      0.0        0.00       29.89   \n",
       "22       0    0728   1742                      0.0        0.00       29.93   \n",
       "23       0    0727   1742                      0.0        0.00       30.09   \n",
       "24       0       -      -                      0.0        0.00       29.23   \n",
       "25       M       -      -                        M        0.00       30.25   \n",
       "26       0       -      -           SN UP        M           T       29.67   \n",
       "27       0    0723   1738                        M        0.00       30.11   \n",
       "28       0    0724   1738                      0.0        0.00       30.10   \n",
       "29       0       -      -                      0.0        0.00       30.09   \n",
       "...    ...     ...    ...             ...      ...         ...         ...   \n",
       "20487    5    0640   1741           TS BR      0.0        0.00       29.91   \n",
       "20488    6       -      -         TSRA BR      0.0        0.09       29.90   \n",
       "20489    0       -      -                        M        0.00       24.51   \n",
       "20490    0    0650   1738                      0.0        0.00       28.76   \n",
       "20491    0    0618   1641           FG BR      0.0           T       29.54   \n",
       "20492    0       -      -                        M        0.00       29.79   \n",
       "20493    0       -      -                      0.0        0.00       29.45   \n",
       "20494    3    0643   1739              RA      0.0           T       29.60   \n",
       "20495    0    0623   1647              RA      0.0           T       29.31   \n",
       "20496    1       -      -                      0.0        0.00       29.40   \n",
       "20497    0       -      -                        M        0.00       29.87   \n",
       "20498    0    0619   1643                      0.0        0.00       28.90   \n",
       "20499    0    0645   1729                      0.0        0.00       29.65   \n",
       "20500    1    0644   1745           RA BR      0.0        0.30       29.55   \n",
       "20501    M    0616   1640                        M           M           M   \n",
       "20502    0    0644   1745           RA BR      0.0        0.17       29.72   \n",
       "20503    0       -      -                      0.0        0.00       29.00   \n",
       "20504    2       -      -              RA        M           T       29.82   \n",
       "20505    0       -      -                        M        0.00       29.74   \n",
       "20506    5    0640   1741                        M        0.00       29.82   \n",
       "20507    0    0640   1740                      0.0        0.00       29.82   \n",
       "20508    3       -      -              BR      0.0        0.00       29.80   \n",
       "20509    0       -      -                        M        0.00       24.36   \n",
       "20510    0    0651   1737                      0.0        0.00       28.98   \n",
       "20511    0    0619   1640                      0.0        0.00       29.65   \n",
       "20512    0       -      -                        M        0.00       29.90   \n",
       "20513    0       -      -              RA      0.0        0.00       29.72   \n",
       "20514    0    0644   1738                      0.0        0.00       29.78   \n",
       "20515    0    0624   1646           RA SN      0.1        0.02       29.51   \n",
       "20516    0       -      -                      0.0        0.00       29.57   \n",
       "\n",
       "      sealevel resultspeed resultdir avgspeed  \n",
       "0        29.92         3.6        20      4.6  \n",
       "1        29.91         9.1        23     11.3  \n",
       "2        30.47         9.9        31     10.0  \n",
       "3        30.48         8.0        35      8.2  \n",
       "4        30.47        14.0        36     13.8  \n",
       "5        30.54        10.3        32     10.2  \n",
       "6            M        11.0        36     10.9  \n",
       "7        30.09        22.8        30     22.5  \n",
       "8        30.19         5.1        24      5.5  \n",
       "9        30.18         4.6        23      4.8  \n",
       "10       30.19         4.4        25      4.8  \n",
       "11       30.59         2.5        16      6.1  \n",
       "12       30.52        11.4        32     11.3  \n",
       "13       29.89         2.5        17      3.8  \n",
       "14       29.89         4.2        21      6.8  \n",
       "15       30.50         5.4        32      5.8  \n",
       "16       30.49         9.0        33      8.9  \n",
       "17       29.79        14.6        29     15.6  \n",
       "18       30.48        10.9        33     10.8  \n",
       "19       29.62         9.8        24     10.3  \n",
       "20       29.62        12.7        26     13.3  \n",
       "21       30.63         7.7        32      8.2  \n",
       "22       30.64         3.7        36      4.8  \n",
       "23       30.63         9.0        01      9.3  \n",
       "24       30.66         5.7        34      6.9  \n",
       "25           M         6.2        36      6.7  \n",
       "26       30.44        14.4        32     14.7  \n",
       "27       30.14        10.2        30     11.2  \n",
       "28       30.14        10.2        29     11.1  \n",
       "29       30.14        11.7        30     12.7  \n",
       "...        ...         ...       ...      ...  \n",
       "20487    29.94         1.6        36      3.4  \n",
       "20488    29.94         1.5        01      3.3  \n",
       "20489    30.31         4.8        13      6.7  \n",
       "20490    30.13         4.4        34     10.4  \n",
       "20491    29.94         1.7        31      2.7  \n",
       "20492    29.91         4.0        30      4.6  \n",
       "20493    30.14         2.6        32      5.1  \n",
       "20494    30.11         2.9        14      5.6  \n",
       "20495    30.08         5.5        27      6.0  \n",
       "20496    30.11         1.6        14      4.9  \n",
       "20497    30.03         5.4        04      5.8  \n",
       "20498    30.00         6.2        05      7.0  \n",
       "20499    30.36        11.1        35     11.5  \n",
       "20500    30.23         6.0        01      6.5  \n",
       "20501    30.01        10.8        05        M  \n",
       "20502    30.22        11.3        36     11.7  \n",
       "20503    30.37        11.0        01     11.6  \n",
       "20504        M           M         M      5.1  \n",
       "20505    30.52         8.3        36      8.7  \n",
       "20506    29.84         6.9        31      7.8  \n",
       "20507    29.85         5.3        30      6.1  \n",
       "20508    29.85         7.0        32      7.5  \n",
       "20509    30.18         6.1        17      7.2  \n",
       "20510    30.36        11.9        01     12.5  \n",
       "20511    30.03         0.3        03      0.6  \n",
       "20512    29.99         4.5        03      5.3  \n",
       "20513    30.39         9.2        01      9.3  \n",
       "20514    30.28        10.6        36     11.2  \n",
       "20515    30.24        20.4        34     20.9  \n",
       "20516    30.27        10.5        36     11.2  \n",
       "\n",
       "[20517 rows x 20 columns]"
      ]
     },
     "execution_count": 54,
     "metadata": {},
     "output_type": "execute_result"
    }
   ],
   "source": [
    "weather"
   ]
  },
  {
   "cell_type": "markdown",
   "metadata": {},
   "source": [
    "### weather 관련 functions"
   ]
  },
  {
   "cell_type": "code",
   "execution_count": 7,
   "metadata": {
    "collapsed": true
   },
   "outputs": [],
   "source": [
    "def get_weather(df, station_nbr) : # staion_nbr에 따라서 weather dataframe을 만드는 함수\n",
    "    new_df = df[df['station_nbr'] == station_nbr]\n",
    "    new_df.reset_index(drop = True, inplace = True)\n",
    "    return new_df    "
   ]
  },
  {
   "cell_type": "code",
   "execution_count": 8,
   "metadata": {
    "collapsed": true
   },
   "outputs": [],
   "source": [
    "def set_tmax(df) : # tmax의 missing value를 처리하는 함수\n",
    "    for num in range(len(df)) :  # tmax의 missing value 처리,,, 이틀 전날의 0.2배 + 하루 전날의 0.8배\n",
    "        if df.at[num, 'tmax'] == 'M' :\n",
    "            df.set_value(num, 'tmax', float(0.2 * int(df.at[num - 2, 'tmax']) + 0.8 * float(df.at[num - 1, 'tmax'])))\n",
    "        \n",
    "        else :\n",
    "            df.at[num, 'tmax'] = float(df.at[num, 'tmax'])"
   ]
  },
  {
   "cell_type": "code",
   "execution_count": 9,
   "metadata": {
    "collapsed": true
   },
   "outputs": [],
   "source": [
    "def set_tmin(df) : # tmin의 missing value를 처리하는 함수\n",
    "    for num in range(len(df)) :  # tmax의 missing value 처리,,, 이틀 전날의 0.2배 + 하루 전날의 0.8배\n",
    "        if df.at[num, 'tmin'] == 'M' :\n",
    "            df.set_value(num, 'tmin', float(0.2 * int(df.at[num - 2, 'tmin']) + 0.8 * float(df.at[num - 1, 'tmin'])))\n",
    "            \n",
    "        else :\n",
    "            df.at[num,'tmin'] = float(df.at[num, 'tmin'])"
   ]
  },
  {
   "cell_type": "code",
   "execution_count": 10,
   "metadata": {
    "collapsed": true
   },
   "outputs": [],
   "source": [
    "def set_tavg(df) : # tavg의 값을 처리하는 함수\n",
    "    for num in range(len(df)) :\n",
    "        if df.at[num, 'tavg'] == 'M' :\n",
    "            df.set_value(num, 'tavg', float((df.at[num, 'tmax'] + df.at[num, 'tmin']) / 2)) # (tmax + tmin) / 2\n",
    "            \n",
    "        else :\n",
    "            df.at[num, 'tavg'] = float(df.at[num, 'tavg'])   "
   ]
  },
  {
   "cell_type": "code",
   "execution_count": 11,
   "metadata": {
    "collapsed": true
   },
   "outputs": [],
   "source": [
    "def set_depart(df) : # how can I get depart value..wtf\n",
    "    if df.at[0, 'depart'] == 'M' :\n",
    "        print(\"Cannot get depart value\") # depart값을 구할 수 없는 경우\n",
    "            \n",
    "    else :\n",
    "        depart_base = float(df.at[0, 'tavg']) - float(df.at[0, 'depart']) # 각 weather station을 보면 tavg - depart값이 일정하다.. 개이득..\n",
    "        for num in range(1, len(df)) :\n",
    "            df.set_value(num, 'depart', float((df.at[num, 'tavg'] - depart_base)))"
   ]
  },
  {
   "cell_type": "code",
   "execution_count": 12,
   "metadata": {
    "collapsed": true
   },
   "outputs": [],
   "source": [
    "def set_dewpoint(df) : \n",
    "    for num in range(len(df)) :\n",
    "        if df.at[num, 'dewpoint'] == 'M' :\n",
    "            df.set_value(num, 'dewpoint', np.nan)\n",
    "        \n",
    "        else :\n",
    "            df.set_value(num, 'dewpoint', float(df.at[num, 'dewpoint']))"
   ]
  },
  {
   "cell_type": "code",
   "execution_count": 13,
   "metadata": {
    "collapsed": true
   },
   "outputs": [],
   "source": [
    "def set_wetbulb(df) : # 습구온도는 불포화공기에서는 건구온도보다 낮고 노점(이슬점, dewpoint)보다 높지만, 포화공기에서 3자는 일치한다.\n",
    "    for num in range(len(df)) :\n",
    "        if df.at[num, 'wetbulb'] == 'M' :\n",
    "            df.set_value(num, 'wetbulb', np.nan)\n",
    "            \n",
    "        else :\n",
    "            df.set_value(num, 'wetbulb', float(df.at[num, 'wetbulb']))"
   ]
  },
  {
   "cell_type": "code",
   "execution_count": 14,
   "metadata": {
    "collapsed": true
   },
   "outputs": [],
   "source": [
    "def set_heat_cool(df) : # heat, cool의 missing value 처리\n",
    "    for num in range(len(df)) :\n",
    "        if df.at[num, 'heat'] == 'M' or df.at[num, 'cool'] == 'M' :\n",
    "            \n",
    "            if df.at[num, 'tavg'] == 65 : # tavg == 65 이면 heat, cool 모두 0\n",
    "                df.set_value(num, 'heat', 0.0)\n",
    "                df.set_value(num, 'cool', 0.0)\n",
    "            \n",
    "            elif df.at[num, 'tavg'] > 65 : #tavg > 65 이면 heat = 0, cool = tavg - 65\n",
    "                df.set_value(num, 'heat', 0.0)\n",
    "                df.set_value(num, 'cool', float(df.at[num, 'tavg'] - 65))\n",
    "            \n",
    "            else : #tavg < 65 이면 heat = 65 - tavg, cool = 0\n",
    "                df.set_value(num, 'heat', float(65 - df.at[num, 'tavg']))\n",
    "                df.set_value(num, 'cool', 0.0)"
   ]
  },
  {
   "cell_type": "code",
   "execution_count": 15,
   "metadata": {
    "collapsed": true
   },
   "outputs": [],
   "source": [
    "def merge_heat_cool(df) :\n",
    "    df['heat_cool'] = \"\"\n",
    "    \n",
    "    for num in range(len(df)) :\n",
    "        df.set_value(num, \"heat_cool\", float(df.at[num, \"cool\"]) - float(df.at[num, \"heat\"]))"
   ]
  },
  {
   "cell_type": "code",
   "execution_count": 16,
   "metadata": {
    "collapsed": true
   },
   "outputs": [],
   "source": [
    "def set_snowfall_preciptotal(df) : #codesum에 RA가 있는데 preciptotal이 T인경우도있다...\n",
    "    for num in range(len(df)) :\n",
    "        if ('T' in df.at[num, 'snowfall']) or ('M' in df.at[num, 'snowfall']) : # snowfall이 trace or M이면 0으로 setting\n",
    "            df.set_value(num, 'snowfall', 0.0)\n",
    "        \n",
    "        if ('T' in df.at[num, 'preciptotal']) or ('M' in df.at[num, 'preciptotal']) : # preciptotal이 trace or M이면 0으로 setting\n",
    "            df.set_value(num, 'preciptotal', 0.0)"
   ]
  },
  {
   "cell_type": "code",
   "execution_count": 17,
   "metadata": {
    "collapsed": true
   },
   "outputs": [],
   "source": [
    "def set_stnpressure(df) :\n",
    "    for num in range(len(df)) :\n",
    "        if df.at[num, 'stnpressure'] == 'M' :\n",
    "            df.set_value(num, 'stnpressure', np.nan)\n",
    "            \n",
    "        else :\n",
    "            df.set_value(num, 'stnpressure', float(df.at[num, 'stnpressure']))"
   ]
  },
  {
   "cell_type": "code",
   "execution_count": 18,
   "metadata": {
    "collapsed": true
   },
   "outputs": [],
   "source": [
    "def set_sealevel(df) :\n",
    "    for num in range(len(df)) :\n",
    "        if df.at[num, 'sealevel'] == 'M' :\n",
    "            df.set_value(num, 'sealevel', np.nan)\n",
    "            \n",
    "        else :\n",
    "            df.set_value(num, 'sealevel', float(df.at[num, 'sealevel']))"
   ]
  },
  {
   "cell_type": "code",
   "execution_count": 19,
   "metadata": {
    "collapsed": true
   },
   "outputs": [],
   "source": [
    "def set_resultspeed(df) : # 바람관련 column 3개는 어떤 연관관계가 있지않을까..\n",
    "#     The fastest 2-minute (average) wind speed, in Miles Per Hour.\n",
    "    for num in range(len(df)) :\n",
    "        if df.at[num, 'resultspeed'] == 'M' :\n",
    "            df.set_value(num, 'resultspeed', np.nan)\n",
    "            \n",
    "        else :\n",
    "            df.set_value(num, 'resultspeed', float(df.at[num, 'resultspeed']))    "
   ]
  },
  {
   "cell_type": "code",
   "execution_count": 20,
   "metadata": {
    "collapsed": true
   },
   "outputs": [],
   "source": [
    "def set_resultdir(df) :\n",
    "#     resultdir : The direction the fastest 2-minute wind was blowing FROM in tens of degrees\n",
    "#     27 would be 270 degrees = wind was blowing from the west to the east\n",
    "#     (36 = North, 09 = East, 18 = South, 27 = West)\n",
    "    for num in range(len(df)) :\n",
    "        if df.at[num, 'resultdir'] == 'M' :\n",
    "            df.set_value(num, 'resultdir', np.nan)\n",
    "        \n",
    "        else :\n",
    "            df.set_value(num, 'resultdir', float(df.at[num, 'resultdir']))"
   ]
  },
  {
   "cell_type": "code",
   "execution_count": 21,
   "metadata": {
    "collapsed": true
   },
   "outputs": [],
   "source": [
    "def set_avgspeed(df) :\n",
    "#     The average wind speed for the day, in Miles Per Hour\n",
    "    for num in range(len(df)) :\n",
    "        if df.at[num, 'avgspeed'] == 'M' :\n",
    "            df.set_value(num, 'avgspeed', np.nan)\n",
    "        \n",
    "        else :\n",
    "            df.set_value(num, 'avgspeed', float(df.at[num, 'avgspeed']))"
   ]
  },
  {
   "cell_type": "code",
   "execution_count": 22,
   "metadata": {
    "collapsed": true
   },
   "outputs": [],
   "source": [
    "def set_event(df) :\n",
    "    df['event'] = 0\n",
    "    \n",
    "    df['snowfall'] = df['snowfall'].astype('float')\n",
    "    df['preciptotal'] = df['preciptotal'].astype('float')\n",
    "    \n",
    "    for num in range(len(df)) :\n",
    "        if df.at[num, 'snowfall'] >= 2.0 or df.at[num, 'preciptotal'] >= 1.0 :\n",
    "            for x in range(-3, 4) :\n",
    "                df.set_value(num + x, 'event', 1)\n",
    "                \n",
    "            df.set_value(num, 'event', 2)"
   ]
  },
  {
   "cell_type": "code",
   "execution_count": null,
   "metadata": {
    "collapsed": true
   },
   "outputs": [],
   "source": [
    "def set_event(df) :\n",
    "    df['event'] = 0\n",
    "    \n",
    "    df['snowfall'] = df['snowfall'].astype('float')\n",
    "    df['preciptotal'] = df['preciptotal'].astype('float')\n",
    "    \n",
    "    for num in range(len(df)) :\n",
    "        if df.at[num, 'snowfall'] >= 2.0 or df.at[num, 'preciptotal'] >= 1.0 :\n",
    "            df.set_value(num, 'event', 1)"
   ]
  },
  {
   "cell_type": "markdown",
   "metadata": {},
   "source": [
    "### train 관련 functions"
   ]
  },
  {
   "cell_type": "code",
   "execution_count": 23,
   "metadata": {
    "collapsed": true
   },
   "outputs": [],
   "source": [
    "def get_train_train(df, store_nbr) : # store_nbr에 따라 train data를 나눠주는 함수\n",
    "    new_df = df[df['store_nbr'] == store_nbr]\n",
    "    new_df.reset_index(drop = True, inplace = True)\n",
    "    return new_df"
   ]
  },
  {
   "cell_type": "code",
   "execution_count": null,
   "metadata": {
    "collapsed": true
   },
   "outputs": [],
   "source": []
  },
  {
   "cell_type": "code",
   "execution_count": null,
   "metadata": {
    "collapsed": true
   },
   "outputs": [],
   "source": []
  },
  {
   "cell_type": "markdown",
   "metadata": {},
   "source": [
    "### weather와 train data를 합쳐주는 함수\n",
    "- train data 중 log_units != 0 인 item들만 합쳐줌.. (log_units != 0 이면 units != 0)"
   ]
  },
  {
   "cell_type": "code",
   "execution_count": 24,
   "metadata": {
    "collapsed": true
   },
   "outputs": [],
   "source": [
    "def merge_weather_train(weather, train) :\n",
    "    train_pivot = train.pivot_table(values = 'log_units', index = ['date'], columns = ['item_nbr'])\n",
    "    train_pivot = train_pivot.loc[:, (train_pivot != 0).any(axis = 0)] # log_units이 모두 0인 item_nbr(column)을 삭제..\n",
    "    train_pivot.loc['2012-12-25'] = 0 # 2012-12-25의 data를 0으로 추가... 원래 없었던 data이므로 0으로 설정함\n",
    "    \n",
    "    list_item_nbr = train_pivot.columns # units 전체가 0이 아닌 item_nbr들을 list형태로 받음\n",
    "#     length = len(train_pivot.columns) # units전체가 0이 아닌 item_nbr이 총 몇개 있는지..\n",
    "        \n",
    "    train_pivot.index.name = \"date\"\n",
    "    train_pivot.reset_index(inplace = True)\n",
    "    train_pivot.sort_values(by = 'date', inplace = True)\n",
    "    train_pivot.reset_index(drop = True, inplace = True)\n",
    "    \n",
    "    for num in list_item_nbr :\n",
    "        weather[num] = train_pivot[num]\n",
    "    \n",
    "    return weather"
   ]
  },
  {
   "cell_type": "code",
   "execution_count": 25,
   "metadata": {
    "collapsed": true
   },
   "outputs": [],
   "source": [
    "def get_item_nbr(df) : # 모든 units이 0이 아닌 item_nbr을 구하는 함수, list형태로 return\n",
    "    tmp = df.pivot_table(values = 'log_units', index = ['date'], columns = ['item_nbr'])\n",
    "    tmp = tmp.loc[:, (tmp != 0).any(axis = 0)]\n",
    "    tmp.loc['2012-12-25'] = 0 # 2012-12-25가 빠져있음 train data에서.. 그래서 log_units = 0으로 넣어줌.\n",
    "    \n",
    "    tmp.reset_index(inplace = True)\n",
    "    tmp.sort_values(by = 'date', inplace = True)\n",
    "    tmp.drop(['date'], axis = 1, inplace = True)\n",
    "    \n",
    "    result = list(tmp.columns)\n",
    "    \n",
    "    return result"
   ]
  },
  {
   "cell_type": "code",
   "execution_count": null,
   "metadata": {
    "collapsed": true
   },
   "outputs": [],
   "source": []
  },
  {
   "cell_type": "code",
   "execution_count": 26,
   "metadata": {
    "collapsed": true
   },
   "outputs": [],
   "source": [
    "def match_dateformat(df, year):\n",
    "    \"\"\"\n",
    "    영문 월을 숫자 월로 바꾸어주고 나중에 사용하기 쉽도록 datetime.date 형태로 바꾸어주는 함수\n",
    "    \"\"\"\n",
    "    months = ['Jan', 'Feb', 'Mar', 'Apr', 'May', 'Jun', 'Jul', 'Aug', 'Sep', 'Oct', 'Nov', 'Dec']\n",
    "    for i in range(len(df)):\n",
    "        dates = df.loc[i][0]\n",
    "        dates = dates.split(\" \")\n",
    "        for j in range(len(months)):\n",
    "            if dates[0] == months[j]:\n",
    "                dates[0] = str(j + 1)\n",
    "                dates_df = [\"{} {} {}\".format(year, dates[0], dates[1])]\n",
    "                dates_df = pd.to_datetime(dates_df)\n",
    "                df.loc[i][0] = dates_df.date[0]\n",
    "    return df"
   ]
  },
  {
   "cell_type": "code",
   "execution_count": 27,
   "metadata": {
    "collapsed": true
   },
   "outputs": [],
   "source": [
    "def merge_holiday(holiday_df1, holiday_df2, holiday_df3):\n",
    "    \"\"\"\n",
    "    각 연도별 공휴일 리스트 합치기\n",
    "    \"\"\"\n",
    "    frame = [holiday_df1, holiday_df2, holiday_df3]\n",
    "    holiday = pd.concat(frame).reset_index(drop=True)\n",
    "    return holiday"
   ]
  },
  {
   "cell_type": "code",
   "execution_count": 28,
   "metadata": {
    "collapsed": true
   },
   "outputs": [],
   "source": [
    "def find_holiday(file, year):\n",
    "    \"\"\"\n",
    "    수요에 영향을 미치는 주요 공휴일을 찾아내는 함수\n",
    "    \"\"\"\n",
    "    holidays = [\"New Year's Day\", \"Martin Luther King Jr. Day\", \"Valentine's Day\",  \"President's Day\", \"Easter Sunday\", \n",
    "                      \"Mother's Day\", \"Memorial Day\", \"Father's Day\", \"Independence Day\", \"Labor Day\", \"Columbus Day\",\n",
    "                      \"Halloween\", \"Veterans Day\", \"Thanksgiving Day\", \"Black Friday\", \"Christmas Eve\", \"Christmas Day\", \"New Year's Eve\"]\n",
    "    \n",
    "    holi = pd.read_excel(file, year, header=None)\n",
    "    holi = match_dateformat(holi, year)\n",
    "    holiday = pd.DataFrame(columns=[0,1,2,3,4])\n",
    "    for _ in holidays:\n",
    "        for i in range(len(holi[2])):\n",
    "            if _ == holi[2][i]:\n",
    "                holiday = holiday.append(holi.loc[i])\n",
    "    return holiday"
   ]
  },
  {
   "cell_type": "code",
   "execution_count": 29,
   "metadata": {
    "collapsed": true
   },
   "outputs": [],
   "source": [
    "def test_preprocessing(df, holiday, weather):\n",
    "    df['date'] = pd.to_datetime(df['date'])\n",
    "    df['weekday'] = df.date.dt.weekday  # 월요일이 0 일요일이 6\n",
    "    df['weekend'] = df.date.dt.weekday.isin([5, 6])  # 5: 토요일, 6: 일요일\n",
    "\n",
    "    df['holiday'] = df.date.isin(holiday[0])\n",
    "    \n",
    "    df = pd.merge(df, key, on='store_nbr') #key는 글로벌 변수\n",
    "    df = pd.merge(df, weather[['date', 'station_nbr', 'event']], on=['date', 'station_nbr'])\n",
    "    return df"
   ]
  },
  {
   "cell_type": "code",
   "execution_count": 30,
   "metadata": {
    "collapsed": true
   },
   "outputs": [],
   "source": [
    "holiday12 = find_holiday('../data/holiday.xlsx', '2012')\n",
    "holiday13 = find_holiday('../data/holiday.xlsx', '2013')\n",
    "holiday14 = find_holiday('../data/holiday.xlsx', '2014')\n",
    "holiday = merge_holiday(holiday12, holiday13, holiday14)"
   ]
  },
  {
   "cell_type": "code",
   "execution_count": 31,
   "metadata": {
    "collapsed": true
   },
   "outputs": [],
   "source": [
    "weather_train['weekday'] = weather_train.date.dt.weekday  # 월요일이 0 일요일이 6\n",
    "\n",
    "weather_train['holiday'] = weather_train.date.isin(holiday[0])"
   ]
  },
  {
   "cell_type": "code",
   "execution_count": 32,
   "metadata": {
    "collapsed": true
   },
   "outputs": [],
   "source": [
    "weather_test['weekday'] = weather_test.date.dt.weekday  # 월요일이 0 일요일이 6\n",
    "\n",
    "weather_test['holiday'] = weather_test.date.isin(holiday[0])"
   ]
  },
  {
   "cell_type": "code",
   "execution_count": 33,
   "metadata": {
    "collapsed": true
   },
   "outputs": [],
   "source": [
    "#station_nbr로 weather_train을 나눠줌\n",
    "# 박두진 강사님이 이 부분을 줄일 수 있는 방법을 찾아봐주신다 하였음..일단은 그냥 쓰자!\n",
    "\n",
    "weather_train_1 = get_weather(weather_train, 1)\n",
    "weather_train_2 = get_weather(weather_train, 2)\n",
    "weather_train_3 = get_weather(weather_train, 3)\n",
    "weather_train_4 = get_weather(weather_train, 4)\n",
    "weather_train_5 = get_weather(weather_train, 5) # missing value가 많아서 일단은..\n",
    "weather_train_6 = get_weather(weather_train, 6)\n",
    "weather_train_7 = get_weather(weather_train, 7)\n",
    "weather_train_8 = get_weather(weather_train, 8)\n",
    "weather_train_9 = get_weather(weather_train, 9)\n",
    "weather_train_10 = get_weather(weather_train, 10)\n",
    "weather_train_11 = get_weather(weather_train, 11)\n",
    "weather_train_12 = get_weather(weather_train, 12)\n",
    "weather_train_13 = get_weather(weather_train, 13)\n",
    "weather_train_14 = get_weather(weather_train, 14)\n",
    "weather_train_15 = get_weather(weather_train, 15)\n",
    "weather_train_16 = get_weather(weather_train, 16)\n",
    "weather_train_17 = get_weather(weather_train, 17)\n",
    "weather_train_18 = get_weather(weather_train, 18)\n",
    "weather_train_19 = get_weather(weather_train, 19)\n",
    "weather_train_20 = get_weather(weather_train, 20)"
   ]
  },
  {
   "cell_type": "code",
   "execution_count": 34,
   "metadata": {
    "collapsed": true
   },
   "outputs": [],
   "source": [
    "weather_test_1 = get_weather(weather_test, 1)\n",
    "weather_test_2 = get_weather(weather_test, 2)\n",
    "weather_test_3 = get_weather(weather_test, 3)\n",
    "weather_test_4 = get_weather(weather_test, 4)\n",
    "weather_test_5 = get_weather(weather_test, 5) # missing value가 많아서 일단은..\n",
    "weather_test_6 = get_weather(weather_test, 6)\n",
    "weather_test_7 = get_weather(weather_test, 7)\n",
    "weather_test_8 = get_weather(weather_test, 8)\n",
    "weather_test_9 = get_weather(weather_test, 9)\n",
    "weather_test_10 = get_weather(weather_test, 10)\n",
    "weather_test_11 = get_weather(weather_test, 11)\n",
    "weather_test_12 = get_weather(weather_test, 12)\n",
    "weather_test_13 = get_weather(weather_test, 13)\n",
    "weather_test_14 = get_weather(weather_test, 14)\n",
    "weather_test_15 = get_weather(weather_test, 15)\n",
    "weather_test_16 = get_weather(weather_test, 16)\n",
    "weather_test_17 = get_weather(weather_test, 17)\n",
    "weather_test_18 = get_weather(weather_test, 18)\n",
    "weather_test_19 = get_weather(weather_test, 19)\n",
    "weather_test_20 = get_weather(weather_test, 20)"
   ]
  },
  {
   "cell_type": "code",
   "execution_count": 35,
   "metadata": {
    "collapsed": true
   },
   "outputs": [],
   "source": [
    "train_new_1 = get_train_train(train_new, 1)\n",
    "train_new_2 = get_train_train(train_new, 2)\n",
    "train_new_3 = get_train_train(train_new, 3)\n",
    "train_new_4 = get_train_train(train_new, 4)\n",
    "train_new_5 = get_train_train(train_new, 5)\n",
    "train_new_6 = get_train_train(train_new, 6)\n",
    "train_new_7 = get_train_train(train_new, 7)\n",
    "train_new_8 = get_train_train(train_new, 8)\n",
    "train_new_9 = get_train_train(train_new, 9)\n",
    "train_new_10 = get_train_train(train_new, 10)\n",
    "train_new_11 = get_train_train(train_new, 11)\n",
    "train_new_12 = get_train_train(train_new, 12)\n",
    "train_new_13 = get_train_train(train_new, 13)\n",
    "train_new_14 = get_train_train(train_new, 14)\n",
    "train_new_15 = get_train_train(train_new, 15)\n",
    "train_new_16 = get_train_train(train_new, 16)\n",
    "train_new_17 = get_train_train(train_new, 17)\n",
    "train_new_18 = get_train_train(train_new, 18)\n",
    "train_new_19 = get_train_train(train_new, 19)\n",
    "train_new_20 = get_train_train(train_new, 20)\n",
    "train_new_21 = get_train_train(train_new, 21)\n",
    "train_new_22 = get_train_train(train_new, 22)\n",
    "train_new_23 = get_train_train(train_new, 23)\n",
    "train_new_24 = get_train_train(train_new, 24)\n",
    "train_new_25 = get_train_train(train_new, 25)\n",
    "train_new_26 = get_train_train(train_new, 26)\n",
    "train_new_27 = get_train_train(train_new, 27)\n",
    "train_new_28 = get_train_train(train_new, 28)\n",
    "train_new_29 = get_train_train(train_new, 29)\n",
    "train_new_30 = get_train_train(train_new, 30)\n",
    "train_new_31 = get_train_train(train_new, 31)\n",
    "train_new_32 = get_train_train(train_new, 32)\n",
    "train_new_33 = get_train_train(train_new, 33)\n",
    "train_new_34 = get_train_train(train_new, 34)\n",
    "train_new_35 = get_train_train(train_new, 35)\n",
    "train_new_36 = get_train_train(train_new, 36)\n",
    "train_new_37 = get_train_train(train_new, 37)\n",
    "train_new_38 = get_train_train(train_new, 38)\n",
    "train_new_39 = get_train_train(train_new, 39)\n",
    "train_new_40 = get_train_train(train_new, 40)\n",
    "train_new_41 = get_train_train(train_new, 41)\n",
    "train_new_42 = get_train_train(train_new, 42)\n",
    "train_new_43 = get_train_train(train_new, 43)\n",
    "train_new_44 = get_train_train(train_new, 44)\n",
    "train_new_45 = get_train_train(train_new, 45)"
   ]
  },
  {
   "cell_type": "code",
   "execution_count": 36,
   "metadata": {
    "collapsed": true
   },
   "outputs": [],
   "source": [
    "test['date'] = pd.to_datetime(test['date'])"
   ]
  },
  {
   "cell_type": "code",
   "execution_count": null,
   "metadata": {
    "collapsed": true
   },
   "outputs": [],
   "source": [
    "test.tail()"
   ]
  },
  {
   "cell_type": "markdown",
   "metadata": {},
   "source": [
    "## 각 dataframe별로 뒤에 붙는 숫자에 주의해야함\n",
    "- station_nbr 기준인지 store_nbr 기준인지..."
   ]
  },
  {
   "cell_type": "code",
   "execution_count": 37,
   "metadata": {
    "collapsed": true
   },
   "outputs": [],
   "source": [
    "result_test = []"
   ]
  },
  {
   "cell_type": "markdown",
   "metadata": {},
   "source": [
    "### station_nbr별 특징\n",
    "- no depart value : 1, 7, 8, 9, 10, 12, 13, 16, 17, 20\n",
    "    - drop??"
   ]
  },
  {
   "cell_type": "markdown",
   "metadata": {},
   "source": [
    "### station_nbr == 1\n",
    "- store_nbr == 1\n",
    "- no depart value"
   ]
  },
  {
   "cell_type": "code",
   "execution_count": 38,
   "metadata": {},
   "outputs": [
    {
     "name": "stderr",
     "output_type": "stream",
     "text": [
      "C:\\Anaconda3\\lib\\site-packages\\ipykernel_launcher.py:2: SettingWithCopyWarning: \n",
      "A value is trying to be set on a copy of a slice from a DataFrame.\n",
      "Try using .loc[row_indexer,col_indexer] = value instead\n",
      "\n",
      "See the caveats in the documentation: http://pandas.pydata.org/pandas-docs/stable/indexing.html#indexing-view-versus-copy\n",
      "  \n",
      "C:\\Anaconda3\\lib\\site-packages\\ipykernel_launcher.py:4: SettingWithCopyWarning: \n",
      "A value is trying to be set on a copy of a slice from a DataFrame.\n",
      "Try using .loc[row_indexer,col_indexer] = value instead\n",
      "\n",
      "See the caveats in the documentation: http://pandas.pydata.org/pandas-docs/stable/indexing.html#indexing-view-versus-copy\n",
      "  after removing the cwd from sys.path.\n",
      "C:\\Anaconda3\\lib\\site-packages\\ipykernel_launcher.py:5: SettingWithCopyWarning: \n",
      "A value is trying to be set on a copy of a slice from a DataFrame.\n",
      "Try using .loc[row_indexer,col_indexer] = value instead\n",
      "\n",
      "See the caveats in the documentation: http://pandas.pydata.org/pandas-docs/stable/indexing.html#indexing-view-versus-copy\n",
      "  \"\"\"\n"
     ]
    },
    {
     "name": "stdout",
     "output_type": "stream",
     "text": [
      "Cannot get depart value\n"
     ]
    }
   ],
   "source": [
    "set_tmax(weather_train_1)\n",
    "set_tmin(weather_train_1)\n",
    "set_tavg(weather_train_1)\n",
    "set_heat_cool(weather_train_1)\n",
    "merge_heat_cool(weather_train_1)\n",
    "set_depart(weather_train_1)\n",
    "set_snowfall_preciptotal(weather_train_1)\n",
    "set_dewpoint(weather_train_1)\n",
    "set_wetbulb(weather_train_1)\n",
    "set_stnpressure(weather_train_1)\n",
    "set_sealevel(weather_train_1)\n",
    "set_resultspeed(weather_train_1)\n",
    "set_resultdir(weather_train_1)\n",
    "set_avgspeed(weather_train_1)\n",
    "set_event(weather_train_1)\n",
    "\n",
    "# merged_1 = merge_weather_train(weather_train_1, train_new_1)\n",
    "item_nbr_list_1 = get_item_nbr(train_new_1)"
   ]
  },
  {
   "cell_type": "code",
   "execution_count": 39,
   "metadata": {},
   "outputs": [
    {
     "name": "stderr",
     "output_type": "stream",
     "text": [
      "C:\\Anaconda3\\lib\\site-packages\\ipykernel_launcher.py:2: SettingWithCopyWarning: \n",
      "A value is trying to be set on a copy of a slice from a DataFrame.\n",
      "Try using .loc[row_indexer,col_indexer] = value instead\n",
      "\n",
      "See the caveats in the documentation: http://pandas.pydata.org/pandas-docs/stable/indexing.html#indexing-view-versus-copy\n",
      "  \n",
      "C:\\Anaconda3\\lib\\site-packages\\ipykernel_launcher.py:4: SettingWithCopyWarning: \n",
      "A value is trying to be set on a copy of a slice from a DataFrame.\n",
      "Try using .loc[row_indexer,col_indexer] = value instead\n",
      "\n",
      "See the caveats in the documentation: http://pandas.pydata.org/pandas-docs/stable/indexing.html#indexing-view-versus-copy\n",
      "  after removing the cwd from sys.path.\n",
      "C:\\Anaconda3\\lib\\site-packages\\ipykernel_launcher.py:5: SettingWithCopyWarning: \n",
      "A value is trying to be set on a copy of a slice from a DataFrame.\n",
      "Try using .loc[row_indexer,col_indexer] = value instead\n",
      "\n",
      "See the caveats in the documentation: http://pandas.pydata.org/pandas-docs/stable/indexing.html#indexing-view-versus-copy\n",
      "  \"\"\"\n"
     ]
    },
    {
     "name": "stdout",
     "output_type": "stream",
     "text": [
      "Cannot get depart value\n"
     ]
    }
   ],
   "source": [
    "set_tmax(weather_test_1)\n",
    "set_tmin(weather_test_1)\n",
    "set_tavg(weather_test_1)\n",
    "set_heat_cool(weather_test_1)\n",
    "merge_heat_cool(weather_test_1)\n",
    "set_depart(weather_test_1)\n",
    "set_snowfall_preciptotal(weather_test_1)\n",
    "set_dewpoint(weather_test_1)\n",
    "set_wetbulb(weather_test_1)\n",
    "set_stnpressure(weather_test_1)\n",
    "set_sealevel(weather_test_1)\n",
    "set_resultspeed(weather_test_1)\n",
    "set_resultdir(weather_test_1)\n",
    "set_avgspeed(weather_test_1)\n",
    "set_event(weather_test_1)\n",
    "\n",
    "test_1 = test_preprocessing(test, holiday, weather_test_1)"
   ]
  },
  {
   "cell_type": "code",
   "execution_count": 40,
   "metadata": {
    "collapsed": true
   },
   "outputs": [],
   "source": [
    "zero_item_nbr = []\n",
    "for num in range(1, 112) :\n",
    "    if num not in item_nbr_list_1 :\n",
    "        zero_item_nbr.append(num)\n",
    "\n",
    "test_1_nonzero = pd.concat([test_1[test_1['item_nbr'] == num] for num in item_nbr_list_1])\n",
    "test_1_zero = pd.concat([test_1[test_1['item_nbr'] == num] for num in zero_item_nbr])\n",
    "test_1_zero['log_units'] = 0\n",
    "test_1_zero['units'] = 0"
   ]
  },
  {
   "cell_type": "code",
   "execution_count": 41,
   "metadata": {
    "scrolled": true
   },
   "outputs": [
    {
     "name": "stdout",
     "output_type": "stream",
     "text": [
      "                            OLS Regression Results                            \n",
      "==============================================================================\n",
      "Dep. Variable:              log_units   R-squared:                       0.681\n",
      "Model:                            OLS   Adj. R-squared:                  0.675\n",
      "Method:                 Least Squares   F-statistic:                     122.4\n",
      "Date:                Sat, 10 Mar 2018   Prob (F-statistic):          3.40e-307\n",
      "Time:                        13:19:26   Log-Likelihood:                -1222.3\n",
      "No. Observations:                1344   AIC:                             2493.\n",
      "Df Residuals:                    1320   BIC:                             2617.\n",
      "Df Model:                          23                                         \n",
      "Covariance Type:            nonrobust                                         \n",
      "=================================================================================================\n",
      "                                    coef    std err          t      P>|t|      [0.025      0.975]\n",
      "-------------------------------------------------------------------------------------------------\n",
      "C(weekday)[0]                     3.2665      0.052     62.993      0.000       3.165       3.368\n",
      "C(weekday)[1]                     3.2148      0.053     60.948      0.000       3.111       3.318\n",
      "C(weekday)[2]                     3.1899      0.051     62.898      0.000       3.090       3.289\n",
      "C(weekday)[3]                     3.2369      0.050     64.345      0.000       3.138       3.336\n",
      "C(weekday)[4]                     3.3200      0.050     66.814      0.000       3.223       3.417\n",
      "C(weekday)[5]                     3.4966      0.049     71.150      0.000       3.400       3.593\n",
      "C(weekday)[6]                     3.5150      0.050     70.149      0.000       3.417       3.613\n",
      "C(holiday)[T.True]               -0.1163      0.081     -1.440      0.150      -0.275       0.042\n",
      "C(store_nbr)[1]:C(event)[T.1]    -0.1610      0.116     -1.382      0.167      -0.389       0.067\n",
      "C(store_nbr)[1]:C(event)[T.2]    -0.0429      0.273     -0.157      0.875      -0.578       0.493\n",
      "C(item_nbr)[T.28]:C(event)[0]    -1.6860      0.042    -39.761      0.000      -1.769      -1.603\n",
      "C(item_nbr)[T.40]:C(event)[0]    -2.3318      0.085    -27.413      0.000      -2.499      -2.165\n",
      "C(item_nbr)[T.51]:C(event)[0]    -1.8429      0.065    -28.443      0.000      -1.970      -1.716\n",
      "C(item_nbr)[T.89]:C(event)[0]    -2.3049      0.084    -27.490      0.000      -2.469      -2.140\n",
      "C(item_nbr)[T.93]:C(event)[0]    -1.6911      0.054    -31.320      0.000      -1.797      -1.585\n",
      "C(item_nbr)[T.99]:C(event)[0]    -2.3825      0.165    -14.423      0.000      -2.707      -2.058\n",
      "C(item_nbr)[T.28]:C(event)[1]    -1.3993      0.161     -8.712      0.000      -1.714      -1.084\n",
      "C(item_nbr)[T.40]:C(event)[1]    -2.3677      0.242     -9.764      0.000      -2.843      -1.892\n",
      "C(item_nbr)[T.51]:C(event)[1]    -1.4890      0.215     -6.932      0.000      -1.910      -1.068\n",
      "C(item_nbr)[T.89]:C(event)[1]    -2.5608      0.369     -6.946      0.000      -3.284      -1.838\n",
      "C(item_nbr)[T.93]:C(event)[1]    -0.9648      0.231     -4.168      0.000      -1.419      -0.511\n",
      "C(item_nbr)[T.99]:C(event)[1]  1.832e-15   7.95e-16      2.305      0.021    2.73e-16    3.39e-15\n",
      "C(item_nbr)[T.28]:C(event)[2]    -1.8492      0.383     -4.823      0.000      -2.601      -1.097\n",
      "C(item_nbr)[T.40]:C(event)[2]    -2.5008      0.665     -3.759      0.000      -3.806      -1.196\n",
      "C(item_nbr)[T.51]:C(event)[2]    -1.7842      0.508     -3.514      0.000      -2.780      -0.788\n",
      "C(item_nbr)[T.89]:C(event)[2]          0          0        nan        nan           0           0\n",
      "C(item_nbr)[T.93]:C(event)[2]          0          0        nan        nan           0           0\n",
      "C(item_nbr)[T.99]:C(event)[2]          0          0        nan        nan           0           0\n",
      "==============================================================================\n",
      "Omnibus:                       32.276   Durbin-Watson:                   1.980\n",
      "Prob(Omnibus):                  0.000   Jarque-Bera (JB):               70.325\n",
      "Skew:                          -0.002   Prob(JB):                     5.36e-16\n",
      "Kurtosis:                       4.121   Cond. No.                     1.29e+16\n",
      "==============================================================================\n",
      "\n",
      "Warnings:\n",
      "[1] Standard Errors assume that the covariance matrix of the errors is correctly specified.\n",
      "[2] The smallest eigenvalue is 2.93e-30. This might indicate that there are\n",
      "strong multicollinearity problems or that the design matrix is singular.\n"
     ]
    },
    {
     "name": "stderr",
     "output_type": "stream",
     "text": [
      "C:\\Anaconda3\\lib\\site-packages\\ipykernel_launcher.py:6: SettingWithCopyWarning: \n",
      "A value is trying to be set on a copy of a slice from a DataFrame.\n",
      "Try using .loc[row_indexer,col_indexer] = value instead\n",
      "\n",
      "See the caveats in the documentation: http://pandas.pydata.org/pandas-docs/stable/indexing.html#indexing-view-versus-copy\n",
      "  \n",
      "C:\\Anaconda3\\lib\\site-packages\\statsmodels\\base\\model.py:1036: RuntimeWarning: invalid value encountered in true_divide\n",
      "  return self.params / self.bse\n",
      "C:\\Anaconda3\\lib\\site-packages\\scipy\\stats\\_distn_infrastructure.py:879: RuntimeWarning: invalid value encountered in greater\n",
      "  return (self.a < x) & (x < self.b)\n",
      "C:\\Anaconda3\\lib\\site-packages\\scipy\\stats\\_distn_infrastructure.py:879: RuntimeWarning: invalid value encountered in less\n",
      "  return (self.a < x) & (x < self.b)\n",
      "C:\\Anaconda3\\lib\\site-packages\\scipy\\stats\\_distn_infrastructure.py:1818: RuntimeWarning: invalid value encountered in less_equal\n",
      "  cond2 = cond0 & (x <= self.a)\n"
     ]
    }
   ],
   "source": [
    "# test_1 = test_[test_['station_nbr'] == 1]\n",
    "\n",
    "# test_1['weekday'] = test_1.date.dt.weekday  # 월요일이 0 일요일이 8\n",
    "# test_1['holiday'] = test_1.date.isin(holiday[0])\n",
    "\n",
    "train_new_1['date'] = pd.to_datetime(train_new_1['date'])\n",
    "\n",
    "df_1 = pd.merge(train_new_1, key, on = 'store_nbr')\n",
    "df_1 = pd.merge(df_1, weather_train_1, on = ['date', 'station_nbr'])\n",
    "\n",
    "df_1_nonzero = df_1[df_1['log_units'] > 0]\n",
    "\n",
    "model1 = sm.OLS.from_formula('log_units ~ C(store_nbr):C(item_nbr):C(event) + C(weekday) + C(holiday) + 0', data = df_1_nonzero)\n",
    "result_model1 = model1.fit()\n",
    "print(result_model1.summary())\n",
    "\n",
    "test_1_nonzero.reset_index(drop = True, inplace = True)\n",
    "test_1_nonzero['log_units'] = result_model1.predict(test_1_nonzero)\n",
    "test_1_nonzero['units'] = np.exp(test_1_nonzero['log_units']) - 1\n",
    "\n",
    "# for num in range(len(test_1)) :\n",
    "#     if test_1.at[num, 'item_nbr'] not in item_nbr_list_1 :\n",
    "#         test_1.set_value(num, 'units', 0.0)"
   ]
  },
  {
   "cell_type": "code",
   "execution_count": null,
   "metadata": {
    "collapsed": true
   },
   "outputs": [],
   "source": [
    "result_test.append(test_1)"
   ]
  },
  {
   "cell_type": "code",
   "execution_count": null,
   "metadata": {
    "collapsed": true
   },
   "outputs": [],
   "source": [
    "result_test.append(test_1_nonzero)\n",
    "result_test.append(test_1_zero)"
   ]
  },
  {
   "cell_type": "code",
   "execution_count": null,
   "metadata": {
    "collapsed": true
   },
   "outputs": [],
   "source": [
    "df_ = df_1[df_1['log_units'] > 0]"
   ]
  },
  {
   "cell_type": "code",
   "execution_count": null,
   "metadata": {
    "collapsed": true,
    "scrolled": true
   },
   "outputs": [],
   "source": [
    "sm.stats.anova_lm(result_model1)"
   ]
  },
  {
   "cell_type": "code",
   "execution_count": null,
   "metadata": {
    "collapsed": true
   },
   "outputs": [],
   "source": [
    "# sm.graphics.plot_leverage_resid2(result_model)\n",
    "# plt.show()"
   ]
  },
  {
   "cell_type": "code",
   "execution_count": null,
   "metadata": {
    "collapsed": true,
    "scrolled": true
   },
   "outputs": [],
   "source": [
    "# fig = plt.figure(figsize=(8, 400))\n",
    "# sm.graphics.plot_partregress_grid(result_model, fig=fig)\n",
    "# fig.suptitle(\"\")\n",
    "# plt.show()"
   ]
  },
  {
   "cell_type": "code",
   "execution_count": null,
   "metadata": {
    "collapsed": true
   },
   "outputs": [],
   "source": [
    "# plt.figure(figsize=(10, 2))\n",
    "# plt.stem(result_model.resid_pearson)\n",
    "# plt.show()"
   ]
  },
  {
   "cell_type": "code",
   "execution_count": null,
   "metadata": {
    "collapsed": true
   },
   "outputs": [],
   "source": [
    "# sp.stats.probplot(result_model.resid, plot=plt)\n",
    "# plt.show()"
   ]
  },
  {
   "cell_type": "markdown",
   "metadata": {},
   "source": [
    "### cross_validation"
   ]
  },
  {
   "cell_type": "code",
   "execution_count": null,
   "metadata": {
    "collapsed": true
   },
   "outputs": [],
   "source": [
    "df_cross = df_1_nonzero[df_1_nonzero['date'] >= '2012-04-01']\n",
    "df_cross_test = df_1_nonzero[df_1_nonzero['date'] <= '2012-03-31']"
   ]
  },
  {
   "cell_type": "code",
   "execution_count": null,
   "metadata": {
    "collapsed": true
   },
   "outputs": [],
   "source": [
    "model_cv = sm.OLS.from_formula('log_units ~ C(store_nbr):C(item_nbr) + C(weekday) + C(holiday) + C(event) + 0', data = df_cross)\n",
    "result_cv = model_cv.fit()\n",
    "print(result_cv.summary())"
   ]
  },
  {
   "cell_type": "code",
   "execution_count": null,
   "metadata": {
    "collapsed": true
   },
   "outputs": [],
   "source": [
    "df_cross_test['cv'] = result_cv.predict(df_cross_test)"
   ]
  },
  {
   "cell_type": "code",
   "execution_count": null,
   "metadata": {
    "collapsed": true
   },
   "outputs": [],
   "source": [
    "df_cross_test.reset_index(drop = True, inplace = True)"
   ]
  },
  {
   "cell_type": "code",
   "execution_count": null,
   "metadata": {
    "collapsed": true
   },
   "outputs": [],
   "source": [
    "df_cross_test.drop(['station_nbr', 'tmax', 'tmin', 'tavg', 'depart', 'dewpoint', 'wetbulb', 'heat', 'cool', 'sunrise', 'sunset',\n",
    "                   'codesum', 'snowfall', 'preciptotal', 'stnpressure', 'sealevel', 'resultspeed', 'resultdir',\n",
    "                   'avgspeed', 'weekday', 'holiday', 'heat_cool', 'event'], axis = 1, inplace = True)"
   ]
  },
  {
   "cell_type": "code",
   "execution_count": null,
   "metadata": {
    "collapsed": true
   },
   "outputs": [],
   "source": [
    "df_cross_test.head()"
   ]
  },
  {
   "cell_type": "code",
   "execution_count": null,
   "metadata": {
    "collapsed": true
   },
   "outputs": [],
   "source": [
    "for num in range(len(df_cross_test)) :\n",
    "    if df_cross_test.at[num, 'item_nbr'] not in item_nbr_list_1 :\n",
    "        df_cross_test.set_value(num, 'cv', 0.0)"
   ]
  },
  {
   "cell_type": "code",
   "execution_count": null,
   "metadata": {
    "collapsed": true
   },
   "outputs": [],
   "source": [
    "df_cross_test['cv_units'] = np.exp(df_cross_test['cv']) - 1"
   ]
  },
  {
   "cell_type": "code",
   "execution_count": null,
   "metadata": {
    "collapsed": true
   },
   "outputs": [],
   "source": [
    "df_cross_test.drop(['log_units', 'cv'], axis = 1, inplace = True)"
   ]
  },
  {
   "cell_type": "code",
   "execution_count": null,
   "metadata": {
    "collapsed": true
   },
   "outputs": [],
   "source": [
    "df_cross_test['RMSLE'] = np.log((df_cross_test['cv_units'] + 1) / (df_cross_test['units'] + 1)) ** 2"
   ]
  },
  {
   "cell_type": "code",
   "execution_count": null,
   "metadata": {
    "collapsed": true
   },
   "outputs": [],
   "source": [
    "df_cross_test.tail()"
   ]
  },
  {
   "cell_type": "code",
   "execution_count": null,
   "metadata": {
    "collapsed": true
   },
   "outputs": [],
   "source": [
    "RMSLE = np.sqrt((np.sum(df_cross_test['RMSLE']) / len(df_cross_test)))"
   ]
  },
  {
   "cell_type": "code",
   "execution_count": null,
   "metadata": {
    "collapsed": true
   },
   "outputs": [],
   "source": [
    "print(RMSLE)"
   ]
  },
  {
   "cell_type": "markdown",
   "metadata": {},
   "source": [
    "###  station_nbr == 2\n",
    "- store_nbr == 16"
   ]
  },
  {
   "cell_type": "code",
   "execution_count": 42,
   "metadata": {
    "scrolled": true
   },
   "outputs": [
    {
     "name": "stderr",
     "output_type": "stream",
     "text": [
      "C:\\Anaconda3\\lib\\site-packages\\ipykernel_launcher.py:2: SettingWithCopyWarning: \n",
      "A value is trying to be set on a copy of a slice from a DataFrame.\n",
      "Try using .loc[row_indexer,col_indexer] = value instead\n",
      "\n",
      "See the caveats in the documentation: http://pandas.pydata.org/pandas-docs/stable/indexing.html#indexing-view-versus-copy\n",
      "  \n",
      "C:\\Anaconda3\\lib\\site-packages\\ipykernel_launcher.py:4: SettingWithCopyWarning: \n",
      "A value is trying to be set on a copy of a slice from a DataFrame.\n",
      "Try using .loc[row_indexer,col_indexer] = value instead\n",
      "\n",
      "See the caveats in the documentation: http://pandas.pydata.org/pandas-docs/stable/indexing.html#indexing-view-versus-copy\n",
      "  after removing the cwd from sys.path.\n",
      "C:\\Anaconda3\\lib\\site-packages\\ipykernel_launcher.py:5: SettingWithCopyWarning: \n",
      "A value is trying to be set on a copy of a slice from a DataFrame.\n",
      "Try using .loc[row_indexer,col_indexer] = value instead\n",
      "\n",
      "See the caveats in the documentation: http://pandas.pydata.org/pandas-docs/stable/indexing.html#indexing-view-versus-copy\n",
      "  \"\"\"\n"
     ]
    }
   ],
   "source": [
    "set_tmax(weather_train_2)\n",
    "set_tmin(weather_train_2)\n",
    "set_tavg(weather_train_2)\n",
    "set_heat_cool(weather_train_2)\n",
    "merge_heat_cool(weather_train_2)\n",
    "set_depart(weather_train_2)\n",
    "set_snowfall_preciptotal(weather_train_2)\n",
    "set_dewpoint(weather_train_2)\n",
    "set_wetbulb(weather_train_2)\n",
    "set_stnpressure(weather_train_2)\n",
    "set_sealevel(weather_train_2)\n",
    "set_resultspeed(weather_train_2)\n",
    "set_resultdir(weather_train_2)\n",
    "set_avgspeed(weather_train_2)\n",
    "set_event(weather_train_2)\n",
    "\n",
    "# merged_2 = merge_weather_train(weather_train_2, train_new_16)\n",
    "item_nbr_list_2 = get_item_nbr(train_new_16)"
   ]
  },
  {
   "cell_type": "code",
   "execution_count": 43,
   "metadata": {},
   "outputs": [
    {
     "name": "stderr",
     "output_type": "stream",
     "text": [
      "C:\\Anaconda3\\lib\\site-packages\\ipykernel_launcher.py:2: SettingWithCopyWarning: \n",
      "A value is trying to be set on a copy of a slice from a DataFrame.\n",
      "Try using .loc[row_indexer,col_indexer] = value instead\n",
      "\n",
      "See the caveats in the documentation: http://pandas.pydata.org/pandas-docs/stable/indexing.html#indexing-view-versus-copy\n",
      "  \n",
      "C:\\Anaconda3\\lib\\site-packages\\ipykernel_launcher.py:4: SettingWithCopyWarning: \n",
      "A value is trying to be set on a copy of a slice from a DataFrame.\n",
      "Try using .loc[row_indexer,col_indexer] = value instead\n",
      "\n",
      "See the caveats in the documentation: http://pandas.pydata.org/pandas-docs/stable/indexing.html#indexing-view-versus-copy\n",
      "  after removing the cwd from sys.path.\n",
      "C:\\Anaconda3\\lib\\site-packages\\ipykernel_launcher.py:5: SettingWithCopyWarning: \n",
      "A value is trying to be set on a copy of a slice from a DataFrame.\n",
      "Try using .loc[row_indexer,col_indexer] = value instead\n",
      "\n",
      "See the caveats in the documentation: http://pandas.pydata.org/pandas-docs/stable/indexing.html#indexing-view-versus-copy\n",
      "  \"\"\"\n"
     ]
    }
   ],
   "source": [
    "set_tmax(weather_test_2)\n",
    "set_tmin(weather_test_2)\n",
    "set_tavg(weather_test_2)\n",
    "set_heat_cool(weather_test_2)\n",
    "merge_heat_cool(weather_test_2)\n",
    "set_depart(weather_test_2)\n",
    "set_snowfall_preciptotal(weather_test_2)\n",
    "set_dewpoint(weather_test_2)\n",
    "set_wetbulb(weather_test_2)\n",
    "set_stnpressure(weather_test_2)\n",
    "set_sealevel(weather_test_2)\n",
    "set_resultspeed(weather_test_2)\n",
    "set_resultdir(weather_test_2)\n",
    "set_avgspeed(weather_test_2)\n",
    "set_event(weather_test_2)\n",
    "\n",
    "test_2 = test_preprocessing(test, holiday, weather_test_2)"
   ]
  },
  {
   "cell_type": "code",
   "execution_count": 44,
   "metadata": {
    "collapsed": true
   },
   "outputs": [],
   "source": [
    "zero_item_nbr = []\n",
    "for num in range(1, 112) :\n",
    "    if num not in item_nbr_list_2 :\n",
    "        zero_item_nbr.append(num)\n",
    "\n",
    "test_2_nonzero = pd.concat([test_2[test_2['item_nbr'] == num] for num in item_nbr_list_2])\n",
    "test_2_zero = pd.concat([test_2[test_2['item_nbr'] == num] for num in zero_item_nbr])\n",
    "test_2_zero['log_units'] = 0\n",
    "test_2_zero['units'] = 0"
   ]
  },
  {
   "cell_type": "code",
   "execution_count": 45,
   "metadata": {},
   "outputs": [
    {
     "name": "stdout",
     "output_type": "stream",
     "text": [
      "                            OLS Regression Results                            \n",
      "==============================================================================\n",
      "Dep. Variable:              log_units   R-squared:                       0.938\n",
      "Model:                            OLS   Adj. R-squared:                  0.936\n",
      "Method:                 Least Squares   F-statistic:                     703.7\n",
      "Date:                Sat, 10 Mar 2018   Prob (F-statistic):               0.00\n",
      "Time:                        13:19:37   Log-Likelihood:                -639.22\n",
      "No. Observations:                1292   AIC:                             1334.\n",
      "Df Residuals:                    1264   BIC:                             1479.\n",
      "Df Model:                          27                                         \n",
      "Covariance Type:            nonrobust                                         \n",
      "==================================================================================================\n",
      "                                     coef    std err          t      P>|t|      [0.025      0.975]\n",
      "--------------------------------------------------------------------------------------------------\n",
      "C(weekday)[0]                      3.6647      0.037    100.074      0.000       3.593       3.737\n",
      "C(weekday)[1]                      3.5038      0.036     96.454      0.000       3.433       3.575\n",
      "C(weekday)[2]                      3.5897      0.036    100.606      0.000       3.520       3.660\n",
      "C(weekday)[3]                      3.5589      0.036     99.147      0.000       3.488       3.629\n",
      "C(weekday)[4]                      3.6571      0.036    102.709      0.000       3.587       3.727\n",
      "C(weekday)[5]                      3.8380      0.035    108.222      0.000       3.768       3.908\n",
      "C(weekday)[6]                      3.7962      0.036    105.700      0.000       3.726       3.867\n",
      "C(holiday)[T.True]                -0.0568      0.057     -1.002      0.317      -0.168       0.054\n",
      "C(store_nbr)[16]:C(event)[T.1]     0.0050      0.042      0.119      0.905      -0.078       0.088\n",
      "C(store_nbr)[16]:C(event)[T.2]    -0.2118      0.091     -2.336      0.020      -0.390      -0.034\n",
      "C(item_nbr)[T.25]:C(event)[0]      1.4434      0.032     44.570      0.000       1.380       1.507\n",
      "C(item_nbr)[T.39]:C(event)[0]     -2.8607      0.091    -31.526      0.000      -3.039      -2.683\n",
      "C(item_nbr)[T.50]:C(event)[0]     -2.6230      0.070    -37.504      0.000      -2.760      -2.486\n",
      "C(item_nbr)[T.77]:C(event)[0]     -2.3228      0.053    -43.682      0.000      -2.427      -2.218\n",
      "C(item_nbr)[T.85]:C(event)[0]     -2.8652      0.078    -36.698      0.000      -3.018      -2.712\n",
      "C(item_nbr)[T.93]:C(event)[0]     -2.2058      0.053    -41.705      0.000      -2.310      -2.102\n",
      "C(item_nbr)[T.25]:C(event)[1]      1.4396      0.051     28.479      0.000       1.340       1.539\n",
      "C(item_nbr)[T.39]:C(event)[1]     -2.3742      0.091    -26.047      0.000      -2.553      -2.195\n",
      "C(item_nbr)[T.50]:C(event)[1]     -2.1242      0.099    -21.397      0.000      -2.319      -1.929\n",
      "C(item_nbr)[T.77]:C(event)[1]     -2.1257      0.076    -28.014      0.000      -2.275      -1.977\n",
      "C(item_nbr)[T.85]:C(event)[1]     -2.9873      0.113    -26.348      0.000      -3.210      -2.765\n",
      "C(item_nbr)[T.93]:C(event)[1]     -2.0515      0.075    -27.317      0.000      -2.199      -1.904\n",
      "C(item_nbr)[T.25]:C(event)[2]      1.2603      0.124     10.179      0.000       1.017       1.503\n",
      "C(item_nbr)[T.39]:C(event)[2]     -2.1306      0.186    -11.457      0.000      -2.495      -1.766\n",
      "C(item_nbr)[T.50]:C(event)[2]     -1.0685      0.248     -4.304      0.000      -1.556      -0.581\n",
      "C(item_nbr)[T.77]:C(event)[2]     -2.2473      0.186    -12.094      0.000      -2.612      -1.883\n",
      "C(item_nbr)[T.85]:C(event)[2]     -2.4486      0.186    -13.149      0.000      -2.814      -2.083\n",
      "C(item_nbr)[T.93]:C(event)[2]     -1.3459      0.186     -7.240      0.000      -1.711      -0.981\n",
      "==============================================================================\n",
      "Omnibus:                      169.703   Durbin-Watson:                   1.762\n",
      "Prob(Omnibus):                  0.000   Jarque-Bera (JB):             1814.369\n",
      "Skew:                          -0.112   Prob(JB):                         0.00\n",
      "Kurtosis:                       8.801   Cond. No.                         16.5\n",
      "==============================================================================\n",
      "\n",
      "Warnings:\n",
      "[1] Standard Errors assume that the covariance matrix of the errors is correctly specified.\n"
     ]
    },
    {
     "name": "stderr",
     "output_type": "stream",
     "text": [
      "C:\\Anaconda3\\lib\\site-packages\\ipykernel_launcher.py:6: SettingWithCopyWarning: \n",
      "A value is trying to be set on a copy of a slice from a DataFrame.\n",
      "Try using .loc[row_indexer,col_indexer] = value instead\n",
      "\n",
      "See the caveats in the documentation: http://pandas.pydata.org/pandas-docs/stable/indexing.html#indexing-view-versus-copy\n",
      "  \n"
     ]
    }
   ],
   "source": [
    "# test_2 = test_[test_['station_nbr'] == 2]\n",
    "\n",
    "# test_2['weekday'] = test_2.date.dt.weekday  # 월요일이 0 일요일이 8\n",
    "# test_2['holiday'] = test_2.date.isin(holiday[0])\n",
    "\n",
    "train_new_16['date'] = pd.to_datetime(train_new_16['date'])\n",
    "\n",
    "df_2 = pd.merge(train_new_16, key, on = 'store_nbr')\n",
    "df_2 = pd.merge(df_2, weather_train_2, on = ['date', 'station_nbr'])\n",
    "\n",
    "df_2_nonzero = df_2[df_2['log_units'] > 0]\n",
    "\n",
    "model2 = sm.OLS.from_formula('log_units ~ C(store_nbr):C(item_nbr):C(event) + C(weekday) + C(holiday) + 0', data = df_2_nonzero)\n",
    "result_model2 = model2.fit()\n",
    "print(result_model2.summary())\n",
    "\n",
    "test_2_nonzero.reset_index(drop = True, inplace = True)\n",
    "test_2_nonzero['log_units'] = result_model2.predict(test_2_nonzero)\n",
    "test_2_nonzero['units'] = np.exp(test_2_nonzero['log_units']) - 1\n",
    "\n",
    "# for num in range(len(test_2)) :\n",
    "#     if test_2.at[num, 'item_nbr'] not in item_nbr_list_2 :\n",
    "#         test_2.set_value(num, 'units', 0.0)"
   ]
  },
  {
   "cell_type": "code",
   "execution_count": null,
   "metadata": {
    "collapsed": true
   },
   "outputs": [],
   "source": [
    "result_test.append(test_2)"
   ]
  },
  {
   "cell_type": "code",
   "execution_count": null,
   "metadata": {
    "collapsed": true
   },
   "outputs": [],
   "source": [
    "result_test.append(test_2_nonzero)\n",
    "result_test.append(test_2_zero)"
   ]
  },
  {
   "cell_type": "code",
   "execution_count": null,
   "metadata": {
    "collapsed": true
   },
   "outputs": [],
   "source": []
  },
  {
   "cell_type": "markdown",
   "metadata": {},
   "source": [
    "### station_nbr == 3\n",
    "- store_nbr == 21, 29, 33"
   ]
  },
  {
   "cell_type": "code",
   "execution_count": 46,
   "metadata": {},
   "outputs": [
    {
     "name": "stderr",
     "output_type": "stream",
     "text": [
      "C:\\Anaconda3\\lib\\site-packages\\ipykernel_launcher.py:2: SettingWithCopyWarning: \n",
      "A value is trying to be set on a copy of a slice from a DataFrame.\n",
      "Try using .loc[row_indexer,col_indexer] = value instead\n",
      "\n",
      "See the caveats in the documentation: http://pandas.pydata.org/pandas-docs/stable/indexing.html#indexing-view-versus-copy\n",
      "  \n",
      "C:\\Anaconda3\\lib\\site-packages\\ipykernel_launcher.py:4: SettingWithCopyWarning: \n",
      "A value is trying to be set on a copy of a slice from a DataFrame.\n",
      "Try using .loc[row_indexer,col_indexer] = value instead\n",
      "\n",
      "See the caveats in the documentation: http://pandas.pydata.org/pandas-docs/stable/indexing.html#indexing-view-versus-copy\n",
      "  after removing the cwd from sys.path.\n",
      "C:\\Anaconda3\\lib\\site-packages\\ipykernel_launcher.py:5: SettingWithCopyWarning: \n",
      "A value is trying to be set on a copy of a slice from a DataFrame.\n",
      "Try using .loc[row_indexer,col_indexer] = value instead\n",
      "\n",
      "See the caveats in the documentation: http://pandas.pydata.org/pandas-docs/stable/indexing.html#indexing-view-versus-copy\n",
      "  \"\"\"\n"
     ]
    }
   ],
   "source": [
    "result = pd.concat([train_new_21, train_new_29, train_new_33])\n",
    "\n",
    "set_tmax(weather_train_3)\n",
    "set_tmin(weather_train_3)\n",
    "set_tavg(weather_train_3)\n",
    "set_heat_cool(weather_train_3)\n",
    "merge_heat_cool(weather_train_3)\n",
    "set_depart(weather_train_3)\n",
    "set_snowfall_preciptotal(weather_train_3)\n",
    "set_dewpoint(weather_train_3)\n",
    "set_wetbulb(weather_train_3)\n",
    "set_stnpressure(weather_train_3)\n",
    "set_sealevel(weather_train_3)\n",
    "set_resultspeed(weather_train_3)\n",
    "set_resultdir(weather_train_3)\n",
    "set_avgspeed(weather_train_3)\n",
    "set_event(weather_train_3)\n",
    "\n",
    "# merged_3 = merge_weather_train(weather_train_3, result)\n",
    "item_nbr_list_3 = get_item_nbr(result)"
   ]
  },
  {
   "cell_type": "code",
   "execution_count": 47,
   "metadata": {},
   "outputs": [
    {
     "name": "stderr",
     "output_type": "stream",
     "text": [
      "C:\\Anaconda3\\lib\\site-packages\\ipykernel_launcher.py:2: SettingWithCopyWarning: \n",
      "A value is trying to be set on a copy of a slice from a DataFrame.\n",
      "Try using .loc[row_indexer,col_indexer] = value instead\n",
      "\n",
      "See the caveats in the documentation: http://pandas.pydata.org/pandas-docs/stable/indexing.html#indexing-view-versus-copy\n",
      "  \n",
      "C:\\Anaconda3\\lib\\site-packages\\ipykernel_launcher.py:4: SettingWithCopyWarning: \n",
      "A value is trying to be set on a copy of a slice from a DataFrame.\n",
      "Try using .loc[row_indexer,col_indexer] = value instead\n",
      "\n",
      "See the caveats in the documentation: http://pandas.pydata.org/pandas-docs/stable/indexing.html#indexing-view-versus-copy\n",
      "  after removing the cwd from sys.path.\n",
      "C:\\Anaconda3\\lib\\site-packages\\ipykernel_launcher.py:5: SettingWithCopyWarning: \n",
      "A value is trying to be set on a copy of a slice from a DataFrame.\n",
      "Try using .loc[row_indexer,col_indexer] = value instead\n",
      "\n",
      "See the caveats in the documentation: http://pandas.pydata.org/pandas-docs/stable/indexing.html#indexing-view-versus-copy\n",
      "  \"\"\"\n"
     ]
    }
   ],
   "source": [
    "set_tmax(weather_test_3)\n",
    "set_tmin(weather_test_3)\n",
    "set_tavg(weather_test_3)\n",
    "set_heat_cool(weather_test_3)\n",
    "merge_heat_cool(weather_test_3)\n",
    "set_depart(weather_test_3)\n",
    "set_snowfall_preciptotal(weather_test_3)\n",
    "set_dewpoint(weather_test_3)\n",
    "set_wetbulb(weather_test_3)\n",
    "set_stnpressure(weather_test_3)\n",
    "set_sealevel(weather_test_3)\n",
    "set_resultspeed(weather_test_3)\n",
    "set_resultdir(weather_test_3)\n",
    "set_avgspeed(weather_test_3)\n",
    "set_event(weather_test_3)\n",
    "\n",
    "test_3 = test_preprocessing(test, holiday, weather_test_3)"
   ]
  },
  {
   "cell_type": "code",
   "execution_count": 48,
   "metadata": {
    "collapsed": true
   },
   "outputs": [],
   "source": [
    "zero_item_nbr = []\n",
    "for num in range(1, 112) :\n",
    "    if num not in item_nbr_list_3 :\n",
    "        zero_item_nbr.append(num)\n",
    "\n",
    "test_3_nonzero = pd.concat([test_3[test_3['item_nbr'] == num] for num in item_nbr_list_3])\n",
    "test_3_zero = pd.concat([test_3[test_3['item_nbr'] == num] for num in zero_item_nbr])\n",
    "test_3_zero['log_units'] = 0\n",
    "test_3_zero['units'] = 0"
   ]
  },
  {
   "cell_type": "code",
   "execution_count": 49,
   "metadata": {},
   "outputs": [
    {
     "name": "stdout",
     "output_type": "stream",
     "text": [
      "                            OLS Regression Results                            \n",
      "==============================================================================\n",
      "Dep. Variable:              log_units   R-squared:                       0.904\n",
      "Model:                            OLS   Adj. R-squared:                  0.903\n",
      "Method:                 Least Squares   F-statistic:                     865.4\n",
      "Date:                Sat, 10 Mar 2018   Prob (F-statistic):               0.00\n",
      "Time:                        13:20:07   Log-Likelihood:                -2114.0\n",
      "No. Observations:                3810   AIC:                             4312.\n",
      "Df Residuals:                    3768   BIC:                             4574.\n",
      "Df Model:                          41                                         \n",
      "Covariance Type:            nonrobust                                         \n",
      "======================================================================================================================\n",
      "                                                         coef    std err          t      P>|t|      [0.025      0.975]\n",
      "----------------------------------------------------------------------------------------------------------------------\n",
      "C(weekday)[0]                                          3.7577      0.027    136.713      0.000       3.704       3.812\n",
      "C(weekday)[1]                                          3.6683      0.027    135.256      0.000       3.615       3.721\n",
      "C(weekday)[2]                                          3.5793      0.027    131.839      0.000       3.526       3.633\n",
      "C(weekday)[3]                                          3.5358      0.027    130.083      0.000       3.482       3.589\n",
      "C(weekday)[4]                                          3.6374      0.027    134.535      0.000       3.584       3.690\n",
      "C(weekday)[5]                                          3.7523      0.027    138.797      0.000       3.699       3.805\n",
      "C(weekday)[6]                                          3.9370      0.027    145.310      0.000       3.884       3.990\n",
      "C(holiday)[T.True]                                    -0.1657      0.035     -4.755      0.000      -0.234      -0.097\n",
      "C(store_nbr)[T.29]:C(item_nbr)[5]                   1.545e-15   3.97e-16      3.891      0.000    7.67e-16    2.32e-15\n",
      "C(store_nbr)[T.33]:C(item_nbr)[5]                     3.3e-15   4.45e-16      7.422      0.000    2.43e-15    4.17e-15\n",
      "C(store_nbr)[T.29]:C(item_nbr)[8]                     -0.1176      0.028     -4.257      0.000      -0.172      -0.063\n",
      "C(store_nbr)[T.33]:C(item_nbr)[8]                  -2.558e-15   5.69e-16     -4.496      0.000   -3.67e-15   -1.44e-15\n",
      "C(store_nbr)[T.29]:C(item_nbr)[9]                   2.161e-15   3.05e-16      7.077      0.000    1.56e-15    2.76e-15\n",
      "C(store_nbr)[T.33]:C(item_nbr)[9]                      0.8193      0.032     25.217      0.000       0.756       0.883\n",
      "C(store_nbr)[T.29]:C(item_nbr)[41]                    -0.2864      0.028    -10.368      0.000      -0.341      -0.232\n",
      "C(store_nbr)[T.33]:C(item_nbr)[41]                 -2.957e-15   5.87e-16     -5.034      0.000   -4.11e-15   -1.81e-15\n",
      "C(store_nbr)[T.29]:C(item_nbr)[44]                 -3.804e-16   1.94e-16     -1.958      0.050   -7.61e-16       5e-19\n",
      "C(store_nbr)[T.33]:C(item_nbr)[44]                     0.8969      0.030     29.931      0.000       0.838       0.956\n",
      "C(store_nbr)[T.29]:C(item_nbr)[45]                     0.4240      0.028     15.350      0.000       0.370       0.478\n",
      "C(store_nbr)[T.33]:C(item_nbr)[45]                  9.579e-16   2.47e-16      3.879      0.000    4.74e-16    1.44e-15\n",
      "C(store_nbr)[T.29]:C(item_nbr)[56]                    -1.4706      0.025    -59.683      0.000      -1.519      -1.422\n",
      "C(store_nbr)[T.33]:C(item_nbr)[56]                 -4.428e-16    1.8e-16     -2.465      0.014   -7.95e-16   -9.06e-17\n",
      "C(store_nbr)[T.29]:C(item_nbr)[85]                  1.392e-15    4.3e-16      3.234      0.001    5.48e-16    2.24e-15\n",
      "C(store_nbr)[T.33]:C(item_nbr)[85]                    -1.8484      0.074    -25.130      0.000      -1.993      -1.704\n",
      "C(store_nbr)[T.29]:C(item_nbr)[91]                  3.772e-16   1.64e-16      2.304      0.021    5.63e-17    6.98e-16\n",
      "C(store_nbr)[T.33]:C(item_nbr)[91]                 -2.218e-15   3.62e-16     -6.120      0.000   -2.93e-15   -1.51e-15\n",
      "C(store_nbr)[T.29]:C(item_nbr)[92]                  5.659e-16   2.87e-16      1.971      0.049    3.07e-18    1.13e-15\n",
      "C(store_nbr)[T.33]:C(item_nbr)[92]                    -1.5946      0.046    -35.021      0.000      -1.684      -1.505\n",
      "C(store_nbr)[T.29]:C(item_nbr)[93]                  8.613e-16   9.22e-17      9.339      0.000     6.8e-16    1.04e-15\n",
      "C(store_nbr)[T.33]:C(item_nbr)[93]                    -1.5713      0.044    -35.798      0.000      -1.657      -1.485\n",
      "C(store_nbr)[21]:C(event)[T.1]                        -0.0271      0.065     -0.414      0.679      -0.155       0.101\n",
      "C(store_nbr)[29]:C(event)[T.1]                        -0.2550      0.023    -11.202      0.000      -0.300      -0.210\n",
      "C(store_nbr)[33]:C(event)[T.1]                        -0.2929      0.041     -7.157      0.000      -0.373      -0.213\n",
      "C(store_nbr)[21]:C(event)[T.2]                         0.2598      0.151      1.717      0.086      -0.037       0.557\n",
      "C(store_nbr)[29]:C(event)[T.2]                         0.0121      0.048      0.251      0.802      -0.082       0.107\n",
      "C(store_nbr)[33]:C(event)[T.2]                        -0.3410      0.096     -3.552      0.000      -0.529      -0.153\n",
      "C(item_nbr)[T.8]:C(event)[0]                          -0.1160      0.029     -4.042      0.000      -0.172      -0.060\n",
      "C(item_nbr)[T.9]:C(event)[0]                           0.1989      0.035      5.766      0.000       0.131       0.267\n",
      "C(item_nbr)[T.41]:C(event)[0]                         -0.1908      0.029     -6.659      0.000      -0.247      -0.135\n",
      "C(item_nbr)[T.44]:C(event)[0]                          0.6914      0.030     23.072      0.000       0.633       0.750\n",
      "C(item_nbr)[T.45]:C(event)[0]                          0.1468      0.029      5.124      0.000       0.091       0.203\n",
      "C(item_nbr)[T.56]:C(event)[0]                         -1.0478      0.029    -36.762      0.000      -1.104      -0.992\n",
      "C(item_nbr)[T.85]:C(event)[0]                         -1.0882      0.083    -13.133      0.000      -1.251      -0.926\n",
      "C(item_nbr)[T.91]:C(event)[0]                         -2.7119      0.040    -67.135      0.000      -2.791      -2.633\n",
      "C(item_nbr)[T.92]:C(event)[0]                         -0.8797      0.050    -17.670      0.000      -0.977      -0.782\n",
      "C(item_nbr)[T.93]:C(event)[0]                         -0.9463      0.051    -18.561      0.000      -1.046      -0.846\n",
      "C(item_nbr)[T.8]:C(event)[1]                           0.0328      0.026      1.284      0.199      -0.017       0.083\n",
      "C(item_nbr)[T.9]:C(event)[1]                           0.2826      0.031      9.192      0.000       0.222       0.343\n",
      "C(item_nbr)[T.41]:C(event)[1]                         -0.0365      0.026     -1.430      0.153      -0.087       0.014\n",
      "C(item_nbr)[T.44]:C(event)[1]                          0.6711      0.087      7.676      0.000       0.500       0.842\n",
      "C(item_nbr)[T.45]:C(event)[1]                          0.1716      0.026      6.721      0.000       0.122       0.222\n",
      "C(item_nbr)[T.56]:C(event)[1]                         -0.4228      0.031    -13.703      0.000      -0.483      -0.362\n",
      "C(item_nbr)[T.85]:C(event)[1]                         -0.2330      0.060     -3.859      0.000      -0.351      -0.115\n",
      "C(item_nbr)[T.91]:C(event)[1]                         -2.6583      0.123    -21.662      0.000      -2.899      -2.418\n",
      "C(item_nbr)[T.92]:C(event)[1]                         -0.2882      0.040     -7.240      0.000      -0.366      -0.210\n",
      "C(item_nbr)[T.93]:C(event)[1]                         -0.3194      0.045     -7.159      0.000      -0.407      -0.232\n",
      "C(item_nbr)[T.8]:C(event)[2]                          -0.0344      0.054     -0.642      0.521      -0.140       0.071\n",
      "C(item_nbr)[T.9]:C(event)[2]                           0.3378      0.068      4.976      0.000       0.205       0.471\n",
      "C(item_nbr)[T.41]:C(event)[2]                         -0.0591      0.054     -1.100      0.271      -0.164       0.046\n",
      "C(item_nbr)[T.44]:C(event)[2]                          0.4473      0.212      2.111      0.035       0.032       0.863\n",
      "C(item_nbr)[T.45]:C(event)[2]                          0.1056      0.054      1.967      0.049       0.000       0.211\n",
      "C(item_nbr)[T.56]:C(event)[2]                               0          0        nan        nan           0           0\n",
      "C(item_nbr)[T.85]:C(event)[2]                         -0.5272      0.161     -3.282      0.001      -0.842      -0.212\n",
      "C(item_nbr)[T.91]:C(event)[2]                         -3.1222      0.335     -9.313      0.000      -3.779      -2.465\n",
      "C(item_nbr)[T.92]:C(event)[2]                         -0.4268      0.098     -4.344      0.000      -0.619      -0.234\n",
      "C(item_nbr)[T.93]:C(event)[2]                         -0.3056      0.088     -3.486      0.000      -0.478      -0.134\n",
      "C(store_nbr)[T.29]:C(item_nbr)[T.8]:C(event)[T.1]      0.0328      0.026      1.284      0.199      -0.017       0.083\n",
      "C(store_nbr)[T.33]:C(item_nbr)[T.8]:C(event)[T.1]           0          0        nan        nan           0           0\n",
      "C(store_nbr)[T.29]:C(item_nbr)[T.9]:C(event)[T.1]           0          0        nan        nan           0           0\n",
      "C(store_nbr)[T.33]:C(item_nbr)[T.9]:C(event)[T.1]      0.2826      0.031      9.192      0.000       0.222       0.343\n",
      "C(store_nbr)[T.29]:C(item_nbr)[T.41]:C(event)[T.1]    -0.0365      0.026     -1.430      0.153      -0.087       0.014\n",
      "C(store_nbr)[T.33]:C(item_nbr)[T.41]:C(event)[T.1]          0          0        nan        nan           0           0\n",
      "C(store_nbr)[T.29]:C(item_nbr)[T.44]:C(event)[T.1]          0          0        nan        nan           0           0\n",
      "C(store_nbr)[T.33]:C(item_nbr)[T.44]:C(event)[T.1]     0.2650      0.085      3.125      0.002       0.099       0.431\n",
      "C(store_nbr)[T.29]:C(item_nbr)[T.45]:C(event)[T.1]     0.1716      0.026      6.721      0.000       0.122       0.222\n",
      "C(store_nbr)[T.33]:C(item_nbr)[T.45]:C(event)[T.1]          0          0        nan        nan           0           0\n",
      "C(store_nbr)[T.29]:C(item_nbr)[T.56]:C(event)[T.1]    -0.4228      0.031    -13.703      0.000      -0.483      -0.362\n",
      "C(store_nbr)[T.33]:C(item_nbr)[T.56]:C(event)[T.1]          0          0        nan        nan           0           0\n",
      "C(store_nbr)[T.29]:C(item_nbr)[T.85]:C(event)[T.1]          0          0        nan        nan           0           0\n",
      "C(store_nbr)[T.33]:C(item_nbr)[T.85]:C(event)[T.1]    -0.2330      0.060     -3.859      0.000      -0.351      -0.115\n",
      "C(store_nbr)[T.29]:C(item_nbr)[T.91]:C(event)[T.1]          0          0        nan        nan           0           0\n",
      "C(store_nbr)[T.33]:C(item_nbr)[T.91]:C(event)[T.1]          0          0        nan        nan           0           0\n",
      "C(store_nbr)[T.29]:C(item_nbr)[T.92]:C(event)[T.1]          0          0        nan        nan           0           0\n",
      "C(store_nbr)[T.33]:C(item_nbr)[T.92]:C(event)[T.1]    -0.2882      0.040     -7.240      0.000      -0.366      -0.210\n",
      "C(store_nbr)[T.29]:C(item_nbr)[T.93]:C(event)[T.1]          0          0        nan        nan           0           0\n",
      "C(store_nbr)[T.33]:C(item_nbr)[T.93]:C(event)[T.1]    -0.3194      0.045     -7.159      0.000      -0.407      -0.232\n",
      "C(store_nbr)[T.29]:C(item_nbr)[T.8]:C(event)[T.2]     -0.0344      0.054     -0.642      0.521      -0.140       0.071\n",
      "C(store_nbr)[T.33]:C(item_nbr)[T.8]:C(event)[T.2]           0          0        nan        nan           0           0\n",
      "C(store_nbr)[T.29]:C(item_nbr)[T.9]:C(event)[T.2]           0          0        nan        nan           0           0\n",
      "C(store_nbr)[T.33]:C(item_nbr)[T.9]:C(event)[T.2]      0.3378      0.068      4.976      0.000       0.205       0.471\n",
      "C(store_nbr)[T.29]:C(item_nbr)[T.41]:C(event)[T.2]    -0.0591      0.054     -1.100      0.271      -0.164       0.046\n",
      "C(store_nbr)[T.33]:C(item_nbr)[T.41]:C(event)[T.2]          0          0        nan        nan           0           0\n",
      "C(store_nbr)[T.29]:C(item_nbr)[T.44]:C(event)[T.2]          0          0        nan        nan           0           0\n",
      "C(store_nbr)[T.33]:C(item_nbr)[T.44]:C(event)[T.2]     0.5809      0.200      2.909      0.004       0.189       0.972\n",
      "C(store_nbr)[T.29]:C(item_nbr)[T.45]:C(event)[T.2]     0.1056      0.054      1.967      0.049       0.000       0.211\n",
      "C(store_nbr)[T.33]:C(item_nbr)[T.45]:C(event)[T.2]          0          0        nan        nan           0           0\n",
      "C(store_nbr)[T.29]:C(item_nbr)[T.56]:C(event)[T.2]          0          0        nan        nan           0           0\n",
      "C(store_nbr)[T.33]:C(item_nbr)[T.56]:C(event)[T.2]          0          0        nan        nan           0           0\n",
      "C(store_nbr)[T.29]:C(item_nbr)[T.85]:C(event)[T.2]          0          0        nan        nan           0           0\n",
      "C(store_nbr)[T.33]:C(item_nbr)[T.85]:C(event)[T.2]    -0.5272      0.161     -3.282      0.001      -0.842      -0.212\n",
      "C(store_nbr)[T.29]:C(item_nbr)[T.91]:C(event)[T.2]          0          0        nan        nan           0           0\n",
      "C(store_nbr)[T.33]:C(item_nbr)[T.91]:C(event)[T.2]          0          0        nan        nan           0           0\n",
      "C(store_nbr)[T.29]:C(item_nbr)[T.92]:C(event)[T.2]          0          0        nan        nan           0           0\n",
      "C(store_nbr)[T.33]:C(item_nbr)[T.92]:C(event)[T.2]    -0.4268      0.098     -4.344      0.000      -0.619      -0.234\n",
      "C(store_nbr)[T.29]:C(item_nbr)[T.93]:C(event)[T.2]          0          0        nan        nan           0           0\n",
      "C(store_nbr)[T.33]:C(item_nbr)[T.93]:C(event)[T.2]    -0.3056      0.088     -3.486      0.000      -0.478      -0.134\n",
      "==============================================================================\n",
      "Omnibus:                      398.022   Durbin-Watson:                   1.752\n",
      "Prob(Omnibus):                  0.000   Jarque-Bera (JB):             2422.199\n",
      "Skew:                          -0.297   Prob(JB):                         0.00\n",
      "Kurtosis:                       6.861   Cond. No.                     6.48e+16\n",
      "==============================================================================\n",
      "\n",
      "Warnings:\n",
      "[1] Standard Errors assume that the covariance matrix of the errors is correctly specified.\n",
      "[2] The smallest eigenvalue is 3.28e-31. This might indicate that there are\n",
      "strong multicollinearity problems or that the design matrix is singular.\n"
     ]
    },
    {
     "name": "stderr",
     "output_type": "stream",
     "text": [
      "C:\\Anaconda3\\lib\\site-packages\\statsmodels\\base\\model.py:1036: RuntimeWarning: invalid value encountered in true_divide\n",
      "  return self.params / self.bse\n",
      "C:\\Anaconda3\\lib\\site-packages\\scipy\\stats\\_distn_infrastructure.py:879: RuntimeWarning: invalid value encountered in greater\n",
      "  return (self.a < x) & (x < self.b)\n",
      "C:\\Anaconda3\\lib\\site-packages\\scipy\\stats\\_distn_infrastructure.py:879: RuntimeWarning: invalid value encountered in less\n",
      "  return (self.a < x) & (x < self.b)\n",
      "C:\\Anaconda3\\lib\\site-packages\\scipy\\stats\\_distn_infrastructure.py:1818: RuntimeWarning: invalid value encountered in less_equal\n",
      "  cond2 = cond0 & (x <= self.a)\n"
     ]
    }
   ],
   "source": [
    "# test_3 = test_[test_['station_nbr'] == 3]\n",
    "\n",
    "# test_3['weekday'] = test_3.date.dt.weekday  # 월요일이 0 일요일이 8\n",
    "# test_3['holiday'] = test_3.date.isin(holiday[0])\n",
    "\n",
    "result['date'] = pd.to_datetime(result['date'])\n",
    "\n",
    "df_3 = pd.merge(result, key, on = 'store_nbr')\n",
    "df_3 = pd.merge(df_3, weather_train_3, on = ['date', 'station_nbr'])\n",
    "\n",
    "df_3_nonzero = df_3[df_3['log_units'] > 0]\n",
    "\n",
    "model3 = sm.OLS.from_formula('log_units ~ C(store_nbr):C(item_nbr):C(event) + C(weekday) + C(holiday) + 0', data = df_3_nonzero)\n",
    "result_model3 = model3.fit()\n",
    "print(result_model3.summary())\n",
    "\n",
    "test_3_nonzero.reset_index(drop = True, inplace = True)\n",
    "test_3_nonzero['log_units'] = result_model3.predict(test_3_nonzero)\n",
    "test_3_nonzero['units'] = np.exp(test_3_nonzero['log_units']) - 1\n",
    "\n",
    "# for num in range(len(test_3)) :\n",
    "#     if test_3.at[num, 'item_nbr'] not in item_nbr_list_3 :\n",
    "#         test_3.set_value(num, 'units', 0.0)"
   ]
  },
  {
   "cell_type": "code",
   "execution_count": null,
   "metadata": {
    "collapsed": true
   },
   "outputs": [],
   "source": [
    "result_test.append(test_3)"
   ]
  },
  {
   "cell_type": "code",
   "execution_count": null,
   "metadata": {
    "collapsed": true
   },
   "outputs": [],
   "source": [
    "result_test.append(test_3_nonzero)\n",
    "result_test.append(test_3_zero)"
   ]
  },
  {
   "cell_type": "code",
   "execution_count": null,
   "metadata": {
    "collapsed": true
   },
   "outputs": [],
   "source": []
  },
  {
   "cell_type": "markdown",
   "metadata": {},
   "source": [
    "### station_nbr == 4\n",
    "- store_nbr == 8"
   ]
  },
  {
   "cell_type": "code",
   "execution_count": 50,
   "metadata": {},
   "outputs": [
    {
     "name": "stderr",
     "output_type": "stream",
     "text": [
      "C:\\Anaconda3\\lib\\site-packages\\ipykernel_launcher.py:2: SettingWithCopyWarning: \n",
      "A value is trying to be set on a copy of a slice from a DataFrame.\n",
      "Try using .loc[row_indexer,col_indexer] = value instead\n",
      "\n",
      "See the caveats in the documentation: http://pandas.pydata.org/pandas-docs/stable/indexing.html#indexing-view-versus-copy\n",
      "  \n",
      "C:\\Anaconda3\\lib\\site-packages\\ipykernel_launcher.py:4: SettingWithCopyWarning: \n",
      "A value is trying to be set on a copy of a slice from a DataFrame.\n",
      "Try using .loc[row_indexer,col_indexer] = value instead\n",
      "\n",
      "See the caveats in the documentation: http://pandas.pydata.org/pandas-docs/stable/indexing.html#indexing-view-versus-copy\n",
      "  after removing the cwd from sys.path.\n",
      "C:\\Anaconda3\\lib\\site-packages\\ipykernel_launcher.py:5: SettingWithCopyWarning: \n",
      "A value is trying to be set on a copy of a slice from a DataFrame.\n",
      "Try using .loc[row_indexer,col_indexer] = value instead\n",
      "\n",
      "See the caveats in the documentation: http://pandas.pydata.org/pandas-docs/stable/indexing.html#indexing-view-versus-copy\n",
      "  \"\"\"\n"
     ]
    }
   ],
   "source": [
    "set_tmax(weather_train_4)\n",
    "set_tmin(weather_train_4)\n",
    "set_tavg(weather_train_4)\n",
    "set_heat_cool(weather_train_4)\n",
    "merge_heat_cool(weather_train_4)\n",
    "set_depart(weather_train_4)\n",
    "set_snowfall_preciptotal(weather_train_4)\n",
    "set_dewpoint(weather_train_4)\n",
    "set_wetbulb(weather_train_4)\n",
    "set_stnpressure(weather_train_4)\n",
    "set_sealevel(weather_train_4)\n",
    "set_resultspeed(weather_train_4)\n",
    "set_resultdir(weather_train_4)\n",
    "set_avgspeed(weather_train_4)\n",
    "set_event(weather_train_4)\n",
    "\n",
    "# merged_4 = merge_weather_train(weather_train_4, train_new_8)\n",
    "item_nbr_list_4 = get_item_nbr(train_new_8)"
   ]
  },
  {
   "cell_type": "code",
   "execution_count": 51,
   "metadata": {},
   "outputs": [
    {
     "name": "stderr",
     "output_type": "stream",
     "text": [
      "C:\\Anaconda3\\lib\\site-packages\\ipykernel_launcher.py:2: SettingWithCopyWarning: \n",
      "A value is trying to be set on a copy of a slice from a DataFrame.\n",
      "Try using .loc[row_indexer,col_indexer] = value instead\n",
      "\n",
      "See the caveats in the documentation: http://pandas.pydata.org/pandas-docs/stable/indexing.html#indexing-view-versus-copy\n",
      "  \n",
      "C:\\Anaconda3\\lib\\site-packages\\ipykernel_launcher.py:4: SettingWithCopyWarning: \n",
      "A value is trying to be set on a copy of a slice from a DataFrame.\n",
      "Try using .loc[row_indexer,col_indexer] = value instead\n",
      "\n",
      "See the caveats in the documentation: http://pandas.pydata.org/pandas-docs/stable/indexing.html#indexing-view-versus-copy\n",
      "  after removing the cwd from sys.path.\n",
      "C:\\Anaconda3\\lib\\site-packages\\ipykernel_launcher.py:5: SettingWithCopyWarning: \n",
      "A value is trying to be set on a copy of a slice from a DataFrame.\n",
      "Try using .loc[row_indexer,col_indexer] = value instead\n",
      "\n",
      "See the caveats in the documentation: http://pandas.pydata.org/pandas-docs/stable/indexing.html#indexing-view-versus-copy\n",
      "  \"\"\"\n",
      "C:\\Anaconda3\\lib\\site-packages\\pandas\\core\\frame.py:1861: SettingWithCopyWarning: \n",
      "A value is trying to be set on a copy of a slice from a DataFrame\n",
      "\n",
      "See the caveats in the documentation: http://pandas.pydata.org/pandas-docs/stable/indexing.html#indexing-view-versus-copy\n",
      "  self.loc[index, col] = value\n"
     ]
    }
   ],
   "source": [
    "set_tmax(weather_test_4)\n",
    "set_tmin(weather_test_4)\n",
    "set_tavg(weather_test_4)\n",
    "set_heat_cool(weather_test_4)\n",
    "merge_heat_cool(weather_test_4)\n",
    "set_depart(weather_test_4)\n",
    "set_snowfall_preciptotal(weather_test_4)\n",
    "set_dewpoint(weather_test_4)\n",
    "set_wetbulb(weather_test_4)\n",
    "set_stnpressure(weather_test_4)\n",
    "set_sealevel(weather_test_4)\n",
    "set_resultspeed(weather_test_4)\n",
    "set_resultdir(weather_test_4)\n",
    "set_avgspeed(weather_test_4)\n",
    "set_event(weather_test_4)\n",
    "\n",
    "test_4 = test_preprocessing(test, holiday, weather_test_4)"
   ]
  },
  {
   "cell_type": "code",
   "execution_count": 52,
   "metadata": {
    "collapsed": true
   },
   "outputs": [],
   "source": [
    "zero_item_nbr = []\n",
    "for num in range(1, 112) :\n",
    "    if num not in item_nbr_list_4 :\n",
    "        zero_item_nbr.append(num)\n",
    "\n",
    "test_4_nonzero = pd.concat([test_4[test_4['item_nbr'] == num] for num in item_nbr_list_4])\n",
    "test_4_zero = pd.concat([test_4[test_4['item_nbr'] == num] for num in zero_item_nbr])\n",
    "test_4_zero['log_units'] = 0\n",
    "test_4_zero['units'] = 0"
   ]
  },
  {
   "cell_type": "code",
   "execution_count": 53,
   "metadata": {},
   "outputs": [
    {
     "name": "stdout",
     "output_type": "stream",
     "text": [
      "                            OLS Regression Results                            \n",
      "==============================================================================\n",
      "Dep. Variable:              log_units   R-squared:                       0.811\n",
      "Model:                            OLS   Adj. R-squared:                  0.808\n",
      "Method:                 Least Squares   F-statistic:                     281.9\n",
      "Date:                Sat, 10 Mar 2018   Prob (F-statistic):               0.00\n",
      "Time:                        13:20:32   Log-Likelihood:                -1065.5\n",
      "No. Observations:                1537   AIC:                             2179.\n",
      "Df Residuals:                    1513   BIC:                             2307.\n",
      "Df Model:                          23                                         \n",
      "Covariance Type:            nonrobust                                         \n",
      "==================================================================================================\n",
      "                                     coef    std err          t      P>|t|      [0.025      0.975]\n",
      "--------------------------------------------------------------------------------------------------\n",
      "C(weekday)[0]                      3.5355      0.040     88.966      0.000       3.458       3.613\n",
      "C(weekday)[1]                      3.4034      0.040     85.937      0.000       3.326       3.481\n",
      "C(weekday)[2]                      3.3590      0.040     83.589      0.000       3.280       3.438\n",
      "C(weekday)[3]                      3.3204      0.039     84.254      0.000       3.243       3.398\n",
      "C(weekday)[4]                      3.4263      0.039     87.364      0.000       3.349       3.503\n",
      "C(weekday)[5]                      3.5232      0.039     89.662      0.000       3.446       3.600\n",
      "C(weekday)[6]                      3.7035      0.040     92.699      0.000       3.625       3.782\n",
      "C(holiday)[T.True]                -0.1025      0.062     -1.656      0.098      -0.224       0.019\n",
      "C(store_nbr)[8]:C(event)[T.1]      0.0540      0.067      0.802      0.422      -0.078       0.186\n",
      "C(store_nbr)[8]:C(event)[T.2]      0.4754      0.156      3.038      0.002       0.168       0.782\n",
      "C(item_nbr)[T.23]:C(event)[0]     -1.1271      0.035    -31.975      0.000      -1.196      -1.058\n",
      "C(item_nbr)[T.59]:C(event)[0]     -2.5656      0.040    -63.580      0.000      -2.645      -2.486\n",
      "C(item_nbr)[T.84]:C(event)[0]     -2.5366      0.075    -33.925      0.000      -2.683      -2.390\n",
      "C(item_nbr)[T.93]:C(event)[0]     -1.9359      0.045    -42.926      0.000      -2.024      -1.847\n",
      "C(item_nbr)[T.100]:C(event)[0]    -2.3760      0.061    -38.962      0.000      -2.496      -2.256\n",
      "C(item_nbr)[T.23]:C(event)[1]     -1.2342      0.088    -13.973      0.000      -1.407      -1.061\n",
      "C(item_nbr)[T.59]:C(event)[1]     -2.6589      0.097    -27.369      0.000      -2.849      -2.468\n",
      "C(item_nbr)[T.84]:C(event)[1]     -2.5312      0.160    -15.826      0.000      -2.845      -2.217\n",
      "C(item_nbr)[T.93]:C(event)[1]     -1.7853      0.114    -15.613      0.000      -2.010      -1.561\n",
      "C(item_nbr)[T.100]:C(event)[1]    -2.3550      0.209    -11.265      0.000      -2.765      -1.945\n",
      "C(item_nbr)[T.23]:C(event)[2]     -1.5218      0.218     -6.976      0.000      -1.950      -1.094\n",
      "C(item_nbr)[T.59]:C(event)[2]     -3.0244      0.267    -11.316      0.000      -3.549      -2.500\n",
      "C(item_nbr)[T.84]:C(event)[2]     -2.6863      0.378     -7.098      0.000      -3.429      -1.944\n",
      "C(item_nbr)[T.93]:C(event)[2]     -2.4257      0.267     -9.076      0.000      -2.950      -1.901\n",
      "C(item_nbr)[T.100]:C(event)[2]          0          0        nan        nan           0           0\n",
      "==============================================================================\n",
      "Omnibus:                       77.006   Durbin-Watson:                   1.954\n",
      "Prob(Omnibus):                  0.000   Jarque-Bera (JB):              270.673\n",
      "Skew:                           0.027   Prob(JB):                     1.68e-59\n",
      "Kurtosis:                       5.055   Cond. No.                          inf\n",
      "==============================================================================\n",
      "\n",
      "Warnings:\n",
      "[1] Standard Errors assume that the covariance matrix of the errors is correctly specified.\n",
      "[2] The smallest eigenvalue is      0. This might indicate that there are\n",
      "strong multicollinearity problems or that the design matrix is singular.\n"
     ]
    },
    {
     "name": "stderr",
     "output_type": "stream",
     "text": [
      "C:\\Anaconda3\\lib\\site-packages\\ipykernel_launcher.py:6: SettingWithCopyWarning: \n",
      "A value is trying to be set on a copy of a slice from a DataFrame.\n",
      "Try using .loc[row_indexer,col_indexer] = value instead\n",
      "\n",
      "See the caveats in the documentation: http://pandas.pydata.org/pandas-docs/stable/indexing.html#indexing-view-versus-copy\n",
      "  \n",
      "C:\\Anaconda3\\lib\\site-packages\\statsmodels\\regression\\linear_model.py:1471: RuntimeWarning: divide by zero encountered in double_scalars\n",
      "  return np.sqrt(eigvals[0]/eigvals[-1])\n",
      "C:\\Anaconda3\\lib\\site-packages\\statsmodels\\base\\model.py:1036: RuntimeWarning: invalid value encountered in true_divide\n",
      "  return self.params / self.bse\n",
      "C:\\Anaconda3\\lib\\site-packages\\scipy\\stats\\_distn_infrastructure.py:879: RuntimeWarning: invalid value encountered in greater\n",
      "  return (self.a < x) & (x < self.b)\n",
      "C:\\Anaconda3\\lib\\site-packages\\scipy\\stats\\_distn_infrastructure.py:879: RuntimeWarning: invalid value encountered in less\n",
      "  return (self.a < x) & (x < self.b)\n",
      "C:\\Anaconda3\\lib\\site-packages\\scipy\\stats\\_distn_infrastructure.py:1818: RuntimeWarning: invalid value encountered in less_equal\n",
      "  cond2 = cond0 & (x <= self.a)\n"
     ]
    }
   ],
   "source": [
    "# test_4 = test_[test_['station_nbr'] == 4]\n",
    "\n",
    "# test_4['weekday'] = test_4.date.dt.weekday  # 월요일이 0 일요일이 8\n",
    "# test_4['holiday'] = test_4.date.isin(holiday[0])\n",
    "\n",
    "train_new_8['date'] = pd.to_datetime(train_new_8['date'])\n",
    "\n",
    "df_4 = pd.merge(train_new_8, key, on = 'store_nbr')\n",
    "df_4 = pd.merge(df_4, weather_train_4, on = ['date', 'station_nbr'])\n",
    "\n",
    "df_4_nonzero = df_4[df_4['log_units'] > 0]\n",
    "\n",
    "model4 = sm.OLS.from_formula('log_units ~ C(store_nbr):C(item_nbr):C(event) + C(weekday) + C(holiday) + 0', data = df_4_nonzero)\n",
    "result_model4 = model4.fit()\n",
    "print(result_model4.summary())\n",
    "\n",
    "test_4_nonzero.reset_index(drop = True, inplace = True)\n",
    "test_4_nonzero['log_units'] = result_model4.predict(test_4_nonzero)\n",
    "test_4_nonzero['units'] = np.exp(test_4_nonzero['log_units']) - 1\n",
    "\n",
    "# for num in range(len(test_4)) :\n",
    "#     if test_4.at[num, 'item_nbr'] not in item_nbr_list_4 :\n",
    "#         test_4.set_value(num, 'units', 0.0)"
   ]
  },
  {
   "cell_type": "code",
   "execution_count": null,
   "metadata": {
    "collapsed": true
   },
   "outputs": [],
   "source": [
    "result_test.append(test_4)"
   ]
  },
  {
   "cell_type": "code",
   "execution_count": null,
   "metadata": {
    "collapsed": true
   },
   "outputs": [],
   "source": [
    "result_test.append(test_4_nonzero)\n",
    "result_test.append(test_4_zero)"
   ]
  },
  {
   "cell_type": "markdown",
   "metadata": {},
   "source": [
    "### station_nbr == 5\n",
    "- store_nbr == 35"
   ]
  },
  {
   "cell_type": "code",
   "execution_count": null,
   "metadata": {
    "collapsed": true
   },
   "outputs": [],
   "source": [
    "# 여긴 좀 고민할 필요가 있음..\n",
    "# weather가 죄다 missing value.."
   ]
  },
  {
   "cell_type": "code",
   "execution_count": null,
   "metadata": {
    "collapsed": true,
    "scrolled": true
   },
   "outputs": [],
   "source": [
    "# set_tmax(weather_train_5)\n",
    "# set_tmin(weather_train_5)\n",
    "# set_tavg(weather_train_5)\n",
    "# set_heat_cool(weather_train_5)\n",
    "# merge_heat_cool(weather_train_5)\n",
    "# set_depart(weather_train_5)\n",
    "# set_snowfall_preciptotal(weather_train_5)\n",
    "# set_dewpoint(weather_train_5)\n",
    "# set_wetbulb(weather_train_5)\n",
    "# set_stnpressure(weather_train_5)\n",
    "# set_sealevel(weather_train_5)\n",
    "# set_resultspeed(weather_train_5)\n",
    "# set_resultdir(weather_train_5)\n",
    "# set_avgspeed(weather_train_5)\n",
    "# set_event(weather_train_5)\n",
    "\n",
    "col5 = weather_train_5.columns\n",
    "col5_ = col5.drop(['station_nbr', 'date', 'sunset', 'sunrise', 'codesum', 'weekday', 'holiday'])\n",
    "\n",
    "for num in range(len(weather_train_5)) :\n",
    "    for col in col5_ :\n",
    "        if 'M' in weather_train_5.at[num, col] :\n",
    "            weather_train_5.set_value(num, col, np.NaN)\n",
    "        elif 'T' in weather_train_5.at[num, col] :\n",
    "            weather_train_5.set_value(num, col, 0.0)\n",
    "\n",
    "# merged_3 = merge_weather_train(weather_train_5, result)\n",
    "item_nbr_list_5 = get_item_nbr(train_new_35)\n",
    "\n",
    "weather_train_5['event'] = 0"
   ]
  },
  {
   "cell_type": "code",
   "execution_count": null,
   "metadata": {
    "collapsed": true
   },
   "outputs": [],
   "source": [
    "# set_tmax(weather_test_5)\n",
    "# set_tmin(weather_test_5)\n",
    "# set_tavg(weather_test_5)\n",
    "# set_heat_cool(weather_test_5)\n",
    "# merge_heat_cool(weather_test_5)\n",
    "# set_depart(weather_test_5)\n",
    "set_snowfall_preciptotal(weather_test_5)\n",
    "# set_dewpoint(weather_test_5)\n",
    "# set_wetbulb(weather_test_5)\n",
    "# set_stnpressure(weather_test_5)\n",
    "# set_sealevel(weather_test_5)\n",
    "# set_resultspeed(weather_test_5)\n",
    "# set_resultdir(weather_test_5)\n",
    "# set_avgspeed(weather_test_5)\n",
    "set_event(weather_test_5)\n",
    "\n",
    "test_5 = test_preprocessing(test, holiday, weather_test_5)"
   ]
  },
  {
   "cell_type": "code",
   "execution_count": null,
   "metadata": {
    "collapsed": true
   },
   "outputs": [],
   "source": [
    "zero_item_nbr = []\n",
    "for num in range(1, 112) :\n",
    "    if num not in item_nbr_list_5 :\n",
    "        zero_item_nbr.append(num)\n",
    "\n",
    "test_5_nonzero = pd.concat([test_5[test_5['item_nbr'] == num] for num in item_nbr_list_5])\n",
    "test_5_zero = pd.concat([test_5[test_5['item_nbr'] == num] for num in zero_item_nbr])\n",
    "test_5_zero['log_units'] = 0\n",
    "test_5_zero['units'] = 0"
   ]
  },
  {
   "cell_type": "code",
   "execution_count": null,
   "metadata": {
    "collapsed": true
   },
   "outputs": [],
   "source": [
    "# test_5 = test_[test_['station_nbr'] == 5]\n",
    "\n",
    "# test_5['weekday'] = test_5.date.dt.weekday  # 월요일이 0 일요일이 8\n",
    "# test_5['holiday'] = test_5.date.isin(holiday[0])\n",
    "\n",
    "train_new_35['date'] = pd.to_datetime(train_new_35['date'])\n",
    "\n",
    "df_5 = pd.merge(train_new_35, key, on = 'store_nbr')\n",
    "df_5 = pd.merge(df_5, weather_train_5, on = ['date', 'station_nbr'])\n",
    "\n",
    "df_5_nonzero = df_5[df_5['log_units'] > 0]\n",
    "\n",
    "model5 = sm.OLS.from_formula('log_units ~ C(store_nbr):C(item_nbr) + C(weekday) + C(holiday) + C(event) + 0', data = df_5_nonzero)\n",
    "result_model5 = model5.fit()\n",
    "print(result_model5.summary())\n",
    "\n",
    "test_5_nonzero.reset_index(drop = True, inplace = True)\n",
    "test_5_nonzero['log_units'] = result_model5.predict(test_5_nonzero)\n",
    "test_5_nonzero['units'] = np.exp(test_5_nonzero['log_units']) - 1\n",
    "\n",
    "# for num in range(len(test_5)) :\n",
    "#     if test_5.at[num, 'item_nbr'] not in item_nbr_list_5 :\n",
    "#         test_5.set_value(num, 'units', 0.0)"
   ]
  },
  {
   "cell_type": "code",
   "execution_count": null,
   "metadata": {
    "collapsed": true
   },
   "outputs": [],
   "source": [
    "result_test.append(test_5)"
   ]
  },
  {
   "cell_type": "code",
   "execution_count": null,
   "metadata": {
    "collapsed": true
   },
   "outputs": [],
   "source": [
    "result_test.append(test_5_nonzero)\n",
    "result_test.append(test_5_zero)"
   ]
  },
  {
   "cell_type": "markdown",
   "metadata": {},
   "source": [
    "### station_nbr == 6\n",
    "- store_nbr == 7, 13"
   ]
  },
  {
   "cell_type": "code",
   "execution_count": 55,
   "metadata": {},
   "outputs": [
    {
     "name": "stderr",
     "output_type": "stream",
     "text": [
      "C:\\Anaconda3\\lib\\site-packages\\ipykernel_launcher.py:2: SettingWithCopyWarning: \n",
      "A value is trying to be set on a copy of a slice from a DataFrame.\n",
      "Try using .loc[row_indexer,col_indexer] = value instead\n",
      "\n",
      "See the caveats in the documentation: http://pandas.pydata.org/pandas-docs/stable/indexing.html#indexing-view-versus-copy\n",
      "  \n",
      "C:\\Anaconda3\\lib\\site-packages\\ipykernel_launcher.py:4: SettingWithCopyWarning: \n",
      "A value is trying to be set on a copy of a slice from a DataFrame.\n",
      "Try using .loc[row_indexer,col_indexer] = value instead\n",
      "\n",
      "See the caveats in the documentation: http://pandas.pydata.org/pandas-docs/stable/indexing.html#indexing-view-versus-copy\n",
      "  after removing the cwd from sys.path.\n",
      "C:\\Anaconda3\\lib\\site-packages\\ipykernel_launcher.py:5: SettingWithCopyWarning: \n",
      "A value is trying to be set on a copy of a slice from a DataFrame.\n",
      "Try using .loc[row_indexer,col_indexer] = value instead\n",
      "\n",
      "See the caveats in the documentation: http://pandas.pydata.org/pandas-docs/stable/indexing.html#indexing-view-versus-copy\n",
      "  \"\"\"\n"
     ]
    }
   ],
   "source": [
    "result = pd.concat([train_new_7, train_new_13])\n",
    "\n",
    "set_tmax(weather_train_6)\n",
    "set_tmin(weather_train_6)\n",
    "set_tavg(weather_train_6)\n",
    "set_heat_cool(weather_train_6)\n",
    "merge_heat_cool(weather_train_6)\n",
    "set_depart(weather_train_6)\n",
    "set_snowfall_preciptotal(weather_train_6)\n",
    "set_dewpoint(weather_train_6)\n",
    "set_wetbulb(weather_train_6)\n",
    "set_stnpressure(weather_train_6)\n",
    "set_sealevel(weather_train_6)\n",
    "set_resultspeed(weather_train_6)\n",
    "set_resultdir(weather_train_6)\n",
    "set_avgspeed(weather_train_6)\n",
    "set_event(weather_train_6)\n",
    "\n",
    "# merged_6 = merge_weather_train(weather_train_6, result)\n",
    "item_nbr_list_6 = get_item_nbr(result)"
   ]
  },
  {
   "cell_type": "code",
   "execution_count": 56,
   "metadata": {},
   "outputs": [
    {
     "name": "stderr",
     "output_type": "stream",
     "text": [
      "C:\\Anaconda3\\lib\\site-packages\\ipykernel_launcher.py:2: SettingWithCopyWarning: \n",
      "A value is trying to be set on a copy of a slice from a DataFrame.\n",
      "Try using .loc[row_indexer,col_indexer] = value instead\n",
      "\n",
      "See the caveats in the documentation: http://pandas.pydata.org/pandas-docs/stable/indexing.html#indexing-view-versus-copy\n",
      "  \n",
      "C:\\Anaconda3\\lib\\site-packages\\ipykernel_launcher.py:4: SettingWithCopyWarning: \n",
      "A value is trying to be set on a copy of a slice from a DataFrame.\n",
      "Try using .loc[row_indexer,col_indexer] = value instead\n",
      "\n",
      "See the caveats in the documentation: http://pandas.pydata.org/pandas-docs/stable/indexing.html#indexing-view-versus-copy\n",
      "  after removing the cwd from sys.path.\n",
      "C:\\Anaconda3\\lib\\site-packages\\ipykernel_launcher.py:5: SettingWithCopyWarning: \n",
      "A value is trying to be set on a copy of a slice from a DataFrame.\n",
      "Try using .loc[row_indexer,col_indexer] = value instead\n",
      "\n",
      "See the caveats in the documentation: http://pandas.pydata.org/pandas-docs/stable/indexing.html#indexing-view-versus-copy\n",
      "  \"\"\"\n",
      "C:\\Anaconda3\\lib\\site-packages\\pandas\\core\\frame.py:1861: SettingWithCopyWarning: \n",
      "A value is trying to be set on a copy of a slice from a DataFrame\n",
      "\n",
      "See the caveats in the documentation: http://pandas.pydata.org/pandas-docs/stable/indexing.html#indexing-view-versus-copy\n",
      "  self.loc[index, col] = value\n"
     ]
    }
   ],
   "source": [
    "set_tmax(weather_test_6)\n",
    "set_tmin(weather_test_6)\n",
    "set_tavg(weather_test_6)\n",
    "set_heat_cool(weather_test_6)\n",
    "merge_heat_cool(weather_test_6)\n",
    "set_depart(weather_test_6)\n",
    "set_snowfall_preciptotal(weather_test_6)\n",
    "set_dewpoint(weather_test_6)\n",
    "set_wetbulb(weather_test_6)\n",
    "set_stnpressure(weather_test_6)\n",
    "set_sealevel(weather_test_6)\n",
    "set_resultspeed(weather_test_6)\n",
    "set_resultdir(weather_test_6)\n",
    "set_avgspeed(weather_test_6)\n",
    "set_event(weather_test_6)\n",
    "\n",
    "test_6 = test_preprocessing(test, holiday, weather_test_6)"
   ]
  },
  {
   "cell_type": "code",
   "execution_count": 57,
   "metadata": {
    "collapsed": true
   },
   "outputs": [],
   "source": [
    "zero_item_nbr = []\n",
    "for num in range(1, 112) :\n",
    "    if num not in item_nbr_list_6 :\n",
    "        zero_item_nbr.append(num)\n",
    "\n",
    "test_6_nonzero = pd.concat([test_6[test_6['item_nbr'] == num] for num in item_nbr_list_6])\n",
    "test_6_zero = pd.concat([test_6[test_6['item_nbr'] == num] for num in zero_item_nbr])\n",
    "test_6_zero['log_units'] = 0\n",
    "test_6_zero['units'] = 0"
   ]
  },
  {
   "cell_type": "code",
   "execution_count": 58,
   "metadata": {},
   "outputs": [
    {
     "name": "stdout",
     "output_type": "stream",
     "text": [
      "                            OLS Regression Results                            \n",
      "==============================================================================\n",
      "Dep. Variable:              log_units   R-squared:                       0.896\n",
      "Model:                            OLS   Adj. R-squared:                  0.895\n",
      "Method:                 Least Squares   F-statistic:                     1391.\n",
      "Date:                Sat, 10 Mar 2018   Prob (F-statistic):               0.00\n",
      "Time:                        13:47:49   Log-Likelihood:                -1688.5\n",
      "No. Observations:                2604   AIC:                             3411.\n",
      "Df Residuals:                    2587   BIC:                             3511.\n",
      "Df Model:                          16                                         \n",
      "Covariance Type:            nonrobust                                         \n",
      "======================================================================================================\n",
      "                                         coef    std err          t      P>|t|      [0.025      0.975]\n",
      "------------------------------------------------------------------------------------------------------\n",
      "C(weekday)[0]                          4.2903      0.032    133.981      0.000       4.228       4.353\n",
      "C(weekday)[1]                          4.2586      0.032    133.346      0.000       4.196       4.321\n",
      "C(weekday)[2]                          4.1730      0.032    132.108      0.000       4.111       4.235\n",
      "C(weekday)[3]                          4.1924      0.032    133.082      0.000       4.131       4.254\n",
      "C(weekday)[4]                          4.2155      0.031    134.534      0.000       4.154       4.277\n",
      "C(weekday)[5]                          4.3562      0.031    138.785      0.000       4.295       4.418\n",
      "C(weekday)[6]                          4.4655      0.032    141.536      0.000       4.404       4.527\n",
      "C(holiday)[T.True]                    -0.0207      0.046     -0.448      0.654      -0.111       0.070\n",
      "C(event)[T.1]                          0.0323      0.024      1.329      0.184      -0.015       0.080\n",
      "C(event)[T.2]                          0.0483      0.055      0.883      0.377      -0.059       0.156\n",
      "C(item_nbr)[T.7]                      -3.1914      0.040    -80.314      0.000      -3.269      -3.113\n",
      "C(item_nbr)[T.23]                     -1.1337      0.031    -36.829      0.000      -1.194      -1.073\n",
      "C(item_nbr)[T.36]                      0.1337      0.015      8.686      0.000       0.104       0.164\n",
      "C(item_nbr)[T.46]                     -1.5336      0.018    -85.861      0.000      -1.569      -1.499\n",
      "C(item_nbr)[T.93]                     -2.7727      0.043    -63.830      0.000      -2.858      -2.687\n",
      "C(store_nbr)[T.13]:C(item_nbr)[5]      0.0442      0.031      1.437      0.151      -0.016       0.105\n",
      "C(store_nbr)[T.13]:C(item_nbr)[7]  -4.624e-17   1.21e-18    -38.266      0.000   -4.86e-17   -4.39e-17\n",
      "C(store_nbr)[T.13]:C(item_nbr)[23]          0          0        nan        nan           0           0\n",
      "C(store_nbr)[T.13]:C(item_nbr)[36]     0.1337      0.015      8.686      0.000       0.104       0.164\n",
      "C(store_nbr)[T.13]:C(item_nbr)[46]    -1.5336      0.018    -85.861      0.000      -1.569      -1.499\n",
      "C(store_nbr)[T.13]:C(item_nbr)[93]    -0.0166      0.052     -0.318      0.750      -0.119       0.086\n",
      "==============================================================================\n",
      "Omnibus:                      321.181   Durbin-Watson:                   1.924\n",
      "Prob(Omnibus):                  0.000   Jarque-Bera (JB):             2134.912\n",
      "Skew:                           0.376   Prob(JB):                         0.00\n",
      "Kurtosis:                       7.372   Cond. No.                     9.78e+29\n",
      "==============================================================================\n",
      "\n",
      "Warnings:\n",
      "[1] Standard Errors assume that the covariance matrix of the errors is correctly specified.\n",
      "[2] The smallest eigenvalue is 1.15e-57. This might indicate that there are\n",
      "strong multicollinearity problems or that the design matrix is singular.\n"
     ]
    },
    {
     "name": "stderr",
     "output_type": "stream",
     "text": [
      "C:\\Anaconda3\\lib\\site-packages\\statsmodels\\base\\model.py:1036: RuntimeWarning: invalid value encountered in true_divide\n",
      "  return self.params / self.bse\n",
      "C:\\Anaconda3\\lib\\site-packages\\scipy\\stats\\_distn_infrastructure.py:879: RuntimeWarning: invalid value encountered in greater\n",
      "  return (self.a < x) & (x < self.b)\n",
      "C:\\Anaconda3\\lib\\site-packages\\scipy\\stats\\_distn_infrastructure.py:879: RuntimeWarning: invalid value encountered in less\n",
      "  return (self.a < x) & (x < self.b)\n",
      "C:\\Anaconda3\\lib\\site-packages\\scipy\\stats\\_distn_infrastructure.py:1818: RuntimeWarning: invalid value encountered in less_equal\n",
      "  cond2 = cond0 & (x <= self.a)\n"
     ]
    }
   ],
   "source": [
    "# test_6 = test_[test_['station_nbr'] == 6]\n",
    "\n",
    "# test_6['weekday'] = test_6.date.dt.weekday  # 월요일이 0 일요일이 8\n",
    "# test_6['holiday'] = test_6.date.isin(holiday[0])\n",
    "\n",
    "result['date'] = pd.to_datetime(result['date'])\n",
    "\n",
    "df_6 = pd.merge(result, key, on = 'store_nbr')\n",
    "df_6 = pd.merge(df_6, weather_train_6, on = ['date', 'station_nbr'])\n",
    "\n",
    "df_6_nonzero = df_6[df_6['log_units'] > 0]\n",
    "\n",
    "model6 = sm.OLS.from_formula('log_units ~ C(store_nbr):C(item_nbr) + C(weekday) + C(holiday) + C(event) + 0', data = df_6_nonzero)\n",
    "result_model6 = model6.fit()\n",
    "print(result_model6.summary())\n",
    "\n",
    "test_6_nonzero.reset_index(drop = True, inplace = True)\n",
    "test_6_nonzero['log_units'] = result_model6.predict(test_6_nonzero)\n",
    "test_6_nonzero['units'] = np.exp(test_6_nonzero['log_units']) - 1\n",
    "\n",
    "# for num in range(len(test_6)) :\n",
    "#     if test_6.at[num, 'item_nbr'] not in item_nbr_list_6 :\n",
    "#         test_6.set_value(num, 'units', 0.0)"
   ]
  },
  {
   "cell_type": "code",
   "execution_count": null,
   "metadata": {
    "collapsed": true
   },
   "outputs": [],
   "source": [
    "result_test.append(test_6)"
   ]
  },
  {
   "cell_type": "code",
   "execution_count": null,
   "metadata": {
    "collapsed": true
   },
   "outputs": [],
   "source": [
    "result_test.append(test_6_nonzero)\n",
    "result_test.append(test_6_zero)"
   ]
  },
  {
   "cell_type": "markdown",
   "metadata": {},
   "source": [
    "### station_nbr == 7\n",
    "- store_nbr == 3, 20, 28\n",
    "- no depart value"
   ]
  },
  {
   "cell_type": "code",
   "execution_count": 59,
   "metadata": {},
   "outputs": [
    {
     "name": "stderr",
     "output_type": "stream",
     "text": [
      "C:\\Anaconda3\\lib\\site-packages\\ipykernel_launcher.py:2: SettingWithCopyWarning: \n",
      "A value is trying to be set on a copy of a slice from a DataFrame.\n",
      "Try using .loc[row_indexer,col_indexer] = value instead\n",
      "\n",
      "See the caveats in the documentation: http://pandas.pydata.org/pandas-docs/stable/indexing.html#indexing-view-versus-copy\n",
      "  \n",
      "C:\\Anaconda3\\lib\\site-packages\\ipykernel_launcher.py:4: SettingWithCopyWarning: \n",
      "A value is trying to be set on a copy of a slice from a DataFrame.\n",
      "Try using .loc[row_indexer,col_indexer] = value instead\n",
      "\n",
      "See the caveats in the documentation: http://pandas.pydata.org/pandas-docs/stable/indexing.html#indexing-view-versus-copy\n",
      "  after removing the cwd from sys.path.\n",
      "C:\\Anaconda3\\lib\\site-packages\\ipykernel_launcher.py:5: SettingWithCopyWarning: \n",
      "A value is trying to be set on a copy of a slice from a DataFrame.\n",
      "Try using .loc[row_indexer,col_indexer] = value instead\n",
      "\n",
      "See the caveats in the documentation: http://pandas.pydata.org/pandas-docs/stable/indexing.html#indexing-view-versus-copy\n",
      "  \"\"\"\n"
     ]
    },
    {
     "name": "stdout",
     "output_type": "stream",
     "text": [
      "Cannot get depart value\n"
     ]
    }
   ],
   "source": [
    "result = pd.concat([train_new_3, train_new_20, train_new_28])\n",
    "\n",
    "set_tmax(weather_train_7)\n",
    "set_tmin(weather_train_7)\n",
    "set_tavg(weather_train_7)\n",
    "set_heat_cool(weather_train_7)\n",
    "merge_heat_cool(weather_train_7)\n",
    "set_depart(weather_train_7)\n",
    "set_snowfall_preciptotal(weather_train_7)\n",
    "set_dewpoint(weather_train_7)\n",
    "set_wetbulb(weather_train_7)\n",
    "set_stnpressure(weather_train_7)\n",
    "set_sealevel(weather_train_7)\n",
    "set_resultspeed(weather_train_7)\n",
    "set_resultdir(weather_train_7)\n",
    "set_avgspeed(weather_train_7)\n",
    "set_event(weather_train_7)\n",
    "\n",
    "# merged_7 = merge_weather_train(weather_train_7, result)\n",
    "item_nbr_list_7 = get_item_nbr(result)"
   ]
  },
  {
   "cell_type": "code",
   "execution_count": 60,
   "metadata": {},
   "outputs": [
    {
     "name": "stderr",
     "output_type": "stream",
     "text": [
      "C:\\Anaconda3\\lib\\site-packages\\ipykernel_launcher.py:2: SettingWithCopyWarning: \n",
      "A value is trying to be set on a copy of a slice from a DataFrame.\n",
      "Try using .loc[row_indexer,col_indexer] = value instead\n",
      "\n",
      "See the caveats in the documentation: http://pandas.pydata.org/pandas-docs/stable/indexing.html#indexing-view-versus-copy\n",
      "  \n",
      "C:\\Anaconda3\\lib\\site-packages\\ipykernel_launcher.py:4: SettingWithCopyWarning: \n",
      "A value is trying to be set on a copy of a slice from a DataFrame.\n",
      "Try using .loc[row_indexer,col_indexer] = value instead\n",
      "\n",
      "See the caveats in the documentation: http://pandas.pydata.org/pandas-docs/stable/indexing.html#indexing-view-versus-copy\n",
      "  after removing the cwd from sys.path.\n",
      "C:\\Anaconda3\\lib\\site-packages\\ipykernel_launcher.py:5: SettingWithCopyWarning: \n",
      "A value is trying to be set on a copy of a slice from a DataFrame.\n",
      "Try using .loc[row_indexer,col_indexer] = value instead\n",
      "\n",
      "See the caveats in the documentation: http://pandas.pydata.org/pandas-docs/stable/indexing.html#indexing-view-versus-copy\n",
      "  \"\"\"\n"
     ]
    },
    {
     "name": "stdout",
     "output_type": "stream",
     "text": [
      "Cannot get depart value\n"
     ]
    },
    {
     "name": "stderr",
     "output_type": "stream",
     "text": [
      "C:\\Anaconda3\\lib\\site-packages\\pandas\\core\\frame.py:1861: SettingWithCopyWarning: \n",
      "A value is trying to be set on a copy of a slice from a DataFrame\n",
      "\n",
      "See the caveats in the documentation: http://pandas.pydata.org/pandas-docs/stable/indexing.html#indexing-view-versus-copy\n",
      "  self.loc[index, col] = value\n"
     ]
    }
   ],
   "source": [
    "set_tmax(weather_test_7)\n",
    "set_tmin(weather_test_7)\n",
    "set_tavg(weather_test_7)\n",
    "set_heat_cool(weather_test_7)\n",
    "merge_heat_cool(weather_test_7)\n",
    "set_depart(weather_test_7)\n",
    "set_snowfall_preciptotal(weather_test_7)\n",
    "set_dewpoint(weather_test_7)\n",
    "set_wetbulb(weather_test_7)\n",
    "set_stnpressure(weather_test_7)\n",
    "set_sealevel(weather_test_7)\n",
    "set_resultspeed(weather_test_7)\n",
    "set_resultdir(weather_test_7)\n",
    "set_avgspeed(weather_test_7)\n",
    "set_event(weather_test_7)\n",
    "\n",
    "test_7 = test_preprocessing(test, holiday, weather_test_7)"
   ]
  },
  {
   "cell_type": "code",
   "execution_count": 61,
   "metadata": {
    "collapsed": true
   },
   "outputs": [],
   "source": [
    "zero_item_nbr = []\n",
    "for num in range(1, 112) :\n",
    "    if num not in item_nbr_list_7 :\n",
    "        zero_item_nbr.append(num)\n",
    "\n",
    "test_7_nonzero = pd.concat([test_7[test_7['item_nbr'] == num] for num in item_nbr_list_7])\n",
    "test_7_zero = pd.concat([test_7[test_7['item_nbr'] == num] for num in zero_item_nbr])\n",
    "test_7_zero['log_units'] = 0\n",
    "test_7_zero['units'] = 0"
   ]
  },
  {
   "cell_type": "code",
   "execution_count": 62,
   "metadata": {},
   "outputs": [
    {
     "name": "stdout",
     "output_type": "stream",
     "text": [
      "                            OLS Regression Results                            \n",
      "==============================================================================\n",
      "Dep. Variable:              log_units   R-squared:                       0.881\n",
      "Model:                            OLS   Adj. R-squared:                  0.881\n",
      "Method:                 Least Squares   F-statistic:                     1316.\n",
      "Date:                Sat, 10 Mar 2018   Prob (F-statistic):               0.00\n",
      "Time:                        13:48:01   Log-Likelihood:                -2637.4\n",
      "No. Observations:                3916   AIC:                             5321.\n",
      "Df Residuals:                    3893   BIC:                             5465.\n",
      "Df Model:                          22                                         \n",
      "Covariance Type:            nonrobust                                         \n",
      "=======================================================================================================\n",
      "                                          coef    std err          t      P>|t|      [0.025      0.975]\n",
      "-------------------------------------------------------------------------------------------------------\n",
      "C(weekday)[0]                           1.4583      0.047     31.039      0.000       1.366       1.550\n",
      "C(weekday)[1]                           1.3601      0.047     28.890      0.000       1.268       1.452\n",
      "C(weekday)[2]                           1.3456      0.047     28.718      0.000       1.254       1.437\n",
      "C(weekday)[3]                           1.3140      0.047     28.069      0.000       1.222       1.406\n",
      "C(weekday)[4]                           1.3851      0.047     29.743      0.000       1.294       1.476\n",
      "C(weekday)[5]                           1.5404      0.046     33.160      0.000       1.449       1.632\n",
      "C(weekday)[6]                           1.6325      0.047     34.975      0.000       1.541       1.724\n",
      "C(holiday)[T.True]                     -0.0865      0.039     -2.215      0.027      -0.163      -0.010\n",
      "C(event)[T.1]                          -0.0150      0.026     -0.581      0.561      -0.066       0.036\n",
      "C(event)[T.2]                           0.0783      0.058      1.345      0.179      -0.036       0.192\n",
      "C(item_nbr)[T.5]                        2.6795      0.048     55.528      0.000       2.585       2.774\n",
      "C(item_nbr)[T.18]                      -0.2773      0.026    -10.501      0.000      -0.329      -0.226\n",
      "C(item_nbr)[T.35]                      -0.1967      0.026     -7.481      0.000      -0.248      -0.145\n",
      "C(item_nbr)[T.41]                       0.9788      0.024     40.588      0.000       0.932       1.026\n",
      "C(item_nbr)[T.45]                       2.9366      0.048     60.885      0.000       2.842       3.031\n",
      "C(item_nbr)[T.74]                      -0.0708      0.028     -2.567      0.010      -0.125      -0.017\n",
      "C(item_nbr)[T.93]                       0.1931      0.057      3.381      0.001       0.081       0.305\n",
      "C(item_nbr)[T.102]                     -0.6920      0.340     -2.037      0.042      -1.358      -0.026\n",
      "C(store_nbr)[T.20]:C(item_nbr)[2]    9.859e-17   2.74e-17      3.599      0.000    4.49e-17    1.52e-16\n",
      "C(store_nbr)[T.28]:C(item_nbr)[2]      -0.1522      0.061     -2.486      0.013      -0.272      -0.032\n",
      "C(store_nbr)[T.20]:C(item_nbr)[5]       0.2182      0.032      6.906      0.000       0.156       0.280\n",
      "C(store_nbr)[T.28]:C(item_nbr)[5]      -0.5171      0.032    -16.370      0.000      -0.579      -0.455\n",
      "C(store_nbr)[T.20]:C(item_nbr)[18]     -0.2773      0.026    -10.501      0.000      -0.329      -0.226\n",
      "C(store_nbr)[T.28]:C(item_nbr)[18]           0          0        nan        nan           0           0\n",
      "C(store_nbr)[T.20]:C(item_nbr)[35]           0          0        nan        nan           0           0\n",
      "C(store_nbr)[T.28]:C(item_nbr)[35]     -0.1967      0.026     -7.481      0.000      -0.248      -0.145\n",
      "C(store_nbr)[T.20]:C(item_nbr)[41]      0.9788      0.024     40.588      0.000       0.932       1.026\n",
      "C(store_nbr)[T.28]:C(item_nbr)[41]           0          0        nan        nan           0           0\n",
      "C(store_nbr)[T.20]:C(item_nbr)[45]           0          0        nan        nan           0           0\n",
      "C(store_nbr)[T.28]:C(item_nbr)[45]     -0.3939      0.032    -12.483      0.000      -0.456      -0.332\n",
      "C(store_nbr)[T.20]:C(item_nbr)[74]     -0.0708      0.028     -2.567      0.010      -0.125      -0.017\n",
      "C(store_nbr)[T.28]:C(item_nbr)[74]           0          0        nan        nan           0           0\n",
      "C(store_nbr)[T.20]:C(item_nbr)[93]     -0.0247      0.058     -0.429      0.668      -0.138       0.088\n",
      "C(store_nbr)[T.28]:C(item_nbr)[93]           0          0        nan        nan           0           0\n",
      "C(store_nbr)[T.20]:C(item_nbr)[102]          0          0        nan        nan           0           0\n",
      "C(store_nbr)[T.28]:C(item_nbr)[102]          0          0        nan        nan           0           0\n",
      "==============================================================================\n",
      "Omnibus:                      292.372   Durbin-Watson:                   1.858\n",
      "Prob(Omnibus):                  0.000   Jarque-Bera (JB):             1589.677\n",
      "Skew:                           0.036   Prob(JB):                         0.00\n",
      "Kurtosis:                       6.121   Cond. No.                     1.28e+16\n",
      "==============================================================================\n",
      "\n",
      "Warnings:\n",
      "[1] Standard Errors assume that the covariance matrix of the errors is correctly specified.\n",
      "[2] The smallest eigenvalue is 1.23e-29. This might indicate that there are\n",
      "strong multicollinearity problems or that the design matrix is singular.\n"
     ]
    },
    {
     "name": "stderr",
     "output_type": "stream",
     "text": [
      "C:\\Anaconda3\\lib\\site-packages\\statsmodels\\base\\model.py:1036: RuntimeWarning: invalid value encountered in true_divide\n",
      "  return self.params / self.bse\n",
      "C:\\Anaconda3\\lib\\site-packages\\scipy\\stats\\_distn_infrastructure.py:879: RuntimeWarning: invalid value encountered in greater\n",
      "  return (self.a < x) & (x < self.b)\n",
      "C:\\Anaconda3\\lib\\site-packages\\scipy\\stats\\_distn_infrastructure.py:879: RuntimeWarning: invalid value encountered in less\n",
      "  return (self.a < x) & (x < self.b)\n",
      "C:\\Anaconda3\\lib\\site-packages\\scipy\\stats\\_distn_infrastructure.py:1818: RuntimeWarning: invalid value encountered in less_equal\n",
      "  cond2 = cond0 & (x <= self.a)\n"
     ]
    }
   ],
   "source": [
    "# test_7 = test_[test_['station_nbr'] == 7]\n",
    "\n",
    "# test_7['weekday'] = test_7.date.dt.weekday  # 월요일이 0 일요일이 8\n",
    "# test_7['holiday'] = test_7.date.isin(holiday[0])\n",
    "\n",
    "result['date'] = pd.to_datetime(result['date'])\n",
    "\n",
    "df_7 = pd.merge(result, key, on = 'store_nbr')\n",
    "df_7 = pd.merge(df_7, weather_train_7, on = ['date', 'station_nbr'])\n",
    "\n",
    "df_7_nonzero = df_7[df_7['log_units'] > 0]\n",
    "\n",
    "model7 = sm.OLS.from_formula('log_units ~ C(store_nbr):C(item_nbr) + C(weekday) + C(holiday) + C(event) + 0', data = df_7_nonzero)\n",
    "result_model7 = model7.fit()\n",
    "print(result_model7.summary())\n",
    "\n",
    "test_7_nonzero.reset_index(drop = True, inplace = True)\n",
    "test_7_nonzero['log_units'] = result_model7.predict(test_7_nonzero)\n",
    "test_7_nonzero['units'] = np.exp(test_7_nonzero['log_units']) - 1\n",
    "\n",
    "# for num in range(len(test_7)) :\n",
    "#     if test_7.at[num, 'item_nbr'] not in item_nbr_list_7 :\n",
    "#         test_7.set_value(num, 'units', 0.0)"
   ]
  },
  {
   "cell_type": "code",
   "execution_count": null,
   "metadata": {
    "collapsed": true
   },
   "outputs": [],
   "source": [
    "result_test.append(test_7)"
   ]
  },
  {
   "cell_type": "code",
   "execution_count": null,
   "metadata": {
    "collapsed": true
   },
   "outputs": [],
   "source": [
    "result_test.append(test_7_nonzero)\n",
    "result_test.append(test_7_zero)"
   ]
  },
  {
   "cell_type": "markdown",
   "metadata": {},
   "source": [
    "### station_nbr == 8\n",
    "- store_nbr == 39\n",
    "- no depart value"
   ]
  },
  {
   "cell_type": "code",
   "execution_count": null,
   "metadata": {
    "collapsed": true
   },
   "outputs": [],
   "source": [
    "set_tmax(weather_train_8)\n",
    "set_tmin(weather_train_8)\n",
    "set_tavg(weather_train_8)\n",
    "set_heat_cool(weather_train_8)\n",
    "merge_heat_cool(weather_train_8)\n",
    "set_depart(weather_train_8)\n",
    "set_snowfall_preciptotal(weather_train_8)\n",
    "set_dewpoint(weather_train_8)\n",
    "set_wetbulb(weather_train_8)\n",
    "set_stnpressure(weather_train_8)\n",
    "set_sealevel(weather_train_8)\n",
    "set_resultspeed(weather_train_8)\n",
    "set_resultdir(weather_train_8)\n",
    "set_avgspeed(weather_train_8)\n",
    "set_event(weather_train_8)\n",
    "\n",
    "# merged_8 = merge_weather_train(weather_train_8, train_new_39)\n",
    "item_nbr_list_8 = get_item_nbr(train_new_39)"
   ]
  },
  {
   "cell_type": "code",
   "execution_count": null,
   "metadata": {
    "collapsed": true
   },
   "outputs": [],
   "source": [
    "set_tmax(weather_test_8)\n",
    "set_tmin(weather_test_8)\n",
    "set_tavg(weather_test_8)\n",
    "set_heat_cool(weather_test_8)\n",
    "merge_heat_cool(weather_test_8)\n",
    "set_depart(weather_test_8)\n",
    "set_snowfall_preciptotal(weather_test_8)\n",
    "set_dewpoint(weather_test_8)\n",
    "set_wetbulb(weather_test_8)\n",
    "set_stnpressure(weather_test_8)\n",
    "set_sealevel(weather_test_8)\n",
    "set_resultspeed(weather_test_8)\n",
    "set_resultdir(weather_test_8)\n",
    "set_avgspeed(weather_test_8)\n",
    "set_event(weather_test_8)\n",
    "\n",
    "test_8 = test_preprocessing(test, holiday, weather_test_8)"
   ]
  },
  {
   "cell_type": "code",
   "execution_count": null,
   "metadata": {
    "collapsed": true
   },
   "outputs": [],
   "source": [
    "zero_item_nbr = []\n",
    "for num in range(1, 112) :\n",
    "    if num not in item_nbr_list_8 :\n",
    "        zero_item_nbr.append(num)\n",
    "\n",
    "test_8_nonzero = pd.concat([test_8[test_8['item_nbr'] == num] for num in item_nbr_list_8])\n",
    "test_8_zero = pd.concat([test_8[test_8['item_nbr'] == num] for num in zero_item_nbr])\n",
    "test_8_zero['log_units'] = 0\n",
    "test_8_zero['units'] = 0"
   ]
  },
  {
   "cell_type": "code",
   "execution_count": null,
   "metadata": {
    "collapsed": true
   },
   "outputs": [],
   "source": [
    "# test_8 = test_[test_['station_nbr'] == 8]\n",
    "\n",
    "# test_8['weekday'] = test_8.date.dt.weekday  # 월요일이 0 일요일이 8\n",
    "# test_8['holiday'] = test_8.date.isin(holiday[0])\n",
    "\n",
    "train_new_39['date'] = pd.to_datetime(train_new_39['date'])\n",
    "\n",
    "df_8 = pd.merge(train_new_39, key, on = 'store_nbr')\n",
    "df_8 = pd.merge(df_8, weather_train_8, on = ['date', 'station_nbr'])\n",
    "\n",
    "df_8_nonzero = df_8[df_8['log_units'] > 0]\n",
    "\n",
    "model8 = sm.OLS.from_formula('log_units ~ C(store_nbr):C(item_nbr) + C(weekday) + C(holiday) + C(event) + 0', data = df_8_nonzero)\n",
    "result_model8 = model8.fit()\n",
    "print(result_model8.summary())\n",
    "\n",
    "test_8_nonzero.reset_index(drop = True, inplace = True)\n",
    "test_8_nonzero['log_units'] = result_model8.predict(test_8_nonzero)\n",
    "test_8_nonzero['units'] = np.exp(test_8_nonzero['log_units']) - 1\n",
    "\n",
    "# for num in range(len(test_8)) :\n",
    "#     if test_8.at[num, 'item_nbr'] not in item_nbr_list_8 :\n",
    "#         test_8.set_value(num, 'units', 0.0)"
   ]
  },
  {
   "cell_type": "code",
   "execution_count": null,
   "metadata": {
    "collapsed": true
   },
   "outputs": [],
   "source": [
    "result_test.append(test_8)"
   ]
  },
  {
   "cell_type": "code",
   "execution_count": null,
   "metadata": {
    "collapsed": true
   },
   "outputs": [],
   "source": [
    "result_test.append(test_8_nonzero)\n",
    "result_test.append(test_8_zero)"
   ]
  },
  {
   "cell_type": "markdown",
   "metadata": {},
   "source": [
    "### station_nbr == 9\n",
    "- store_nbr == 4, 24\n",
    "- no depart value"
   ]
  },
  {
   "cell_type": "code",
   "execution_count": null,
   "metadata": {
    "collapsed": true
   },
   "outputs": [],
   "source": [
    "result = pd.concat([train_new_4, train_new_24])\n",
    "\n",
    "set_tmax(weather_train_9)\n",
    "set_tmin(weather_train_9)\n",
    "set_tavg(weather_train_9)\n",
    "set_heat_cool(weather_train_9)\n",
    "merge_heat_cool(weather_train_9)\n",
    "set_depart(weather_train_9)\n",
    "set_snowfall_preciptotal(weather_train_9)\n",
    "set_dewpoint(weather_train_9)\n",
    "set_wetbulb(weather_train_9)\n",
    "set_stnpressure(weather_train_9)\n",
    "set_sealevel(weather_train_9)\n",
    "set_resultspeed(weather_train_9)\n",
    "set_resultdir(weather_train_9)\n",
    "set_avgspeed(weather_train_9)\n",
    "set_event(weather_train_9)\n",
    "\n",
    "# merged_9 = merge_weather_train(weather_train_9, result)\n",
    "item_nbr_list_9 = get_item_nbr(result)"
   ]
  },
  {
   "cell_type": "code",
   "execution_count": null,
   "metadata": {
    "collapsed": true
   },
   "outputs": [],
   "source": [
    "set_tmax(weather_test_9)\n",
    "set_tmin(weather_test_9)\n",
    "set_tavg(weather_test_9)\n",
    "set_heat_cool(weather_test_9)\n",
    "merge_heat_cool(weather_test_9)\n",
    "set_depart(weather_test_9)\n",
    "set_snowfall_preciptotal(weather_test_9)\n",
    "set_dewpoint(weather_test_9)\n",
    "set_wetbulb(weather_test_9)\n",
    "set_stnpressure(weather_test_9)\n",
    "set_sealevel(weather_test_9)\n",
    "set_resultspeed(weather_test_9)\n",
    "set_resultdir(weather_test_9)\n",
    "set_avgspeed(weather_test_9)\n",
    "set_event(weather_test_9)\n",
    "\n",
    "test_9 = test_preprocessing(test, holiday, weather_test_9)"
   ]
  },
  {
   "cell_type": "code",
   "execution_count": null,
   "metadata": {
    "collapsed": true
   },
   "outputs": [],
   "source": [
    "zero_item_nbr = []\n",
    "for num in range(1, 112) :\n",
    "    if num not in item_nbr_list_9 :\n",
    "        zero_item_nbr.append(num)\n",
    "\n",
    "test_9_nonzero = pd.concat([test_9[test_9['item_nbr'] == num] for num in item_nbr_list_9])\n",
    "test_9_zero = pd.concat([test_9[test_9['item_nbr'] == num] for num in zero_item_nbr])\n",
    "test_9_zero['log_units'] = 0\n",
    "test_9_zero['units'] = 0"
   ]
  },
  {
   "cell_type": "code",
   "execution_count": null,
   "metadata": {
    "collapsed": true
   },
   "outputs": [],
   "source": [
    "# test_9 = test_[test_['station_nbr'] == 9]\n",
    "\n",
    "# test_9['weekday'] = test_9.date.dt.weekday  # 월요일이 0 일요일이 8\n",
    "# test_9['holiday'] = test_9.date.isin(holiday[0])\n",
    "\n",
    "result['date'] = pd.to_datetime(result['date'])\n",
    "\n",
    "df_9 = pd.merge(result, key, on = 'store_nbr')\n",
    "df_9 = pd.merge(df_9, weather_train_9, on = ['date', 'station_nbr'])\n",
    "\n",
    "df_9_nonzero = df_9[df_9['log_units'] > 0]\n",
    "\n",
    "model9 = sm.OLS.from_formula('log_units ~ C(store_nbr):C(item_nbr) + C(weekday) + C(holiday) + C(event) + 0', data = df_9_nonzero)\n",
    "result_model9 = model9.fit()\n",
    "print(result_model9.summary())\n",
    "\n",
    "test_9_nonzero.reset_index(drop = True, inplace = True)\n",
    "test_9_nonzero['log_units'] = result_model9.predict(test_9_nonzero)\n",
    "test_9_nonzero['units'] = np.exp(test_9_nonzero['log_units']) - 1\n",
    "\n",
    "# for num in range(len(test_9)) :\n",
    "#     if test_9.at[num, 'item_nbr'] not in item_nbr_list_9 :\n",
    "#         test_9.set_value(num, 'units', 0.0)"
   ]
  },
  {
   "cell_type": "code",
   "execution_count": null,
   "metadata": {
    "collapsed": true
   },
   "outputs": [],
   "source": [
    "result_test.append(test_9)"
   ]
  },
  {
   "cell_type": "code",
   "execution_count": null,
   "metadata": {
    "collapsed": true
   },
   "outputs": [],
   "source": [
    "result_test.append(test_9_nonzero)\n",
    "result_test.append(test_9_zero)"
   ]
  },
  {
   "cell_type": "markdown",
   "metadata": {},
   "source": [
    "### station_nbr == 10\n",
    "- store_nbr == 11, 22, 27\n",
    "- no depart value"
   ]
  },
  {
   "cell_type": "code",
   "execution_count": null,
   "metadata": {
    "collapsed": true
   },
   "outputs": [],
   "source": [
    "result = pd.concat([train_new_11, train_new_22, train_new_27])\n",
    "\n",
    "set_tmax(weather_train_10)\n",
    "set_tmin(weather_train_10)\n",
    "set_tavg(weather_train_10)\n",
    "set_heat_cool(weather_train_10)\n",
    "merge_heat_cool(weather_train_10)\n",
    "set_depart(weather_train_10)\n",
    "set_snowfall_preciptotal(weather_train_10)\n",
    "set_dewpoint(weather_train_10)\n",
    "set_wetbulb(weather_train_10)\n",
    "set_stnpressure(weather_train_10)\n",
    "set_sealevel(weather_train_10)\n",
    "set_resultspeed(weather_train_10)\n",
    "set_resultdir(weather_train_10)\n",
    "set_avgspeed(weather_train_10)\n",
    "set_event(weather_train_10)\n",
    "\n",
    "# merged_10 = merge_weather_train(weather_train_10, result)\n",
    "item_nbr_list_10 = get_item_nbr(result)"
   ]
  },
  {
   "cell_type": "code",
   "execution_count": null,
   "metadata": {
    "collapsed": true
   },
   "outputs": [],
   "source": [
    "set_tmax(weather_test_10)\n",
    "set_tmin(weather_test_10)\n",
    "set_tavg(weather_test_10)\n",
    "set_heat_cool(weather_test_10)\n",
    "merge_heat_cool(weather_test_10)\n",
    "set_depart(weather_test_10)\n",
    "set_snowfall_preciptotal(weather_test_10)\n",
    "set_dewpoint(weather_test_10)\n",
    "set_wetbulb(weather_test_10)\n",
    "set_stnpressure(weather_test_10)\n",
    "set_sealevel(weather_test_10)\n",
    "set_resultspeed(weather_test_10)\n",
    "set_resultdir(weather_test_10)\n",
    "set_avgspeed(weather_test_10)\n",
    "set_event(weather_test_10)\n",
    "\n",
    "test_10 = test_preprocessing(test, holiday, weather_test_10)"
   ]
  },
  {
   "cell_type": "code",
   "execution_count": null,
   "metadata": {
    "collapsed": true
   },
   "outputs": [],
   "source": [
    "zero_item_nbr = []\n",
    "for num in range(1, 112) :\n",
    "    if num not in item_nbr_list_10 :\n",
    "        zero_item_nbr.append(num)\n",
    "\n",
    "test_10_nonzero = pd.concat([test_10[test_10['item_nbr'] == num] for num in item_nbr_list_10])\n",
    "test_10_zero = pd.concat([test_10[test_10['item_nbr'] == num] for num in zero_item_nbr])\n",
    "test_10_zero['log_units'] = 0\n",
    "test_10_zero['units'] = 0"
   ]
  },
  {
   "cell_type": "code",
   "execution_count": null,
   "metadata": {
    "collapsed": true
   },
   "outputs": [],
   "source": [
    "# test_10 = test_[test_['station_nbr'] == 10]\n",
    "\n",
    "# test_10['weekday'] = test_10.date.dt.weekday  # 월요일이 0 일요일이 8\n",
    "# test_10['holiday'] = test_10.date.isin(holiday[0])\n",
    "\n",
    "result['date'] = pd.to_datetime(result['date'])\n",
    "\n",
    "df_10 = pd.merge(result, key, on = 'store_nbr')\n",
    "df_10 = pd.merge(df_10, weather_train_10, on = ['date', 'station_nbr'])\n",
    "\n",
    "df_10_nonzero = df_10[df_10['log_units'] > 0]\n",
    "\n",
    "model10 = sm.OLS.from_formula('log_units ~ C(store_nbr):C(item_nbr) + C(weekday) + C(holiday) + C(event) + 0', data = df_10_nonzero)\n",
    "result_model10 = model10.fit()\n",
    "print(result_model10.summary())\n",
    "\n",
    "test_10_nonzero.reset_index(drop = True, inplace = True)\n",
    "test_10_nonzero['log_units'] = result_model10.predict(test_10_nonzero)\n",
    "test_10_nonzero['units'] = np.exp(test_10_nonzero['log_units']) - 1\n",
    "\n",
    "# for num in range(len(test_10)) :\n",
    "#     if test_10.at[num, 'item_nbr'] not in item_nbr_list_10 :\n",
    "#         test_10.set_value(num, 'units', 0.0)"
   ]
  },
  {
   "cell_type": "code",
   "execution_count": null,
   "metadata": {
    "collapsed": true
   },
   "outputs": [],
   "source": [
    "result_test.append(test_10)"
   ]
  },
  {
   "cell_type": "code",
   "execution_count": null,
   "metadata": {
    "collapsed": true
   },
   "outputs": [],
   "source": [
    "result_test.append(test_10_nonzero)\n",
    "result_test.append(test_10_zero)"
   ]
  },
  {
   "cell_type": "markdown",
   "metadata": {},
   "source": [
    "### station_nbr == 11\n",
    "- store_nbr == 12, 43"
   ]
  },
  {
   "cell_type": "code",
   "execution_count": null,
   "metadata": {
    "collapsed": true
   },
   "outputs": [],
   "source": [
    "result = pd.concat([train_new_12, train_new_43])\n",
    "\n",
    "set_tmax(weather_train_11)\n",
    "set_tmin(weather_train_11)\n",
    "set_tavg(weather_train_11)\n",
    "set_heat_cool(weather_train_11)\n",
    "merge_heat_cool(weather_train_11)\n",
    "set_depart(weather_train_11)\n",
    "set_snowfall_preciptotal(weather_train_11)\n",
    "set_dewpoint(weather_train_11)\n",
    "set_wetbulb(weather_train_11)\n",
    "set_stnpressure(weather_train_11)\n",
    "set_sealevel(weather_train_11)\n",
    "set_resultspeed(weather_train_11)\n",
    "set_resultdir(weather_train_11)\n",
    "set_avgspeed(weather_train_11)\n",
    "set_event(weather_train_11)\n",
    "\n",
    "# merged_11 = merge_weather_train(weather_train_11, result)\n",
    "item_nbr_list_11 = get_item_nbr(result)"
   ]
  },
  {
   "cell_type": "code",
   "execution_count": null,
   "metadata": {
    "collapsed": true
   },
   "outputs": [],
   "source": [
    "set_tmax(weather_test_11)\n",
    "set_tmin(weather_test_11)\n",
    "set_tavg(weather_test_11)\n",
    "set_heat_cool(weather_test_11)\n",
    "merge_heat_cool(weather_test_11)\n",
    "set_depart(weather_test_11)\n",
    "set_snowfall_preciptotal(weather_test_11)\n",
    "set_dewpoint(weather_test_11)\n",
    "set_wetbulb(weather_test_11)\n",
    "set_stnpressure(weather_test_11)\n",
    "set_sealevel(weather_test_11)\n",
    "set_resultspeed(weather_test_11)\n",
    "set_resultdir(weather_test_11)\n",
    "set_avgspeed(weather_test_11)\n",
    "set_event(weather_test_11)\n",
    "\n",
    "test_11 = test_preprocessing(test, holiday, weather_test_11)"
   ]
  },
  {
   "cell_type": "code",
   "execution_count": null,
   "metadata": {
    "collapsed": true
   },
   "outputs": [],
   "source": [
    "zero_item_nbr = []\n",
    "for num in range(1, 112) :\n",
    "    if num not in item_nbr_list_11 :\n",
    "        zero_item_nbr.append(num)\n",
    "\n",
    "test_11_nonzero = pd.concat([test_11[test_11['item_nbr'] == num] for num in item_nbr_list_11])\n",
    "test_11_zero = pd.concat([test_11[test_11['item_nbr'] == num] for num in zero_item_nbr])\n",
    "test_11_zero['log_units'] = 0\n",
    "test_11_zero['units'] = 0"
   ]
  },
  {
   "cell_type": "code",
   "execution_count": null,
   "metadata": {
    "collapsed": true
   },
   "outputs": [],
   "source": [
    "# test_11 = test_[test_['station_nbr'] == 11]\n",
    "\n",
    "# test_11['weekday'] = test_11.date.dt.weekday  # 월요일이 0 일요일이 8\n",
    "# test_11['holiday'] = test_11.date.isin(holiday[0])\n",
    "\n",
    "result['date'] = pd.to_datetime(result['date'])\n",
    "\n",
    "df_11 = pd.merge(result, key, on = 'store_nbr')\n",
    "df_11 = pd.merge(df_11, weather_train_11, on = ['date', 'station_nbr'])\n",
    "\n",
    "df_11_nonzero = df_11[df_11['log_units'] > 0 ]\n",
    "\n",
    "model11 = sm.OLS.from_formula('log_units ~ C(store_nbr):C(item_nbr) + C(weekday) + C(holiday) + C(event) + 0', data = df_11_nonzero)\n",
    "result_model11 = model11.fit()\n",
    "print(result_model11.summary())\n",
    "\n",
    "test_11_nonzero.reset_index(drop = True, inplace = True)\n",
    "test_11_nonzero['log_units'] = result_model11.predict(test_11_nonzero)\n",
    "test_11_nonzero['units'] = np.exp(test_11_nonzero['log_units']) - 1\n",
    "\n",
    "# for num in range(len(test_11)) :\n",
    "#     if test_11.at[num, 'item_nbr'] not in item_nbr_list_11 :\n",
    "#         test_11.set_value(num, 'units', 0.0)"
   ]
  },
  {
   "cell_type": "code",
   "execution_count": null,
   "metadata": {
    "collapsed": true
   },
   "outputs": [],
   "source": [
    "result_test.append(test_11)"
   ]
  },
  {
   "cell_type": "code",
   "execution_count": null,
   "metadata": {
    "collapsed": true
   },
   "outputs": [],
   "source": [
    "result_test.append(test_11_nonzero)\n",
    "result_test.append(test_11_zero)"
   ]
  },
  {
   "cell_type": "code",
   "execution_count": null,
   "metadata": {
    "collapsed": true
   },
   "outputs": [],
   "source": []
  },
  {
   "cell_type": "markdown",
   "metadata": {},
   "source": [
    "### station_nbr == 12\n",
    "- store_nbr == 5, 10, 41, 44\n",
    "- no depart value"
   ]
  },
  {
   "cell_type": "code",
   "execution_count": null,
   "metadata": {
    "collapsed": true
   },
   "outputs": [],
   "source": [
    "result = pd.concat([train_new_5, train_new_10, train_new_41, train_new_44])\n",
    "\n",
    "set_tmax(weather_train_12)\n",
    "set_tmin(weather_train_12)\n",
    "set_tavg(weather_train_12)\n",
    "set_heat_cool(weather_train_12)\n",
    "merge_heat_cool(weather_train_12)\n",
    "set_depart(weather_train_12)\n",
    "set_snowfall_preciptotal(weather_train_12)\n",
    "set_dewpoint(weather_train_12)\n",
    "set_wetbulb(weather_train_12)\n",
    "set_stnpressure(weather_train_12)\n",
    "set_sealevel(weather_train_12)\n",
    "set_resultspeed(weather_train_12)\n",
    "set_resultdir(weather_train_12)\n",
    "set_avgspeed(weather_train_12)\n",
    "set_event(weather_train_12)\n",
    "\n",
    "# merged_12 = merge_weather_train(weather_train_12, result)\n",
    "item_nbr_list_12 = get_item_nbr(result)"
   ]
  },
  {
   "cell_type": "code",
   "execution_count": null,
   "metadata": {
    "collapsed": true
   },
   "outputs": [],
   "source": [
    "set_tmax(weather_test_12)\n",
    "set_tmin(weather_test_12)\n",
    "set_tavg(weather_test_12)\n",
    "set_heat_cool(weather_test_12)\n",
    "merge_heat_cool(weather_test_12)\n",
    "set_depart(weather_test_12)\n",
    "set_snowfall_preciptotal(weather_test_12)\n",
    "set_dewpoint(weather_test_12)\n",
    "set_wetbulb(weather_test_12)\n",
    "set_stnpressure(weather_test_12)\n",
    "set_sealevel(weather_test_12)\n",
    "set_resultspeed(weather_test_12)\n",
    "set_resultdir(weather_test_12)\n",
    "set_avgspeed(weather_test_12)\n",
    "set_event(weather_test_12)\n",
    "\n",
    "test_12 = test_preprocessing(test, holiday, weather_test_12)"
   ]
  },
  {
   "cell_type": "code",
   "execution_count": null,
   "metadata": {
    "collapsed": true
   },
   "outputs": [],
   "source": [
    "zero_item_nbr = []\n",
    "for num in range(1, 112) :\n",
    "    if num not in item_nbr_list_12 :\n",
    "        zero_item_nbr.append(num)\n",
    "\n",
    "test_12_nonzero = pd.concat([test_12[test_12['item_nbr'] == num] for num in item_nbr_list_12])\n",
    "test_12_zero = pd.concat([test_12[test_12['item_nbr'] == num] for num in zero_item_nbr])\n",
    "test_12_zero['log_units'] = 0\n",
    "test_12_zero['units'] = 0"
   ]
  },
  {
   "cell_type": "code",
   "execution_count": null,
   "metadata": {
    "collapsed": true
   },
   "outputs": [],
   "source": [
    "# test_12 = test_[test_['station_nbr'] == 12]\n",
    "\n",
    "# test_12['weekday'] = test_12.date.dt.weekday  # 월요일이 0 일요일이 8\n",
    "# test_12['holiday'] = test_12.date.isin(holiday[0])\n",
    "\n",
    "result['date'] = pd.to_datetime(result['date'])\n",
    "\n",
    "df_12 = pd.merge(result, key, on = 'store_nbr')\n",
    "df_12 = pd.merge(df_12, weather_train_12, on = ['date', 'station_nbr'])\n",
    "\n",
    "df_12_nonzero = df_12[df_12['log_units'] > 0]\n",
    "\n",
    "model12 = sm.OLS.from_formula('log_units ~ C(store_nbr):C(item_nbr) + C(weekday) + C(holiday) + C(event) + 0', data = df_12_nonzero)\n",
    "result_model12 = model12.fit()\n",
    "print(result_model12.summary())\n",
    "\n",
    "test_12_nonzero.reset_index(drop = True, inplace = True)\n",
    "test_12_nonzero['log_units'] = result_model12.predict(test_12_nonzero)\n",
    "test_12_nonzero['units'] = np.exp(test_12_nonzero['log_units']) - 1\n",
    "\n",
    "# for num in range(len(test_12)) :\n",
    "#     if test_12.at[num, 'item_nbr'] not in item_nbr_list_12 :\n",
    "#         test_12.set_value(num, 'units', 0.0)"
   ]
  },
  {
   "cell_type": "code",
   "execution_count": null,
   "metadata": {
    "collapsed": true
   },
   "outputs": [],
   "source": [
    "result_test.append(test_12)"
   ]
  },
  {
   "cell_type": "code",
   "execution_count": null,
   "metadata": {
    "collapsed": true
   },
   "outputs": [],
   "source": [
    "result_test.append(test_12_nonzero)\n",
    "result_test.append(test_12_zero)"
   ]
  },
  {
   "cell_type": "code",
   "execution_count": null,
   "metadata": {
    "collapsed": true
   },
   "outputs": [],
   "source": []
  },
  {
   "cell_type": "markdown",
   "metadata": {},
   "source": [
    "### station_nbr == 13\n",
    "- store_nbr == 15, 25, 32, 37, 40\n",
    "- no depart value"
   ]
  },
  {
   "cell_type": "code",
   "execution_count": null,
   "metadata": {
    "collapsed": true
   },
   "outputs": [],
   "source": [
    "result = pd.concat([train_new_15, train_new_25, train_new_32, train_new_37, train_new_40])\n",
    "\n",
    "set_tmax(weather_train_13)\n",
    "set_tmin(weather_train_13)\n",
    "set_tavg(weather_train_13)\n",
    "set_heat_cool(weather_train_13)\n",
    "merge_heat_cool(weather_train_13)\n",
    "set_depart(weather_train_13)\n",
    "set_snowfall_preciptotal(weather_train_13)\n",
    "set_dewpoint(weather_train_13)\n",
    "set_wetbulb(weather_train_13)\n",
    "set_stnpressure(weather_train_13)\n",
    "set_sealevel(weather_train_13)\n",
    "set_resultspeed(weather_train_13)\n",
    "set_resultdir(weather_train_13)\n",
    "set_avgspeed(weather_train_13)\n",
    "set_event(weather_train_13)\n",
    "\n",
    "# merged_13 = merge_weather_train(weather_train_13, result)\n",
    "item_nbr_list_13 = get_item_nbr(result)"
   ]
  },
  {
   "cell_type": "code",
   "execution_count": null,
   "metadata": {
    "collapsed": true
   },
   "outputs": [],
   "source": [
    "set_tmax(weather_test_13)\n",
    "set_tmin(weather_test_13)\n",
    "set_tavg(weather_test_13)\n",
    "set_heat_cool(weather_test_13)\n",
    "merge_heat_cool(weather_test_13)\n",
    "set_depart(weather_test_13)\n",
    "set_snowfall_preciptotal(weather_test_13)\n",
    "set_dewpoint(weather_test_13)\n",
    "set_wetbulb(weather_test_13)\n",
    "set_stnpressure(weather_test_13)\n",
    "set_sealevel(weather_test_13)\n",
    "set_resultspeed(weather_test_13)\n",
    "set_resultdir(weather_test_13)\n",
    "set_avgspeed(weather_test_13)\n",
    "set_event(weather_test_13)\n",
    "\n",
    "test_13 = test_preprocessing(test, holiday, weather_test_13)"
   ]
  },
  {
   "cell_type": "code",
   "execution_count": null,
   "metadata": {
    "collapsed": true
   },
   "outputs": [],
   "source": [
    "zero_item_nbr = []\n",
    "for num in range(1, 112) :\n",
    "    if num not in item_nbr_list_13 :\n",
    "        zero_item_nbr.append(num)\n",
    "\n",
    "test_13_nonzero = pd.concat([test_13[test_13['item_nbr'] == num] for num in item_nbr_list_13])\n",
    "test_13_zero = pd.concat([test_13[test_13['item_nbr'] == num] for num in zero_item_nbr])\n",
    "test_13_zero['log_units'] = 0\n",
    "test_13_zero['units'] = 0"
   ]
  },
  {
   "cell_type": "code",
   "execution_count": null,
   "metadata": {
    "collapsed": true
   },
   "outputs": [],
   "source": [
    "# test_13 = test_[test_['station_nbr'] == 13]\n",
    "\n",
    "# test_13['weekday'] = test_13.date.dt.weekday  # 월요일이 0 일요일이 8\n",
    "# test_13['holiday'] = test_13.date.isin(holiday[0])\n",
    "\n",
    "result['date'] = pd.to_datetime(result['date'])\n",
    "\n",
    "df_13 = pd.merge(result, key, on = 'store_nbr')\n",
    "df_13 = pd.merge(df_13, weather_train_13, on = ['date', 'station_nbr'])\n",
    "\n",
    "df_13_nonzero = df_13[df_13['log_units'] > 0]\n",
    "\n",
    "model13 = sm.OLS.from_formula('log_units ~ C(store_nbr):C(item_nbr) + C(weekday) + C(holiday) + C(event) + 0', data = df_13_nonzero)\n",
    "result_model13 = model13.fit()\n",
    "print(result_model13.summary())\n",
    "\n",
    "test_13_nonzero.reset_index(drop = True, inplace = True)\n",
    "test_13_nonzero['log_units'] = result_model13.predict(test_13_nonzero)\n",
    "test_13_nonzero['units'] = np.exp(test_13_nonzero['log_units']) - 1\n",
    "\n",
    "# for num in range(len(test_13)) :\n",
    "#     if test_13.at[num, 'item_nbr'] not in item_nbr_list_13 :\n",
    "#         test_13.set_value(num, 'units', 0.0)"
   ]
  },
  {
   "cell_type": "code",
   "execution_count": null,
   "metadata": {
    "collapsed": true
   },
   "outputs": [],
   "source": [
    "result_test.append(test_13)"
   ]
  },
  {
   "cell_type": "code",
   "execution_count": null,
   "metadata": {
    "collapsed": true
   },
   "outputs": [],
   "source": [
    "result_test.append(test_13_nonzero)\n",
    "result_test.append(test_13_zero)"
   ]
  },
  {
   "cell_type": "code",
   "execution_count": null,
   "metadata": {
    "collapsed": true
   },
   "outputs": [],
   "source": []
  },
  {
   "cell_type": "markdown",
   "metadata": {},
   "source": [
    "### station_nbr == 14\n",
    "- store_nbr == 2, 6, 38, 42"
   ]
  },
  {
   "cell_type": "code",
   "execution_count": null,
   "metadata": {
    "collapsed": true
   },
   "outputs": [],
   "source": [
    "result = pd.concat([train_new_2, train_new_6, train_new_38, train_new_42])\n",
    "\n",
    "set_tmax(weather_train_14)\n",
    "set_tmin(weather_train_14)\n",
    "set_tavg(weather_train_14)\n",
    "set_heat_cool(weather_train_14)\n",
    "merge_heat_cool(weather_train_14)\n",
    "set_depart(weather_train_14)\n",
    "set_snowfall_preciptotal(weather_train_14)\n",
    "set_dewpoint(weather_train_14)\n",
    "set_wetbulb(weather_train_14)\n",
    "set_stnpressure(weather_train_14)\n",
    "set_sealevel(weather_train_14)\n",
    "set_resultspeed(weather_train_14)\n",
    "set_resultdir(weather_train_14)\n",
    "set_avgspeed(weather_train_14)\n",
    "set_event(weather_train_14)\n",
    "\n",
    "# merged_14 = merge_weather_train(weather_train_14, result)\n",
    "item_nbr_list_14 = get_item_nbr(result)"
   ]
  },
  {
   "cell_type": "code",
   "execution_count": null,
   "metadata": {
    "collapsed": true
   },
   "outputs": [],
   "source": [
    "set_tmax(weather_test_14)\n",
    "set_tmin(weather_test_14)\n",
    "set_tavg(weather_test_14)\n",
    "set_heat_cool(weather_test_14)\n",
    "merge_heat_cool(weather_test_14)\n",
    "set_depart(weather_test_14)\n",
    "set_snowfall_preciptotal(weather_test_14)\n",
    "set_dewpoint(weather_test_14)\n",
    "set_wetbulb(weather_test_14)\n",
    "set_stnpressure(weather_test_14)\n",
    "set_sealevel(weather_test_14)\n",
    "set_resultspeed(weather_test_14)\n",
    "set_resultdir(weather_test_14)\n",
    "set_avgspeed(weather_test_14)\n",
    "set_event(weather_test_14)\n",
    "\n",
    "test_14 = test_preprocessing(test, holiday, weather_test_14)"
   ]
  },
  {
   "cell_type": "code",
   "execution_count": null,
   "metadata": {
    "collapsed": true
   },
   "outputs": [],
   "source": [
    "zero_item_nbr = []\n",
    "for num in range(1, 112) :\n",
    "    if num not in item_nbr_list_14 :\n",
    "        zero_item_nbr.append(num)\n",
    "\n",
    "test_14_nonzero = pd.concat([test_14[test_14['item_nbr'] == num] for num in item_nbr_list_14])\n",
    "test_14_zero = pd.concat([test_14[test_14['item_nbr'] == num] for num in zero_item_nbr])\n",
    "test_14_zero['log_units'] = 0\n",
    "test_14_zero['units'] = 0"
   ]
  },
  {
   "cell_type": "code",
   "execution_count": null,
   "metadata": {
    "collapsed": true
   },
   "outputs": [],
   "source": [
    "# test_14 = test_[test_['station_nbr'] == 14]\n",
    "\n",
    "# test_14['weekday'] = test_14.date.dt.weekday  # 월요일이 0 일요일이 8\n",
    "# test_14['holiday'] = test_14.date.isin(holiday[0])\n",
    "\n",
    "result['date'] = pd.to_datetime(result['date'])\n",
    "\n",
    "df_14 = pd.merge(result, key, on = 'store_nbr')\n",
    "df_14 = pd.merge(df_14, weather_train_14, on = ['date', 'station_nbr'])\n",
    "\n",
    "df_14_nonzero = df_14[df_14['log_units'] > 0]\n",
    "\n",
    "model14 = sm.OLS.from_formula('log_units ~ C(store_nbr):C(item_nbr) + C(weekday) + C(holiday) + C(event) + 0', data = df_14_nonzero)\n",
    "result_model14 = model14.fit()\n",
    "print(result_model14.summary())\n",
    "\n",
    "test_14_nonzero.reset_index(drop = True, inplace = True)\n",
    "test_14_nonzero['log_units'] = result_model14.predict(test_14_nonzero)\n",
    "test_14_nonzero['units'] = np.exp(test_14_nonzero['log_units']) - 1\n",
    "\n",
    "# for num in range(len(test_14)) :\n",
    "#     if test_14.at[num, 'item_nbr'] not in item_nbr_list_14 :\n",
    "#         test_14.set_value(num, 'units', 0.0)"
   ]
  },
  {
   "cell_type": "code",
   "execution_count": null,
   "metadata": {
    "collapsed": true
   },
   "outputs": [],
   "source": [
    "result_test.append(test_14)"
   ]
  },
  {
   "cell_type": "code",
   "execution_count": null,
   "metadata": {
    "collapsed": true
   },
   "outputs": [],
   "source": [
    "result_test.append(test_14_nonzero)\n",
    "result_test.append(test_14_zero)"
   ]
  },
  {
   "cell_type": "code",
   "execution_count": null,
   "metadata": {
    "collapsed": true
   },
   "outputs": [],
   "source": []
  },
  {
   "cell_type": "markdown",
   "metadata": {},
   "source": [
    "### station_nbr == 15\n",
    "- store_nbr == 19"
   ]
  },
  {
   "cell_type": "code",
   "execution_count": null,
   "metadata": {
    "collapsed": true
   },
   "outputs": [],
   "source": [
    "set_tmax(weather_train_15)\n",
    "set_tmin(weather_train_15)\n",
    "set_tavg(weather_train_15)\n",
    "set_heat_cool(weather_train_15)\n",
    "merge_heat_cool(weather_train_15)\n",
    "set_depart(weather_train_15)\n",
    "set_snowfall_preciptotal(weather_train_15)\n",
    "set_dewpoint(weather_train_15)\n",
    "set_wetbulb(weather_train_15)\n",
    "set_stnpressure(weather_train_15)\n",
    "set_sealevel(weather_train_15)\n",
    "set_resultspeed(weather_train_15)\n",
    "set_resultdir(weather_train_15)\n",
    "set_avgspeed(weather_train_15)\n",
    "set_event(weather_train_15)\n",
    "\n",
    "# merged_15 = merge_weather_train(weather_train_15, train_new_19)\n",
    "item_nbr_list_15 = get_item_nbr(train_new_19)"
   ]
  },
  {
   "cell_type": "code",
   "execution_count": null,
   "metadata": {
    "collapsed": true
   },
   "outputs": [],
   "source": [
    "set_tmax(weather_test_15)\n",
    "set_tmin(weather_test_15)\n",
    "set_tavg(weather_test_15)\n",
    "set_heat_cool(weather_test_15)\n",
    "merge_heat_cool(weather_test_15)\n",
    "set_depart(weather_test_15)\n",
    "set_snowfall_preciptotal(weather_test_15)\n",
    "set_dewpoint(weather_test_15)\n",
    "set_wetbulb(weather_test_15)\n",
    "set_stnpressure(weather_test_15)\n",
    "set_sealevel(weather_test_15)\n",
    "set_resultspeed(weather_test_15)\n",
    "set_resultdir(weather_test_15)\n",
    "set_avgspeed(weather_test_15)\n",
    "set_event(weather_test_15)\n",
    "\n",
    "test_15 = test_preprocessing(test, holiday, weather_test_15)"
   ]
  },
  {
   "cell_type": "code",
   "execution_count": null,
   "metadata": {
    "collapsed": true
   },
   "outputs": [],
   "source": [
    "zero_item_nbr = []\n",
    "for num in range(1, 112) :\n",
    "    if num not in item_nbr_list_15 :\n",
    "        zero_item_nbr.append(num)\n",
    "\n",
    "test_15_nonzero = pd.concat([test_15[test_15['item_nbr'] == num] for num in item_nbr_list_15])\n",
    "test_15_zero = pd.concat([test_15[test_15['item_nbr'] == num] for num in zero_item_nbr])\n",
    "test_15_zero['log_units'] = 0\n",
    "test_15_zero['units'] = 0"
   ]
  },
  {
   "cell_type": "code",
   "execution_count": null,
   "metadata": {
    "collapsed": true
   },
   "outputs": [],
   "source": [
    "# test_15 = test_[test_['station_nbr'] == 15]\n",
    "\n",
    "# test_15['weekday'] = test_15.date.dt.weekday  # 월요일이 0 일요일이 8\n",
    "# test_15['holiday'] = test_15.date.isin(holiday[0])\n",
    "\n",
    "train_new_19['date'] = pd.to_datetime(train_new_19['date'])\n",
    "\n",
    "df_15 = pd.merge(train_new_19, key, on = 'store_nbr')\n",
    "df_15 = pd.merge(df_15, weather_train_15, on = ['date', 'station_nbr'])\n",
    "\n",
    "df_15_nonzero = df_15[df_15['log_units'] > 0]\n",
    "\n",
    "model15 = sm.OLS.from_formula('log_units ~ C(store_nbr):C(item_nbr) + C(weekday) + C(holiday) + C(event) + 0', data = df_15_nonzero)\n",
    "result_model15 = model15.fit()\n",
    "print(result_model15.summary())\n",
    "\n",
    "test_15_nonzero.reset_index(drop = True, inplace = True)\n",
    "test_15_nonzero['log_units'] = result_model15.predict(test_15_nonzero)\n",
    "test_15_nonzero['units'] = np.exp(test_15_nonzero['log_units']) - 1\n",
    "\n",
    "# for num in range(len(test_15)) :\n",
    "#     if test_15.at[num, 'item_nbr'] not in item_nbr_list_15 :\n",
    "#         test_15.set_value(num, 'units', 0.0)"
   ]
  },
  {
   "cell_type": "code",
   "execution_count": null,
   "metadata": {
    "collapsed": true
   },
   "outputs": [],
   "source": [
    "result_test.append(test_15)"
   ]
  },
  {
   "cell_type": "code",
   "execution_count": null,
   "metadata": {
    "collapsed": true
   },
   "outputs": [],
   "source": [
    "result_test.append(test_15_nonzero)\n",
    "result_test.append(test_15_zero)"
   ]
  },
  {
   "cell_type": "code",
   "execution_count": null,
   "metadata": {
    "collapsed": true
   },
   "outputs": [],
   "source": []
  },
  {
   "cell_type": "markdown",
   "metadata": {},
   "source": [
    "### station_nbr == 16\n",
    "- store_nbr == 14, 45\n",
    "- no depart value"
   ]
  },
  {
   "cell_type": "code",
   "execution_count": null,
   "metadata": {
    "collapsed": true
   },
   "outputs": [],
   "source": [
    "result = pd.concat([train_new_14, train_new_45])\n",
    "\n",
    "set_tmax(weather_train_16)\n",
    "set_tmin(weather_train_16)\n",
    "set_tavg(weather_train_16)\n",
    "set_heat_cool(weather_train_16)\n",
    "merge_heat_cool(weather_train_16)\n",
    "set_depart(weather_train_16)\n",
    "set_snowfall_preciptotal(weather_train_16)\n",
    "set_dewpoint(weather_train_16)\n",
    "set_wetbulb(weather_train_16)\n",
    "set_stnpressure(weather_train_16)\n",
    "set_sealevel(weather_train_16)\n",
    "set_resultspeed(weather_train_16)\n",
    "set_resultdir(weather_train_16)\n",
    "set_avgspeed(weather_train_16)\n",
    "set_event(weather_train_16)\n",
    "\n",
    "# merged_16 = merge_weather_train(weather_train_16, result)\n",
    "item_nbr_list_16 = get_item_nbr(result)"
   ]
  },
  {
   "cell_type": "code",
   "execution_count": null,
   "metadata": {
    "collapsed": true
   },
   "outputs": [],
   "source": [
    "set_tmax(weather_test_16)\n",
    "set_tmin(weather_test_16)\n",
    "set_tavg(weather_test_16)\n",
    "set_heat_cool(weather_test_16)\n",
    "merge_heat_cool(weather_test_16)\n",
    "set_depart(weather_test_16)\n",
    "set_snowfall_preciptotal(weather_test_16)\n",
    "set_dewpoint(weather_test_16)\n",
    "set_wetbulb(weather_test_16)\n",
    "set_stnpressure(weather_test_16)\n",
    "set_sealevel(weather_test_16)\n",
    "set_resultspeed(weather_test_16)\n",
    "set_resultdir(weather_test_16)\n",
    "set_avgspeed(weather_test_16)\n",
    "set_event(weather_test_16)\n",
    "\n",
    "test_16 = test_preprocessing(test, holiday, weather_test_16)"
   ]
  },
  {
   "cell_type": "code",
   "execution_count": null,
   "metadata": {
    "collapsed": true
   },
   "outputs": [],
   "source": [
    "zero_item_nbr = []\n",
    "for num in range(1, 112) :\n",
    "    if num not in item_nbr_list_16 :\n",
    "        zero_item_nbr.append(num)\n",
    "\n",
    "test_16_nonzero = pd.concat([test_16[test_16['item_nbr'] == num] for num in item_nbr_list_16])\n",
    "test_16_zero = pd.concat([test_16[test_16['item_nbr'] == num] for num in zero_item_nbr])\n",
    "test_16_zero['log_units'] = 0\n",
    "test_16_zero['units'] = 0"
   ]
  },
  {
   "cell_type": "code",
   "execution_count": null,
   "metadata": {
    "collapsed": true
   },
   "outputs": [],
   "source": [
    "# test_16 = test_[test_['station_nbr'] == 16]\n",
    "\n",
    "# test_16['weekday'] = test_16.date.dt.weekday  # 월요일이 0 일요일이 8\n",
    "# test_16['holiday'] = test_16.date.isin(holiday[0])\n",
    "\n",
    "result['date'] = pd.to_datetime(result['date'])\n",
    "\n",
    "df_16 = pd.merge(result, key, on = 'store_nbr')\n",
    "df_16 = pd.merge(df_16, weather_train_16, on = ['date', 'station_nbr'])\n",
    "\n",
    "df_16_nonzero = df_16[df_16['log_units'] > 0]\n",
    "\n",
    "model16 = sm.OLS.from_formula('log_units ~ C(store_nbr):C(item_nbr) + C(weekday) + C(holiday) + C(event) + 0', data = df_16_nonzero)\n",
    "result_model16 = model16.fit()\n",
    "print(result_model16.summary())\n",
    "\n",
    "test_16_nonzero.reset_index(drop = True, inplace = True)\n",
    "test_16_nonzero['log_units'] = result_model16.predict(test_16_nonzero)\n",
    "test_16_nonzero['units'] = np.exp(test_16_nonzero['log_units']) - 1\n",
    "\n",
    "# for num in range(len(test_16)) :\n",
    "#     if test_16.at[num, 'item_nbr'] not in item_nbr_list_16 :\n",
    "#         test_16.set_value(num, 'units', 0.0)"
   ]
  },
  {
   "cell_type": "code",
   "execution_count": null,
   "metadata": {
    "collapsed": true
   },
   "outputs": [],
   "source": [
    "result_test.append(test_16)"
   ]
  },
  {
   "cell_type": "code",
   "execution_count": null,
   "metadata": {
    "collapsed": true
   },
   "outputs": [],
   "source": [
    "result_test.append(test_16_nonzero)\n",
    "result_test.append(test_16_zero)"
   ]
  },
  {
   "cell_type": "code",
   "execution_count": null,
   "metadata": {
    "collapsed": true
   },
   "outputs": [],
   "source": []
  },
  {
   "cell_type": "markdown",
   "metadata": {},
   "source": [
    "### station_nbr == 17\n",
    "- store_nbr == 9, 18, 23, 26, 31, 34\n",
    "- no depart value"
   ]
  },
  {
   "cell_type": "code",
   "execution_count": null,
   "metadata": {
    "collapsed": true
   },
   "outputs": [],
   "source": [
    "result = pd.concat([train_new_9, train_new_18, train_new_23, train_new_26, train_new_31, train_new_34])\n",
    "result1 = pd.concat([train_new_9, train_new_18, train_new_23])\n",
    "result2 = pd.concat([train_new_26, train_new_31, train_new_34])\n",
    "\n",
    "set_tmax(weather_train_17)\n",
    "set_tmin(weather_train_17)\n",
    "set_tavg(weather_train_17)\n",
    "set_heat_cool(weather_train_17)\n",
    "merge_heat_cool(weather_train_17)\n",
    "set_depart(weather_train_17)\n",
    "set_snowfall_preciptotal(weather_train_17)\n",
    "set_dewpoint(weather_train_17)\n",
    "set_wetbulb(weather_train_17)\n",
    "set_stnpressure(weather_train_17)\n",
    "set_sealevel(weather_train_17)\n",
    "set_resultspeed(weather_train_17)\n",
    "set_resultdir(weather_train_17)\n",
    "set_avgspeed(weather_train_17)\n",
    "set_event(weather_train_17)\n",
    "\n",
    "# merged_17 = merge_weather_train(weather_train_17, result)\n",
    "item_nbr_list_17 = get_item_nbr(result)\n",
    "item_nbr_list_17_1 = get_item_nbr(result1)\n",
    "item_nbr_list_17_2 = get_item_nbr(result2)"
   ]
  },
  {
   "cell_type": "code",
   "execution_count": null,
   "metadata": {
    "collapsed": true
   },
   "outputs": [],
   "source": [
    "set_tmax(weather_test_17)\n",
    "set_tmin(weather_test_17)\n",
    "set_tavg(weather_test_17)\n",
    "set_heat_cool(weather_test_17)\n",
    "merge_heat_cool(weather_test_17)\n",
    "set_depart(weather_test_17)\n",
    "set_snowfall_preciptotal(weather_test_17)\n",
    "set_dewpoint(weather_test_17)\n",
    "set_wetbulb(weather_test_17)\n",
    "set_stnpressure(weather_test_17)\n",
    "set_sealevel(weather_test_17)\n",
    "set_resultspeed(weather_test_17)\n",
    "set_resultdir(weather_test_17)\n",
    "set_avgspeed(weather_test_17)\n",
    "set_event(weather_test_17)\n",
    "\n",
    "test_17 = test_preprocessing(test, holiday, weather_test_17)"
   ]
  },
  {
   "cell_type": "code",
   "execution_count": null,
   "metadata": {
    "collapsed": true
   },
   "outputs": [],
   "source": [
    "zero_item_nbr1 = []\n",
    "for num in range(1, 112) :\n",
    "    if num not in item_nbr_list_17_1 :\n",
    "        zero_item_nbr1.append(num)\n",
    "\n",
    "list1 = [9, 18, 23]\n",
    "\n",
    "tmp1 = pd.concat([test_17[test_17['store_nbr'] == num] for num in list1])\n",
    "\n",
    "test_17_1_nonzero = pd.concat([tmp1[tmp1['item_nbr'] == num] for num in item_nbr_list_17_1])\n",
    "test_17_1_zero = pd.concat([tmp1[tmp1['item_nbr'] == num] for num in zero_item_nbr1])\n",
    "test_17_1_zero['log_units'] = 0\n",
    "test_17_1_zero['units'] = 0\n",
    "\n",
    "\n",
    "list2 = [26, 31, 34]\n",
    "\n",
    "zero_item_nbr2 = []\n",
    "for num in range(1, 112) :\n",
    "    if num not in item_nbr_list_17_2 :\n",
    "        zero_item_nbr2.append(num)\n",
    "\n",
    "tmp2 = pd.concat([test_17[test_17['store_nbr'] == num] for num in list2])\n",
    "\n",
    "test_17_2_nonzero = pd.concat([tmp2[tmp2['item_nbr'] == num] for num in item_nbr_list_17_2])\n",
    "test_17_2_zero = pd.concat([tmp2[tmp2['item_nbr'] == num] for num in zero_item_nbr2])\n",
    "test_17_2_zero['log_units'] = 0\n",
    "test_17_2_zero['units'] = 0"
   ]
  },
  {
   "cell_type": "code",
   "execution_count": null,
   "metadata": {
    "collapsed": true
   },
   "outputs": [],
   "source": [
    "# test_17 = test_[test_['station_nbr'] == 17]\n",
    "\n",
    "# test_17['weekday'] = test_17.date.dt.weekday  # 월요일이 0 일요일이 8\n",
    "# test_17['holiday'] = test_17.date.isin(holiday[0])\n",
    "\n",
    "# result['date'] = pd.to_datetime(result['date'])\n",
    "\n",
    "# df_17 = pd.merge(result, key, on = 'store_nbr')\n",
    "# df_17 = pd.merge(df_17, weather_train_17, on = ['date', 'station_nbr'])\n",
    "\n",
    "# model17 = sm.OLS.from_formula('log_units ~ C(store_nbr):C(item_nbr) + C(weekday) + C(holiday) + C(event) + 0', data = df_17)\n",
    "# result_model17 = model17.fit()\n",
    "# print(result_model17.summary())\n",
    "\n",
    "# test_17.reset_index(drop = True, inplace = True)\n",
    "# test_17['log_units'] = result_model17.predict(test_17)\n",
    "# test_17['units'] = np.exp(test_17['log_units']) - 1\n",
    "\n",
    "# for num in range(len(test_17)) :\n",
    "#     if test_17.at[num, 'item_nbr'] not in item_nbr_list_17 :\n",
    "#         test_17.set_value(num, 'units', 0.0)"
   ]
  },
  {
   "cell_type": "code",
   "execution_count": null,
   "metadata": {
    "collapsed": true
   },
   "outputs": [],
   "source": [
    "# test_17_1 = test_[test_['station_nbr'] == 17]\n",
    "list_17_1 = [9, 18, 23]\n",
    "\n",
    "for num in list_17_1 :\n",
    "    test_17_1 = pd.concat([test_17[test_17['store_nbr'] == num] for num in list_17_1])\n",
    "\n",
    "# test_17_1['weekday'] = test_17_1.date.dt.weekday  # 월요일이 0 일요일이 8\n",
    "# test_17_1['holiday'] = test_17_1.date.isin(holiday[0])\n",
    "\n",
    "result1['date'] = pd.to_datetime(result1['date'])\n",
    "\n",
    "df_17_1 = pd.merge(result1, key, on = 'store_nbr')\n",
    "df_17_1 = pd.merge(df_17_1, weather_train_17, on = ['date', 'station_nbr'])\n",
    "\n",
    "df_17_1_nonzero = df_17_1[df_17_1['log_units'] > 0]\n",
    "\n",
    "model17_1 = sm.OLS.from_formula('log_units ~ C(store_nbr):C(item_nbr) + C(weekday) + C(holiday) + C(event) + 0', data = df_17_1_nonzero)\n",
    "result_model17_1 = model17_1.fit()\n",
    "print(result_model17_1.summary())\n",
    "\n",
    "test_17_1_nonzero.reset_index(drop = True, inplace = True)\n",
    "test_17_1_nonzero['log_units'] = result_model17_1.predict(test_17_1_nonzero)\n",
    "test_17_1_nonzero['units'] = np.exp(test_17_1_nonzero['log_units']) - 1\n",
    "\n",
    "# for num in range(len(test_17_1)) :\n",
    "#     if test_17_1.at[num, 'item_nbr'] not in item_nbr_list_17 :\n",
    "#         test_17_1.set_value(num, 'units', 0.0)"
   ]
  },
  {
   "cell_type": "code",
   "execution_count": null,
   "metadata": {
    "collapsed": true
   },
   "outputs": [],
   "source": [
    "# test_17_2 = test_[test_['station_nbr'] == 17]\n",
    "list_17_2 = [26, 31, 34]\n",
    "\n",
    "for num in list_17_2 :\n",
    "    test_17_2 = pd.concat([test_17[test_17['store_nbr'] == num] for num in list_17_2])\n",
    "\n",
    "# test_17_2['weekday'] = test_17_2.date.dt.weekday  # 월요일이 0 일요일이 8\n",
    "# test_17_2['holiday'] = test_17_2.date.isin(holiday[0])\n",
    "\n",
    "result2['date'] = pd.to_datetime(result2['date'])\n",
    "\n",
    "df_17_2 = pd.merge(result2, key, on = 'store_nbr')\n",
    "df_17_2 = pd.merge(df_17_2, weather_train_17, on = ['date', 'station_nbr'])\n",
    "\n",
    "df_17_2_nonzero = df_17_2[df_17_2['log_units'] > 0]\n",
    "\n",
    "model17_2 = sm.OLS.from_formula('log_units ~ C(store_nbr):C(item_nbr) + C(weekday) + C(holiday) + C(event) + 0', data = df_17_2_nonzero)\n",
    "result_model17_2 = model17_2.fit()\n",
    "print(result_model17_2.summary())\n",
    "\n",
    "test_17_2_nonzero.reset_index(drop = True, inplace = True)\n",
    "test_17_2_nonzero['log_units'] = result_model17_2.predict(test_17_2_nonzero)\n",
    "test_17_2_nonzero['units'] = np.exp(test_17_2_nonzero['log_units']) - 1\n",
    "\n",
    "# for num in range(len(test_17_2)) :\n",
    "#     if test_17_2.at[num, 'item_nbr'] not in item_nbr_list_17 :\n",
    "#         test_17_2.set_value(num, 'units', 0.0)"
   ]
  },
  {
   "cell_type": "code",
   "execution_count": null,
   "metadata": {
    "collapsed": true
   },
   "outputs": [],
   "source": [
    "# result_test.append(test_17)"
   ]
  },
  {
   "cell_type": "code",
   "execution_count": null,
   "metadata": {
    "collapsed": true
   },
   "outputs": [],
   "source": [
    "result_test.append(test_17_1)\n",
    "result_test.append(test_17_2)"
   ]
  },
  {
   "cell_type": "code",
   "execution_count": null,
   "metadata": {
    "collapsed": true
   },
   "outputs": [],
   "source": [
    "result_test.append(test_17_1_nonzero)\n",
    "result_test.append(test_17_1_zero)\n",
    "result_test.append(test_17_2_nonzero)\n",
    "result_test.append(test_17_2_zero)"
   ]
  },
  {
   "cell_type": "markdown",
   "metadata": {},
   "source": [
    "### station_nbr == 18\n",
    "- store_nbr == 36"
   ]
  },
  {
   "cell_type": "code",
   "execution_count": null,
   "metadata": {
    "collapsed": true
   },
   "outputs": [],
   "source": [
    "set_tmax(weather_train_18)\n",
    "set_tmin(weather_train_18)\n",
    "set_tavg(weather_train_18)\n",
    "set_heat_cool(weather_train_18)\n",
    "merge_heat_cool(weather_train_18)\n",
    "set_depart(weather_train_18)\n",
    "set_snowfall_preciptotal(weather_train_18)\n",
    "set_dewpoint(weather_train_18)\n",
    "set_wetbulb(weather_train_18)\n",
    "set_stnpressure(weather_train_18)\n",
    "set_sealevel(weather_train_18)\n",
    "set_resultspeed(weather_train_18)\n",
    "set_resultdir(weather_train_18)\n",
    "set_avgspeed(weather_train_18)\n",
    "set_event(weather_train_18)\n",
    "\n",
    "# merged_18 = merge_weather_train(weather_train_18, train_new_36)\n",
    "item_nbr_list_18 = get_item_nbr(train_new_36)"
   ]
  },
  {
   "cell_type": "code",
   "execution_count": null,
   "metadata": {
    "collapsed": true
   },
   "outputs": [],
   "source": [
    "set_tmax(weather_test_18)\n",
    "set_tmin(weather_test_18)\n",
    "set_tavg(weather_test_18)\n",
    "set_heat_cool(weather_test_18)\n",
    "merge_heat_cool(weather_test_18)\n",
    "set_depart(weather_test_18)\n",
    "set_snowfall_preciptotal(weather_test_18)\n",
    "set_dewpoint(weather_test_18)\n",
    "set_wetbulb(weather_test_18)\n",
    "set_stnpressure(weather_test_18)\n",
    "set_sealevel(weather_test_18)\n",
    "set_resultspeed(weather_test_18)\n",
    "set_resultdir(weather_test_18)\n",
    "set_avgspeed(weather_test_18)\n",
    "set_event(weather_test_18)\n",
    "\n",
    "test_18 = test_preprocessing(test, holiday, weather_test_18)"
   ]
  },
  {
   "cell_type": "code",
   "execution_count": null,
   "metadata": {
    "collapsed": true
   },
   "outputs": [],
   "source": [
    "zero_item_nbr = []\n",
    "for num in range(1, 112) :\n",
    "    if num not in item_nbr_list_18 :\n",
    "        zero_item_nbr.append(num)\n",
    "\n",
    "test_18_nonzero = pd.concat([test_18[test_18['item_nbr'] == num] for num in item_nbr_list_18])\n",
    "test_18_zero = pd.concat([test_18[test_18['item_nbr'] == num] for num in zero_item_nbr])\n",
    "test_18_zero['log_units'] = 0\n",
    "test_18_zero['units'] = 0"
   ]
  },
  {
   "cell_type": "code",
   "execution_count": null,
   "metadata": {
    "collapsed": true
   },
   "outputs": [],
   "source": [
    "# test_18 = test_[test_['station_nbr'] == 18]\n",
    "\n",
    "# test_18['weekday'] = test_18.date.dt.weekday  # 월요일이 0 일요일이 8\n",
    "# test_18['holiday'] = test_18.date.isin(holiday[0])\n",
    "\n",
    "train_new_36['date'] = pd.to_datetime(train_new_36['date'])\n",
    "\n",
    "df_18 = pd.merge(train_new_36, key, on = 'store_nbr')\n",
    "df_18 = pd.merge(df_18, weather_train_18, on = ['date', 'station_nbr'])\n",
    "\n",
    "df_18_nonzero = df_18[df_18['log_units'] > 0]\n",
    "\n",
    "model18 = sm.OLS.from_formula('log_units ~ C(store_nbr):C(item_nbr) + C(weekday) + C(holiday) + C(event) + 0', data = df_18_nonzero)\n",
    "result_model18 = model18.fit()\n",
    "print(result_model18.summary())\n",
    "\n",
    "test_18_nonzero.reset_index(drop = True, inplace = True)\n",
    "test_18_nonzero['log_units'] = result_model18.predict(test_18_nonzero)\n",
    "test_18_nonzero['units'] = np.exp(test_18_nonzero['log_units']) - 1\n",
    "\n",
    "# for num in range(len(test_18)) :\n",
    "#     if test_18.at[num, 'item_nbr'] not in item_nbr_list_18 :\n",
    "#         test_18.set_value(num, 'units', 0.0)"
   ]
  },
  {
   "cell_type": "code",
   "execution_count": null,
   "metadata": {
    "collapsed": true
   },
   "outputs": [],
   "source": [
    "result_test.append(test_18)"
   ]
  },
  {
   "cell_type": "code",
   "execution_count": null,
   "metadata": {
    "collapsed": true
   },
   "outputs": [],
   "source": [
    "result_test.append(test_18_nonzero)\n",
    "result_test.append(test_18_zero)"
   ]
  },
  {
   "cell_type": "code",
   "execution_count": null,
   "metadata": {
    "collapsed": true
   },
   "outputs": [],
   "source": []
  },
  {
   "cell_type": "markdown",
   "metadata": {},
   "source": [
    "### station_nbr == 19\n",
    "- store_nbr == 30"
   ]
  },
  {
   "cell_type": "code",
   "execution_count": null,
   "metadata": {
    "collapsed": true
   },
   "outputs": [],
   "source": [
    "set_tmax(weather_train_19)\n",
    "set_tmin(weather_train_19)\n",
    "set_tavg(weather_train_19)\n",
    "set_heat_cool(weather_train_19)\n",
    "merge_heat_cool(weather_train_19)\n",
    "set_depart(weather_train_19)\n",
    "set_snowfall_preciptotal(weather_train_19)\n",
    "set_dewpoint(weather_train_19)\n",
    "set_wetbulb(weather_train_19)\n",
    "set_stnpressure(weather_train_19)\n",
    "set_sealevel(weather_train_19)\n",
    "set_resultspeed(weather_train_19)\n",
    "set_resultdir(weather_train_19)\n",
    "set_avgspeed(weather_train_19)\n",
    "set_event(weather_train_19)\n",
    "\n",
    "# merged_19 = merge_weather_train(weather_train_19, train_new_30)\n",
    "item_nbr_list_19 = get_item_nbr(train_new_30)"
   ]
  },
  {
   "cell_type": "code",
   "execution_count": null,
   "metadata": {
    "collapsed": true
   },
   "outputs": [],
   "source": [
    "set_tmax(weather_test_19)\n",
    "set_tmin(weather_test_19)\n",
    "set_tavg(weather_test_19)\n",
    "set_heat_cool(weather_test_19)\n",
    "merge_heat_cool(weather_test_19)\n",
    "set_depart(weather_test_19)\n",
    "set_snowfall_preciptotal(weather_test_19)\n",
    "set_dewpoint(weather_test_19)\n",
    "set_wetbulb(weather_test_19)\n",
    "set_stnpressure(weather_test_19)\n",
    "set_sealevel(weather_test_19)\n",
    "set_resultspeed(weather_test_19)\n",
    "set_resultdir(weather_test_19)\n",
    "set_avgspeed(weather_test_19)\n",
    "set_event(weather_test_19)\n",
    "\n",
    "test_19 = test_preprocessing(test, holiday, weather_test_19)"
   ]
  },
  {
   "cell_type": "code",
   "execution_count": null,
   "metadata": {
    "collapsed": true
   },
   "outputs": [],
   "source": [
    "zero_item_nbr = []\n",
    "for num in range(1, 112) :\n",
    "    if num not in item_nbr_list_19 :\n",
    "        zero_item_nbr.append(num)\n",
    "\n",
    "test_19_nonzero = pd.concat([test_19[test_19['item_nbr'] == num] for num in item_nbr_list_19])\n",
    "test_19_zero = pd.concat([test_19[test_19['item_nbr'] == num] for num in zero_item_nbr])\n",
    "test_19_zero['log_units'] = 0\n",
    "test_19_zero['units'] = 0"
   ]
  },
  {
   "cell_type": "code",
   "execution_count": null,
   "metadata": {
    "collapsed": true
   },
   "outputs": [],
   "source": [
    "# test_19 = test_[test_['station_nbr'] == 19]\n",
    "\n",
    "# test_19['weekday'] = test_19.date.dt.weekday  # 월요일이 0 일요일이 8\n",
    "# test_19['holiday'] = test_19.date.isin(holiday[0])\n",
    "\n",
    "train_new_30['date'] = pd.to_datetime(train_new_30['date'])\n",
    "\n",
    "df_19 = pd.merge(train_new_30, key, on = 'store_nbr')\n",
    "df_19 = pd.merge(df_19, weather_train_19, on = ['date', 'station_nbr'])\n",
    "\n",
    "df_19_nonzero = df_19[df_19['log_units'] > 0]\n",
    "\n",
    "model19 = sm.OLS.from_formula('log_units ~ C(store_nbr):C(item_nbr) + C(weekday) + C(holiday) + C(event) + 0', data = df_19_nonzero)\n",
    "result_model19 = model19.fit()\n",
    "print(result_model19.summary())\n",
    "\n",
    "test_19_nonzero.reset_index(drop = True, inplace = True)\n",
    "test_19_nonzero['log_units'] = result_model19.predict(test_19_nonzero)\n",
    "test_19_nonzero['units'] = np.exp(test_19_nonzero['log_units']) - 1\n",
    "\n",
    "# for num in range(len(test_19)) :\n",
    "#     if test_19.at[num, 'item_nbr'] not in item_nbr_list_19 :\n",
    "#         test_19.set_value(num, 'units', 0.0)"
   ]
  },
  {
   "cell_type": "code",
   "execution_count": null,
   "metadata": {
    "collapsed": true
   },
   "outputs": [],
   "source": [
    "result_test.append(test_19)"
   ]
  },
  {
   "cell_type": "code",
   "execution_count": null,
   "metadata": {
    "collapsed": true
   },
   "outputs": [],
   "source": [
    "result_test.append(test_19_nonzero)\n",
    "result_test.append(test_19_zero)"
   ]
  },
  {
   "cell_type": "code",
   "execution_count": null,
   "metadata": {
    "collapsed": true
   },
   "outputs": [],
   "source": []
  },
  {
   "cell_type": "markdown",
   "metadata": {},
   "source": [
    "### station_nbr == 20\n",
    "- store_nbr == 17\n",
    "- no depart value"
   ]
  },
  {
   "cell_type": "code",
   "execution_count": null,
   "metadata": {
    "collapsed": true
   },
   "outputs": [],
   "source": [
    "set_tmax(weather_train_20)\n",
    "set_tmin(weather_train_20)\n",
    "set_tavg(weather_train_20)\n",
    "set_heat_cool(weather_train_20)\n",
    "merge_heat_cool(weather_train_20)\n",
    "set_depart(weather_train_20)\n",
    "set_snowfall_preciptotal(weather_train_20)\n",
    "set_dewpoint(weather_train_20)\n",
    "set_wetbulb(weather_train_20)\n",
    "set_stnpressure(weather_train_20)\n",
    "set_sealevel(weather_train_20)\n",
    "set_resultspeed(weather_train_20)\n",
    "set_resultdir(weather_train_20)\n",
    "set_avgspeed(weather_train_20)\n",
    "set_event(weather_train_20)\n",
    "\n",
    "# merged_20 = merge_weather_train(weather_train_20, train_new_17)\n",
    "item_nbr_list_20 = get_item_nbr(train_new_17)"
   ]
  },
  {
   "cell_type": "code",
   "execution_count": null,
   "metadata": {
    "collapsed": true
   },
   "outputs": [],
   "source": [
    "set_tmax(weather_test_20)\n",
    "set_tmin(weather_test_20)\n",
    "set_tavg(weather_test_20)\n",
    "set_heat_cool(weather_test_20)\n",
    "merge_heat_cool(weather_test_20)\n",
    "set_depart(weather_test_20)\n",
    "set_snowfall_preciptotal(weather_test_20)\n",
    "set_dewpoint(weather_test_20)\n",
    "set_wetbulb(weather_test_20)\n",
    "set_stnpressure(weather_test_20)\n",
    "set_sealevel(weather_test_20)\n",
    "set_resultspeed(weather_test_20)\n",
    "set_resultdir(weather_test_20)\n",
    "set_avgspeed(weather_test_20)\n",
    "set_event(weather_test_20)\n",
    "\n",
    "test_20 = test_preprocessing(test, holiday, weather_test_20)"
   ]
  },
  {
   "cell_type": "code",
   "execution_count": null,
   "metadata": {
    "collapsed": true
   },
   "outputs": [],
   "source": [
    "zero_item_nbr = []\n",
    "for num in range(1, 112) :\n",
    "    if num not in item_nbr_list_20 :\n",
    "        zero_item_nbr.append(num)\n",
    "\n",
    "test_20_nonzero = pd.concat([test_20[test_20['item_nbr'] == num] for num in item_nbr_list_20])\n",
    "test_20_zero = pd.concat([test_20[test_20['item_nbr'] == num] for num in zero_item_nbr])\n",
    "test_20_zero['log_units'] = 0\n",
    "test_20_zero['units'] = 0"
   ]
  },
  {
   "cell_type": "code",
   "execution_count": null,
   "metadata": {
    "collapsed": true
   },
   "outputs": [],
   "source": [
    "# test_20 = test_[test_['station_nbr'] == 20]\n",
    "\n",
    "# test_20['weekday'] = test_20.date.dt.weekday  # 월요일이 0 일요일이 8\n",
    "# test_20['holiday'] = test_20.date.isin(holiday[0])\n",
    "\n",
    "train_new_17['date'] = pd.to_datetime(train_new_17['date'])\n",
    "\n",
    "df_20 = pd.merge(train_new_17, key, on = 'store_nbr')\n",
    "df_20 = pd.merge(df_20, weather_train_20, on = ['date', 'station_nbr'])\n",
    "\n",
    "df_20_nonzero = df_20[df_20['log_units'] > 0]\n",
    "\n",
    "model20 = sm.OLS.from_formula('log_units ~ C(store_nbr):C(item_nbr) + C(weekday) + C(holiday) + C(event) + 0', data = df_20_nonzero)\n",
    "result_model20 = model20.fit()\n",
    "print(result_model20.summary())\n",
    "\n",
    "test_20_nonzero.reset_index(drop = True, inplace = True)\n",
    "test_20_nonzero['log_units'] = result_model20.predict(test_20_nonzero)\n",
    "test_20_nonzero['units'] = np.exp(test_20_nonzero['log_units']) - 1\n",
    "\n",
    "# for num in range(len(test_20)) :\n",
    "#     if test_20.at[num, 'item_nbr'] not in item_nbr_list_20 :\n",
    "#         test_20.set_value(num, 'units', 0.0)"
   ]
  },
  {
   "cell_type": "code",
   "execution_count": null,
   "metadata": {
    "collapsed": true
   },
   "outputs": [],
   "source": [
    "result_test.append(test_20)"
   ]
  },
  {
   "cell_type": "code",
   "execution_count": null,
   "metadata": {
    "collapsed": true
   },
   "outputs": [],
   "source": [
    "result_test.append(test_20_nonzero)\n",
    "result_test.append(test_20_zero)"
   ]
  },
  {
   "cell_type": "code",
   "execution_count": null,
   "metadata": {
    "collapsed": true
   },
   "outputs": [],
   "source": []
  },
  {
   "cell_type": "markdown",
   "metadata": {},
   "source": [
    "### LinearRegression, OLS"
   ]
  },
  {
   "cell_type": "markdown",
   "metadata": {},
   "source": [
    "- Dep. Variable : Which variable is the response in the model\n",
    "\n",
    "- Model : What model you are using in the fit\n",
    "\n",
    "- Method : How the parameters of the model were calculated\n",
    "\n",
    "- No. Observations : The number of observations (examples)\n",
    "- DF Residuals : Degrees of freedom of the residuals. Number of observations – number of parameters\n",
    "- DF Model : Number of parameters in the model (not including the constant term if present)\n",
    "\n",
    "#### The right part of the first table shows the goodness of fit"
   ]
  },
  {
   "cell_type": "markdown",
   "metadata": {},
   "source": [
    "#### The second table reports for each of the coefficients\n",
    "\n",
    "- R-squared : The coefficient of determination. A statistical measure of how well the regression line approximates the real data points\n",
    "    \n",
    "- Adj. R-squared : The above value adjusted based on the number of observations and the degrees-of-freedom of the residuals\n",
    "- F-statistic : A measure how significant the fit is. The mean squared error of the model divided by the mean squared error of the residuals\n",
    "- Prob (F-statistic) : The probability that you would get the above statistic, given the null hypothesis that they are unrelated\n",
    "- Log-likelihood : The log of the likelihood function.\n",
    "- AIC : The Akaike Information Criterion. Adjusts the log-likelihood based on the number of observations and the complexity of the model.\n",
    "- BIC : The Bayesian Information Criterion. Similar to the AIC, but has a higher penalty for models with more parameters.\n"
   ]
  },
  {
   "cell_type": "code",
   "execution_count": null,
   "metadata": {
    "collapsed": true
   },
   "outputs": [],
   "source": [
    "sub_test = pd.concat(result_test)"
   ]
  },
  {
   "cell_type": "code",
   "execution_count": null,
   "metadata": {
    "collapsed": true
   },
   "outputs": [],
   "source": [
    "len(sub_test)"
   ]
  },
  {
   "cell_type": "code",
   "execution_count": null,
   "metadata": {
    "collapsed": true
   },
   "outputs": [],
   "source": [
    "sub_test.head()"
   ]
  },
  {
   "cell_type": "code",
   "execution_count": null,
   "metadata": {
    "collapsed": true
   },
   "outputs": [],
   "source": [
    "sub_test.drop(['weekday', 'weekend', 'holiday', 'station_nbr', 'event', 'log_units'], axis = 1, inplace = True)"
   ]
  },
  {
   "cell_type": "code",
   "execution_count": null,
   "metadata": {
    "collapsed": true
   },
   "outputs": [],
   "source": [
    "sub_test.tail()"
   ]
  },
  {
   "cell_type": "code",
   "execution_count": null,
   "metadata": {
    "collapsed": true
   },
   "outputs": [],
   "source": [
    "sub_test.sort_values(by = ['date', 'store_nbr', 'item_nbr'], inplace = True)\n",
    "sub_test.reset_index(drop = True, inplace = True)"
   ]
  },
  {
   "cell_type": "code",
   "execution_count": null,
   "metadata": {
    "collapsed": true
   },
   "outputs": [],
   "source": [
    "sub_test.tail()"
   ]
  },
  {
   "cell_type": "code",
   "execution_count": null,
   "metadata": {
    "collapsed": true
   },
   "outputs": [],
   "source": [
    "for num in range(len(sub_test)) :\n",
    "    if sub_test.at[num, 'date'] == '2013-12-25' :\n",
    "        sub_test.set_value(num, 'date', 0.0)"
   ]
  },
  {
   "cell_type": "code",
   "execution_count": null,
   "metadata": {
    "collapsed": true
   },
   "outputs": [],
   "source": [
    "units = sub_test['units']"
   ]
  },
  {
   "cell_type": "code",
   "execution_count": null,
   "metadata": {
    "collapsed": true
   },
   "outputs": [],
   "source": [
    "sub_test['date'] = sub_test['date'].astype('str')\n",
    "sub_test['store_nbr'] = sub_test['store_nbr'].astype('str')\n",
    "sub_test['item_nbr'] = sub_test['item_nbr'].astype('str')"
   ]
  },
  {
   "cell_type": "code",
   "execution_count": null,
   "metadata": {
    "collapsed": true
   },
   "outputs": [],
   "source": [
    "sub_test['id'] = sub_test['store_nbr'] + '_' + sub_test['item_nbr'] + '_' + sub_test['date']"
   ]
  },
  {
   "cell_type": "code",
   "execution_count": null,
   "metadata": {
    "collapsed": true
   },
   "outputs": [],
   "source": [
    "sub_test.drop(['date', 'store_nbr', 'item_nbr', 'units'], axis = 1, inplace = True)"
   ]
  },
  {
   "cell_type": "code",
   "execution_count": null,
   "metadata": {
    "collapsed": true
   },
   "outputs": [],
   "source": [
    "sub_test.tail()"
   ]
  },
  {
   "cell_type": "code",
   "execution_count": null,
   "metadata": {
    "collapsed": true
   },
   "outputs": [],
   "source": [
    "sub_test['units'] = units"
   ]
  },
  {
   "cell_type": "code",
   "execution_count": null,
   "metadata": {
    "collapsed": true
   },
   "outputs": [],
   "source": [
    "sub_test.tail()"
   ]
  },
  {
   "cell_type": "code",
   "execution_count": null,
   "metadata": {
    "collapsed": true
   },
   "outputs": [],
   "source": [
    "sub_test.to_csv('sub_test8.csv', index = False)"
   ]
  },
  {
   "cell_type": "code",
   "execution_count": null,
   "metadata": {
    "collapsed": true
   },
   "outputs": [],
   "source": []
  },
  {
   "cell_type": "markdown",
   "metadata": {},
   "source": [
    "log_units ~ C(store_nbr) + C(weekday) + C(holiday) + C(event) + C(item_nbr) + 0"
   ]
  },
  {
   "cell_type": "markdown",
   "metadata": {},
   "source": [
    "sub_test3"
   ]
  },
  {
   "cell_type": "markdown",
   "metadata": {},
   "source": [
    "<img src=\"../sub_test3.png\">"
   ]
  },
  {
   "cell_type": "markdown",
   "metadata": {},
   "source": [
    "<img src=\"../sub_test3_rank.png\">"
   ]
  },
  {
   "cell_type": "markdown",
   "metadata": {},
   "source": [
    "log_units ~ C(store_nbr):C(item_nbr) + C(weekday) + C(holiday) + C(event) + 0"
   ]
  },
  {
   "cell_type": "markdown",
   "metadata": {},
   "source": [
    "sub_test4"
   ]
  },
  {
   "cell_type": "markdown",
   "metadata": {},
   "source": [
    "<img src=\"../sub_test4.png\">"
   ]
  },
  {
   "cell_type": "markdown",
   "metadata": {},
   "source": [
    "<img src=\"../sub_test4_rank.png\">"
   ]
  }
 ],
 "metadata": {
  "kernelspec": {
   "display_name": "Python 3",
   "language": "python",
   "name": "python3"
  },
  "language_info": {
   "codemirror_mode": {
    "name": "ipython",
    "version": 3
   },
   "file_extension": ".py",
   "mimetype": "text/x-python",
   "name": "python",
   "nbconvert_exporter": "python",
   "pygments_lexer": "ipython3",
   "version": "3.6.3"
  }
 },
 "nbformat": 4,
 "nbformat_minor": 2
}
