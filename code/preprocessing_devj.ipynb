{
 "cells": [
  {
   "cell_type": "code",
   "execution_count": 1,
   "metadata": {},
   "outputs": [
    {
     "name": "stderr",
     "output_type": "stream",
     "text": [
      "/home/yjoung90/.pyenv/versions/3.6.4/lib/python3.6/site-packages/statsmodels/compat/pandas.py:56: FutureWarning: The pandas.core.datetools module is deprecated and will be removed in a future version. Please use the pandas.tseries module instead.\n",
      "  from pandas.core import datetools\n"
     ]
    }
   ],
   "source": [
    "import pandas as pd\n",
    "import numpy as np\n",
    "import scipy\n",
    "import pylab \n",
    "import matplotlib as mpl\n",
    "import matplotlib.pyplot as plt\n",
    "import seaborn as sns\n",
    "import statsmodels.api as sm\n",
    "sns.set()\n",
    "%matplotlib inline"
   ]
  },
  {
   "cell_type": "code",
   "execution_count": 9,
   "metadata": {
    "collapsed": true
   },
   "outputs": [],
   "source": [
    "train = pd.read_csv('../data/train.csv')\n",
    "weather = pd.read_csv('../data/weather.csv')\n",
    "key = pd.read_csv('../data/key.csv')\n",
    "test = pd.read_csv('../data/test.csv')\n",
    "sample = pd.read_csv('../data/sampleSubmission.csv')"
   ]
  },
  {
   "cell_type": "markdown",
   "metadata": {},
   "source": [
    "## Target Analysis"
   ]
  },
  {
   "cell_type": "code",
   "execution_count": 10,
   "metadata": {
    "collapsed": true
   },
   "outputs": [],
   "source": [
    "# 2013-03-31\n",
    "train_df = train[:2255853]"
   ]
  },
  {
   "cell_type": "code",
   "execution_count": 8,
   "metadata": {},
   "outputs": [
    {
     "data": {
      "text/html": [
       "<div>\n",
       "<style>\n",
       "    .dataframe thead tr:only-child th {\n",
       "        text-align: right;\n",
       "    }\n",
       "\n",
       "    .dataframe thead th {\n",
       "        text-align: left;\n",
       "    }\n",
       "\n",
       "    .dataframe tbody tr th {\n",
       "        vertical-align: top;\n",
       "    }\n",
       "</style>\n",
       "<table border=\"1\" class=\"dataframe\">\n",
       "  <thead>\n",
       "    <tr style=\"text-align: right;\">\n",
       "      <th></th>\n",
       "      <th>store_nbr</th>\n",
       "      <th>item_nbr</th>\n",
       "      <th>units</th>\n",
       "    </tr>\n",
       "  </thead>\n",
       "  <tbody>\n",
       "    <tr>\n",
       "      <th>count</th>\n",
       "      <td>2.255853e+06</td>\n",
       "      <td>2.255853e+06</td>\n",
       "      <td>2.255853e+06</td>\n",
       "    </tr>\n",
       "    <tr>\n",
       "      <th>mean</th>\n",
       "      <td>2.291025e+01</td>\n",
       "      <td>5.600000e+01</td>\n",
       "      <td>1.104954e+00</td>\n",
       "    </tr>\n",
       "    <tr>\n",
       "      <th>std</th>\n",
       "      <td>1.299397e+01</td>\n",
       "      <td>3.204165e+01</td>\n",
       "      <td>1.096582e+01</td>\n",
       "    </tr>\n",
       "    <tr>\n",
       "      <th>min</th>\n",
       "      <td>1.000000e+00</td>\n",
       "      <td>1.000000e+00</td>\n",
       "      <td>0.000000e+00</td>\n",
       "    </tr>\n",
       "    <tr>\n",
       "      <th>25%</th>\n",
       "      <td>1.200000e+01</td>\n",
       "      <td>2.800000e+01</td>\n",
       "      <td>0.000000e+00</td>\n",
       "    </tr>\n",
       "    <tr>\n",
       "      <th>50%</th>\n",
       "      <td>2.300000e+01</td>\n",
       "      <td>5.600000e+01</td>\n",
       "      <td>0.000000e+00</td>\n",
       "    </tr>\n",
       "    <tr>\n",
       "      <th>75%</th>\n",
       "      <td>3.400000e+01</td>\n",
       "      <td>8.400000e+01</td>\n",
       "      <td>0.000000e+00</td>\n",
       "    </tr>\n",
       "    <tr>\n",
       "      <th>max</th>\n",
       "      <td>4.500000e+01</td>\n",
       "      <td>1.110000e+02</td>\n",
       "      <td>5.568000e+03</td>\n",
       "    </tr>\n",
       "  </tbody>\n",
       "</table>\n",
       "</div>"
      ],
      "text/plain": [
       "          store_nbr      item_nbr         units\n",
       "count  2.255853e+06  2.255853e+06  2.255853e+06\n",
       "mean   2.291025e+01  5.600000e+01  1.104954e+00\n",
       "std    1.299397e+01  3.204165e+01  1.096582e+01\n",
       "min    1.000000e+00  1.000000e+00  0.000000e+00\n",
       "25%    1.200000e+01  2.800000e+01  0.000000e+00\n",
       "50%    2.300000e+01  5.600000e+01  0.000000e+00\n",
       "75%    3.400000e+01  8.400000e+01  0.000000e+00\n",
       "max    4.500000e+01  1.110000e+02  5.568000e+03"
      ]
     },
     "execution_count": 8,
     "metadata": {},
     "output_type": "execute_result"
    }
   ],
   "source": [
    "train_df.describe()"
   ]
  },
  {
   "cell_type": "code",
   "execution_count": 4,
   "metadata": {},
   "outputs": [
    {
     "data": {
      "text/plain": [
       "count    2.255853e+06\n",
       "mean     1.104954e+00\n",
       "std      1.096582e+01\n",
       "min      0.000000e+00\n",
       "25%      0.000000e+00\n",
       "50%      0.000000e+00\n",
       "75%      0.000000e+00\n",
       "max      5.568000e+03\n",
       "Name: units, dtype: float64"
      ]
     },
     "execution_count": 4,
     "metadata": {},
     "output_type": "execute_result"
    }
   ],
   "source": [
    "# Basic Stats\n",
    "train_df['units'].describe()"
   ]
  },
  {
   "cell_type": "code",
   "execution_count": 5,
   "metadata": {},
   "outputs": [
    {
     "data": {
      "image/png": "[encoded data removed]",
      "text/plain": [
       "<matplotlib.figure.Figure at 0x7fefba412a20>"
      ]
     },
     "metadata": {},
     "output_type": "display_data"
    }
   ],
   "source": [
    "# Histogram\n",
    "sns.distplot(train_df['units'])\n",
    "plt.xlim(0, 1000)\n",
    "plt.show()\n",
    "# Too many zeroes...."
   ]
  },
  {
   "cell_type": "code",
   "execution_count": 11,
   "metadata": {},
   "outputs": [
    {
     "name": "stderr",
     "output_type": "stream",
     "text": [
      "C:\\Anaconda3\\lib\\site-packages\\ipykernel_launcher.py:2: SettingWithCopyWarning: \n",
      "A value is trying to be set on a copy of a slice from a DataFrame.\n",
      "Try using .loc[row_indexer,col_indexer] = value instead\n",
      "\n",
      "See the caveats in the documentation: http://pandas.pydata.org/pandas-docs/stable/indexing.html#indexing-view-versus-copy\n",
      "  \n"
     ]
    },
    {
     "data": {
      "text/plain": [
       "count    2.255853e+06\n",
       "mean     7.959207e-02\n",
       "std      5.309945e-01\n",
       "min      0.000000e+00\n",
       "25%      0.000000e+00\n",
       "50%      0.000000e+00\n",
       "75%      0.000000e+00\n",
       "max      8.624971e+00\n",
       "Name: log_units, dtype: float64"
      ]
     },
     "execution_count": 11,
     "metadata": {},
     "output_type": "execute_result"
    }
   ],
   "source": [
    "# Take log to see if it helps\n",
    "train_df['log_units'] = np.log(train_df['units'] + 1)\n",
    "train_df['log_units'].describe()"
   ]
  },
  {
   "cell_type": "code",
   "execution_count": 7,
   "metadata": {},
   "outputs": [
    {
     "data": {
      "image/png": "[encoded data removed]",
      "text/plain": [
       "<matplotlib.figure.Figure at 0x7fefbef3dcf8>"
      ]
     },
     "metadata": {},
     "output_type": "display_data"
    }
   ],
   "source": [
    "sns.distplot(train_df['log_units'])\n",
    "plt.show()\n",
    "# Nope not really"
   ]
  },
  {
   "cell_type": "code",
   "execution_count": 8,
   "metadata": {
    "collapsed": true
   },
   "outputs": [],
   "source": [
    "# let's see it by item number\n",
    "train_norm_test = train_df.pivot_table(values='units', index=['store_nbr', 'date'], columns=['item_nbr'])\n",
    "train_norm_test_log = train_df.pivot_table(values='log_units', index=['store_nbr', 'date'], columns=['item_nbr'])"
   ]
  },
  {
   "cell_type": "markdown",
   "metadata": {},
   "source": [
    "## Normality Test"
   ]
  },
  {
   "attachments": {
    "image.png": {
     "image/png": "[encoded data removed]"
    }
   },
   "cell_type": "markdown",
   "metadata": {},
   "source": [
    "![image.png](attachment:image.png)"
   ]
  },
  {
   "cell_type": "code",
   "execution_count": 25,
   "metadata": {},
   "outputs": [
    {
     "data": {
      "image/png": "[encoded data removed]",
      "text/plain": [
       "<matplotlib.figure.Figure at 0x7fefbf5d9eb8>"
      ]
     },
     "metadata": {},
     "output_type": "display_data"
    },
    {
     "ename": "IndexError",
     "evalue": "invalid index to scalar variable.",
     "output_type": "error",
     "traceback": [
      "\u001b[0;31m---------------------------------------------------------------------------\u001b[0m",
      "\u001b[0;31mIndexError\u001b[0m                                Traceback (most recent call last)",
      "\u001b[0;32m<ipython-input-25-9b4facebbcdd>\u001b[0m in \u001b[0;36m<module>\u001b[0;34m()\u001b[0m\n\u001b[1;32m     14\u001b[0m \u001b[0mresult_ks\u001b[0m \u001b[0;34m=\u001b[0m \u001b[0mscipy\u001b[0m\u001b[0;34m.\u001b[0m\u001b[0mstats\u001b[0m\u001b[0;34m.\u001b[0m\u001b[0mkstest\u001b[0m\u001b[0;34m(\u001b[0m\u001b[0mtrain_norm_test\u001b[0m\u001b[0;34m.\u001b[0m\u001b[0mloc\u001b[0m\u001b[0;34m[\u001b[0m\u001b[0;36m1\u001b[0m\u001b[0;34m]\u001b[0m\u001b[0;34m[\u001b[0m\u001b[0;36m9\u001b[0m\u001b[0;34m]\u001b[0m\u001b[0;34m,\u001b[0m \u001b[0mcdf\u001b[0m\u001b[0;34m=\u001b[0m\u001b[0;34m'norm'\u001b[0m\u001b[0;34m)\u001b[0m\u001b[0;34m\u001b[0m\u001b[0m\n\u001b[1;32m     15\u001b[0m \u001b[0mresult_ks_log\u001b[0m \u001b[0;34m=\u001b[0m \u001b[0mscipy\u001b[0m\u001b[0;34m.\u001b[0m\u001b[0mstats\u001b[0m\u001b[0;34m.\u001b[0m\u001b[0mkstest\u001b[0m\u001b[0;34m(\u001b[0m\u001b[0mtrain_norm_test_log\u001b[0m\u001b[0;34m.\u001b[0m\u001b[0mloc\u001b[0m\u001b[0;34m[\u001b[0m\u001b[0;36m1\u001b[0m\u001b[0;34m]\u001b[0m\u001b[0;34m[\u001b[0m\u001b[0;36m9\u001b[0m\u001b[0;34m]\u001b[0m\u001b[0;34m,\u001b[0m \u001b[0mcdf\u001b[0m\u001b[0;34m=\u001b[0m\u001b[0;34m'norm'\u001b[0m\u001b[0;34m)\u001b[0m\u001b[0;34m\u001b[0m\u001b[0m\n\u001b[0;32m---> 16\u001b[0;31m \u001b[0mprint\u001b[0m\u001b[0;34m(\u001b[0m\u001b[0;34m'Unit - test statistic: {}, p-value: {}'\u001b[0m\u001b[0;34m.\u001b[0m\u001b[0mformat\u001b[0m\u001b[0;34m(\u001b[0m\u001b[0mresult_ks\u001b[0m\u001b[0;34m[\u001b[0m\u001b[0;36m0\u001b[0m\u001b[0;34m]\u001b[0m\u001b[0;34m,\u001b[0m \u001b[0mresult_ks\u001b[0m\u001b[0;34m[\u001b[0m\u001b[0;36m1\u001b[0m\u001b[0;34m]\u001b[0m\u001b[0;34m[\u001b[0m\u001b[0;36m2\u001b[0m\u001b[0;34m]\u001b[0m\u001b[0;34m)\u001b[0m\u001b[0;34m)\u001b[0m\u001b[0;34m\u001b[0m\u001b[0m\n\u001b[0m\u001b[1;32m     17\u001b[0m \u001b[0mprint\u001b[0m\u001b[0;34m(\u001b[0m\u001b[0;34m'Log Unit - test statistic: {}, p-value: {}'\u001b[0m\u001b[0;34m.\u001b[0m\u001b[0mformat\u001b[0m\u001b[0;34m(\u001b[0m\u001b[0mresult_ks_log\u001b[0m\u001b[0;34m[\u001b[0m\u001b[0;36m0\u001b[0m\u001b[0;34m]\u001b[0m\u001b[0;34m,\u001b[0m \u001b[0mresult_ks_log\u001b[0m\u001b[0;34m[\u001b[0m\u001b[0;36m1\u001b[0m\u001b[0;34m]\u001b[0m\u001b[0;34m[\u001b[0m\u001b[0;36m2\u001b[0m\u001b[0;34m]\u001b[0m\u001b[0;34m)\u001b[0m\u001b[0;34m)\u001b[0m\u001b[0;34m\u001b[0m\u001b[0m\n\u001b[1;32m     18\u001b[0m \u001b[0mprint\u001b[0m\u001b[0;34m(\u001b[0m\u001b[0;34m\"Unit - Skewness: %f\"\u001b[0m \u001b[0;34m%\u001b[0m \u001b[0mtrain_norm_test\u001b[0m\u001b[0;34m.\u001b[0m\u001b[0mloc\u001b[0m\u001b[0;34m[\u001b[0m\u001b[0;36m1\u001b[0m\u001b[0;34m]\u001b[0m\u001b[0;34m[\u001b[0m\u001b[0;36m9\u001b[0m\u001b[0;34m]\u001b[0m\u001b[0;34m.\u001b[0m\u001b[0mskew\u001b[0m\u001b[0;34m(\u001b[0m\u001b[0;34m)\u001b[0m\u001b[0;34m)\u001b[0m\u001b[0;34m\u001b[0m\u001b[0m\n",
      "\u001b[0;31mIndexError\u001b[0m: invalid index to scalar variable."
     ]
    }
   ],
   "source": [
    "# Let's draw per item_nbr per store_nbr * with units\n",
    "plt.figure(figsize = (30, 20))\n",
    "plt.subplot(4,2,1)\n",
    "sns.distplot(train_norm_test.loc[1][9], kde=True, fit=scipy.stats.norm)\n",
    "plt.title('Units')\n",
    "plt.subplot(4,2,2)\n",
    "sns.distplot(train_norm_test_log.loc[1][9], kde=True, fit=scipy.stats.norm)\n",
    "plt.title('Log_unit')\n",
    "plt.subplot(4,2,3)\n",
    "scipy.stats.probplot(train_norm_test.loc[1][9], dist=\"norm\", plot=pylab)\n",
    "plt.subplot(4,2,4)\n",
    "scipy.stats.probplot(train_norm_test_log.loc[1][9], dist=\"norm\", plot=pylab)\n",
    "pylab.show()\n",
    "result_ks = scipy.stats.kstest(train_norm_test.loc[1][9], cdf='norm')\n",
    "result_ks_log = scipy.stats.kstest(train_norm_test_log.loc[1][9], cdf='norm')\n",
    "print('Unit - test statistic: {}, p-value: {}'.format(result_ks[0], result_ks[1][2]))\n",
    "print('Log Unit - test statistic: {}, p-value: {}'.format(result_ks_log[0], result_ks_log[1][2]))\n",
    "print(\"Unit - Skewness: %f\" % train_norm_test.loc[1][9].skew())\n",
    "print(\"Unit - Kurtosis: %f\" % train_norm_test.loc[1][9].kurt())\n",
    "print(\"Log Unit - Skewness: %f\" % train_norm_test_log.loc[1][9].skew())\n",
    "print(\"Log Unit - Kurtosis: %f\" % train_norm_test_log.loc[1][9].kurt())\n",
    "# It seems like improving the normality!"
   ]
  },
  {
   "cell_type": "code",
   "execution_count": 10,
   "metadata": {
    "collapsed": true
   },
   "outputs": [],
   "source": [
    "def TM_transform(series, T_replace): \n",
    "    \"\"\"\n",
    "    데이터내의 T, M을 원하는 값으로 바꿔주는 함수\n",
    "    TM_transform(series, T_replace)\n",
    "    \"\"\"\n",
    "    series = series.astype(str).map(lambda s: s.strip())\n",
    "    series[series == 'T'] = T_replace\n",
    "    window = 3\n",
    "    for i in range(len(series)) :\n",
    "        if series.at[i] == 'M' :\n",
    "            tmp = 0.0\n",
    "            if i == 0:\n",
    "                result = 0.0\n",
    "            else:\n",
    "                for x in range(1, window + 1) :\n",
    "                    tmp += float(series.at[i - x])\n",
    "                    result = round(tmp / window, 2)\n",
    "            series.set_value(i, result) \n",
    "    return series.astype('float')"
   ]
  },
  {
   "cell_type": "code",
   "execution_count": 11,
   "metadata": {
    "collapsed": true
   },
   "outputs": [],
   "source": [
    "def match_dateformat(df, year):\n",
    "    \"\"\"\n",
    "    영문 월을 숫자 월로 바꾸어주고 나중에 사용하기 쉽도록 datetime.date 형태로 바꾸어주는 함수\n",
    "    \"\"\"\n",
    "    months = ['Jan', 'Feb', 'Mar', 'Apr', 'May', 'Jun', 'Jul', 'Aug', 'Sep', 'Oct', 'Nov', 'Dec']\n",
    "    for i in range(len(df)):\n",
    "        dates = df.loc[i][0]\n",
    "        dates = dates.split(\" \")\n",
    "        for j in range(len(months)):\n",
    "            if dates[0] == months[j]:\n",
    "                dates[0] = str(j + 1)\n",
    "                dates_df = [\"{} {} {}\".format(year, dates[0], dates[1])]\n",
    "                dates_df = pd.to_datetime(dates_df)\n",
    "                df.loc[i][0] = dates_df.date[0]\n",
    "    return df"
   ]
  },
  {
   "cell_type": "code",
   "execution_count": 12,
   "metadata": {
    "collapsed": true
   },
   "outputs": [],
   "source": [
    "def merge_holiday(holiday_df1, holiday_df2, holiday_df3):\n",
    "    \"\"\"\n",
    "    각 연도별 공휴일 리스트 합치기\n",
    "    \"\"\"\n",
    "    frame = [holiday_df1, holiday_df2, holiday_df3]\n",
    "    holiday = pd.concat(frame).reset_index(drop=True)\n",
    "    return holiday"
   ]
  },
  {
   "cell_type": "code",
   "execution_count": 13,
   "metadata": {
    "collapsed": true
   },
   "outputs": [],
   "source": [
    "def find_holiday(file, year):\n",
    "    \"\"\"\n",
    "    수요에 영향을 미치는 주요 공휴일을 찾아내는 함수\n",
    "    \"\"\"\n",
    "    holidays = [\"New Year's Day\", \"Martin Luther King Jr. Day\", \"Valentine's Day\",  \"President's Day\", \"Easter Sunday\", \n",
    "                      \"Mother's Day\", \"Memorial Day\", \"Father's Day\", \"Independence Day\", \"Labor Day\", \"Columbus Day\",\n",
    "                      \"Halloween\", \"Veterans Day\", \"Thanksgiving Day\", \"Black Friday\", \"Christmas Eve\", \"Christmas Day\", \"New Year's Eve\"]\n",
    "    \n",
    "    holi = pd.read_excel(file, year, header=None)\n",
    "    holi = match_dateformat(holi, year)\n",
    "    holiday = pd.DataFrame(columns=[0,1,2,3,4])\n",
    "    for _ in holidays:\n",
    "        for i in range(len(holi[2])):\n",
    "            if _ == holi[2][i]:\n",
    "                holiday = holiday.append(holi.loc[i])\n",
    "    return holiday"
   ]
  },
  {
   "cell_type": "code",
   "execution_count": 14,
   "metadata": {
    "collapsed": true
   },
   "outputs": [],
   "source": [
    "def cs_preprocessing(codesum):\n",
    "    codesum_temp = []\n",
    "    for _ in codesum:\n",
    "        _ = _.replace('+', '')\n",
    "        _ = _.replace('-', '')\n",
    "        if len(_) > 2:\n",
    "            _1 = _[:2]\n",
    "            codesum_temp.append(_1)\n",
    "            _2 = _[2:]\n",
    "            codesum_temp.append(_2)\n",
    "        else:\n",
    "            codesum_temp.append(_)\n",
    "    codesum = codesum_temp\n",
    "    return codesum\n",
    "            "
   ]
  },
  {
   "cell_type": "code",
   "execution_count": 15,
   "metadata": {
    "collapsed": true
   },
   "outputs": [],
   "source": [
    "def weather_flagger(weather):\n",
    "    codesum_ls = ['FC', 'TS', 'GR', 'RA', 'DZ', 'SN', 'SG', 'GS', 'PL', 'IC', 'FG', 'BR', 'UP', 'HZ', 'FU', 'VA', 'DU', 'DS', 'PO', 'SA', 'SS', 'PY', 'SQ', 'DR', 'SH', 'FZ', 'MI', 'PR', 'BC', 'BL', 'VC']\n",
    "    weather['date'] = pd.to_datetime(weather['date']) #weather는 글로벌변수\n",
    "    for i in range(len(weather['codesum'])):\n",
    "        codesum = weather['codesum'][i].split(\" \")\n",
    "        codesum = cs_preprocessing(codesum)\n",
    "        for _ in codesum:\n",
    "            flag = any(code in _ for code in codesum_ls)\n",
    "            if flag == True:\n",
    "                weather.set_value(i, '{}_flag'.format(_), 1)\n",
    "            else:\n",
    "                weather.set_value(i, 'normal_flag', 1)\n",
    "\n",
    "    # return x or y depending on the condition\n",
    "    # \"For the purposes of this competition, we have defined a weather event as any day in which more than an inch of rain or two inches of snow was observed.\"\n",
    "    # weather_event =  (((codesum contains SN) and (snowfall > 2)) or ((codesum contains RA) and (preciptotal > 1)))\n",
    "    weather['preciptotal'] = TM_transform(weather['preciptotal'], 0.001)\n",
    "    weather['snowfall'] = TM_transform(weather['snowfall'], 0.001)\n",
    "    weather['snow_event'] = np.where(np.where(weather['SN_flag'] == 1, 1, 0) + np.where(weather['snowfall'] > 2, 1, 0) == 2, 1, 0)\n",
    "    weather['rain_event'] = np.where(np.where(weather['RA_flag'] == 1, 1, 0) + np.where(weather['preciptotal'] > 1, 1, 0) == 2, 1, 0)\n",
    "    weather['event'] = weather['snow_event'] + weather['rain_event']\n",
    "    weather['event'] = np.where(weather['event'] >= 1, 1, 0)\n",
    "    #    weather['preciptotal_flag'] = np.where(weather['preciptotal'] > 0.2, 1, 0)\n",
    "    #     weather['depart'] = TM_transform(weather['depart'], np.nan, 0.00)\n",
    "    #     weather['depart_flag'] = np.where(weather['depart'] > 8.0, 1, 0)\n",
    "    #     weather['depart_flag'] = np.where(weather['depart'] < 8.0, -1, 0)\n",
    "    return weather"
   ]
  },
  {
   "cell_type": "code",
   "execution_count": 16,
   "metadata": {
    "collapsed": true
   },
   "outputs": [],
   "source": [
    "def test_preprocessing(df, holiday, weather):\n",
    "    df['date'] = pd.to_datetime(df['date'])\n",
    "    df['weekday'] = df.date.dt.weekday  # 월요일이 0 일요일이 6\n",
    "    df['weekend'] = df.date.dt.weekday.isin([5, 6])  # 5: 토요일, 6: 일요일\n",
    "\n",
    "    df['holiday'] = df.date.isin(holiday[0])\n",
    "    df['weekday_holiday'] = df.holiday & (df.weekend == False)\n",
    "    df['weekend_holiday'] = df.holiday & df.weekend\n",
    "    \n",
    "    df = pd.merge(df, key, on='store_nbr') #key는 글로벌 변수\n",
    "    df = pd.merge(df, weather[['date', 'station_nbr', 'RA_flag', 'SN_flag', 'normal_flag', 'event']], on=['date', 'station_nbr'])\n",
    "    return df"
   ]
  },
  {
   "cell_type": "code",
   "execution_count": 17,
   "metadata": {
    "collapsed": true
   },
   "outputs": [],
   "source": [
    "def preprocessing(df, holiday, weather):\n",
    "    \"\"\"\n",
    "    train데이터를 가공하는 함수\n",
    "    \"\"\"\n",
    "    df['units'] = np.log(df['units'] + 1) # logged units\n",
    "    df['date'] = pd.to_datetime(df['date'])\n",
    "    df['weekday'] = df.date.dt.weekday  # 월요일이 0 일요일이 6\n",
    "    df['weekend'] = df.date.dt.weekday.isin([5, 6])  # 5: 토요일, 6: 일요일\n",
    "\n",
    "    df['holiday'] = df.date.isin(holiday[0])\n",
    "    df['weekday_holiday'] = df.holiday & (df.weekend == False)\n",
    "    df['weekend_holiday'] = df.holiday & df.weekend\n",
    "    \n",
    "    df = pd.merge(df, key, on='store_nbr') #key는 글로벌 변수\n",
    "    df = pd.merge(df, weather[['date', 'station_nbr', 'RA_flag', 'SN_flag', 'normal_flag', 'event', 'snowfall', 'preciptotal']], on=['date', 'station_nbr'])\n",
    "    return df"
   ]
  },
  {
   "cell_type": "code",
   "execution_count": 18,
   "metadata": {},
   "outputs": [
    {
     "name": "stderr",
     "output_type": "stream",
     "text": [
      "/home/yjoung90/.pyenv/versions/3.6.4/lib/python3.6/site-packages/ipykernel_launcher.py:10: FutureWarning: set_value is deprecated and will be removed in a future release. Please use .at[] or .iat[] accessors instead\n",
      "  # Remove the CWD from sys.path while we load stuff.\n",
      "/home/yjoung90/.pyenv/versions/3.6.4/lib/python3.6/site-packages/ipykernel_launcher.py:12: FutureWarning: set_value is deprecated and will be removed in a future release. Please use .at[] or .iat[] accessors instead\n",
      "  if sys.path[0] == '':\n",
      "/home/yjoung90/.pyenv/versions/3.6.4/lib/python3.6/site-packages/ipykernel_launcher.py:18: FutureWarning: set_value is deprecated and will be removed in a future release. Please use .at[] or .iat[] accessors instead\n"
     ]
    }
   ],
   "source": [
    "holiday12 = find_holiday('../data/holiday.xlsx', '2012')\n",
    "holiday13 = find_holiday('../data/holiday.xlsx', '2013')\n",
    "holiday14 = find_holiday('../data/holiday.xlsx', '2014')\n",
    "holiday = merge_holiday(holiday12, holiday13, holiday14)\n",
    "weather = weather_flagger(weather)\n",
    "processed_train = preprocessing(train, holiday, weather)\n",
    "processed_test = test_preprocessing(test, holiday, weather)"
   ]
  },
  {
   "cell_type": "code",
   "execution_count": null,
   "metadata": {
    "collapsed": true
   },
   "outputs": [],
   "source": [
    "event_pivot_station_train = processed_train.pivot_table(values='event', index='date', columns='station_nbr')\n",
    "event_pivot_station_test = processed_test.pivot_table(values='event', index='date', columns='station_nbr')\n",
    "event_pivot_store_train = processed_train.pivot_table(values='event', index='date', columns='store_nbr')\n",
    "event_pivot_store_test = processed_test.pivot_table(values='event', index='date', columns='store_nbr')\n",
    "event_pivot_station_train = pd.DataFrame(event_pivot_station_train.to_records())\n",
    "event_pivot_station_test = pd.DataFrame(event_pivot_station_test.to_records())\n",
    "event_pivot_store_train = pd.DataFrame(event_pivot_store_train.to_records())\n",
    "event_pivot_store_test = pd.DataFrame(event_pivot_store_test.to_records())"
   ]
  },
  {
   "cell_type": "markdown",
   "metadata": {},
   "source": [
    "## Weather Event by Station"
   ]
  },
  {
   "cell_type": "code",
   "execution_count": null,
   "metadata": {
    "collapsed": true
   },
   "outputs": [],
   "source": [
    "date_index_train = [str(event_pivot_station_train.at[num, 'date'])for num in range(len(event_pivot_station_train))]\n",
    "date_index_test = [str(event_pivot_station_test.at[num, 'date'])for num in range(len(event_pivot_station_test))]\n",
    "\n",
    "f,  [ax1, ax2, ax3, ax4, ax5, ax6, ax7, ax8, ax9, ax10, ax11, ax12, ax13, ax14, ax15, ax16, ax17, ax18, ax19, ax20] = plt.subplots(20, sharex = True, figsize = (30, 20))\n",
    "ax_tp = [ax1, ax2, ax3, ax4, ax5, ax6, ax7, ax8, ax9, ax10, ax11, ax12, ax13, ax14, ax15, ax16, ax17, ax18, ax19, ax20]\n",
    "plt.ylim(0, 1)\n",
    "\n",
    "for i in range(1, len(ax_tp) + 1):\n",
    "    if i != 5:\n",
    "        ax_tp[i - 1].scatter(date_index_train, event_pivot_station_train[str(i)])\n",
    "        ax_tp[i - 1].scatter(date_index_test, event_pivot_station_test[str(i)])\n",
    "        ax_tp[i - 1].set_ylabel('{}'.format(i))   # Y 라벨 \n",
    "    else:\n",
    "        try:\n",
    "            ax_tp[i - 1].scatter(date_index_train, event_pivot_station_train[str(i)])\n",
    "            ax_tp[i - 1].scatter(date_index_test, event_pivot_station_test[str(i)])\n",
    "            ax_tp[i - 1].set_ylabel('{}'.format(i))   # Y 라벨 \n",
    "        except:\n",
    "            pass\n",
    "\n",
    "ax_tp[0].set_title(\"Event\")\n",
    "plt.xlabel('date') # X 라벨\n",
    "f.subplots_adjust(hspace = 1.25) \n",
    "# plt.setp([a.get_xticklabels() for a in f.axes[:-1]], visible = False)"
   ]
  },
  {
   "cell_type": "markdown",
   "metadata": {},
   "source": [
    "## Weather Event by Store"
   ]
  },
  {
   "cell_type": "code",
   "execution_count": null,
   "metadata": {
    "collapsed": true
   },
   "outputs": [],
   "source": [
    "date_index_train = [str(event_pivot_store_train.at[num, 'date'])for num in range(len(event_pivot_store_train))]\n",
    "date_index_test = [str(event_pivot_store_test.at[num, 'date'])for num in range(len(event_pivot_store_test))]\n",
    "\n",
    "f,  [ax1, ax2, ax3, ax4, ax5, ax6, ax7, ax8, ax9, ax10, ax11, ax12, ax13, ax14, ax15, ax16, ax17, ax18, ax19, ax20, ax21\n",
    "    , ax22, ax23, ax24, ax25, ax26, ax27, ax28, ax29, ax30, ax31, ax32, ax33, ax34, ax35, ax36, ax37, ax38, ax39, ax40\n",
    "    , ax41, ax42, ax43, ax44, ax45] = plt.subplots(45, sharex = True, figsize = (30, 30))\n",
    "ax_tp = [ax1, ax2, ax3, ax4, ax5, ax6, ax7, ax8, ax9, ax10, ax11, ax12, ax13, ax14, ax15, ax16, ax17, ax18, ax19, ax20, ax21\n",
    "    , ax22, ax23, ax24, ax25, ax26, ax27, ax28, ax29, ax30, ax31, ax32, ax33, ax34, ax35, ax36, ax37, ax38, ax39, ax40\n",
    "    , ax41, ax42, ax43, ax44, ax45]\n",
    "plt.ylim(0, 1)\n",
    "\n",
    "for i in range(1, len(ax_tp) + 1):\n",
    "    if i != 35:\n",
    "        ax_tp[i - 1].scatter(date_index_train, event_pivot_store_train[str(i)])\n",
    "        ax_tp[i - 1].scatter(date_index_test, event_pivot_store_test[str(i)])\n",
    "        ax_tp[i - 1].set_ylabel('{}'.format(i))   # Y 라벨 \n",
    "    else:\n",
    "        try:\n",
    "            ax_tp[i - 1].scatter(date_index_train, event_pivot_store_train[str(i)])\n",
    "            ax_tp[i - 1].scatter(date_index_test, event_pivot_store_test[str(i)])\n",
    "            ax_tp[i - 1].set_ylabel('{}'.format(i))   # Y 라벨 \n",
    "        except:\n",
    "            pass\n",
    "\n",
    "ax_tp[0].set_title(\"Event\")\n",
    "plt.xlabel('date') # X 라벨\n",
    "f.subplots_adjust(hspace = 1.25) \n",
    "# plt.setp([a.get_xticklabels() for a in f.axes[:-1]], visible = False)"
   ]
  },
  {
   "cell_type": "markdown",
   "metadata": {},
   "source": [
    "## Feature Selection"
   ]
  },
  {
   "cell_type": "markdown",
   "metadata": {},
   "source": [
    "### Whole Picture"
   ]
  },
  {
   "cell_type": "code",
   "execution_count": null,
   "metadata": {
    "collapsed": true
   },
   "outputs": [],
   "source": [
    "processed_train_cut = processed_train[processed_train['date'] <= '2013-03-31']"
   ]
  },
  {
   "cell_type": "code",
   "execution_count": null,
   "metadata": {
    "collapsed": true
   },
   "outputs": [],
   "source": [
    "processed_train_f1 = processed_train_cut.pivot_table(values='units', index=['event'], aggfunc=np.sum)\n",
    "processed_train_f2 = processed_train_cut.pivot_table(values='units', index=['weekday'], aggfunc=np.sum)\n",
    "processed_train_f3 = processed_train_cut.pivot_table(values='units', index=['holiday'], aggfunc=np.sum)\n",
    "\n",
    "fig, axes = plt.subplots(nrows=1, ncols=3, figsize = (25, 7))\n",
    "# unit vs event\n",
    "processed_train_f1.plot(kind='bar', logy=True, ax=axes[0])\n",
    "plt.ylabel('Total Number of Units in Log Scale')\n",
    "plt.xlabel('Weather Event')\n",
    "# unit vs weekday\n",
    "processed_train_f2.plot(kind='line', style='.-', ax=axes[1])\n",
    "plt.xticks(rotation=0)\n",
    "plt.ylabel('Total Number of Units')\n",
    "plt.xlabel('Weekday')\n",
    "# unit vs holiday\n",
    "processed_train_f3.plot(kind='bar', logy=True, ax=axes[2])\n",
    "plt.xticks(rotation=0)\n",
    "plt.ylabel('Total Number of Units in Log Scale')\n",
    "plt.xlabel('Holiday')\n",
    "plt.show()"
   ]
  },
  {
   "cell_type": "markdown",
   "metadata": {},
   "source": [
    "## By Store"
   ]
  },
  {
   "cell_type": "markdown",
   "metadata": {},
   "source": [
    "#### Holiday Influence"
   ]
  },
  {
   "cell_type": "code",
   "execution_count": null,
   "metadata": {
    "collapsed": true
   },
   "outputs": [],
   "source": [
    "processed_train_holiday = processed_train_cut[processed_train_cut['holiday'] == True] # holiday만 추려서 dataframe 만듬.\n",
    "processed_train_nonholiday = processed_train_cut[processed_train_cut['holiday'] == False] # holiday 아닌 날들만 추려서 dataframe 만듬."
   ]
  },
  {
   "cell_type": "code",
   "execution_count": null,
   "metadata": {
    "collapsed": true
   },
   "outputs": [],
   "source": [
    "def by_store(df, nbr) : # sort by store number and re-index\n",
    "    df_new = df[df['store_nbr'] == nbr]\n",
    "    df_new.reset_index(drop = True, inplace = True)\n",
    "    return df_new"
   ]
  },
  {
   "cell_type": "code",
   "execution_count": null,
   "metadata": {
    "collapsed": true
   },
   "outputs": [],
   "source": [
    "# Let's plot 10 stores first to see if holiday influences the unit demand\n",
    "for i in range(1, 11):\n",
    "    plt.subplots(figsize = (30, 400))\n",
    "    plt.subplot(90,1, i)\n",
    "    sns.boxplot(x = 'item_nbr', y = 'units', data = by_store(processed_train_holiday, i)) # holiday\n",
    "    plt.title('store_nbr = {}'.format(i))\n",
    "    plt.subplot(90, 1, i + 1)\n",
    "    sns.boxplot(x = 'item_nbr', y = 'units', data = by_store(processed_train_nonholiday, i)) # non-holiday\n",
    "plt.show()"
   ]
  },
  {
   "cell_type": "markdown",
   "metadata": {},
   "source": [
    "- 10개의 스토어만 놓고 보았을때 공휴일의 영향이 별로 없어보임\n",
    "- 각 스토어 별로 각 아이템이 휴일에 얼마나 영향을 받는지 units의 평균값과 표준편차로 나타내기"
   ]
  },
  {
   "cell_type": "code",
   "execution_count": null,
   "metadata": {
    "collapsed": true
   },
   "outputs": [],
   "source": [
    "frames = []\n",
    "for i in range(1, 46):\n",
    "    df_holiday_store_item_describe = pd.DataFrame()\n",
    "    mean = pd.DataFrame(by_store(processed_train_holiday,i).pivot_table(values='units', index=['item_nbr'], aggfunc=np.mean).to_records())\n",
    "    std = pd.DataFrame(by_store(processed_train_holiday,i).pivot_table(values='units', index=['item_nbr'], aggfunc=np.std).to_records())\n",
    "    df_holiday_store_item_describe['item_nbr'] = mean.index + 1\n",
    "    df_holiday_store_item_describe['store_nbr'] = i \n",
    "    df_holiday_store_item_describe['mean'] = mean['units']\n",
    "    df_holiday_store_item_describe['stdev'] = std['units']\n",
    "    frames.append(df_holiday_store_item_describe)\n",
    "df_holiday_store_item_describe = pd.concat(frames)\n",
    "df_holiday_store_item_describe = df_holiday_store_item_describe.pivot_table(index=['item_nbr'], columns=['store_nbr'], values=['mean', 'stdev'])"
   ]
  },
  {
   "cell_type": "code",
   "execution_count": null,
   "metadata": {
    "collapsed": true
   },
   "outputs": [],
   "source": [
    "frames = []\n",
    "for i in range(1, 46):\n",
    "    df_nonholiday_store_item_describe = pd.DataFrame()\n",
    "    mean = pd.DataFrame(by_store(processed_train_nonholiday,i).pivot_table(values='units', index=['item_nbr'], aggfunc=np.mean).to_records())\n",
    "    std = pd.DataFrame(by_store(processed_train_nonholiday,i).pivot_table(values='units', index=['item_nbr'], aggfunc=np.std).to_records())\n",
    "    df_nonholiday_store_item_describe['item_nbr'] = mean.index + 1\n",
    "    df_nonholiday_store_item_describe['store_nbr'] = i \n",
    "    df_nonholiday_store_item_describe['mean'] = mean['units']\n",
    "    df_nonholiday_store_item_describe['stdev'] = std['units']\n",
    "    frames.append(df_nonholiday_store_item_describe)\n",
    "df_nonholiday_store_item_describe = pd.concat(frames)\n",
    "df_nonholiday_store_item_describe = df_nonholiday_store_item_describe.pivot_table(index=['item_nbr'], columns=['store_nbr'], values=['mean', 'stdev'])"
   ]
  },
  {
   "cell_type": "code",
   "execution_count": null,
   "metadata": {
    "collapsed": true
   },
   "outputs": [],
   "source": [
    "df_difference = df_holiday_store_item_describe - df_nonholiday_store_item_describe\n",
    "\n",
    "df_difference['mean'][3].plot(kind='line', legend=False, title='Mean Difference')\n",
    "plt.ylabel('Mean')\n",
    "plt.show()"
   ]
  },
  {
   "cell_type": "code",
   "execution_count": null,
   "metadata": {
    "collapsed": true
   },
   "outputs": [],
   "source": [
    "df_difference['max_mean_diff'] = df_difference['mean'].max(axis=1)\n",
    "df_difference['min_mean_diff'] =  df_difference['mean'].min(axis=1)\n",
    "# Convert it to the actual units (it is logged in the beginning)\n",
    "df_difference['max_mean_diff_actual'] = np.exp(df_difference['mean'].max(axis=1)) - 1\n",
    "df_difference['min_mean_diff_actual'] =  np.exp(df_difference['mean'].min(axis=1)) - 1\n",
    "print('Maximum mean difference is : {}'.format(df_difference['max_mean_diff_actual'].max(axis=0)))\n",
    "print('Minimum mean difference is : {}'.format(df_difference['min_mean_diff_actual'].min(axis=0)))\n",
    "# 최대 0.5 정도의 차이가 남"
   ]
  },
  {
   "cell_type": "markdown",
   "metadata": {},
   "source": [
    "### Thanksgiving Day"
   ]
  },
  {
   "cell_type": "code",
   "execution_count": null,
   "metadata": {
    "collapsed": true
   },
   "outputs": [],
   "source": [
    "train_plot = processed_train_cut.pivot_table(values = 'units', index = ['date'], columns = ['item_nbr'], aggfunc = np.mean) #units는 0이상임..\n",
    "plt.figure(figsize = (40, 40))\n",
    "sns.heatmap(train_plot, cmap = 'BuGn_r')\n",
    "plt.show()"
   ]
  },
  {
   "cell_type": "markdown",
   "metadata": {},
   "source": [
    "### Weekend Influence"
   ]
  },
  {
   "cell_type": "code",
   "execution_count": null,
   "metadata": {
    "collapsed": true
   },
   "outputs": [],
   "source": [
    "processed_train_weekend = processed_train_cut[processed_train_cut['weekend'] == True] # holiday만 추려서 dataframe 만듬.\n",
    "processed_train_businessday = processed_train_cut[processed_train_cut['weekend'] == False] # holiday 아닌 날들만 추려서 dataframe 만듬."
   ]
  },
  {
   "cell_type": "code",
   "execution_count": null,
   "metadata": {
    "collapsed": true
   },
   "outputs": [],
   "source": [
    "for i in range(1, 11):\n",
    "    plt.subplots(figsize = (30, 400))\n",
    "    plt.subplot(90,1, i)\n",
    "    sns.boxplot(x = 'item_nbr', y = 'units', data = by_store(processed_train_weekend, i)) # weekend\n",
    "    plt.title('store_nbr = {}'.format(i))\n",
    "    plt.subplot(90, 1, i + 1)\n",
    "    sns.boxplot(x = 'item_nbr', y = 'units', data = by_store(processed_train_businessday, i)) # businessday\n",
    "plt.show()"
   ]
  },
  {
   "cell_type": "markdown",
   "metadata": {},
   "source": [
    "- 10개의 스토어만 놓고 보았을때 평일 주말의 영향이 별로 없어보임\n",
    "- 각 스토어 별로 각 아이템이 에 주말 영향을 받는지 units의 평균값과 표준편차로 나타내기"
   ]
  },
  {
   "cell_type": "code",
   "execution_count": null,
   "metadata": {
    "collapsed": true
   },
   "outputs": [],
   "source": [
    "frames = []\n",
    "for i in range(1, 46):\n",
    "    df_weekend_store_item_describe = pd.DataFrame()\n",
    "    mean = pd.DataFrame(by_store(processed_train_weekend,i).pivot_table(values='units', index=['item_nbr'], aggfunc=np.mean).to_records())\n",
    "    std = pd.DataFrame(by_store(processed_train_weekend,i).pivot_table(values='units', index=['item_nbr'], aggfunc=np.std).to_records())\n",
    "    df_weekend_store_item_describe['item_nbr'] = mean.index + 1\n",
    "    df_weekend_store_item_describe['store_nbr'] = i \n",
    "    df_weekend_store_item_describe['mean'] = mean['units']\n",
    "    df_weekend_store_item_describe['stdev'] = std['units']\n",
    "    frames.append(df_weekend_store_item_describe)\n",
    "df_weekend_store_item_describe = pd.concat(frames)\n",
    "df_weekend_store_item_describe = df_weekend_store_item_describe.pivot_table(index=['item_nbr'], columns=['store_nbr'], values=['mean', 'stdev'])"
   ]
  },
  {
   "cell_type": "code",
   "execution_count": null,
   "metadata": {
    "collapsed": true
   },
   "outputs": [],
   "source": [
    "frames = []\n",
    "for i in range(1, 46):\n",
    "    df_businessday_store_item_describe = pd.DataFrame()\n",
    "    mean = pd.DataFrame(by_store(processed_train_businessday,i).pivot_table(values='units', index=['item_nbr'], aggfunc=np.mean).to_records())\n",
    "    std = pd.DataFrame(by_store(processed_train_businessday,i).pivot_table(values='units', index=['item_nbr'], aggfunc=np.std).to_records())\n",
    "    df_businessday_store_item_describe['item_nbr'] = mean.index + 1\n",
    "    df_businessday_store_item_describe['store_nbr'] = i \n",
    "    df_businessday_store_item_describe['mean'] = mean['units']\n",
    "    df_businessday_store_item_describe['stdev'] = std['units']\n",
    "    frames.append(df_businessday_store_item_describe)\n",
    "df_businessday_store_item_describe = pd.concat(frames)\n",
    "df_businessday_store_item_describe = df_businessday_store_item_describe.pivot_table(index=['item_nbr'], columns=['store_nbr'], values=['mean', 'stdev'])"
   ]
  },
  {
   "cell_type": "code",
   "execution_count": null,
   "metadata": {
    "collapsed": true
   },
   "outputs": [],
   "source": [
    "df_difference = df_weekend_store_item_describe - df_businessday_store_item_describe\n",
    "\n",
    "df_difference['mean'][3].plot(kind='line', legend=False, title='Mean Difference')\n",
    "plt.ylabel('Mean')\n",
    "plt.show()"
   ]
  },
  {
   "cell_type": "code",
   "execution_count": null,
   "metadata": {
    "collapsed": true
   },
   "outputs": [],
   "source": [
    "df_difference['max_mean_diff'] = df_difference['mean'].max(axis=1)\n",
    "df_difference['min_mean_diff'] =  df_difference['mean'].min(axis=1)\n",
    "# Convert it to the actual units (it is logged in the beginning)\n",
    "df_difference['max_mean_diff_actual'] = np.exp(df_difference['mean'].max(axis=1)) - 1\n",
    "df_difference['min_mean_diff_actual'] =  np.exp(df_difference['mean'].min(axis=1)) - 1\n",
    "print('Maximum mean difference is : {}'.format(df_difference['max_mean_diff_actual'].max(axis=0)))\n",
    "print('Minimum mean difference is : {}'.format(df_difference['min_mean_diff_actual'].min(axis=0)))\n",
    "# 최대 0.8 정도의 차이가 남"
   ]
  },
  {
   "cell_type": "markdown",
   "metadata": {},
   "source": [
    "### Weekday Influence"
   ]
  },
  {
   "cell_type": "code",
   "execution_count": null,
   "metadata": {
    "collapsed": true
   },
   "outputs": [],
   "source": [
    "processed_train_mon = processed_train_cut[processed_train_cut['weekday'] == 0] # holiday만 추려서 dataframe 만듬.\n",
    "processed_train_tue = processed_train_cut[processed_train_cut['weekday'] == 1]\n",
    "processed_train_wed = processed_train_cut[processed_train_cut['weekday'] == 2]\n",
    "processed_train_thu = processed_train_cut[processed_train_cut['weekday'] == 3]\n",
    "processed_train_fri = processed_train_cut[processed_train_cut['weekday'] == 4]\n",
    "processed_train_sat = processed_train_cut[processed_train_cut['weekday'] == 5]\n",
    "processed_train_sun = processed_train_cut[processed_train_cut['weekday'] == 6]"
   ]
  },
  {
   "cell_type": "code",
   "execution_count": null,
   "metadata": {
    "collapsed": true
   },
   "outputs": [],
   "source": [
    "for i in range(1, 11):\n",
    "    plt.subplots(figsize = (30, 400))\n",
    "    plt.subplot(315,1, i)\n",
    "    sns.boxplot(x = 'item_nbr', y = 'units', data = by_store(processed_train_mon, i))\n",
    "    plt.title('store_nbr = {}'.format(i))\n",
    "    plt.subplot(315, 1, i + 1)\n",
    "    sns.boxplot(x = 'item_nbr', y = 'units', data = by_store(processed_train_tue, i))\n",
    "    plt.subplot(315, 1, i + 2)\n",
    "    sns.boxplot(x = 'item_nbr', y = 'units', data = by_store(processed_train_wed, i))\n",
    "    plt.subplot(315, 1, i + 3)\n",
    "    sns.boxplot(x = 'item_nbr', y = 'units', data = by_store(processed_train_thu, i))\n",
    "    plt.subplot(315, 1, i + 4)\n",
    "    sns.boxplot(x = 'item_nbr', y = 'units', data = by_store(processed_train_fri, i))\n",
    "    plt.subplot(315, 1, i + 5)\n",
    "    sns.boxplot(x = 'item_nbr', y = 'units', data = by_store(processed_train_sat, i))\n",
    "    plt.subplot(315, 1, i + 6)\n",
    "    sns.boxplot(x = 'item_nbr', y = 'units', data = by_store(processed_train_sun, i))\n",
    "plt.show()"
   ]
  },
  {
   "cell_type": "code",
   "execution_count": null,
   "metadata": {
    "collapsed": true
   },
   "outputs": [],
   "source": []
  },
  {
   "cell_type": "markdown",
   "metadata": {},
   "source": [
    "### Weather Influence"
   ]
  },
  {
   "cell_type": "code",
   "execution_count": null,
   "metadata": {
    "collapsed": true
   },
   "outputs": [],
   "source": [
    "processed_train_event = processed_train_cut[processed_train_cut['event'] == 1] # Stormy day만추려서 dataframe 만듬.\n",
    "processed_train_noevent = processed_train_cut[processed_train_cut['event'] == 0] # 평범한 날들만 추려서 dataframe 만듬."
   ]
  },
  {
   "cell_type": "code",
   "execution_count": null,
   "metadata": {
    "collapsed": true
   },
   "outputs": [],
   "source": [
    "for i in range(1, 11):\n",
    "    plt.subplots(figsize = (30, 400))\n",
    "    plt.subplot(90,1, i)\n",
    "    sns.boxplot(x = 'item_nbr', y = 'units', data = by_store(processed_train_event, i)) # weekend\n",
    "    plt.title('store_nbr = {}'.format(i))\n",
    "    plt.subplot(90, 1, i + 1)\n",
    "    sns.boxplot(x = 'item_nbr', y = 'units', data = by_store(processed_train_noevent, i)) # businessday\n",
    "plt.show()"
   ]
  },
  {
   "cell_type": "code",
   "execution_count": null,
   "metadata": {
    "collapsed": true
   },
   "outputs": [],
   "source": [
    "frames = []\n",
    "for i in range(1, 46):\n",
    "    if i != 35:\n",
    "        df_event_store_item_describe = pd.DataFrame()\n",
    "        mean = pd.DataFrame(by_store(processed_train_event,i).pivot_table(values='units', index=['item_nbr'], aggfunc=np.mean).to_records())\n",
    "        std = pd.DataFrame(by_store(processed_train_event,i).pivot_table(values='units', index=['item_nbr'], aggfunc=np.std).to_records())\n",
    "        df_event_store_item_describe['item_nbr'] = mean.index + 1\n",
    "        df_event_store_item_describe['store_nbr'] = i \n",
    "        df_event_store_item_describe['mean'] = mean['units']\n",
    "        df_event_store_item_describe['stdev'] = std['units']\n",
    "        frames.append(df_event_store_item_describe)\n",
    "    else:\n",
    "        df_event_store_item_describe = pd.DataFrame()\n",
    "        df_event_store_item_describe['item_nbr'] = range(1, 112)\n",
    "        df_event_store_item_describe['store_nbr'] = 35\n",
    "        df_event_store_item_describe['mean'] = 0\n",
    "        df_event_store_item_describe['stdev'] = 0\n",
    "        frames.append(df_event_store_item_describe)\n",
    "df_event_store_item_describe = pd.concat(frames)\n",
    "df_event_store_item_describe = df_event_store_item_describe.pivot_table(index=['item_nbr'], columns=['store_nbr'], values=['mean', 'stdev'])"
   ]
  },
  {
   "cell_type": "code",
   "execution_count": null,
   "metadata": {
    "collapsed": true
   },
   "outputs": [],
   "source": [
    "frames = []\n",
    "for i in range(1, 46):\n",
    "    df_noevent_store_item_describe = pd.DataFrame()\n",
    "    mean = pd.DataFrame(by_store(processed_train_noevent,i).pivot_table(values='units', index=['item_nbr'], aggfunc=np.mean).to_records())\n",
    "    std = pd.DataFrame(by_store(processed_train_noevent,i).pivot_table(values='units', index=['item_nbr'], aggfunc=np.std).to_records())\n",
    "    df_noevent_store_item_describe['item_nbr'] = mean.index + 1\n",
    "    df_noevent_store_item_describe['store_nbr'] = i \n",
    "    df_noevent_store_item_describe['mean'] = mean['units']\n",
    "    df_noevent_store_item_describe['stdev'] = std['units']\n",
    "    frames.append(df_noevent_store_item_describe)\n",
    "df_noevent_store_item_describe = pd.concat(frames)\n",
    "df_noevent_store_item_describe = df_noevent_store_item_describe.pivot_table(index=['item_nbr'], columns=['store_nbr'], values=['mean', 'stdev'])"
   ]
  },
  {
   "cell_type": "code",
   "execution_count": null,
   "metadata": {
    "collapsed": true
   },
   "outputs": [],
   "source": [
    "df_difference = df_event_store_item_describe - df_noevent_store_item_describe\n",
    "df_difference['mean'][3].plot(kind='line', legend=False, title='Mean Difference')\n",
    "plt.ylabel('Mean')\n",
    "plt.show()"
   ]
  },
  {
   "cell_type": "code",
   "execution_count": null,
   "metadata": {
    "collapsed": true
   },
   "outputs": [],
   "source": [
    "df_difference['max_mean_diff'] = df_difference['mean'].max(axis=1)\n",
    "df_difference['min_mean_diff'] =  df_difference['mean'].min(axis=1)\n",
    "# Convert it to the actual units (it is logged in the beginning)\n",
    "df_difference['max_mean_diff_actual'] = np.exp(df_difference['mean'].max(axis=1)) - 1\n",
    "df_difference['min_mean_diff_actual'] =  np.exp(df_difference['mean'].min(axis=1)) - 1\n",
    "print('Maximum mean difference is : {}'.format(df_difference['max_mean_diff_actual'].max(axis=0)))\n",
    "print('Minimum mean difference is : {}'.format(df_difference['min_mean_diff_actual'].min(axis=0)))\n",
    "# 최대 5 정도의 차이가 남"
   ]
  },
  {
   "cell_type": "code",
   "execution_count": null,
   "metadata": {
    "collapsed": true
   },
   "outputs": [],
   "source": [
    "df_difference['max_mean_diff_actual'].plot(kind='line')\n",
    "plt.show()"
   ]
  },
  {
   "cell_type": "markdown",
   "metadata": {},
   "source": [
    "## OLS"
   ]
  },
  {
   "cell_type": "code",
   "execution_count": null,
   "metadata": {
    "collapsed": true
   },
   "outputs": [],
   "source": [
    "processed_train_cut.sort_values(by = ['date', 'store_nbr', 'item_nbr'], inplace=True)\n",
    "processed_train_cut.reset_index(drop=True, inplace=True)\n",
    "processed_train_cut1 = processed_train_cut"
   ]
  },
  {
   "cell_type": "code",
   "execution_count": null,
   "metadata": {
    "collapsed": true
   },
   "outputs": [],
   "source": [
    "tmp = processed_train_cut1.pivot_table(values = 'units', index = ['date'], columns = ['store_nbr','item_nbr'])\n",
    "item_nbr_total = list(tmp.columns)\n",
    "tmp = tmp.loc[:, (tmp != 0).any(axis = 0)]\n",
    "item_nbr_nonzero = list(tmp.columns)\n",
    "\n",
    "item_nbr_total_list = []\n",
    "for i in range(len(item_nbr_total)):\n",
    "    item_nbr_total_list.append(item_nbr_total[i][1])\n",
    "\n",
    "item_nbr_sold = []\n",
    "for i in range(len(item_nbr_nonzero)):\n",
    "    item_nbr_sold.append(item_nbr_nonzero[i][1])\n",
    "    \n",
    "\n",
    "    \n",
    "item_nbr_zero = []\n",
    "for num in item_nbr_total_list :\n",
    "    if num not in item_nbr_sold :\n",
    "        item_nbr_zero.append(num)"
   ]
  },
  {
   "cell_type": "code",
   "execution_count": null,
   "metadata": {
    "collapsed": true
   },
   "outputs": [],
   "source": [
    "item_nbr_nonzero"
   ]
  },
  {
   "cell_type": "markdown",
   "metadata": {},
   "source": [
    "### 짤라주세요  ㅜㅜㅜㅜ"
   ]
  },
  {
   "cell_type": "code",
   "execution_count": null,
   "metadata": {
    "collapsed": true
   },
   "outputs": [],
   "source": [
    "# for i in range(1, 46): \n",
    "for num in item_nbr_sold:\n",
    "#         processed_train_cut1 = processed_train_cut1[processed_train_cut1['store_nbr'] == i]\n",
    "    processed_train_cut1 = processed_train_cut1[processed_train_cut1.item_nbr == num]"
   ]
  },
  {
   "cell_type": "code",
   "execution_count": null,
   "metadata": {
    "collapsed": true
   },
   "outputs": [],
   "source": [
    "processed_train_cut1"
   ]
  },
  {
   "cell_type": "code",
   "execution_count": 12,
   "metadata": {},
   "outputs": [],
   "source": [
    "train_new = train_df[:2255853]"
   ]
  },
  {
   "cell_type": "code",
   "execution_count": null,
   "metadata": {
    "collapsed": true
   },
   "outputs": [],
   "source": [
    "item_nbr_nonzero"
   ]
  },
  {
   "cell_type": "code",
   "execution_count": 13,
   "metadata": {},
   "outputs": [
    {
     "ename": "NameError",
     "evalue": "name 'preprocessing' is not defined",
     "output_type": "error",
     "traceback": [
      "\u001b[1;31m---------------------------------------------------------------------------\u001b[0m",
      "\u001b[1;31mNameError\u001b[0m                                 Traceback (most recent call last)",
      "\u001b[1;32m<ipython-input-13-ecb34aeb019b>\u001b[0m in \u001b[0;36m<module>\u001b[1;34m()\u001b[0m\n\u001b[0;32m     10\u001b[0m     \u001b[0mtrain_new_\u001b[0m \u001b[1;33m=\u001b[0m \u001b[0mtrain_new\u001b[0m\u001b[1;33m[\u001b[0m\u001b[0mtrain_new\u001b[0m\u001b[1;33m.\u001b[0m\u001b[0mitem_nbr\u001b[0m \u001b[1;33m!=\u001b[0m \u001b[0mnum\u001b[0m\u001b[1;33m]\u001b[0m\u001b[1;33m\u001b[0m\u001b[0m\n\u001b[0;32m     11\u001b[0m \u001b[0mtrain_new_\u001b[0m\u001b[1;33m.\u001b[0m\u001b[0mreset_index\u001b[0m\u001b[1;33m(\u001b[0m\u001b[0mdrop\u001b[0m \u001b[1;33m=\u001b[0m \u001b[1;32mTrue\u001b[0m\u001b[1;33m,\u001b[0m \u001b[0minplace\u001b[0m \u001b[1;33m=\u001b[0m \u001b[1;32mTrue\u001b[0m\u001b[1;33m)\u001b[0m\u001b[1;33m\u001b[0m\u001b[0m\n\u001b[1;32m---> 12\u001b[1;33m \u001b[0mprocessed_train_cut2\u001b[0m \u001b[1;33m=\u001b[0m \u001b[0mpreprocessing\u001b[0m\u001b[1;33m(\u001b[0m\u001b[0mtrain_new_\u001b[0m\u001b[1;33m,\u001b[0m \u001b[0mholiday\u001b[0m\u001b[1;33m,\u001b[0m \u001b[0mweather\u001b[0m\u001b[1;33m)\u001b[0m\u001b[1;33m\u001b[0m\u001b[0m\n\u001b[0m",
      "\u001b[1;31mNameError\u001b[0m: name 'preprocessing' is not defined"
     ]
    }
   ],
   "source": [
    "tmp = train_new.pivot_table(values = 'log_units', index = 'date', columns = 'item_nbr')\n",
    "item_nbr_total = list(tmp.columns)\n",
    "tmp = tmp.loc[:, (tmp != 0).any(axis = 0)]\n",
    "item_nbr_nonzero = list(tmp.columns)\n",
    "item_nbr_zero = []\n",
    "for num in item_nbr_total :\n",
    "    if num not in item_nbr_nonzero :\n",
    "        item_nbr_zero.append(num)\n",
    "for num in item_nbr_zero :\n",
    "    train_new_ = train_new[train_new.item_nbr != num]\n",
    "train_new_.reset_index(drop = True, inplace = True)\n",
    "processed_train_cut2 = preprocessing(train_new_, holiday, weather)"
   ]
  },
  {
   "cell_type": "code",
   "execution_count": null,
   "metadata": {
    "collapsed": true
   },
   "outputs": [],
   "source": [
    "processed_train_cut2"
   ]
  },
  {
   "cell_type": "code",
   "execution_count": null,
   "metadata": {
    "collapsed": true
   },
   "outputs": [],
   "source": [
    "processed_train_cut1['store_nbr'] = processed_train_cut1['store_nbr'].astype('category')\n",
    "processed_train_cut1['item_nbr'] = processed_train_cut1['item_nbr'].astype('category')\n",
    "processed_train_cut1['weekday'] = processed_train_cut1['weekday'].astype('category')\n",
    "processed_train_cut1['event'] = processed_train_cut1['event'].astype('category')\n",
    "processed_train_cut1['holiday'] = processed_train_cut1['holiday'].astype('category')"
   ]
  },
  {
   "cell_type": "code",
   "execution_count": null,
   "metadata": {
    "collapsed": true
   },
   "outputs": [],
   "source": [
    "model = sm.OLS.from_formula('units ~ store_nbr + item_nbr + weekday + event + holiday', data=processed_train_cut1)\n",
    "result = model.fit()\n",
    "print(result.summary())"
   ]
  },
  {
   "cell_type": "code",
   "execution_count": null,
   "metadata": {
    "collapsed": true
   },
   "outputs": [],
   "source": []
  }
 ],
 "metadata": {
  "kernelspec": {
   "display_name": "Python 3",
   "language": "python",
   "name": "python3"
  },
  "language_info": {
   "codemirror_mode": {
    "name": "ipython",
    "version": 3
   },
   "file_extension": ".py",
   "mimetype": "text/x-python",
   "name": "python",
   "nbconvert_exporter": "python",
   "pygments_lexer": "ipython3",
   "version": "3.6.3"
  },
  "varInspector": {
   "cols": {
    "lenName": 16,
    "lenType": 16,
    "lenVar": 40
   },
   "kernels_config": {
    "python": {
     "delete_cmd_postfix": "",
     "delete_cmd_prefix": "del ",
     "library": "var_list.py",
     "varRefreshCmd": "print(var_dic_list())"
    },
    "r": {
     "delete_cmd_postfix": ") ",
     "delete_cmd_prefix": "rm(",
     "library": "var_list.r",
     "varRefreshCmd": "cat(var_dic_list()) "
    }
   },
   "oldHeight": 396.666666,
   "position": {
    "height": "418px",
    "left": "777px",
    "right": "20px",
    "top": "86px",
    "width": "440px"
   },
   "types_to_exclude": [
    "module",
    "function",
    "builtin_function_or_method",
    "instance",
    "_Feature"
   ],
   "varInspector_section_display": "block",
   "window_display": false
  }
 },
 "nbformat": 4,
 "nbformat_minor": 2
}
