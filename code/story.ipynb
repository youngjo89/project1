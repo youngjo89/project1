{
 "cells": [
  {
   "cell_type": "markdown",
   "metadata": {},
   "source": [
    "train data set에서 units/store, units/station 간의 관계를 우선 본다.\n",
    "일단 때려넣었더니 0이 너무 많다. 볼수가없다.\n",
    "로그를 취했으나 여전히 0이 너무 많음\n",
    "item nbr별로 보자! 그랬더니 팔리지 않은 item도 존재하더라~ 오홍\n",
    "\n",
    "팔린 item만 살펴보니 분포가 normal distribution은 아니더라\n",
    "\n",
    "linear regression시, 정규분포라는 가정하에 regression을 하는데 normalize를 하기 위해 로그를 취함\n",
    "그랬더니 skewness가 줄어들었다... qq-plot을 보니 normal하다고 말할 수는 없겠더라..\n",
    "\n",
    "그럼 모든 store_nbr의 units들을 합치면 조금더 normal하지않을까?\n",
    "yes\n",
    "no\n",
    "\n",
    "박스콕스(log보다 좀더 노말해지는 방법)"
   ]
  },
  {
   "cell_type": "markdown",
   "metadata": {},
   "source": [
    "heatmap(item_nbr, date)\n",
    "\n",
    "\n",
    "date를 나눈다. 주말주중, holiday, 요일별 \n",
    "holiday : mean difference가 큰 차이가 없었음\n",
    "independent, dependent??\n",
    "\n",
    "주말주중 : 큰 차이가 없었다 하지만 주중은 5일이고, 주말은 2일이기 때문에 요일별로 나눠서 보기로했다..\n",
    "요일별 : 요일별로 조금씩 차이가 있음"
   ]
  },
  {
   "cell_type": "markdown",
   "metadata": {},
   "source": [
    "weather event별로 영향이 좀 있어보임..\n",
    "\n",
    "최대 11개정도 event 유무에 따라\n",
    "weather가 영향이 아주 없다고 말할 수는 없다..\n",
    "눈 2인치, 비 1인치 말고 다른 feature는 없을것인가\n",
    "그래서 weather를 분석하기 시작함\n",
    "일단 weather에 대해서 어느정도 관계가 나올것이고.."
   ]
  },
  {
   "cell_type": "markdown",
   "metadata": {},
   "source": [
    "date로 나온 결과와 weather로 나온 결과를 짬뽕을 해서 최종결과를 뽑아낸다음에\n",
    "\n",
    "feature selection을 할수있을듯..??"
   ]
  }
 ],
 "metadata": {
  "kernelspec": {
   "display_name": "Python 3",
   "language": "python",
   "name": "python3"
  },
  "language_info": {
   "codemirror_mode": {
    "name": "ipython",
    "version": 3
   },
   "file_extension": ".py",
   "mimetype": "text/x-python",
   "name": "python",
   "nbconvert_exporter": "python",
   "pygments_lexer": "ipython3",
   "version": "3.6.3"
  }
 },
 "nbformat": 4,
 "nbformat_minor": 2
}
