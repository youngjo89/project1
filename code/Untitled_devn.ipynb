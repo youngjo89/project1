{
 "cells": [
  {
   "cell_type": "markdown",
   "metadata": {},
   "source": [
    "- 각 store에서 units이 모두 0인 item_nbr은 날린다..\n",
    "    - 계산량을 줄이기 위해서\n",
    "    \n"
   ]
  },
  {
   "cell_type": "code",
   "execution_count": null,
   "metadata": {
    "collapsed": true
   },
   "outputs": [],
   "source": [
    "import statsmodels.api as sm\n",
    "from sklearn.linear_model import LinearRegression"
   ]
  },
  {
   "cell_type": "code",
   "execution_count": null,
   "metadata": {
    "collapsed": true
   },
   "outputs": [],
   "source": []
  },
  {
   "cell_type": "code",
   "execution_count": 1,
   "metadata": {
    "collapsed": true
   },
   "outputs": [],
   "source": [
    "key = pd.read_csv('../data/key.csv')\n",
    "train = pd.read_csv('../data/train.csv')\n",
    "weather = pd.read_csv('../data/weather.csv')\n",
    "test = pd.read_csv('../data/test.csv')"
   ]
  },
  {
   "cell_type": "code",
   "execution_count": null,
   "metadata": {
    "collapsed": true
   },
   "outputs": [],
   "source": [
    "weather_ = weather.drop(['date', 'codesum'], axis = 1)"
   ]
  },
  {
   "cell_type": "code",
   "execution_count": null,
   "metadata": {
    "collapsed": true
   },
   "outputs": [],
   "source": [
    "weather_.at[0, 'sunrise']"
   ]
  },
  {
   "cell_type": "code",
   "execution_count": null,
   "metadata": {
    "collapsed": true
   },
   "outputs": [],
   "source": [
    "col_list = list(weather_.columns)\n",
    "col_list = col_list[1:]"
   ]
  },
  {
   "cell_type": "code",
   "execution_count": null,
   "metadata": {
    "collapsed": true
   },
   "outputs": [],
   "source": [
    "for num in range(len(weather_)) :\n",
    "    for col in col_list :\n",
    "        if 'M' in weather_.at[num, col] or 'T' in weather_.at[num, col] or '-' in weather_.at[num, col] :\n",
    "            weather_.set_value(num, col, np.nan)"
   ]
  },
  {
   "cell_type": "code",
   "execution_count": 3,
   "metadata": {
    "collapsed": true
   },
   "outputs": [],
   "source": [
    "def TM_transform(series, T_replace, M_replace): \n",
    "    \"\"\"\n",
    "    데이터내의 T, M을 원하는 값으로 바꿔주는 함수\n",
    "    TM_transform(series, T_replace, M_replace)\n",
    "    \"\"\"\n",
    "    series = series.astype(str).map(lambda s: s.strip())\n",
    "    series[series == 'T'] = T_replace\n",
    "    series[series =='M'] = M_replace\n",
    "    return series.astype('float')"
   ]
  },
  {
   "cell_type": "code",
   "execution_count": 4,
   "metadata": {
    "collapsed": true
   },
   "outputs": [],
   "source": [
    "def match_dateformat(df, year):\n",
    "    \"\"\"\n",
    "    영문 월을 숫자 월로 바꾸어주고 나중에 사용하기 쉽도록 datetime.date 형태로 바꾸어주는 함수\n",
    "    \"\"\"\n",
    "    months = ['Jan', 'Feb', 'Mar', 'Apr', 'May', 'Jun', 'Jul', 'Aug', 'Sep', 'Oct', 'Nov', 'Dec']\n",
    "    for i in range(len(df)):\n",
    "        dates = df.loc[i][0]\n",
    "        dates = dates.split(\" \")\n",
    "        for j in range(len(months)):\n",
    "            if dates[0] == months[j]:\n",
    "                dates[0] = str(j + 1)\n",
    "                dates_df = [\"{} {} {}\".format(year, dates[0], dates[1])]\n",
    "                dates_df = pd.to_datetime(dates_df)\n",
    "                df.loc[i][0] = dates_df.date[0]\n",
    "    return df"
   ]
  },
  {
   "cell_type": "code",
   "execution_count": 5,
   "metadata": {
    "collapsed": true
   },
   "outputs": [],
   "source": [
    "def merge_holiday(holiday_df1, holiday_df2, holiday_df3):\n",
    "    \"\"\"\n",
    "    각 연도별 공휴일 리스트 합치기\n",
    "    \"\"\"\n",
    "    frame = [holiday_df1, holiday_df2, holiday_df3]\n",
    "    holiday = pd.concat(frame).reset_index(drop=True)\n",
    "    return holiday"
   ]
  },
  {
   "cell_type": "code",
   "execution_count": 6,
   "metadata": {
    "collapsed": true
   },
   "outputs": [],
   "source": [
    "def find_holiday(file, year):\n",
    "    \"\"\"\n",
    "    수요에 영향을 미치는 주요 공휴일을 찾아내는 함수\n",
    "    \"\"\"\n",
    "    holidays = [\"New Year's Day\", \"Martin Luther King Jr. Day\", \"Valentine's Day\",  \"President's Day\", \"Easter Sunday\", \n",
    "                      \"Mother's Day\", \"Memorial Day\", \"Father's Day\", \"Independence Day\", \"Labor Day\", \"Columbus Day\",\n",
    "                      \"Halloween\", \"Veterans Day\", \"Thanksgiving Day\", \"Black Friday\", \"Christmas Eve\", \"Christmas Day\", \"New Year's Eve\"]\n",
    "    \n",
    "    holi = pd.read_excel(file, year, header=None)\n",
    "    holi = match_dateformat(holi, year)\n",
    "    holiday = pd.DataFrame(columns=[0,1,2,3,4])\n",
    "    for _ in holidays:\n",
    "        for i in range(len(holi[2])):\n",
    "            if _ == holi[2][i]:\n",
    "                holiday = holiday.append(holi.loc[i])\n",
    "    return holiday"
   ]
  },
  {
   "cell_type": "code",
   "execution_count": 7,
   "metadata": {
    "collapsed": true
   },
   "outputs": [],
   "source": [
    "def preprocessing(df, holiday):\n",
    "    \"\"\"\n",
    "    train데이터를 가공하는 함수\n",
    "    \"\"\"\n",
    "#     df['units'] = np.log(df['units'] + 1)\n",
    "    df['date'] = pd.to_datetime(df['date'])\n",
    "    df['weekday'] = df.date.dt.weekday  # 월요일이 0 일요일이 6\n",
    "    df['weekend'] = df.date.dt.weekday.isin([5, 6])  # 5: 토요일, 6: 일요일\n",
    "\n",
    "    df['holiday'] = df.date.isin(holiday[0])\n",
    "    df['weekday_holiday'] = df.holiday & (df.weekend == False)\n",
    "    df['weekend_holiday'] = df.holiday & df.weekend\n",
    "\n",
    "    # There are values that are computed as being \"normal\" for a given location. Normal are computed based on 30 years worth of data every ten years. (today temp - normal) = depart\n",
    "    weather['date'] = pd.to_datetime(weather['date']) #weather는 글로벌변수\n",
    "    for i in range(len(weather['codesum'])):\n",
    "        codesum = weather['codesum'][i].split(\" \")\n",
    "        for _ in codesum:\n",
    "            if _ == 'RA':\n",
    "                weather.set_value(i, 'rain_flag', 1)\n",
    "            elif _ == 'SN':\n",
    "                weather.set_value(i, 'snow_flag', 1)\n",
    "            elif _ == \"\":\n",
    "                weather.set_value(i, 'normal_flag', 1)\n",
    "            else:\n",
    "                weather.set_value(i, 'abnormal_flag', 1)\n",
    "\n",
    "    # return x or y depending on the condition\n",
    "    # \"For the purposes of this competition, we have defined a weather event as any day in which more than an inch of rain or two inches of snow was observed.\"\n",
    "    # weather_event =  (((codesum contains SN) and (snowfall > 2)) or ((codesum contains RA) and (preciptotal > 1)))\n",
    "    weather['preciptotal'] = TM_transform(weather['preciptotal'], 0.005, 0.00)\n",
    "    weather['snowfall'] = TM_transform(weather['snowfall'], 0.005, 0.00)\n",
    "    weather['snow_event'] = np.where(np.where(weather['snow_flag'] == 1, 1, 0) + np.where(weather['snowfall'] > 2, 1, 0) == 2, 1, 0)\n",
    "    weather['rain_event'] = np.where(np.where(weather['rain_flag'] == 1, 1, 0) + np.where(weather['preciptotal'] > 1, 1, 0) == 2, 1, 0)\n",
    "    weather['event'] = weather['snow_event'] + weather['rain_event']\n",
    "    \n",
    "\n",
    "#    weather['preciptotal_flag'] = np.where(weather['preciptotal'] > 0.2, 1, 0)\n",
    "#     weather['depart'] = TM_transform(weather['depart'], np.nan, 0.00)\n",
    "#     weather['depart_flag'] = np.where(weather['depart'] > 8.0, 1, 0)\n",
    "#     weather['depart_flag'] = np.where(weather['depart'] < 8.0, -1, 0)\n",
    "    \n",
    "    df = pd.merge(df, key, on='store_nbr') #key는 글로벌 변수\n",
    "    \n",
    "    df = pd.merge(df, weather[['date', 'station_nbr', 'rain_flag', 'snow_flag', 'normal_flag', 'event']], on=['date', 'station_nbr'])\n",
    "    return df"
   ]
  },
  {
   "cell_type": "code",
   "execution_count": 9,
   "metadata": {
    "collapsed": true
   },
   "outputs": [],
   "source": [
    "def preprocessing2(df, holiday):\n",
    "    \"\"\"\n",
    "    train데이터를 가공하는 함수\n",
    "    \"\"\"\n",
    "#     df['units'] = np.log(df['units'] + 1)\n",
    "    df['date'] = pd.to_datetime(df['date'])\n",
    "    df['weekday'] = df.date.dt.weekday  # 월요일이 0 일요일이 6\n",
    "    df['weekend'] = df.date.dt.weekday.isin([5, 6])  # 5: 토요일, 6: 일요일\n",
    "\n",
    "    df['holiday'] = df.date.isin(holiday[0])\n",
    "\n",
    "    # return x or y depending on the condition\n",
    "    # \"For the purposes of this competition, we have defined a weather event as any day in which more than an inch of rain or two inches of snow was observed.\"\n",
    "    # weather_event =  (((codesum contains SN) and (snowfall > 2)) or ((codesum contains RA) and (preciptotal > 1)))\n",
    "    weather['preciptotal'] = TM_transform(weather['preciptotal'], 0.005, np.NaN)\n",
    "    weather['snowfall'] = TM_transform(weather['snowfall'], 0.005, np.NaN)\n",
    "#     weather['snow_event'] = np.where(np.where(weather['snow_flag'] == 1, 1, 0) + np.where(weather['snowfall'] > 2, 1, 0) == 2, 1, 0)\n",
    "#     weather['rain_event'] = np.where(np.where(weather['rain_flag'] == 1, 1, 0) + np.where(weather['preciptotal'] > 1, 1, 0) == 2, 1, 0)\n",
    "    weather['event'] = \"\"\n",
    "    \n",
    "    for num in range(len(df)) :\n",
    "        if weather.at[num, 'snowfall'] >= 2 or weather.at[num, 'preciptotal'] >= 1 :\n",
    "            weather.set_value(num, 'event', 1)\n",
    "        else :\n",
    "            weather.set_value(num, 'event', 0)\n",
    "    \n",
    "\n",
    "#    weather['preciptotal_flag'] = np.where(weather['preciptotal'] > 0.2, 1, 0)\n",
    "#     weather['depart'] = TM_transform(weather['depart'], np.nan, 0.00)\n",
    "#     weather['depart_flag'] = np.where(weather['depart'] > 8.0, 1, 0)\n",
    "#     weather['depart_flag'] = np.where(weather['depart'] < 8.0, -1, 0)\n",
    "    \n",
    "    df = pd.merge(df, key, on='store_nbr') #key는 글로벌 변수\n",
    "    \n",
    "    df = pd.merge(df, weather[['date', 'station_nbr', 'event']], on=['date', 'station_nbr'])\n",
    "    return df"
   ]
  },
  {
   "cell_type": "code",
   "execution_count": 28,
   "metadata": {
    "collapsed": true
   },
   "outputs": [],
   "source": [
    "def preprocessing3(df, holiday):\n",
    "    \"\"\"\n",
    "    train데이터를 가공하는 함수\n",
    "    \"\"\"\n",
    "#     df['units'] = np.log(df['units'] + 1)\n",
    "    df['date'] = pd.to_datetime(df['date'])\n",
    "    df['weekday'] = df.date.dt.weekday  # 월요일이 0 일요일이 6\n",
    "    df['weekend'] = df.date.dt.weekday.isin([5, 6])  # 5: 토요일, 6: 일요일\n",
    "\n",
    "    df['holiday'] = df.date.isin(holiday[0])\n",
    "    df['weekday_holiday'] = df.holiday & (df.weekend == False)\n",
    "    df['weekend_holiday'] = df.holiday & df.weekend\n",
    "\n",
    "    # There are values that are computed as being \"normal\" for a given location. Normal are computed based on 30 years worth of data every ten years. (today temp - normal) = depart\n",
    "    weather['date'] = pd.to_datetime(weather['date']) #weather는 글로벌변수\n",
    "    for i in range(len(weather['codesum'])):\n",
    "        codesum = weather['codesum'][i].split(\" \")\n",
    "        for _ in codesum:\n",
    "            if _ == 'RA':\n",
    "                weather.set_value(i, 'rain_flag', 1)\n",
    "            elif _ == 'SN':\n",
    "                weather.set_value(i, 'snow_flag', 1)\n",
    "            elif _ == \"\":\n",
    "                weather.set_value(i, 'normal_flag', 1)\n",
    "            else:\n",
    "                weather.set_value(i, 'abnormal_flag', 1)\n",
    "\n",
    "    # return x or y depending on the condition\n",
    "    # \"For the purposes of this competition, we have defined a weather event as any day in which more than an inch of rain or two inches of snow was observed.\"\n",
    "    # weather_event =  (((codesum contains SN) and (snowfall > 2)) or ((codesum contains RA) and (preciptotal > 1)))\n",
    "    weather['preciptotal'] = TM_transform(weather['preciptotal'], 0.005, 0.00)\n",
    "    weather['snowfall'] = TM_transform(weather['snowfall'], 0.005, 0.00)\n",
    "    weather['snow_event'] = np.where(np.where(weather['snow_flag'] == 1, 1, 0) + np.where(weather['snowfall'] > 2, 1, 0) == 2, 1, 0)\n",
    "    weather['rain_event'] = np.where(np.where(weather['rain_flag'] == 1, 1, 0) + np.where(weather['preciptotal'] > 1, 1, 0) == 2, 1, 0)\n",
    "    weather['event'] = weather['snow_event'] + weather['rain_event']\n",
    "    \n",
    "    for num in range(len(weather)) :\n",
    "        if weather.at[num, 'event'] == 2 :\n",
    "            weather.set_value(num, 'event', 1)\n",
    "    \n",
    "\n",
    "#    weather['preciptotal_flag'] = np.where(weather['preciptotal'] > 0.2, 1, 0)\n",
    "#     weather['depart'] = TM_transform(weather['depart'], np.nan, 0.00)\n",
    "#     weather['depart_flag'] = np.where(weather['depart'] > 8.0, 1, 0)\n",
    "#     weather['depart_flag'] = np.where(weather['depart'] < 8.0, -1, 0)\n",
    "    \n",
    "    df = pd.merge(df, key, on='store_nbr') #key는 글로벌 변수\n",
    "    \n",
    "    df = pd.merge(df, weather[['date', 'station_nbr', 'rain_flag', 'snow_flag', 'normal_flag', 'event']], on=['date', 'station_nbr'])\n",
    "    return df"
   ]
  },
  {
   "cell_type": "code",
   "execution_count": null,
   "metadata": {
    "collapsed": true
   },
   "outputs": [],
   "source": [
    "def test_preprocessing(df, holiday, weather):\n",
    "    df['date'] = pd.to_datetime(df['date'])\n",
    "    df['weekday'] = df.date.dt.weekday  # 월요일이 0 일요일이 6\n",
    "    df['weekend'] = df.date.dt.weekday.isin([5, 6])  # 5: 토요일, 6: 일요일\n",
    "\n",
    "    df['holiday'] = df.date.isin(holiday[0])\n",
    "    df['weekday_holiday'] = df.holiday & (df.weekend == False)\n",
    "    df['weekend_holiday'] = df.holiday & df.weekend\n",
    "    \n",
    "    df = pd.merge(df, key, on='store_nbr') #key는 글로벌 변수\n",
    "    df = pd.merge(df, weather[['date', 'station_nbr', 'event']], on=['date', 'station_nbr'])\n",
    "    return df"
   ]
  },
  {
   "cell_type": "code",
   "execution_count": 10,
   "metadata": {
    "collapsed": true
   },
   "outputs": [],
   "source": [
    "holiday12 = find_holiday('../data/holiday.xlsx', '2012')\n",
    "holiday13 = find_holiday('../data/holiday.xlsx', '2013')\n",
    "holiday14 = find_holiday('../data/holiday.xlsx', '2014')\n",
    "holiday = merge_holiday(holiday12, holiday13, holiday14)\n",
    "processed_train = preprocessing(train, holiday)"
   ]
  },
  {
   "cell_type": "code",
   "execution_count": null,
   "metadata": {
    "collapsed": true
   },
   "outputs": [],
   "source": [
    "processed_train.drop(['weekend', 'weekday_holiday', 'weekend_holiday', 'station_nbr',\n",
    "                      'rain_flag', 'snow_flag', 'normal_flag'], axis = 1, inplace = True)"
   ]
  },
  {
   "cell_type": "code",
   "execution_count": null,
   "metadata": {
    "collapsed": true
   },
   "outputs": [],
   "source": [
    "processed_train.sort_values(by = ['date', 'store_nbr', 'item_nbr'], inplace = True)\n",
    "processed_train.reset_index(drop = True, inplace = True)"
   ]
  },
  {
   "cell_type": "code",
   "execution_count": null,
   "metadata": {
    "collapsed": true
   },
   "outputs": [],
   "source": [
    "processed_train = processed_train[:2255853]"
   ]
  },
  {
   "cell_type": "code",
   "execution_count": null,
   "metadata": {
    "collapsed": true
   },
   "outputs": [],
   "source": [
    "processed_train.loc[0]"
   ]
  },
  {
   "cell_type": "code",
   "execution_count": 12,
   "metadata": {},
   "outputs": [
    {
     "data": {
      "text/html": [
       "<div>\n",
       "<style>\n",
       "    .dataframe thead tr:only-child th {\n",
       "        text-align: right;\n",
       "    }\n",
       "\n",
       "    .dataframe thead th {\n",
       "        text-align: left;\n",
       "    }\n",
       "\n",
       "    .dataframe tbody tr th {\n",
       "        vertical-align: top;\n",
       "    }\n",
       "</style>\n",
       "<table border=\"1\" class=\"dataframe\">\n",
       "  <thead>\n",
       "    <tr style=\"text-align: right;\">\n",
       "      <th></th>\n",
       "      <th>date</th>\n",
       "      <th>store_nbr</th>\n",
       "      <th>item_nbr</th>\n",
       "      <th>units</th>\n",
       "      <th>weekday</th>\n",
       "      <th>weekend</th>\n",
       "      <th>holiday</th>\n",
       "      <th>weekday_holiday</th>\n",
       "      <th>weekend_holiday</th>\n",
       "      <th>log_units</th>\n",
       "    </tr>\n",
       "  </thead>\n",
       "  <tbody>\n",
       "    <tr>\n",
       "      <th>4617595</th>\n",
       "      <td>2014-10-31</td>\n",
       "      <td>45</td>\n",
       "      <td>107</td>\n",
       "      <td>0</td>\n",
       "      <td>4</td>\n",
       "      <td>False</td>\n",
       "      <td>True</td>\n",
       "      <td>True</td>\n",
       "      <td>False</td>\n",
       "      <td>0.0</td>\n",
       "    </tr>\n",
       "    <tr>\n",
       "      <th>4617596</th>\n",
       "      <td>2014-10-31</td>\n",
       "      <td>45</td>\n",
       "      <td>108</td>\n",
       "      <td>0</td>\n",
       "      <td>4</td>\n",
       "      <td>False</td>\n",
       "      <td>True</td>\n",
       "      <td>True</td>\n",
       "      <td>False</td>\n",
       "      <td>0.0</td>\n",
       "    </tr>\n",
       "    <tr>\n",
       "      <th>4617597</th>\n",
       "      <td>2014-10-31</td>\n",
       "      <td>45</td>\n",
       "      <td>109</td>\n",
       "      <td>0</td>\n",
       "      <td>4</td>\n",
       "      <td>False</td>\n",
       "      <td>True</td>\n",
       "      <td>True</td>\n",
       "      <td>False</td>\n",
       "      <td>0.0</td>\n",
       "    </tr>\n",
       "    <tr>\n",
       "      <th>4617598</th>\n",
       "      <td>2014-10-31</td>\n",
       "      <td>45</td>\n",
       "      <td>110</td>\n",
       "      <td>0</td>\n",
       "      <td>4</td>\n",
       "      <td>False</td>\n",
       "      <td>True</td>\n",
       "      <td>True</td>\n",
       "      <td>False</td>\n",
       "      <td>0.0</td>\n",
       "    </tr>\n",
       "    <tr>\n",
       "      <th>4617599</th>\n",
       "      <td>2014-10-31</td>\n",
       "      <td>45</td>\n",
       "      <td>111</td>\n",
       "      <td>0</td>\n",
       "      <td>4</td>\n",
       "      <td>False</td>\n",
       "      <td>True</td>\n",
       "      <td>True</td>\n",
       "      <td>False</td>\n",
       "      <td>0.0</td>\n",
       "    </tr>\n",
       "  </tbody>\n",
       "</table>\n",
       "</div>"
      ],
      "text/plain": [
       "              date  store_nbr  item_nbr  units  weekday  weekend  holiday  \\\n",
       "4617595 2014-10-31         45       107      0        4    False     True   \n",
       "4617596 2014-10-31         45       108      0        4    False     True   \n",
       "4617597 2014-10-31         45       109      0        4    False     True   \n",
       "4617598 2014-10-31         45       110      0        4    False     True   \n",
       "4617599 2014-10-31         45       111      0        4    False     True   \n",
       "\n",
       "         weekday_holiday  weekend_holiday  log_units  \n",
       "4617595             True            False        0.0  \n",
       "4617596             True            False        0.0  \n",
       "4617597             True            False        0.0  \n",
       "4617598             True            False        0.0  \n",
       "4617599             True            False        0.0  "
      ]
     },
     "execution_count": 12,
     "metadata": {},
     "output_type": "execute_result"
    }
   ],
   "source": [
    "train['log_units'] = np.log(train['units'] + 1)\n",
    "train.tail()"
   ]
  },
  {
   "cell_type": "code",
   "execution_count": 13,
   "metadata": {},
   "outputs": [
    {
     "data": {
      "text/html": [
       "<div>\n",
       "<style>\n",
       "    .dataframe thead tr:only-child th {\n",
       "        text-align: right;\n",
       "    }\n",
       "\n",
       "    .dataframe thead th {\n",
       "        text-align: left;\n",
       "    }\n",
       "\n",
       "    .dataframe tbody tr th {\n",
       "        vertical-align: top;\n",
       "    }\n",
       "</style>\n",
       "<table border=\"1\" class=\"dataframe\">\n",
       "  <thead>\n",
       "    <tr style=\"text-align: right;\">\n",
       "      <th></th>\n",
       "      <th>date</th>\n",
       "      <th>store_nbr</th>\n",
       "      <th>item_nbr</th>\n",
       "      <th>units</th>\n",
       "      <th>weekday</th>\n",
       "      <th>weekend</th>\n",
       "      <th>holiday</th>\n",
       "      <th>weekday_holiday</th>\n",
       "      <th>weekend_holiday</th>\n",
       "      <th>log_units</th>\n",
       "    </tr>\n",
       "  </thead>\n",
       "  <tbody>\n",
       "    <tr>\n",
       "      <th>0</th>\n",
       "      <td>2012-01-01</td>\n",
       "      <td>1</td>\n",
       "      <td>1</td>\n",
       "      <td>0</td>\n",
       "      <td>6</td>\n",
       "      <td>True</td>\n",
       "      <td>True</td>\n",
       "      <td>False</td>\n",
       "      <td>True</td>\n",
       "      <td>0.0</td>\n",
       "    </tr>\n",
       "    <tr>\n",
       "      <th>1</th>\n",
       "      <td>2012-01-01</td>\n",
       "      <td>1</td>\n",
       "      <td>2</td>\n",
       "      <td>0</td>\n",
       "      <td>6</td>\n",
       "      <td>True</td>\n",
       "      <td>True</td>\n",
       "      <td>False</td>\n",
       "      <td>True</td>\n",
       "      <td>0.0</td>\n",
       "    </tr>\n",
       "    <tr>\n",
       "      <th>2</th>\n",
       "      <td>2012-01-01</td>\n",
       "      <td>1</td>\n",
       "      <td>3</td>\n",
       "      <td>0</td>\n",
       "      <td>6</td>\n",
       "      <td>True</td>\n",
       "      <td>True</td>\n",
       "      <td>False</td>\n",
       "      <td>True</td>\n",
       "      <td>0.0</td>\n",
       "    </tr>\n",
       "    <tr>\n",
       "      <th>3</th>\n",
       "      <td>2012-01-01</td>\n",
       "      <td>1</td>\n",
       "      <td>4</td>\n",
       "      <td>0</td>\n",
       "      <td>6</td>\n",
       "      <td>True</td>\n",
       "      <td>True</td>\n",
       "      <td>False</td>\n",
       "      <td>True</td>\n",
       "      <td>0.0</td>\n",
       "    </tr>\n",
       "    <tr>\n",
       "      <th>4</th>\n",
       "      <td>2012-01-01</td>\n",
       "      <td>1</td>\n",
       "      <td>5</td>\n",
       "      <td>0</td>\n",
       "      <td>6</td>\n",
       "      <td>True</td>\n",
       "      <td>True</td>\n",
       "      <td>False</td>\n",
       "      <td>True</td>\n",
       "      <td>0.0</td>\n",
       "    </tr>\n",
       "  </tbody>\n",
       "</table>\n",
       "</div>"
      ],
      "text/plain": [
       "        date  store_nbr  item_nbr  units  weekday  weekend  holiday  \\\n",
       "0 2012-01-01          1         1      0        6     True     True   \n",
       "1 2012-01-01          1         2      0        6     True     True   \n",
       "2 2012-01-01          1         3      0        6     True     True   \n",
       "3 2012-01-01          1         4      0        6     True     True   \n",
       "4 2012-01-01          1         5      0        6     True     True   \n",
       "\n",
       "   weekday_holiday  weekend_holiday  log_units  \n",
       "0            False             True        0.0  \n",
       "1            False             True        0.0  \n",
       "2            False             True        0.0  \n",
       "3            False             True        0.0  \n",
       "4            False             True        0.0  "
      ]
     },
     "execution_count": 13,
     "metadata": {},
     "output_type": "execute_result"
    }
   ],
   "source": [
    "train_new = train[:2255853]\n",
    "train_new.head()"
   ]
  },
  {
   "cell_type": "code",
   "execution_count": null,
   "metadata": {
    "collapsed": true
   },
   "outputs": [],
   "source": [
    "tmp = train_new.pivot_table(values = 'log_units', index = 'date', columns = ['item_nbr'])\n",
    "item_nbr_total = list(tmp.columns)"
   ]
  },
  {
   "cell_type": "code",
   "execution_count": null,
   "metadata": {
    "collapsed": true
   },
   "outputs": [],
   "source": [
    "tmp = tmp.loc[:, (tmp != 0).any(axis = 0)]"
   ]
  },
  {
   "cell_type": "code",
   "execution_count": null,
   "metadata": {
    "collapsed": true
   },
   "outputs": [],
   "source": [
    "tmp_ = tmp.reset_index()"
   ]
  },
  {
   "cell_type": "code",
   "execution_count": null,
   "metadata": {},
   "outputs": [],
   "source": [
    "tmp_.head()"
   ]
  },
  {
   "cell_type": "code",
   "execution_count": null,
   "metadata": {
    "collapsed": true
   },
   "outputs": [],
   "source": [
    "item_nbr_nonzero = list(tmp.columns)"
   ]
  },
  {
   "cell_type": "code",
   "execution_count": null,
   "metadata": {
    "collapsed": true
   },
   "outputs": [],
   "source": [
    "item_nbr_zero = []\n",
    "\n",
    "for num in item_nbr_total :\n",
    "    if num not in item_nbr_nonzero :\n",
    "        item_nbr_zero.append(num)"
   ]
  },
  {
   "cell_type": "code",
   "execution_count": null,
   "metadata": {},
   "outputs": [],
   "source": [
    "item_nbr_zero"
   ]
  },
  {
   "cell_type": "code",
   "execution_count": null,
   "metadata": {
    "collapsed": true,
    "scrolled": true
   },
   "outputs": [],
   "source": [
    "for num in item_nbr_zero :\n",
    "    train_new_ = train_new[train_new.item_nbr != num[1]]"
   ]
  },
  {
   "cell_type": "code",
   "execution_count": null,
   "metadata": {
    "collapsed": true
   },
   "outputs": [],
   "source": [
    "train_new_.reset_index(drop = True, inplace = True)"
   ]
  },
  {
   "cell_type": "code",
   "execution_count": null,
   "metadata": {
    "collapsed": true
   },
   "outputs": [],
   "source": [
    "train_test = preprocessing(train_new_, holiday)"
   ]
  },
  {
   "cell_type": "code",
   "execution_count": null,
   "metadata": {
    "collapsed": true
   },
   "outputs": [],
   "source": [
    "train_test\n",
    "train_test_ = train_test.drop(['weekend', 'weekday_holiday', 'weekend_holiday', 'station_nbr',\n",
    "                               'rain_flag', 'snow_flag', 'normal_flag', 'units', 'date'], axis = 1)"
   ]
  },
  {
   "cell_type": "code",
   "execution_count": null,
   "metadata": {
    "collapsed": true
   },
   "outputs": [],
   "source": [
    "train_test_.head()"
   ]
  },
  {
   "cell_type": "code",
   "execution_count": null,
   "metadata": {
    "collapsed": true
   },
   "outputs": [],
   "source": [
    "train_test_['store_nbr'] = train_test_['store_nbr'].astype('category')\n",
    "train_test_['item_nbr'] = train_test_['item_nbr'].astype('category')\n",
    "train_test_['weekday'] = train_test_['weekday'].astype('category')\n",
    "train_test_['holiday'] = train_test_['holiday'].astype('category')\n",
    "train_test_['event'] = train_test_['event'].astype('category')"
   ]
  },
  {
   "cell_type": "code",
   "execution_count": null,
   "metadata": {
    "collapsed": true
   },
   "outputs": [],
   "source": [
    "model1 = sm.OLS.from_formula(\"log_units ~ store_nbr + item_nbr + weekday + holiday + event\", data = train_test_)"
   ]
  },
  {
   "cell_type": "code",
   "execution_count": null,
   "metadata": {
    "collapsed": true
   },
   "outputs": [],
   "source": [
    "result1 = model1.fit()\n",
    "print(result1.summary())"
   ]
  },
  {
   "cell_type": "code",
   "execution_count": null,
   "metadata": {
    "collapsed": true
   },
   "outputs": [],
   "source": [
    "model2 = sm.OLS.from_formula(\"log_units ~ store_nbr + item_nbr + weekday + holiday + event + 0\", data = train_test_)"
   ]
  },
  {
   "cell_type": "code",
   "execution_count": null,
   "metadata": {
    "collapsed": true
   },
   "outputs": [],
   "source": [
    "result2 = model2.fit()\n",
    "print(result2.summary())"
   ]
  },
  {
   "cell_type": "code",
   "execution_count": null,
   "metadata": {
    "collapsed": true
   },
   "outputs": [],
   "source": [
    "model3 = sm.OLS.from_formula(\"log_units ~ C(store_nbr) + C(item_nbr) + C(weekday) + C(holiday) + C(event)\", data = train_test_)"
   ]
  },
  {
   "cell_type": "code",
   "execution_count": null,
   "metadata": {
    "collapsed": true
   },
   "outputs": [],
   "source": [
    "result3 = model3.fit()\n",
    "print(result3.summary())"
   ]
  },
  {
   "cell_type": "code",
   "execution_count": null,
   "metadata": {
    "collapsed": true
   },
   "outputs": [],
   "source": [
    "model4 = sm.OLS.from_formula(\"log_units ~ C(store_nbr) + C(item_nbr) + C(weekday) + C(holiday) + C(event) + 0 + 0 + 0 + 0 + 0\", data = train_test_)"
   ]
  },
  {
   "cell_type": "code",
   "execution_count": null,
   "metadata": {
    "collapsed": true
   },
   "outputs": [],
   "source": [
    "result4 = model4.fit()\n",
    "print(result4.summary())"
   ]
  },
  {
   "cell_type": "code",
   "execution_count": null,
   "metadata": {
    "collapsed": true
   },
   "outputs": [],
   "source": [
    "model5 = sm.OLS.from_formula(\"log_units ~ C(item_nbr) + 0\", data = train_test_)\n",
    "result5 = model5.fit()\n",
    "print(result5.summary())"
   ]
  },
  {
   "cell_type": "code",
   "execution_count": null,
   "metadata": {
    "collapsed": true
   },
   "outputs": [],
   "source": []
  },
  {
   "cell_type": "code",
   "execution_count": 22,
   "metadata": {},
   "outputs": [],
   "source": [
    "tmp2 = train_new.pivot_table(values = 'log_units', index = ['date', 'store_nbr', 'item_nbr'])\n",
    "tmp2_ = tmp2[tmp2['log_units'] != 0]"
   ]
  },
  {
   "cell_type": "code",
   "execution_count": 23,
   "metadata": {
    "collapsed": true
   },
   "outputs": [],
   "source": [
    "tmp2_ = tmp2_.reset_index()"
   ]
  },
  {
   "cell_type": "code",
   "execution_count": 19,
   "metadata": {},
   "outputs": [],
   "source": [
    "tmp2_ = preprocessing(tmp2_, holiday)"
   ]
  },
  {
   "cell_type": "code",
   "execution_count": 29,
   "metadata": {},
   "outputs": [],
   "source": [
    "tmp2_ = preprocessing3(tmp2_, holiday)"
   ]
  },
  {
   "cell_type": "code",
   "execution_count": 30,
   "metadata": {},
   "outputs": [
    {
     "data": {
      "text/html": [
       "<div>\n",
       "<style>\n",
       "    .dataframe thead tr:only-child th {\n",
       "        text-align: right;\n",
       "    }\n",
       "\n",
       "    .dataframe thead th {\n",
       "        text-align: left;\n",
       "    }\n",
       "\n",
       "    .dataframe tbody tr th {\n",
       "        vertical-align: top;\n",
       "    }\n",
       "</style>\n",
       "<table border=\"1\" class=\"dataframe\">\n",
       "  <thead>\n",
       "    <tr style=\"text-align: right;\">\n",
       "      <th></th>\n",
       "      <th>date</th>\n",
       "      <th>store_nbr</th>\n",
       "      <th>item_nbr</th>\n",
       "      <th>log_units</th>\n",
       "      <th>weekday</th>\n",
       "      <th>weekend</th>\n",
       "      <th>holiday</th>\n",
       "      <th>weekday_holiday</th>\n",
       "      <th>weekend_holiday</th>\n",
       "      <th>station_nbr</th>\n",
       "      <th>rain_flag</th>\n",
       "      <th>snow_flag</th>\n",
       "      <th>normal_flag</th>\n",
       "      <th>event</th>\n",
       "    </tr>\n",
       "  </thead>\n",
       "  <tbody>\n",
       "    <tr>\n",
       "      <th>61313</th>\n",
       "      <td>2013-03-30</td>\n",
       "      <td>35</td>\n",
       "      <td>24</td>\n",
       "      <td>1.945910</td>\n",
       "      <td>5</td>\n",
       "      <td>True</td>\n",
       "      <td>False</td>\n",
       "      <td>False</td>\n",
       "      <td>False</td>\n",
       "      <td>5</td>\n",
       "      <td>NaN</td>\n",
       "      <td>NaN</td>\n",
       "      <td>1.0</td>\n",
       "      <td>0</td>\n",
       "    </tr>\n",
       "    <tr>\n",
       "      <th>61314</th>\n",
       "      <td>2013-03-30</td>\n",
       "      <td>35</td>\n",
       "      <td>63</td>\n",
       "      <td>2.302585</td>\n",
       "      <td>5</td>\n",
       "      <td>True</td>\n",
       "      <td>False</td>\n",
       "      <td>False</td>\n",
       "      <td>False</td>\n",
       "      <td>5</td>\n",
       "      <td>NaN</td>\n",
       "      <td>NaN</td>\n",
       "      <td>1.0</td>\n",
       "      <td>0</td>\n",
       "    </tr>\n",
       "    <tr>\n",
       "      <th>61315</th>\n",
       "      <td>2013-03-30</td>\n",
       "      <td>35</td>\n",
       "      <td>66</td>\n",
       "      <td>3.637586</td>\n",
       "      <td>5</td>\n",
       "      <td>True</td>\n",
       "      <td>False</td>\n",
       "      <td>False</td>\n",
       "      <td>False</td>\n",
       "      <td>5</td>\n",
       "      <td>NaN</td>\n",
       "      <td>NaN</td>\n",
       "      <td>1.0</td>\n",
       "      <td>0</td>\n",
       "    </tr>\n",
       "    <tr>\n",
       "      <th>61316</th>\n",
       "      <td>2013-03-31</td>\n",
       "      <td>35</td>\n",
       "      <td>16</td>\n",
       "      <td>3.218876</td>\n",
       "      <td>6</td>\n",
       "      <td>True</td>\n",
       "      <td>True</td>\n",
       "      <td>False</td>\n",
       "      <td>True</td>\n",
       "      <td>5</td>\n",
       "      <td>NaN</td>\n",
       "      <td>NaN</td>\n",
       "      <td>1.0</td>\n",
       "      <td>0</td>\n",
       "    </tr>\n",
       "    <tr>\n",
       "      <th>61317</th>\n",
       "      <td>2013-03-31</td>\n",
       "      <td>35</td>\n",
       "      <td>66</td>\n",
       "      <td>2.890372</td>\n",
       "      <td>6</td>\n",
       "      <td>True</td>\n",
       "      <td>True</td>\n",
       "      <td>False</td>\n",
       "      <td>True</td>\n",
       "      <td>5</td>\n",
       "      <td>NaN</td>\n",
       "      <td>NaN</td>\n",
       "      <td>1.0</td>\n",
       "      <td>0</td>\n",
       "    </tr>\n",
       "  </tbody>\n",
       "</table>\n",
       "</div>"
      ],
      "text/plain": [
       "            date  store_nbr  item_nbr  log_units  weekday  weekend  holiday  \\\n",
       "61313 2013-03-30         35        24   1.945910        5     True    False   \n",
       "61314 2013-03-30         35        63   2.302585        5     True    False   \n",
       "61315 2013-03-30         35        66   3.637586        5     True    False   \n",
       "61316 2013-03-31         35        16   3.218876        6     True     True   \n",
       "61317 2013-03-31         35        66   2.890372        6     True     True   \n",
       "\n",
       "       weekday_holiday  weekend_holiday  station_nbr  rain_flag  snow_flag  \\\n",
       "61313            False            False            5        NaN        NaN   \n",
       "61314            False            False            5        NaN        NaN   \n",
       "61315            False            False            5        NaN        NaN   \n",
       "61316            False             True            5        NaN        NaN   \n",
       "61317            False             True            5        NaN        NaN   \n",
       "\n",
       "       normal_flag  event  \n",
       "61313          1.0      0  \n",
       "61314          1.0      0  \n",
       "61315          1.0      0  \n",
       "61316          1.0      0  \n",
       "61317          1.0      0  "
      ]
     },
     "execution_count": 30,
     "metadata": {},
     "output_type": "execute_result"
    }
   ],
   "source": [
    "tmp2_.tail()"
   ]
  },
  {
   "cell_type": "code",
   "execution_count": null,
   "metadata": {
    "collapsed": true
   },
   "outputs": [],
   "source": []
  },
  {
   "cell_type": "code",
   "execution_count": null,
   "metadata": {
    "collapsed": true
   },
   "outputs": [],
   "source": []
  },
  {
   "cell_type": "code",
   "execution_count": 32,
   "metadata": {
    "collapsed": true
   },
   "outputs": [],
   "source": [
    "tmp2_test = tmp2_.drop(['weekend', 'weekday_holiday', 'weekend_holiday', 'station_nbr',\n",
    "                               'rain_flag', 'snow_flag', 'normal_flag', 'date'], axis = 1)"
   ]
  },
  {
   "cell_type": "code",
   "execution_count": null,
   "metadata": {
    "collapsed": true
   },
   "outputs": [],
   "source": [
    "tmp2_test['store_nbr'] = tmp2_test['store_nbr'].astype('category')\n",
    "tmp2_test['item_nbr'] = tmp2_test['item_nbr'].astype('category')\n",
    "tmp2_test['weekday'] = tmp2_test['weekday'].astype('category')\n",
    "tmp2_test['holiday'] = tmp2_test['holiday'].astype('category')\n",
    "tmp2_test['event'] = tmp2_test['event'].astype('category')"
   ]
  },
  {
   "cell_type": "code",
   "execution_count": null,
   "metadata": {},
   "outputs": [],
   "source": [
    "tmp2_test.head()"
   ]
  },
  {
   "cell_type": "code",
   "execution_count": null,
   "metadata": {
    "collapsed": true
   },
   "outputs": [],
   "source": [
    "tmp2_test_add = sm.add_constant(tmp2_test)"
   ]
  },
  {
   "cell_type": "code",
   "execution_count": null,
   "metadata": {
    "collapsed": true
   },
   "outputs": [],
   "source": [
    "tmp2_test_add.head()"
   ]
  },
  {
   "cell_type": "code",
   "execution_count": null,
   "metadata": {},
   "outputs": [],
   "source": [
    "tmp2_test.head()"
   ]
  },
  {
   "cell_type": "code",
   "execution_count": 33,
   "metadata": {
    "collapsed": true
   },
   "outputs": [],
   "source": [
    "model = sm.OLS.from_formula(\"log_units ~ 0 + C(store_nbr) + C(item_nbr) + C(weekday) + C(holiday) + C(event)\", data = tmp2_test)"
   ]
  },
  {
   "cell_type": "code",
   "execution_count": 34,
   "metadata": {
    "scrolled": false
   },
   "outputs": [
    {
     "name": "stdout",
     "output_type": "stream",
     "text": [
      "                            OLS Regression Results                            \n",
      "==============================================================================\n",
      "Dep. Variable:              log_units   R-squared:                       0.873\n",
      "Model:                            OLS   Adj. R-squared:                  0.873\n",
      "Method:                 Least Squares   F-statistic:                     2829.\n",
      "Date:                Mon, 05 Mar 2018   Prob (F-statistic):               0.00\n",
      "Time:                        10:54:37   Log-Likelihood:                -45406.\n",
      "No. Observations:               61318   AIC:                         9.111e+04\n",
      "Df Residuals:                   61168   BIC:                         9.247e+04\n",
      "Df Model:                         149                                         \n",
      "Covariance Type:            nonrobust                                         \n",
      "======================================================================================\n",
      "                         coef    std err          t      P>|t|      [0.025      0.975]\n",
      "--------------------------------------------------------------------------------------\n",
      "C(store_nbr)[1]        1.2953      0.052     25.103      0.000       1.194       1.396\n",
      "C(store_nbr)[2]        1.6851      0.050     33.595      0.000       1.587       1.783\n",
      "C(store_nbr)[3]        1.6618      0.051     32.735      0.000       1.562       1.761\n",
      "C(store_nbr)[4]        2.1966      0.053     41.724      0.000       2.093       2.300\n",
      "C(store_nbr)[5]        1.3442      0.051     26.212      0.000       1.244       1.445\n",
      "C(store_nbr)[6]        1.5127      0.051     29.639      0.000       1.413       1.613\n",
      "C(store_nbr)[7]        1.8560      0.052     35.798      0.000       1.754       1.958\n",
      "C(store_nbr)[8]        1.2062      0.052     23.406      0.000       1.105       1.307\n",
      "C(store_nbr)[9]        1.5691      0.051     30.815      0.000       1.469       1.669\n",
      "C(store_nbr)[10]       1.5978      0.051     31.628      0.000       1.499       1.697\n",
      "C(store_nbr)[11]       1.4385      0.051     28.298      0.000       1.339       1.538\n",
      "C(store_nbr)[12]       1.6696      0.051     32.706      0.000       1.570       1.770\n",
      "C(store_nbr)[13]       1.7721      0.052     34.274      0.000       1.671       1.873\n",
      "C(store_nbr)[14]       0.5367      0.051     10.499      0.000       0.436       0.637\n",
      "C(store_nbr)[15]       1.7752      0.050     35.260      0.000       1.677       1.874\n",
      "C(store_nbr)[16]       1.9853      0.052     38.420      0.000       1.884       2.087\n",
      "C(store_nbr)[17]       2.7544      0.051     53.699      0.000       2.654       2.855\n",
      "C(store_nbr)[18]       0.7953      0.052     15.397      0.000       0.694       0.897\n",
      "C(store_nbr)[19]       1.2301      0.052     23.450      0.000       1.127       1.333\n",
      "C(store_nbr)[20]       1.8163      0.052     34.921      0.000       1.714       1.918\n",
      "C(store_nbr)[21]       1.2702      0.051     25.073      0.000       1.171       1.370\n",
      "C(store_nbr)[22]       1.6744      0.051     33.090      0.000       1.575       1.774\n",
      "C(store_nbr)[23]       1.0221      0.051     19.956      0.000       0.922       1.123\n",
      "C(store_nbr)[24]       2.4634      0.103     23.934      0.000       2.262       2.665\n",
      "C(store_nbr)[25]       1.9223      0.050     38.088      0.000       1.823       2.021\n",
      "C(store_nbr)[26]       1.4457      0.051     28.252      0.000       1.345       1.546\n",
      "C(store_nbr)[27]       1.4709      0.050     29.219      0.000       1.372       1.570\n",
      "C(store_nbr)[28]       1.2536      0.051     24.485      0.000       1.153       1.354\n",
      "C(store_nbr)[29]       1.5094      0.052     28.860      0.000       1.407       1.612\n",
      "C(store_nbr)[30]       2.0408      0.051     40.317      0.000       1.942       2.140\n",
      "C(store_nbr)[31]       1.6211      0.050     32.112      0.000       1.522       1.720\n",
      "C(store_nbr)[32]       1.3845      0.050     27.554      0.000       1.286       1.483\n",
      "C(store_nbr)[33]       2.1634      0.050     43.277      0.000       2.065       2.261\n",
      "C(store_nbr)[34]       1.7392      0.050     34.527      0.000       1.640       1.838\n",
      "C(store_nbr)[35]       1.3786      0.054     25.366      0.000       1.272       1.485\n",
      "C(store_nbr)[36]       1.2685      0.044     28.607      0.000       1.182       1.355\n",
      "C(store_nbr)[37]       1.3424      0.051     26.206      0.000       1.242       1.443\n",
      "C(store_nbr)[38]       1.8251      0.050     36.317      0.000       1.727       1.924\n",
      "C(store_nbr)[39]      -0.4534      0.053     -8.584      0.000      -0.557      -0.350\n",
      "C(store_nbr)[40]       1.4674      0.051     28.948      0.000       1.368       1.567\n",
      "C(store_nbr)[41]       1.5837      0.051     31.260      0.000       1.484       1.683\n",
      "C(store_nbr)[42]       1.4396      0.051     27.995      0.000       1.339       1.540\n",
      "C(store_nbr)[43]       1.6949      0.052     32.849      0.000       1.594       1.796\n",
      "C(store_nbr)[44]       1.4363      0.051     28.184      0.000       1.336       1.536\n",
      "C(store_nbr)[45]       0.4647      0.053      8.697      0.000       0.360       0.569\n",
      "C(item_nbr)[T.2]      -0.0248      0.055     -0.448      0.654      -0.133       0.084\n",
      "C(item_nbr)[T.3]      -0.4347      0.067     -6.503      0.000      -0.566      -0.304\n",
      "C(item_nbr)[T.4]       0.5899      0.077      7.630      0.000       0.438       0.741\n",
      "C(item_nbr)[T.5]       2.4204      0.049     49.879      0.000       2.325       2.516\n",
      "C(item_nbr)[T.6]       1.2277      0.106     11.633      0.000       1.021       1.435\n",
      "C(item_nbr)[T.7]      -0.7289      0.063    -11.554      0.000      -0.853      -0.605\n",
      "C(item_nbr)[T.8]       1.9729      0.057     34.439      0.000       1.861       2.085\n",
      "C(item_nbr)[T.9]       2.3017      0.048     48.121      0.000       2.208       2.395\n",
      "C(item_nbr)[T.10]     -0.4295      0.063     -6.803      0.000      -0.553      -0.306\n",
      "C(item_nbr)[T.11]     -0.6026      0.063     -9.629      0.000      -0.725      -0.480\n",
      "C(item_nbr)[T.12]     -1.0091      0.064    -15.842      0.000      -1.134      -0.884\n",
      "C(item_nbr)[T.13]     -0.7548      0.066    -11.352      0.000      -0.885      -0.624\n",
      "C(item_nbr)[T.14]     -0.5198      0.071     -7.290      0.000      -0.660      -0.380\n",
      "C(item_nbr)[T.15]      0.3845      0.056      6.867      0.000       0.275       0.494\n",
      "C(item_nbr)[T.16]      1.9004      0.049     38.452      0.000       1.804       1.997\n",
      "C(item_nbr)[T.17]     -0.8221      0.061    -13.382      0.000      -0.943      -0.702\n",
      "C(item_nbr)[T.18]     -0.9074      0.061    -14.771      0.000      -1.028      -0.787\n",
      "C(item_nbr)[T.19]     -0.5594      0.062     -9.079      0.000      -0.680      -0.439\n",
      "C(item_nbr)[T.20]     -0.3888      0.059     -6.638      0.000      -0.504      -0.274\n",
      "C(item_nbr)[T.21]     -0.4909      0.053     -9.211      0.000      -0.595      -0.386\n",
      "C(item_nbr)[T.23]      1.2436      0.053     23.446      0.000       1.140       1.348\n",
      "C(item_nbr)[T.24]      0.4053      0.069      5.851      0.000       0.270       0.541\n",
      "C(item_nbr)[T.25]      2.6392      0.053     50.008      0.000       2.536       2.743\n",
      "C(item_nbr)[T.26]      1.2631      0.059     21.437      0.000       1.148       1.379\n",
      "C(item_nbr)[T.27]     -0.0410      0.058     -0.712      0.476      -0.154       0.072\n",
      "C(item_nbr)[T.28]      0.3739      0.057      6.578      0.000       0.263       0.485\n",
      "C(item_nbr)[T.29]     -0.1054      0.060     -1.765      0.078      -0.222       0.012\n",
      "C(item_nbr)[T.30]     -0.2475      0.053     -4.686      0.000      -0.351      -0.144\n",
      "C(item_nbr)[T.31]     -0.7374      0.063    -11.703      0.000      -0.861      -0.614\n",
      "C(item_nbr)[T.32]     -0.3048      0.064     -4.747      0.000      -0.431      -0.179\n",
      "C(item_nbr)[T.33]      0.3694      0.063      5.880      0.000       0.246       0.493\n",
      "C(item_nbr)[T.34]      0.3438      0.117      2.950      0.003       0.115       0.572\n",
      "C(item_nbr)[T.35]     -0.1809      0.060     -2.991      0.003      -0.299      -0.062\n",
      "C(item_nbr)[T.36]      2.8706      0.053     53.845      0.000       2.766       2.975\n",
      "C(item_nbr)[T.37]      1.2655      0.050     25.429      0.000       1.168       1.363\n",
      "C(item_nbr)[T.39]     -0.3265      0.068     -4.776      0.000      -0.460      -0.193\n",
      "C(item_nbr)[T.40]     -0.3012      0.081     -3.739      0.000      -0.459      -0.143\n",
      "C(item_nbr)[T.41]      1.6643      0.053     31.202      0.000       1.560       1.769\n",
      "C(item_nbr)[T.42]      0.6423      0.057     11.346      0.000       0.531       0.753\n",
      "C(item_nbr)[T.43]      1.3775      0.106     13.053      0.000       1.171       1.584\n",
      "C(item_nbr)[T.44]      3.1725      0.048     66.322      0.000       3.079       3.266\n",
      "C(item_nbr)[T.45]      2.7276      0.049     56.132      0.000       2.632       2.823\n",
      "C(item_nbr)[T.46]     -0.5202      0.060     -8.661      0.000      -0.638      -0.402\n",
      "C(item_nbr)[T.48]      2.3205      0.056     41.197      0.000       2.210       2.431\n",
      "C(item_nbr)[T.49]     -0.6006      0.067     -9.004      0.000      -0.731      -0.470\n",
      "C(item_nbr)[T.50]      0.0156      0.058      0.269      0.788      -0.098       0.129\n",
      "C(item_nbr)[T.51]     -0.1954      0.055     -3.539      0.000      -0.304      -0.087\n",
      "C(item_nbr)[T.52]     -0.7167      0.053    -13.490      0.000      -0.821      -0.613\n",
      "C(item_nbr)[T.53]     -0.3847      0.064     -5.995      0.000      -0.510      -0.259\n",
      "C(item_nbr)[T.54]     -0.7504      0.065    -11.534      0.000      -0.878      -0.623\n",
      "C(item_nbr)[T.55]     -0.2612      0.062     -4.192      0.000      -0.383      -0.139\n",
      "C(item_nbr)[T.56]      0.0246      0.057      0.431      0.666      -0.087       0.136\n",
      "C(item_nbr)[T.57]      0.2014      0.075      2.689      0.007       0.055       0.348\n",
      "C(item_nbr)[T.58]     -0.0674      0.060     -1.115      0.265      -0.186       0.051\n",
      "C(item_nbr)[T.59]     -0.2795      0.059     -4.699      0.000      -0.396      -0.163\n",
      "C(item_nbr)[T.60]     -1.5378      0.108    -14.219      0.000      -1.750      -1.326\n",
      "C(item_nbr)[T.61]     -0.4711      0.054     -8.797      0.000      -0.576      -0.366\n",
      "C(item_nbr)[T.62]     -0.4253      0.065     -6.566      0.000      -0.552      -0.298\n",
      "C(item_nbr)[T.63]     -0.0264      0.082     -0.323      0.747      -0.186       0.134\n",
      "C(item_nbr)[T.65]     -1.1935      0.063    -19.069      0.000      -1.316      -1.071\n",
      "C(item_nbr)[T.66]      1.3777      0.062     22.381      0.000       1.257       1.498\n",
      "C(item_nbr)[T.67]      0.7875      0.059     13.397      0.000       0.672       0.903\n",
      "C(item_nbr)[T.68]      2.3601      0.050     47.450      0.000       2.263       2.458\n",
      "C(item_nbr)[T.69]     -0.1891      0.059     -3.179      0.001      -0.306      -0.073\n",
      "C(item_nbr)[T.70]      0.6176      0.069      8.920      0.000       0.482       0.753\n",
      "C(item_nbr)[T.71]     -1.7848      0.064    -27.854      0.000      -1.910      -1.659\n",
      "C(item_nbr)[T.72]      0.0462      0.062      0.743      0.458      -0.076       0.168\n",
      "C(item_nbr)[T.73]     -0.8082      0.067    -12.020      0.000      -0.940      -0.676\n",
      "C(item_nbr)[T.74]     -0.4948      0.064     -7.759      0.000      -0.620      -0.370\n",
      "C(item_nbr)[T.75]     -0.1641      0.069     -2.371      0.018      -0.300      -0.028\n",
      "C(item_nbr)[T.76]     -1.5092      0.115    -13.161      0.000      -1.734      -1.284\n",
      "C(item_nbr)[T.77]     -0.5639      0.070     -8.016      0.000      -0.702      -0.426\n",
      "C(item_nbr)[T.78]     -0.1844      0.065     -2.819      0.005      -0.313      -0.056\n",
      "C(item_nbr)[T.79]     -0.4465      0.065     -6.879      0.000      -0.574      -0.319\n",
      "C(item_nbr)[T.80]     -0.5519      0.064     -8.585      0.000      -0.678      -0.426\n",
      "C(item_nbr)[T.81]      0.6357      0.057     11.209      0.000       0.525       0.747\n",
      "C(item_nbr)[T.82]     -0.5152      0.061     -8.396      0.000      -0.636      -0.395\n",
      "C(item_nbr)[T.83]      1.1203      0.057     19.518      0.000       1.008       1.233\n",
      "C(item_nbr)[T.84]     -0.6679      0.066    -10.193      0.000      -0.796      -0.539\n",
      "C(item_nbr)[T.85]     -1.0423      0.063    -16.661      0.000      -1.165      -0.920\n",
      "C(item_nbr)[T.86]     -0.6019      0.054    -11.076      0.000      -0.708      -0.495\n",
      "C(item_nbr)[T.87]     -0.2697      0.062     -4.336      0.000      -0.392      -0.148\n",
      "C(item_nbr)[T.88]     -0.0189      0.068     -0.277      0.782      -0.153       0.115\n",
      "C(item_nbr)[T.89]     -0.2627      0.082     -3.201      0.001      -0.424      -0.102\n",
      "C(item_nbr)[T.90]     -1.1884      0.061    -19.549      0.000      -1.308      -1.069\n",
      "C(item_nbr)[T.91]     -0.2553      0.064     -4.008      0.000      -0.380      -0.130\n",
      "C(item_nbr)[T.92]     -0.9187      0.064    -14.388      0.000      -1.044      -0.794\n",
      "C(item_nbr)[T.93]      0.0644      0.049      1.326      0.185      -0.031       0.160\n",
      "C(item_nbr)[T.94]     -0.4154      0.060     -6.976      0.000      -0.532      -0.299\n",
      "C(item_nbr)[T.96]     -0.8164      0.100     -8.199      0.000      -1.012      -0.621\n",
      "C(item_nbr)[T.97]     -0.7862      0.082     -9.593      0.000      -0.947      -0.626\n",
      "C(item_nbr)[T.98]     -0.6967      0.059    -11.754      0.000      -0.813      -0.581\n",
      "C(item_nbr)[T.99]     -0.3273      0.145     -2.255      0.024      -0.612      -0.043\n",
      "C(item_nbr)[T.100]    -0.0767      0.076     -1.013      0.311      -0.225       0.072\n",
      "C(item_nbr)[T.101]    -1.0717      0.081    -13.249      0.000      -1.230      -0.913\n",
      "C(item_nbr)[T.102]    -0.9145      0.363     -2.521      0.012      -1.626      -0.203\n",
      "C(item_nbr)[T.103]     1.4622      0.107     13.713      0.000       1.253       1.671\n",
      "C(weekday)[T.1]       -0.1026      0.008    -13.098      0.000      -0.118      -0.087\n",
      "C(weekday)[T.2]       -0.1452      0.008    -18.614      0.000      -0.161      -0.130\n",
      "C(weekday)[T.3]       -0.1527      0.008    -19.642      0.000      -0.168      -0.137\n",
      "C(weekday)[T.4]       -0.0541      0.008     -6.985      0.000      -0.069      -0.039\n",
      "C(weekday)[T.5]        0.0941      0.008     12.204      0.000       0.079       0.109\n",
      "C(weekday)[T.6]        0.1551      0.008     20.256      0.000       0.140       0.170\n",
      "C(holiday)[T.True]    -0.1270      0.010    -12.265      0.000      -0.147      -0.107\n",
      "C(event)[T.1]          0.0386      0.014      2.791      0.005       0.011       0.066\n",
      "==============================================================================\n",
      "Omnibus:                     4268.596   Durbin-Watson:                   1.939\n",
      "Prob(Omnibus):                  0.000   Jarque-Bera (JB):            22322.714\n",
      "Skew:                          -0.032   Prob(JB):                         0.00\n",
      "Kurtosis:                       5.955   Cond. No.                         137.\n",
      "==============================================================================\n",
      "\n",
      "Warnings:\n",
      "[1] Standard Errors assume that the covariance matrix of the errors is correctly specified.\n"
     ]
    }
   ],
   "source": [
    "result = model.fit()\n",
    "print(result.summary())"
   ]
  },
  {
   "cell_type": "markdown",
   "metadata": {
    "collapsed": true
   },
   "source": [
    "- p>t : 이 column의 계수가 0이다 : 귀무사걸 \n",
    "- 기각하면 0이 아니다..constant가 0이 아니다..\n",
    "- skew,kurtosis : 잔차의 skew, kurtosis\n",
    "- prob(omnibus) 귀무가설의 잔차가 normal이다..\n",
    "- jarque-bera : normality test.. 분포가 normal이 아니다...\n",
    "- condition no : 다중공성성...크면 안좋다... 기준이 약 10000"
   ]
  },
  {
   "cell_type": "code",
   "execution_count": null,
   "metadata": {},
   "outputs": [],
   "source": [
    "result.params[40:]"
   ]
  },
  {
   "cell_type": "code",
   "execution_count": null,
   "metadata": {
    "collapsed": true
   },
   "outputs": [],
   "source": []
  },
  {
   "cell_type": "code",
   "execution_count": null,
   "metadata": {
    "collapsed": true
   },
   "outputs": [],
   "source": []
  },
  {
   "cell_type": "markdown",
   "metadata": {},
   "source": [
    "[22, 38, 47, 64, 95, 104, 105, 106, 107, 108, 109, 110, 111]"
   ]
  },
  {
   "cell_type": "code",
   "execution_count": null,
   "metadata": {
    "collapsed": true
   },
   "outputs": [],
   "source": [
    "test_sub = preprocessing(test, holiday)"
   ]
  },
  {
   "cell_type": "code",
   "execution_count": null,
   "metadata": {},
   "outputs": [],
   "source": [
    "test_sub = test_sub.drop(['weekend', 'weekday_holiday', 'weekend_holiday', 'station_nbr',\n",
    "                               'rain_flag', 'snow_flag', 'normal_flag', 'date'], axis = 1)"
   ]
  },
  {
   "cell_type": "code",
   "execution_count": null,
   "metadata": {},
   "outputs": [],
   "source": [
    "test_sub.head()"
   ]
  },
  {
   "cell_type": "code",
   "execution_count": null,
   "metadata": {},
   "outputs": [],
   "source": [
    "result.predict(test_sub)"
   ]
  },
  {
   "cell_type": "code",
   "execution_count": null,
   "metadata": {
    "collapsed": true
   },
   "outputs": [],
   "source": []
  },
  {
   "cell_type": "code",
   "execution_count": null,
   "metadata": {
    "collapsed": true
   },
   "outputs": [],
   "source": [
    "from patsy import dmatrix, demo_data, ContrastMatrix, Poly\n",
    "data = demo_data(\"a\", nlevels=3)"
   ]
  },
  {
   "cell_type": "code",
   "execution_count": null,
   "metadata": {},
   "outputs": [],
   "source": [
    "data"
   ]
  },
  {
   "cell_type": "code",
   "execution_count": null,
   "metadata": {},
   "outputs": [],
   "source": [
    "dmatrix(\"C(a) + 0\", data)"
   ]
  },
  {
   "cell_type": "code",
   "execution_count": null,
   "metadata": {},
   "outputs": [],
   "source": [
    "dmatrix(\"C(a)\", data)"
   ]
  },
  {
   "cell_type": "code",
   "execution_count": null,
   "metadata": {
    "collapsed": true
   },
   "outputs": [],
   "source": []
  },
  {
   "cell_type": "markdown",
   "metadata": {},
   "source": [
    "- test set을 만들어서 kaggle에 제출하여 결과 매니져님께..\n",
    "- 1번카테고리가 날라가면 2번으로 대체하는 방식..? 비슷한걸로 방식..\n",
    "- 평균 그래프에서 결론을 내는건 data loss가 있을 수 있어서 위험하다"
   ]
  },
  {
   "cell_type": "code",
   "execution_count": null,
   "metadata": {
    "collapsed": true
   },
   "outputs": [],
   "source": []
  },
  {
   "cell_type": "code",
   "execution_count": null,
   "metadata": {
    "collapsed": true
   },
   "outputs": [],
   "source": []
  }
 ],
 "metadata": {
  "kernelspec": {
   "display_name": "Python 3",
   "language": "python",
   "name": "python3"
  },
  "language_info": {
   "codemirror_mode": {
    "name": "ipython",
    "version": 3
   },
   "file_extension": ".py",
   "mimetype": "text/x-python",
   "name": "python",
   "nbconvert_exporter": "python",
   "pygments_lexer": "ipython3",
   "version": "3.6.3"
  }
 },
 "nbformat": 4,
 "nbformat_minor": 2
}
